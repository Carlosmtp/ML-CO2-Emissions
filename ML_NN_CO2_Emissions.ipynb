{
  "cells": [
    {
      "cell_type": "markdown",
      "metadata": {
        "id": "view-in-github",
        "colab_type": "text"
      },
      "source": [
        "<a href=\"https://colab.research.google.com/github/Carlosmtp/ML-CO2-Emissions/blob/main/ML_NN_CO2_Emissions.ipynb\" target=\"_parent\"><img src=\"https://colab.research.google.com/assets/colab-badge.svg\" alt=\"Open In Colab\"/></a>"
      ]
    },
    {
      "cell_type": "markdown",
      "metadata": {
        "id": "T0iM5wEjzwaz"
      },
      "source": [
        "#Informe Machine Learning *C02 Emissions* (redes neuronales) 🚗💨\n",
        "\n",
        "#### *Carlos Mauricio Tovar Parra - 1741699*\n",
        "#### *Santiago Duque Chacón - 2180099*\n",
        "---"
      ]
    },
    {
      "cell_type": "markdown",
      "metadata": {
        "id": "bH0lcnSiy0_W"
      },
      "source": [
        "### Resumen\n",
        "\n",
        "El presente informe, se centra en la experimentación con técnicas de machine learning para predecir las emisiones de dióxido de carbono (CO2) en vehículos. Utilizando un conjunto de datos de 1067 vehículos, el informe desarrolla modelos predictivos basados en las características de los vehículos: tamaño del motor (ENGINESIZE), cantidad de cilindros (CYLINDERS), consumo de combustible en ciudad (FUELCONSUMPTION_CITY) y en carretera (FUELCONSUMPTION_HWY). La variable objetivo es CO2EMISSIONS, clasificada en bajas (0) y altas (1) emisiones.\n",
        "\n",
        "El objetivo del informe es implementar redes neuronales, probando diferentes topologías y ajustando los hiperparámetros para optimizar la predicción de emisiones.\n",
        "\n",
        "*Tabla de atributos:*\n",
        "\n",
        "| Número | Atributo                   | Descripción                                                        |\n",
        "|--------|----------------------------|--------------------------------------------------------------------|\n",
        "| 1      | ENGINESIZE                 | Tamaño del motor en litros                                         |\n",
        "| 2      | CYLINDERS                  | Cantidad de cilindros que posee el motor                           |\n",
        "| 3      | FUELCONSUMPTION_CITY       | Consumo de combustible del vehículo en zona urbana (L/100 km)      |\n",
        "| 4      | FUELCONSUMPTION_HWY        | Consumo de combustible del vehículo en zona extraurbana (L/100 km) |\n",
        "| 5      | CO2EMISSIONS               | Emisiones de CO2 del vehículo (0: Bajas, 1: Altas)                 |\n",
        "\n",
        "\n",
        "*Ejemplo instancia de datos:*\n",
        "\n",
        "| Atributo | 1   | 2  | 3    | 4   | 5 |\n",
        "|----------|-----|----|------|-----|---|\n",
        "| Valor    | 3.7 | 6  | 13.4 | 9.5 | 1 |\n",
        "\n",
        "\n",
        "*Librerías Usadas:*\n",
        "- numpy\n",
        "- pandas\n",
        "- sklearn"
      ]
    },
    {
      "cell_type": "code",
      "execution_count": null,
      "metadata": {
        "id": "zqD-xXsB6aR_"
      },
      "outputs": [],
      "source": [
        "import numpy as np\n",
        "import pandas as pd\n",
        "import sklearn"
      ]
    },
    {
      "cell_type": "markdown",
      "metadata": {
        "id": "EYZblRvn71s1"
      },
      "source": [
        "### 1) Se lee el archivo"
      ]
    },
    {
      "cell_type": "code",
      "execution_count": null,
      "metadata": {
        "colab": {
          "base_uri": "https://localhost:8080/"
        },
        "id": "M2SveSvZ7vu3",
        "outputId": "c4c9bd3c-a925-4954-d93d-00e62cd3ed9a"
      },
      "outputs": [
        {
          "output_type": "stream",
          "name": "stdout",
          "text": [
            "<class 'pandas.core.frame.DataFrame'>\n",
            "RangeIndex: 1067 entries, 0 to 1066\n",
            "Data columns (total 5 columns):\n",
            " #   Column                Non-Null Count  Dtype  \n",
            "---  ------                --------------  -----  \n",
            " 0   ENGINESIZE            1067 non-null   float64\n",
            " 1   CYLINDERS             1067 non-null   int64  \n",
            " 2   FUELCONSUMPTION_CITY  1067 non-null   float64\n",
            " 3   FUELCONSUMPTION_HWY   1067 non-null   float64\n",
            " 4   CO2EMISSIONS          1067 non-null   int64  \n",
            "dtypes: float64(3), int64(2)\n",
            "memory usage: 41.8 KB\n"
          ]
        }
      ],
      "source": [
        "dataset_url = (\"https://raw.githubusercontent.com/Carlosmtp/ML-CO2-Emissions/main/CO2%20emissions%20data.csv\")\n",
        "dataset = pd.read_csv(dataset_url, sep=\",\")\n",
        "dataset.columns = [\"ENGINESIZE\",\t\"CYLINDERS\",\t\"FUELCONSUMPTION_CITY\",\t\"FUELCONSUMPTION_HWY\",\t\"CO2EMISSIONS\"]\n",
        "dataset.info()"
      ]
    },
    {
      "cell_type": "markdown",
      "metadata": {
        "id": "WzUKWbBZ8ure"
      },
      "source": [
        "*Variables cuantitativas continuas:*"
      ]
    },
    {
      "cell_type": "code",
      "execution_count": null,
      "metadata": {
        "colab": {
          "base_uri": "https://localhost:8080/",
          "height": 300
        },
        "id": "8Nf1U9aA9Mx7",
        "outputId": "4ffdc480-13cd-4322-b125-46c736e84eae"
      },
      "outputs": [
        {
          "output_type": "execute_result",
          "data": {
            "text/plain": [
              "        ENGINESIZE  FUELCONSUMPTION_CITY  FUELCONSUMPTION_HWY\n",
              "count  1067.000000           1067.000000          1067.000000\n",
              "mean      3.346298             13.296532             9.474602\n",
              "std       1.415895              4.101253             2.794510\n",
              "min       1.000000              4.600000             4.900000\n",
              "25%       2.000000             10.250000             7.500000\n",
              "50%       3.400000             12.600000             8.800000\n",
              "75%       4.300000             15.550000            10.850000\n",
              "max       8.400000             30.200000            20.500000"
            ],
            "text/html": [
              "\n",
              "  <div id=\"df-6ee4c59a-3adb-4ed5-a58d-39a58b272d4e\" class=\"colab-df-container\">\n",
              "    <div>\n",
              "<style scoped>\n",
              "    .dataframe tbody tr th:only-of-type {\n",
              "        vertical-align: middle;\n",
              "    }\n",
              "\n",
              "    .dataframe tbody tr th {\n",
              "        vertical-align: top;\n",
              "    }\n",
              "\n",
              "    .dataframe thead th {\n",
              "        text-align: right;\n",
              "    }\n",
              "</style>\n",
              "<table border=\"1\" class=\"dataframe\">\n",
              "  <thead>\n",
              "    <tr style=\"text-align: right;\">\n",
              "      <th></th>\n",
              "      <th>ENGINESIZE</th>\n",
              "      <th>FUELCONSUMPTION_CITY</th>\n",
              "      <th>FUELCONSUMPTION_HWY</th>\n",
              "    </tr>\n",
              "  </thead>\n",
              "  <tbody>\n",
              "    <tr>\n",
              "      <th>count</th>\n",
              "      <td>1067.000000</td>\n",
              "      <td>1067.000000</td>\n",
              "      <td>1067.000000</td>\n",
              "    </tr>\n",
              "    <tr>\n",
              "      <th>mean</th>\n",
              "      <td>3.346298</td>\n",
              "      <td>13.296532</td>\n",
              "      <td>9.474602</td>\n",
              "    </tr>\n",
              "    <tr>\n",
              "      <th>std</th>\n",
              "      <td>1.415895</td>\n",
              "      <td>4.101253</td>\n",
              "      <td>2.794510</td>\n",
              "    </tr>\n",
              "    <tr>\n",
              "      <th>min</th>\n",
              "      <td>1.000000</td>\n",
              "      <td>4.600000</td>\n",
              "      <td>4.900000</td>\n",
              "    </tr>\n",
              "    <tr>\n",
              "      <th>25%</th>\n",
              "      <td>2.000000</td>\n",
              "      <td>10.250000</td>\n",
              "      <td>7.500000</td>\n",
              "    </tr>\n",
              "    <tr>\n",
              "      <th>50%</th>\n",
              "      <td>3.400000</td>\n",
              "      <td>12.600000</td>\n",
              "      <td>8.800000</td>\n",
              "    </tr>\n",
              "    <tr>\n",
              "      <th>75%</th>\n",
              "      <td>4.300000</td>\n",
              "      <td>15.550000</td>\n",
              "      <td>10.850000</td>\n",
              "    </tr>\n",
              "    <tr>\n",
              "      <th>max</th>\n",
              "      <td>8.400000</td>\n",
              "      <td>30.200000</td>\n",
              "      <td>20.500000</td>\n",
              "    </tr>\n",
              "  </tbody>\n",
              "</table>\n",
              "</div>\n",
              "    <div class=\"colab-df-buttons\">\n",
              "\n",
              "  <div class=\"colab-df-container\">\n",
              "    <button class=\"colab-df-convert\" onclick=\"convertToInteractive('df-6ee4c59a-3adb-4ed5-a58d-39a58b272d4e')\"\n",
              "            title=\"Convert this dataframe to an interactive table.\"\n",
              "            style=\"display:none;\">\n",
              "\n",
              "  <svg xmlns=\"http://www.w3.org/2000/svg\" height=\"24px\" viewBox=\"0 -960 960 960\">\n",
              "    <path d=\"M120-120v-720h720v720H120Zm60-500h600v-160H180v160Zm220 220h160v-160H400v160Zm0 220h160v-160H400v160ZM180-400h160v-160H180v160Zm440 0h160v-160H620v160ZM180-180h160v-160H180v160Zm440 0h160v-160H620v160Z\"/>\n",
              "  </svg>\n",
              "    </button>\n",
              "\n",
              "  <style>\n",
              "    .colab-df-container {\n",
              "      display:flex;\n",
              "      gap: 12px;\n",
              "    }\n",
              "\n",
              "    .colab-df-convert {\n",
              "      background-color: #E8F0FE;\n",
              "      border: none;\n",
              "      border-radius: 50%;\n",
              "      cursor: pointer;\n",
              "      display: none;\n",
              "      fill: #1967D2;\n",
              "      height: 32px;\n",
              "      padding: 0 0 0 0;\n",
              "      width: 32px;\n",
              "    }\n",
              "\n",
              "    .colab-df-convert:hover {\n",
              "      background-color: #E2EBFA;\n",
              "      box-shadow: 0px 1px 2px rgba(60, 64, 67, 0.3), 0px 1px 3px 1px rgba(60, 64, 67, 0.15);\n",
              "      fill: #174EA6;\n",
              "    }\n",
              "\n",
              "    .colab-df-buttons div {\n",
              "      margin-bottom: 4px;\n",
              "    }\n",
              "\n",
              "    [theme=dark] .colab-df-convert {\n",
              "      background-color: #3B4455;\n",
              "      fill: #D2E3FC;\n",
              "    }\n",
              "\n",
              "    [theme=dark] .colab-df-convert:hover {\n",
              "      background-color: #434B5C;\n",
              "      box-shadow: 0px 1px 3px 1px rgba(0, 0, 0, 0.15);\n",
              "      filter: drop-shadow(0px 1px 2px rgba(0, 0, 0, 0.3));\n",
              "      fill: #FFFFFF;\n",
              "    }\n",
              "  </style>\n",
              "\n",
              "    <script>\n",
              "      const buttonEl =\n",
              "        document.querySelector('#df-6ee4c59a-3adb-4ed5-a58d-39a58b272d4e button.colab-df-convert');\n",
              "      buttonEl.style.display =\n",
              "        google.colab.kernel.accessAllowed ? 'block' : 'none';\n",
              "\n",
              "      async function convertToInteractive(key) {\n",
              "        const element = document.querySelector('#df-6ee4c59a-3adb-4ed5-a58d-39a58b272d4e');\n",
              "        const dataTable =\n",
              "          await google.colab.kernel.invokeFunction('convertToInteractive',\n",
              "                                                    [key], {});\n",
              "        if (!dataTable) return;\n",
              "\n",
              "        const docLinkHtml = 'Like what you see? Visit the ' +\n",
              "          '<a target=\"_blank\" href=https://colab.research.google.com/notebooks/data_table.ipynb>data table notebook</a>'\n",
              "          + ' to learn more about interactive tables.';\n",
              "        element.innerHTML = '';\n",
              "        dataTable['output_type'] = 'display_data';\n",
              "        await google.colab.output.renderOutput(dataTable, element);\n",
              "        const docLink = document.createElement('div');\n",
              "        docLink.innerHTML = docLinkHtml;\n",
              "        element.appendChild(docLink);\n",
              "      }\n",
              "    </script>\n",
              "  </div>\n",
              "\n",
              "\n",
              "<div id=\"df-870f49e8-6053-41a8-8720-ca94065c3593\">\n",
              "  <button class=\"colab-df-quickchart\" onclick=\"quickchart('df-870f49e8-6053-41a8-8720-ca94065c3593')\"\n",
              "            title=\"Suggest charts\"\n",
              "            style=\"display:none;\">\n",
              "\n",
              "<svg xmlns=\"http://www.w3.org/2000/svg\" height=\"24px\"viewBox=\"0 0 24 24\"\n",
              "     width=\"24px\">\n",
              "    <g>\n",
              "        <path d=\"M19 3H5c-1.1 0-2 .9-2 2v14c0 1.1.9 2 2 2h14c1.1 0 2-.9 2-2V5c0-1.1-.9-2-2-2zM9 17H7v-7h2v7zm4 0h-2V7h2v10zm4 0h-2v-4h2v4z\"/>\n",
              "    </g>\n",
              "</svg>\n",
              "  </button>\n",
              "\n",
              "<style>\n",
              "  .colab-df-quickchart {\n",
              "      --bg-color: #E8F0FE;\n",
              "      --fill-color: #1967D2;\n",
              "      --hover-bg-color: #E2EBFA;\n",
              "      --hover-fill-color: #174EA6;\n",
              "      --disabled-fill-color: #AAA;\n",
              "      --disabled-bg-color: #DDD;\n",
              "  }\n",
              "\n",
              "  [theme=dark] .colab-df-quickchart {\n",
              "      --bg-color: #3B4455;\n",
              "      --fill-color: #D2E3FC;\n",
              "      --hover-bg-color: #434B5C;\n",
              "      --hover-fill-color: #FFFFFF;\n",
              "      --disabled-bg-color: #3B4455;\n",
              "      --disabled-fill-color: #666;\n",
              "  }\n",
              "\n",
              "  .colab-df-quickchart {\n",
              "    background-color: var(--bg-color);\n",
              "    border: none;\n",
              "    border-radius: 50%;\n",
              "    cursor: pointer;\n",
              "    display: none;\n",
              "    fill: var(--fill-color);\n",
              "    height: 32px;\n",
              "    padding: 0;\n",
              "    width: 32px;\n",
              "  }\n",
              "\n",
              "  .colab-df-quickchart:hover {\n",
              "    background-color: var(--hover-bg-color);\n",
              "    box-shadow: 0 1px 2px rgba(60, 64, 67, 0.3), 0 1px 3px 1px rgba(60, 64, 67, 0.15);\n",
              "    fill: var(--button-hover-fill-color);\n",
              "  }\n",
              "\n",
              "  .colab-df-quickchart-complete:disabled,\n",
              "  .colab-df-quickchart-complete:disabled:hover {\n",
              "    background-color: var(--disabled-bg-color);\n",
              "    fill: var(--disabled-fill-color);\n",
              "    box-shadow: none;\n",
              "  }\n",
              "\n",
              "  .colab-df-spinner {\n",
              "    border: 2px solid var(--fill-color);\n",
              "    border-color: transparent;\n",
              "    border-bottom-color: var(--fill-color);\n",
              "    animation:\n",
              "      spin 1s steps(1) infinite;\n",
              "  }\n",
              "\n",
              "  @keyframes spin {\n",
              "    0% {\n",
              "      border-color: transparent;\n",
              "      border-bottom-color: var(--fill-color);\n",
              "      border-left-color: var(--fill-color);\n",
              "    }\n",
              "    20% {\n",
              "      border-color: transparent;\n",
              "      border-left-color: var(--fill-color);\n",
              "      border-top-color: var(--fill-color);\n",
              "    }\n",
              "    30% {\n",
              "      border-color: transparent;\n",
              "      border-left-color: var(--fill-color);\n",
              "      border-top-color: var(--fill-color);\n",
              "      border-right-color: var(--fill-color);\n",
              "    }\n",
              "    40% {\n",
              "      border-color: transparent;\n",
              "      border-right-color: var(--fill-color);\n",
              "      border-top-color: var(--fill-color);\n",
              "    }\n",
              "    60% {\n",
              "      border-color: transparent;\n",
              "      border-right-color: var(--fill-color);\n",
              "    }\n",
              "    80% {\n",
              "      border-color: transparent;\n",
              "      border-right-color: var(--fill-color);\n",
              "      border-bottom-color: var(--fill-color);\n",
              "    }\n",
              "    90% {\n",
              "      border-color: transparent;\n",
              "      border-bottom-color: var(--fill-color);\n",
              "    }\n",
              "  }\n",
              "</style>\n",
              "\n",
              "  <script>\n",
              "    async function quickchart(key) {\n",
              "      const quickchartButtonEl =\n",
              "        document.querySelector('#' + key + ' button');\n",
              "      quickchartButtonEl.disabled = true;  // To prevent multiple clicks.\n",
              "      quickchartButtonEl.classList.add('colab-df-spinner');\n",
              "      try {\n",
              "        const charts = await google.colab.kernel.invokeFunction(\n",
              "            'suggestCharts', [key], {});\n",
              "      } catch (error) {\n",
              "        console.error('Error during call to suggestCharts:', error);\n",
              "      }\n",
              "      quickchartButtonEl.classList.remove('colab-df-spinner');\n",
              "      quickchartButtonEl.classList.add('colab-df-quickchart-complete');\n",
              "    }\n",
              "    (() => {\n",
              "      let quickchartButtonEl =\n",
              "        document.querySelector('#df-870f49e8-6053-41a8-8720-ca94065c3593 button');\n",
              "      quickchartButtonEl.style.display =\n",
              "        google.colab.kernel.accessAllowed ? 'block' : 'none';\n",
              "    })();\n",
              "  </script>\n",
              "</div>\n",
              "    </div>\n",
              "  </div>\n"
            ],
            "application/vnd.google.colaboratory.intrinsic+json": {
              "type": "dataframe",
              "summary": "{\n  \"name\": \"dataset\",\n  \"rows\": 8,\n  \"fields\": [\n    {\n      \"column\": \"ENGINESIZE\",\n      \"properties\": {\n        \"dtype\": \"number\",\n        \"std\": 376.04336222834814,\n        \"min\": 1.0,\n        \"max\": 1067.0,\n        \"num_unique_values\": 8,\n        \"samples\": [\n          3.346298031865042,\n          3.4,\n          1067.0\n        ],\n        \"semantic_type\": \"\",\n        \"description\": \"\"\n      }\n    },\n    {\n      \"column\": \"FUELCONSUMPTION_CITY\",\n      \"properties\": {\n        \"dtype\": \"number\",\n        \"std\": 372.753722580423,\n        \"min\": 4.101253317068339,\n        \"max\": 1067.0,\n        \"num_unique_values\": 8,\n        \"samples\": [\n          13.296532333645736,\n          12.6,\n          1067.0\n        ],\n        \"semantic_type\": \"\",\n        \"description\": \"\"\n      }\n    },\n    {\n      \"column\": \"FUELCONSUMPTION_HWY\",\n      \"properties\": {\n        \"dtype\": \"number\",\n        \"std\": 374.0044761078589,\n        \"min\": 2.7945104498854048,\n        \"max\": 1067.0,\n        \"num_unique_values\": 8,\n        \"samples\": [\n          9.474601686972822,\n          8.8,\n          1067.0\n        ],\n        \"semantic_type\": \"\",\n        \"description\": \"\"\n      }\n    }\n  ]\n}"
            }
          },
          "metadata": {},
          "execution_count": 4
        }
      ],
      "source": [
        "dataset.select_dtypes(include=['float64']).describe()"
      ]
    },
    {
      "cell_type": "markdown",
      "metadata": {
        "id": "-XRiLmUY9o5C"
      },
      "source": [
        "*Variables cuantitativas discretas:*"
      ]
    },
    {
      "cell_type": "code",
      "execution_count": null,
      "metadata": {
        "colab": {
          "base_uri": "https://localhost:8080/",
          "height": 300
        },
        "id": "xz6YwRSS9v57",
        "outputId": "23409e00-04a0-4327-feec-0e66ec241c01"
      },
      "outputs": [
        {
          "output_type": "execute_result",
          "data": {
            "text/plain": [
              "         CYLINDERS  CO2EMISSIONS\n",
              "count  1067.000000   1067.000000\n",
              "mean      5.794752      0.461106\n",
              "std       1.797447      0.498719\n",
              "min       3.000000      0.000000\n",
              "25%       4.000000      0.000000\n",
              "50%       6.000000      0.000000\n",
              "75%       8.000000      1.000000\n",
              "max      12.000000      1.000000"
            ],
            "text/html": [
              "\n",
              "  <div id=\"df-2b8c9849-1759-42db-9dc6-79258c2bcfa0\" class=\"colab-df-container\">\n",
              "    <div>\n",
              "<style scoped>\n",
              "    .dataframe tbody tr th:only-of-type {\n",
              "        vertical-align: middle;\n",
              "    }\n",
              "\n",
              "    .dataframe tbody tr th {\n",
              "        vertical-align: top;\n",
              "    }\n",
              "\n",
              "    .dataframe thead th {\n",
              "        text-align: right;\n",
              "    }\n",
              "</style>\n",
              "<table border=\"1\" class=\"dataframe\">\n",
              "  <thead>\n",
              "    <tr style=\"text-align: right;\">\n",
              "      <th></th>\n",
              "      <th>CYLINDERS</th>\n",
              "      <th>CO2EMISSIONS</th>\n",
              "    </tr>\n",
              "  </thead>\n",
              "  <tbody>\n",
              "    <tr>\n",
              "      <th>count</th>\n",
              "      <td>1067.000000</td>\n",
              "      <td>1067.000000</td>\n",
              "    </tr>\n",
              "    <tr>\n",
              "      <th>mean</th>\n",
              "      <td>5.794752</td>\n",
              "      <td>0.461106</td>\n",
              "    </tr>\n",
              "    <tr>\n",
              "      <th>std</th>\n",
              "      <td>1.797447</td>\n",
              "      <td>0.498719</td>\n",
              "    </tr>\n",
              "    <tr>\n",
              "      <th>min</th>\n",
              "      <td>3.000000</td>\n",
              "      <td>0.000000</td>\n",
              "    </tr>\n",
              "    <tr>\n",
              "      <th>25%</th>\n",
              "      <td>4.000000</td>\n",
              "      <td>0.000000</td>\n",
              "    </tr>\n",
              "    <tr>\n",
              "      <th>50%</th>\n",
              "      <td>6.000000</td>\n",
              "      <td>0.000000</td>\n",
              "    </tr>\n",
              "    <tr>\n",
              "      <th>75%</th>\n",
              "      <td>8.000000</td>\n",
              "      <td>1.000000</td>\n",
              "    </tr>\n",
              "    <tr>\n",
              "      <th>max</th>\n",
              "      <td>12.000000</td>\n",
              "      <td>1.000000</td>\n",
              "    </tr>\n",
              "  </tbody>\n",
              "</table>\n",
              "</div>\n",
              "    <div class=\"colab-df-buttons\">\n",
              "\n",
              "  <div class=\"colab-df-container\">\n",
              "    <button class=\"colab-df-convert\" onclick=\"convertToInteractive('df-2b8c9849-1759-42db-9dc6-79258c2bcfa0')\"\n",
              "            title=\"Convert this dataframe to an interactive table.\"\n",
              "            style=\"display:none;\">\n",
              "\n",
              "  <svg xmlns=\"http://www.w3.org/2000/svg\" height=\"24px\" viewBox=\"0 -960 960 960\">\n",
              "    <path d=\"M120-120v-720h720v720H120Zm60-500h600v-160H180v160Zm220 220h160v-160H400v160Zm0 220h160v-160H400v160ZM180-400h160v-160H180v160Zm440 0h160v-160H620v160ZM180-180h160v-160H180v160Zm440 0h160v-160H620v160Z\"/>\n",
              "  </svg>\n",
              "    </button>\n",
              "\n",
              "  <style>\n",
              "    .colab-df-container {\n",
              "      display:flex;\n",
              "      gap: 12px;\n",
              "    }\n",
              "\n",
              "    .colab-df-convert {\n",
              "      background-color: #E8F0FE;\n",
              "      border: none;\n",
              "      border-radius: 50%;\n",
              "      cursor: pointer;\n",
              "      display: none;\n",
              "      fill: #1967D2;\n",
              "      height: 32px;\n",
              "      padding: 0 0 0 0;\n",
              "      width: 32px;\n",
              "    }\n",
              "\n",
              "    .colab-df-convert:hover {\n",
              "      background-color: #E2EBFA;\n",
              "      box-shadow: 0px 1px 2px rgba(60, 64, 67, 0.3), 0px 1px 3px 1px rgba(60, 64, 67, 0.15);\n",
              "      fill: #174EA6;\n",
              "    }\n",
              "\n",
              "    .colab-df-buttons div {\n",
              "      margin-bottom: 4px;\n",
              "    }\n",
              "\n",
              "    [theme=dark] .colab-df-convert {\n",
              "      background-color: #3B4455;\n",
              "      fill: #D2E3FC;\n",
              "    }\n",
              "\n",
              "    [theme=dark] .colab-df-convert:hover {\n",
              "      background-color: #434B5C;\n",
              "      box-shadow: 0px 1px 3px 1px rgba(0, 0, 0, 0.15);\n",
              "      filter: drop-shadow(0px 1px 2px rgba(0, 0, 0, 0.3));\n",
              "      fill: #FFFFFF;\n",
              "    }\n",
              "  </style>\n",
              "\n",
              "    <script>\n",
              "      const buttonEl =\n",
              "        document.querySelector('#df-2b8c9849-1759-42db-9dc6-79258c2bcfa0 button.colab-df-convert');\n",
              "      buttonEl.style.display =\n",
              "        google.colab.kernel.accessAllowed ? 'block' : 'none';\n",
              "\n",
              "      async function convertToInteractive(key) {\n",
              "        const element = document.querySelector('#df-2b8c9849-1759-42db-9dc6-79258c2bcfa0');\n",
              "        const dataTable =\n",
              "          await google.colab.kernel.invokeFunction('convertToInteractive',\n",
              "                                                    [key], {});\n",
              "        if (!dataTable) return;\n",
              "\n",
              "        const docLinkHtml = 'Like what you see? Visit the ' +\n",
              "          '<a target=\"_blank\" href=https://colab.research.google.com/notebooks/data_table.ipynb>data table notebook</a>'\n",
              "          + ' to learn more about interactive tables.';\n",
              "        element.innerHTML = '';\n",
              "        dataTable['output_type'] = 'display_data';\n",
              "        await google.colab.output.renderOutput(dataTable, element);\n",
              "        const docLink = document.createElement('div');\n",
              "        docLink.innerHTML = docLinkHtml;\n",
              "        element.appendChild(docLink);\n",
              "      }\n",
              "    </script>\n",
              "  </div>\n",
              "\n",
              "\n",
              "<div id=\"df-21d46bef-8a24-4438-81df-88340504b9df\">\n",
              "  <button class=\"colab-df-quickchart\" onclick=\"quickchart('df-21d46bef-8a24-4438-81df-88340504b9df')\"\n",
              "            title=\"Suggest charts\"\n",
              "            style=\"display:none;\">\n",
              "\n",
              "<svg xmlns=\"http://www.w3.org/2000/svg\" height=\"24px\"viewBox=\"0 0 24 24\"\n",
              "     width=\"24px\">\n",
              "    <g>\n",
              "        <path d=\"M19 3H5c-1.1 0-2 .9-2 2v14c0 1.1.9 2 2 2h14c1.1 0 2-.9 2-2V5c0-1.1-.9-2-2-2zM9 17H7v-7h2v7zm4 0h-2V7h2v10zm4 0h-2v-4h2v4z\"/>\n",
              "    </g>\n",
              "</svg>\n",
              "  </button>\n",
              "\n",
              "<style>\n",
              "  .colab-df-quickchart {\n",
              "      --bg-color: #E8F0FE;\n",
              "      --fill-color: #1967D2;\n",
              "      --hover-bg-color: #E2EBFA;\n",
              "      --hover-fill-color: #174EA6;\n",
              "      --disabled-fill-color: #AAA;\n",
              "      --disabled-bg-color: #DDD;\n",
              "  }\n",
              "\n",
              "  [theme=dark] .colab-df-quickchart {\n",
              "      --bg-color: #3B4455;\n",
              "      --fill-color: #D2E3FC;\n",
              "      --hover-bg-color: #434B5C;\n",
              "      --hover-fill-color: #FFFFFF;\n",
              "      --disabled-bg-color: #3B4455;\n",
              "      --disabled-fill-color: #666;\n",
              "  }\n",
              "\n",
              "  .colab-df-quickchart {\n",
              "    background-color: var(--bg-color);\n",
              "    border: none;\n",
              "    border-radius: 50%;\n",
              "    cursor: pointer;\n",
              "    display: none;\n",
              "    fill: var(--fill-color);\n",
              "    height: 32px;\n",
              "    padding: 0;\n",
              "    width: 32px;\n",
              "  }\n",
              "\n",
              "  .colab-df-quickchart:hover {\n",
              "    background-color: var(--hover-bg-color);\n",
              "    box-shadow: 0 1px 2px rgba(60, 64, 67, 0.3), 0 1px 3px 1px rgba(60, 64, 67, 0.15);\n",
              "    fill: var(--button-hover-fill-color);\n",
              "  }\n",
              "\n",
              "  .colab-df-quickchart-complete:disabled,\n",
              "  .colab-df-quickchart-complete:disabled:hover {\n",
              "    background-color: var(--disabled-bg-color);\n",
              "    fill: var(--disabled-fill-color);\n",
              "    box-shadow: none;\n",
              "  }\n",
              "\n",
              "  .colab-df-spinner {\n",
              "    border: 2px solid var(--fill-color);\n",
              "    border-color: transparent;\n",
              "    border-bottom-color: var(--fill-color);\n",
              "    animation:\n",
              "      spin 1s steps(1) infinite;\n",
              "  }\n",
              "\n",
              "  @keyframes spin {\n",
              "    0% {\n",
              "      border-color: transparent;\n",
              "      border-bottom-color: var(--fill-color);\n",
              "      border-left-color: var(--fill-color);\n",
              "    }\n",
              "    20% {\n",
              "      border-color: transparent;\n",
              "      border-left-color: var(--fill-color);\n",
              "      border-top-color: var(--fill-color);\n",
              "    }\n",
              "    30% {\n",
              "      border-color: transparent;\n",
              "      border-left-color: var(--fill-color);\n",
              "      border-top-color: var(--fill-color);\n",
              "      border-right-color: var(--fill-color);\n",
              "    }\n",
              "    40% {\n",
              "      border-color: transparent;\n",
              "      border-right-color: var(--fill-color);\n",
              "      border-top-color: var(--fill-color);\n",
              "    }\n",
              "    60% {\n",
              "      border-color: transparent;\n",
              "      border-right-color: var(--fill-color);\n",
              "    }\n",
              "    80% {\n",
              "      border-color: transparent;\n",
              "      border-right-color: var(--fill-color);\n",
              "      border-bottom-color: var(--fill-color);\n",
              "    }\n",
              "    90% {\n",
              "      border-color: transparent;\n",
              "      border-bottom-color: var(--fill-color);\n",
              "    }\n",
              "  }\n",
              "</style>\n",
              "\n",
              "  <script>\n",
              "    async function quickchart(key) {\n",
              "      const quickchartButtonEl =\n",
              "        document.querySelector('#' + key + ' button');\n",
              "      quickchartButtonEl.disabled = true;  // To prevent multiple clicks.\n",
              "      quickchartButtonEl.classList.add('colab-df-spinner');\n",
              "      try {\n",
              "        const charts = await google.colab.kernel.invokeFunction(\n",
              "            'suggestCharts', [key], {});\n",
              "      } catch (error) {\n",
              "        console.error('Error during call to suggestCharts:', error);\n",
              "      }\n",
              "      quickchartButtonEl.classList.remove('colab-df-spinner');\n",
              "      quickchartButtonEl.classList.add('colab-df-quickchart-complete');\n",
              "    }\n",
              "    (() => {\n",
              "      let quickchartButtonEl =\n",
              "        document.querySelector('#df-21d46bef-8a24-4438-81df-88340504b9df button');\n",
              "      quickchartButtonEl.style.display =\n",
              "        google.colab.kernel.accessAllowed ? 'block' : 'none';\n",
              "    })();\n",
              "  </script>\n",
              "</div>\n",
              "    </div>\n",
              "  </div>\n"
            ],
            "application/vnd.google.colaboratory.intrinsic+json": {
              "type": "dataframe",
              "summary": "{\n  \"name\": \"dataset\",\n  \"rows\": 8,\n  \"fields\": [\n    {\n      \"column\": \"CYLINDERS\",\n      \"properties\": {\n        \"dtype\": \"number\",\n        \"std\": 375.2046584534259,\n        \"min\": 1.7974472750409638,\n        \"max\": 1067.0,\n        \"num_unique_values\": 8,\n        \"samples\": [\n          5.794751640112465,\n          6.0,\n          1067.0\n        ],\n        \"semantic_type\": \"\",\n        \"description\": \"\"\n      }\n    },\n    {\n      \"column\": \"CO2EMISSIONS\",\n      \"properties\": {\n        \"dtype\": \"number\",\n        \"std\": 377.09220321008775,\n        \"min\": 0.0,\n        \"max\": 1067.0,\n        \"num_unique_values\": 5,\n        \"samples\": [\n          0.4611059044048735,\n          1.0,\n          0.49871871010935137\n        ],\n        \"semantic_type\": \"\",\n        \"description\": \"\"\n      }\n    }\n  ]\n}"
            }
          },
          "metadata": {},
          "execution_count": 5
        }
      ],
      "source": [
        "dataset.select_dtypes(include=['int64']).describe()"
      ]
    },
    {
      "cell_type": "markdown",
      "metadata": {
        "id": "fJWJs8Jc-hu7"
      },
      "source": [
        "## 2) Se separan los datos en conjuntos de entrenamiento y prueba (80%, 20%)"
      ]
    },
    {
      "cell_type": "code",
      "execution_count": null,
      "metadata": {
        "colab": {
          "base_uri": "https://localhost:8080/"
        },
        "id": "x3EaJ-yG_Da1",
        "outputId": "cded3b9f-14ca-4e30-c4df-4365b689bd51"
      },
      "outputs": [
        {
          "output_type": "stream",
          "name": "stdout",
          "text": [
            "1067 853 214\n"
          ]
        }
      ],
      "source": [
        "from sklearn.model_selection import train_test_split\n",
        "N=len(dataset)\n",
        "cTrain=int(N*0.8)\n",
        "cTest=N-cTrain\n",
        "print(N,cTrain,cTest)\n",
        "train_data,test_data= sklearn.model_selection.train_test_split(dataset, train_size=cTrain, test_size=cTest)"
      ]
    },
    {
      "cell_type": "code",
      "execution_count": null,
      "metadata": {
        "colab": {
          "base_uri": "https://localhost:8080/"
        },
        "id": "fT3gub5f_lgm",
        "outputId": "7fbdad38-f233-40c0-b8e8-e6e2624c376e"
      },
      "outputs": [
        {
          "output_type": "execute_result",
          "data": {
            "text/plain": [
              "(1067, 5)"
            ]
          },
          "metadata": {},
          "execution_count": 7
        }
      ],
      "source": [
        "dataset.shape"
      ]
    },
    {
      "cell_type": "code",
      "execution_count": null,
      "metadata": {
        "colab": {
          "base_uri": "https://localhost:8080/",
          "height": 206
        },
        "id": "09DV38_s_pGL",
        "outputId": "9ccc4f7a-1e00-43fe-9938-4400f8cee047"
      },
      "outputs": [
        {
          "output_type": "execute_result",
          "data": {
            "text/plain": [
              "   ENGINESIZE  CYLINDERS  FUELCONSUMPTION_CITY  FUELCONSUMPTION_HWY  \\\n",
              "0         2.0          4                   9.9                  6.7   \n",
              "1         2.4          4                  11.2                  7.7   \n",
              "2         1.5          4                   6.0                  5.8   \n",
              "3         3.5          6                  12.7                  9.1   \n",
              "4         3.5          6                  12.1                  8.7   \n",
              "\n",
              "   CO2EMISSIONS  \n",
              "0             0  \n",
              "1             0  \n",
              "2             0  \n",
              "3             0  \n",
              "4             0  "
            ],
            "text/html": [
              "\n",
              "  <div id=\"df-00250576-c431-47c6-8d59-9e6c92188b0e\" class=\"colab-df-container\">\n",
              "    <div>\n",
              "<style scoped>\n",
              "    .dataframe tbody tr th:only-of-type {\n",
              "        vertical-align: middle;\n",
              "    }\n",
              "\n",
              "    .dataframe tbody tr th {\n",
              "        vertical-align: top;\n",
              "    }\n",
              "\n",
              "    .dataframe thead th {\n",
              "        text-align: right;\n",
              "    }\n",
              "</style>\n",
              "<table border=\"1\" class=\"dataframe\">\n",
              "  <thead>\n",
              "    <tr style=\"text-align: right;\">\n",
              "      <th></th>\n",
              "      <th>ENGINESIZE</th>\n",
              "      <th>CYLINDERS</th>\n",
              "      <th>FUELCONSUMPTION_CITY</th>\n",
              "      <th>FUELCONSUMPTION_HWY</th>\n",
              "      <th>CO2EMISSIONS</th>\n",
              "    </tr>\n",
              "  </thead>\n",
              "  <tbody>\n",
              "    <tr>\n",
              "      <th>0</th>\n",
              "      <td>2.0</td>\n",
              "      <td>4</td>\n",
              "      <td>9.9</td>\n",
              "      <td>6.7</td>\n",
              "      <td>0</td>\n",
              "    </tr>\n",
              "    <tr>\n",
              "      <th>1</th>\n",
              "      <td>2.4</td>\n",
              "      <td>4</td>\n",
              "      <td>11.2</td>\n",
              "      <td>7.7</td>\n",
              "      <td>0</td>\n",
              "    </tr>\n",
              "    <tr>\n",
              "      <th>2</th>\n",
              "      <td>1.5</td>\n",
              "      <td>4</td>\n",
              "      <td>6.0</td>\n",
              "      <td>5.8</td>\n",
              "      <td>0</td>\n",
              "    </tr>\n",
              "    <tr>\n",
              "      <th>3</th>\n",
              "      <td>3.5</td>\n",
              "      <td>6</td>\n",
              "      <td>12.7</td>\n",
              "      <td>9.1</td>\n",
              "      <td>0</td>\n",
              "    </tr>\n",
              "    <tr>\n",
              "      <th>4</th>\n",
              "      <td>3.5</td>\n",
              "      <td>6</td>\n",
              "      <td>12.1</td>\n",
              "      <td>8.7</td>\n",
              "      <td>0</td>\n",
              "    </tr>\n",
              "  </tbody>\n",
              "</table>\n",
              "</div>\n",
              "    <div class=\"colab-df-buttons\">\n",
              "\n",
              "  <div class=\"colab-df-container\">\n",
              "    <button class=\"colab-df-convert\" onclick=\"convertToInteractive('df-00250576-c431-47c6-8d59-9e6c92188b0e')\"\n",
              "            title=\"Convert this dataframe to an interactive table.\"\n",
              "            style=\"display:none;\">\n",
              "\n",
              "  <svg xmlns=\"http://www.w3.org/2000/svg\" height=\"24px\" viewBox=\"0 -960 960 960\">\n",
              "    <path d=\"M120-120v-720h720v720H120Zm60-500h600v-160H180v160Zm220 220h160v-160H400v160Zm0 220h160v-160H400v160ZM180-400h160v-160H180v160Zm440 0h160v-160H620v160ZM180-180h160v-160H180v160Zm440 0h160v-160H620v160Z\"/>\n",
              "  </svg>\n",
              "    </button>\n",
              "\n",
              "  <style>\n",
              "    .colab-df-container {\n",
              "      display:flex;\n",
              "      gap: 12px;\n",
              "    }\n",
              "\n",
              "    .colab-df-convert {\n",
              "      background-color: #E8F0FE;\n",
              "      border: none;\n",
              "      border-radius: 50%;\n",
              "      cursor: pointer;\n",
              "      display: none;\n",
              "      fill: #1967D2;\n",
              "      height: 32px;\n",
              "      padding: 0 0 0 0;\n",
              "      width: 32px;\n",
              "    }\n",
              "\n",
              "    .colab-df-convert:hover {\n",
              "      background-color: #E2EBFA;\n",
              "      box-shadow: 0px 1px 2px rgba(60, 64, 67, 0.3), 0px 1px 3px 1px rgba(60, 64, 67, 0.15);\n",
              "      fill: #174EA6;\n",
              "    }\n",
              "\n",
              "    .colab-df-buttons div {\n",
              "      margin-bottom: 4px;\n",
              "    }\n",
              "\n",
              "    [theme=dark] .colab-df-convert {\n",
              "      background-color: #3B4455;\n",
              "      fill: #D2E3FC;\n",
              "    }\n",
              "\n",
              "    [theme=dark] .colab-df-convert:hover {\n",
              "      background-color: #434B5C;\n",
              "      box-shadow: 0px 1px 3px 1px rgba(0, 0, 0, 0.15);\n",
              "      filter: drop-shadow(0px 1px 2px rgba(0, 0, 0, 0.3));\n",
              "      fill: #FFFFFF;\n",
              "    }\n",
              "  </style>\n",
              "\n",
              "    <script>\n",
              "      const buttonEl =\n",
              "        document.querySelector('#df-00250576-c431-47c6-8d59-9e6c92188b0e button.colab-df-convert');\n",
              "      buttonEl.style.display =\n",
              "        google.colab.kernel.accessAllowed ? 'block' : 'none';\n",
              "\n",
              "      async function convertToInteractive(key) {\n",
              "        const element = document.querySelector('#df-00250576-c431-47c6-8d59-9e6c92188b0e');\n",
              "        const dataTable =\n",
              "          await google.colab.kernel.invokeFunction('convertToInteractive',\n",
              "                                                    [key], {});\n",
              "        if (!dataTable) return;\n",
              "\n",
              "        const docLinkHtml = 'Like what you see? Visit the ' +\n",
              "          '<a target=\"_blank\" href=https://colab.research.google.com/notebooks/data_table.ipynb>data table notebook</a>'\n",
              "          + ' to learn more about interactive tables.';\n",
              "        element.innerHTML = '';\n",
              "        dataTable['output_type'] = 'display_data';\n",
              "        await google.colab.output.renderOutput(dataTable, element);\n",
              "        const docLink = document.createElement('div');\n",
              "        docLink.innerHTML = docLinkHtml;\n",
              "        element.appendChild(docLink);\n",
              "      }\n",
              "    </script>\n",
              "  </div>\n",
              "\n",
              "\n",
              "<div id=\"df-8903da09-3100-4802-a23e-14400b9e8b0d\">\n",
              "  <button class=\"colab-df-quickchart\" onclick=\"quickchart('df-8903da09-3100-4802-a23e-14400b9e8b0d')\"\n",
              "            title=\"Suggest charts\"\n",
              "            style=\"display:none;\">\n",
              "\n",
              "<svg xmlns=\"http://www.w3.org/2000/svg\" height=\"24px\"viewBox=\"0 0 24 24\"\n",
              "     width=\"24px\">\n",
              "    <g>\n",
              "        <path d=\"M19 3H5c-1.1 0-2 .9-2 2v14c0 1.1.9 2 2 2h14c1.1 0 2-.9 2-2V5c0-1.1-.9-2-2-2zM9 17H7v-7h2v7zm4 0h-2V7h2v10zm4 0h-2v-4h2v4z\"/>\n",
              "    </g>\n",
              "</svg>\n",
              "  </button>\n",
              "\n",
              "<style>\n",
              "  .colab-df-quickchart {\n",
              "      --bg-color: #E8F0FE;\n",
              "      --fill-color: #1967D2;\n",
              "      --hover-bg-color: #E2EBFA;\n",
              "      --hover-fill-color: #174EA6;\n",
              "      --disabled-fill-color: #AAA;\n",
              "      --disabled-bg-color: #DDD;\n",
              "  }\n",
              "\n",
              "  [theme=dark] .colab-df-quickchart {\n",
              "      --bg-color: #3B4455;\n",
              "      --fill-color: #D2E3FC;\n",
              "      --hover-bg-color: #434B5C;\n",
              "      --hover-fill-color: #FFFFFF;\n",
              "      --disabled-bg-color: #3B4455;\n",
              "      --disabled-fill-color: #666;\n",
              "  }\n",
              "\n",
              "  .colab-df-quickchart {\n",
              "    background-color: var(--bg-color);\n",
              "    border: none;\n",
              "    border-radius: 50%;\n",
              "    cursor: pointer;\n",
              "    display: none;\n",
              "    fill: var(--fill-color);\n",
              "    height: 32px;\n",
              "    padding: 0;\n",
              "    width: 32px;\n",
              "  }\n",
              "\n",
              "  .colab-df-quickchart:hover {\n",
              "    background-color: var(--hover-bg-color);\n",
              "    box-shadow: 0 1px 2px rgba(60, 64, 67, 0.3), 0 1px 3px 1px rgba(60, 64, 67, 0.15);\n",
              "    fill: var(--button-hover-fill-color);\n",
              "  }\n",
              "\n",
              "  .colab-df-quickchart-complete:disabled,\n",
              "  .colab-df-quickchart-complete:disabled:hover {\n",
              "    background-color: var(--disabled-bg-color);\n",
              "    fill: var(--disabled-fill-color);\n",
              "    box-shadow: none;\n",
              "  }\n",
              "\n",
              "  .colab-df-spinner {\n",
              "    border: 2px solid var(--fill-color);\n",
              "    border-color: transparent;\n",
              "    border-bottom-color: var(--fill-color);\n",
              "    animation:\n",
              "      spin 1s steps(1) infinite;\n",
              "  }\n",
              "\n",
              "  @keyframes spin {\n",
              "    0% {\n",
              "      border-color: transparent;\n",
              "      border-bottom-color: var(--fill-color);\n",
              "      border-left-color: var(--fill-color);\n",
              "    }\n",
              "    20% {\n",
              "      border-color: transparent;\n",
              "      border-left-color: var(--fill-color);\n",
              "      border-top-color: var(--fill-color);\n",
              "    }\n",
              "    30% {\n",
              "      border-color: transparent;\n",
              "      border-left-color: var(--fill-color);\n",
              "      border-top-color: var(--fill-color);\n",
              "      border-right-color: var(--fill-color);\n",
              "    }\n",
              "    40% {\n",
              "      border-color: transparent;\n",
              "      border-right-color: var(--fill-color);\n",
              "      border-top-color: var(--fill-color);\n",
              "    }\n",
              "    60% {\n",
              "      border-color: transparent;\n",
              "      border-right-color: var(--fill-color);\n",
              "    }\n",
              "    80% {\n",
              "      border-color: transparent;\n",
              "      border-right-color: var(--fill-color);\n",
              "      border-bottom-color: var(--fill-color);\n",
              "    }\n",
              "    90% {\n",
              "      border-color: transparent;\n",
              "      border-bottom-color: var(--fill-color);\n",
              "    }\n",
              "  }\n",
              "</style>\n",
              "\n",
              "  <script>\n",
              "    async function quickchart(key) {\n",
              "      const quickchartButtonEl =\n",
              "        document.querySelector('#' + key + ' button');\n",
              "      quickchartButtonEl.disabled = true;  // To prevent multiple clicks.\n",
              "      quickchartButtonEl.classList.add('colab-df-spinner');\n",
              "      try {\n",
              "        const charts = await google.colab.kernel.invokeFunction(\n",
              "            'suggestCharts', [key], {});\n",
              "      } catch (error) {\n",
              "        console.error('Error during call to suggestCharts:', error);\n",
              "      }\n",
              "      quickchartButtonEl.classList.remove('colab-df-spinner');\n",
              "      quickchartButtonEl.classList.add('colab-df-quickchart-complete');\n",
              "    }\n",
              "    (() => {\n",
              "      let quickchartButtonEl =\n",
              "        document.querySelector('#df-8903da09-3100-4802-a23e-14400b9e8b0d button');\n",
              "      quickchartButtonEl.style.display =\n",
              "        google.colab.kernel.accessAllowed ? 'block' : 'none';\n",
              "    })();\n",
              "  </script>\n",
              "</div>\n",
              "    </div>\n",
              "  </div>\n"
            ],
            "application/vnd.google.colaboratory.intrinsic+json": {
              "type": "dataframe",
              "variable_name": "dataset",
              "summary": "{\n  \"name\": \"dataset\",\n  \"rows\": 1067,\n  \"fields\": [\n    {\n      \"column\": \"ENGINESIZE\",\n      \"properties\": {\n        \"dtype\": \"number\",\n        \"std\": 1.4158950514240647,\n        \"min\": 1.0,\n        \"max\": 8.4,\n        \"num_unique_values\": 45,\n        \"samples\": [\n          3.4,\n          6.4,\n          4.6\n        ],\n        \"semantic_type\": \"\",\n        \"description\": \"\"\n      }\n    },\n    {\n      \"column\": \"CYLINDERS\",\n      \"properties\": {\n        \"dtype\": \"number\",\n        \"std\": 1,\n        \"min\": 3,\n        \"max\": 12,\n        \"num_unique_values\": 7,\n        \"samples\": [\n          4,\n          6,\n          3\n        ],\n        \"semantic_type\": \"\",\n        \"description\": \"\"\n      }\n    },\n    {\n      \"column\": \"FUELCONSUMPTION_CITY\",\n      \"properties\": {\n        \"dtype\": \"number\",\n        \"std\": 4.101253317068339,\n        \"min\": 4.6,\n        \"max\": 30.2,\n        \"num_unique_values\": 167,\n        \"samples\": [\n          21.5,\n          19.2,\n          19.8\n        ],\n        \"semantic_type\": \"\",\n        \"description\": \"\"\n      }\n    },\n    {\n      \"column\": \"FUELCONSUMPTION_HWY\",\n      \"properties\": {\n        \"dtype\": \"number\",\n        \"std\": 2.7945104498854048,\n        \"min\": 4.9,\n        \"max\": 20.5,\n        \"num_unique_values\": 118,\n        \"samples\": [\n          5.1,\n          14.7,\n          8.7\n        ],\n        \"semantic_type\": \"\",\n        \"description\": \"\"\n      }\n    },\n    {\n      \"column\": \"CO2EMISSIONS\",\n      \"properties\": {\n        \"dtype\": \"number\",\n        \"std\": 0,\n        \"min\": 0,\n        \"max\": 1,\n        \"num_unique_values\": 2,\n        \"samples\": [\n          1,\n          0\n        ],\n        \"semantic_type\": \"\",\n        \"description\": \"\"\n      }\n    }\n  ]\n}"
            }
          },
          "metadata": {},
          "execution_count": 8
        }
      ],
      "source": [
        "dataset.head()"
      ]
    },
    {
      "cell_type": "markdown",
      "metadata": {
        "id": "B96IGh3oGwed"
      },
      "source": [
        "## 3) Se normalizan e imputan los datos"
      ]
    },
    {
      "cell_type": "code",
      "execution_count": null,
      "metadata": {
        "colab": {
          "base_uri": "https://localhost:8080/"
        },
        "id": "jWq7v3PZHJXl",
        "outputId": "41ee3319-a7f5-4e9a-9bd0-a7f2cc082f53"
      },
      "outputs": [
        {
          "output_type": "execute_result",
          "data": {
            "text/plain": [
              "(853, 4)"
            ]
          },
          "metadata": {},
          "execution_count": 9
        }
      ],
      "source": [
        "from sklearn.pipeline import Pipeline\n",
        "from sklearn.impute import SimpleImputer\n",
        "from sklearn.preprocessing import StandardScaler\n",
        "from sklearn.compose import ColumnTransformer\n",
        "\n",
        "data_pipeline = Pipeline([\n",
        "    (\"imputer\", SimpleImputer(strategy=\"median\")),\n",
        "    (\"scaler\", StandardScaler())\n",
        "])\n",
        "\n",
        "attribs = dataset.columns[0:-1]\n",
        "full_pipeline = ColumnTransformer([\n",
        "    (\"num\", data_pipeline, attribs),\n",
        "])\n",
        "\n",
        "X_train = full_pipeline.fit_transform(train_data)\n",
        "X_train.shape"
      ]
    },
    {
      "cell_type": "code",
      "execution_count": null,
      "metadata": {
        "colab": {
          "base_uri": "https://localhost:8080/"
        },
        "id": "N67YxKeWPqjM",
        "outputId": "bfe7483d-6f28-4934-de9e-c17179c764ce"
      },
      "outputs": [
        {
          "output_type": "execute_result",
          "data": {
            "text/plain": [
              "array([0.86952784, 1.20588662, 2.65079448, 3.49818038])"
            ]
          },
          "metadata": {},
          "execution_count": 10
        }
      ],
      "source": [
        "X_train[0,:]"
      ]
    },
    {
      "cell_type": "code",
      "execution_count": null,
      "metadata": {
        "colab": {
          "base_uri": "https://localhost:8080/"
        },
        "id": "Q1kMWe-KMjjt",
        "outputId": "84de9a57-25e2-40ee-df93-68218a1963b0"
      },
      "outputs": [
        {
          "output_type": "execute_result",
          "data": {
            "text/plain": [
              "344     1\n",
              "743     0\n",
              "29      0\n",
              "849     1\n",
              "917     1\n",
              "       ..\n",
              "576     1\n",
              "1008    0\n",
              "815     0\n",
              "331     1\n",
              "450     1\n",
              "Name: CO2EMISSIONS, Length: 853, dtype: int64"
            ]
          },
          "metadata": {},
          "execution_count": 11
        }
      ],
      "source": [
        "y_train = train_data[\"CO2EMISSIONS\"]\n",
        "y_train"
      ]
    },
    {
      "cell_type": "markdown",
      "metadata": {
        "id": "rhwg35vRKoy1"
      },
      "source": [
        "## 4) Se entrenan las redes neuronales"
      ]
    },
    {
      "cell_type": "code",
      "execution_count": null,
      "metadata": {
        "colab": {
          "base_uri": "https://localhost:8080/"
        },
        "id": "CRYnWTxKK5RD",
        "outputId": "58cb5d41-451a-4dbf-9dc2-ca8cd494519a"
      },
      "outputs": [
        {
          "output_type": "stream",
          "name": "stderr",
          "text": [
            "/usr/local/lib/python3.10/dist-packages/sklearn/neural_network/_multilayer_perceptron.py:686: ConvergenceWarning: Stochastic Optimizer: Maximum iterations (200) reached and the optimization hasn't converged yet.\n",
            "  warnings.warn(\n"
          ]
        },
        {
          "output_type": "stream",
          "name": "stdout",
          "text": [
            "[0.97660819 0.94736842 0.92982456 0.94705882 0.97647059]\n"
          ]
        },
        {
          "output_type": "execute_result",
          "data": {
            "text/plain": [
              "0.9554661162710699"
            ]
          },
          "metadata": {},
          "execution_count": 12
        }
      ],
      "source": [
        "from sklearn.neural_network import MLPClassifier\n",
        "from sklearn.model_selection import cross_val_score\n",
        "\n",
        "modelo1 = MLPClassifier(activation='identity',solver='adam',hidden_layer_sizes=(3,5,2), random_state=123)\n",
        "modelo1.fit(X_train, y_train)\n",
        "scores1 = cross_val_score(modelo1, X_train, y_train, cv=5, scoring='accuracy')\n",
        "print(scores1)\n",
        "scores1.mean()"
      ]
    },
    {
      "cell_type": "code",
      "execution_count": null,
      "metadata": {
        "colab": {
          "base_uri": "https://localhost:8080/"
        },
        "id": "hiPubIdZRRHe",
        "outputId": "4c6a9627-4d44-423e-f139-d59a1da81bc0"
      },
      "outputs": [
        {
          "output_type": "stream",
          "name": "stdout",
          "text": [
            "[0.97660819 0.94736842 0.96491228 0.95882353 0.98235294]\n"
          ]
        },
        {
          "output_type": "execute_result",
          "data": {
            "text/plain": [
              "0.9660130718954247"
            ]
          },
          "metadata": {},
          "execution_count": 13
        }
      ],
      "source": [
        "from sklearn.neural_network import MLPClassifier\n",
        "from sklearn.model_selection import cross_val_score\n",
        "\n",
        "modelo2 = MLPClassifier(activation='relu',solver='lbfgs',hidden_layer_sizes=(3,2), random_state=123, max_iter=1500)\n",
        "modelo2.fit(X_train, y_train)\n",
        "scores2 = cross_val_score(modelo2, X_train, y_train, cv=5, scoring='accuracy')\n",
        "print(scores2)\n",
        "scores2.mean()"
      ]
    },
    {
      "cell_type": "code",
      "execution_count": null,
      "metadata": {
        "colab": {
          "base_uri": "https://localhost:8080/"
        },
        "id": "rXkWOxuPSFNL",
        "outputId": "f57b03f5-97a3-445b-e23e-7b8ed609e78c"
      },
      "outputs": [
        {
          "output_type": "stream",
          "name": "stdout",
          "text": [
            "[0.95906433 0.9122807  0.94152047 0.92352941 0.97058824]\n"
          ]
        },
        {
          "output_type": "execute_result",
          "data": {
            "text/plain": [
              "0.9413966288269695"
            ]
          },
          "metadata": {},
          "execution_count": 14
        }
      ],
      "source": [
        "from sklearn.neural_network import MLPClassifier\n",
        "from sklearn.model_selection import cross_val_score\n",
        "\n",
        "modelo3 = MLPClassifier(activation='identity',solver='lbfgs',hidden_layer_sizes=(5,), random_state=123)\n",
        "modelo3.fit(X_train, y_train)\n",
        "scores3 = cross_val_score(modelo3, X_train, y_train, cv=5, scoring='accuracy')\n",
        "print(scores3)\n",
        "scores3.mean()"
      ]
    },
    {
      "cell_type": "code",
      "execution_count": null,
      "metadata": {
        "colab": {
          "base_uri": "https://localhost:8080/"
        },
        "id": "yI3e5nRwSvEV",
        "outputId": "1ff16df5-0dc4-4ee9-c079-213c393608e7"
      },
      "outputs": [
        {
          "output_type": "stream",
          "name": "stdout",
          "text": [
            "[0.5380117  0.5380117  0.5380117  0.53529412 0.54117647]\n"
          ]
        },
        {
          "output_type": "execute_result",
          "data": {
            "text/plain": [
              "0.5381011351909184"
            ]
          },
          "metadata": {},
          "execution_count": 15
        }
      ],
      "source": [
        "from sklearn.neural_network import MLPClassifier\n",
        "from sklearn.model_selection import cross_val_score\n",
        "\n",
        "modelo4 = MLPClassifier(activation='logistic',solver='sgd',hidden_layer_sizes=(3,10,15), random_state=123)\n",
        "modelo4.fit(X_train, y_train)\n",
        "scores4 = cross_val_score(modelo4, X_train, y_train, cv=5, scoring='accuracy')\n",
        "print(scores4)\n",
        "scores4.mean()"
      ]
    },
    {
      "cell_type": "code",
      "execution_count": null,
      "metadata": {
        "colab": {
          "base_uri": "https://localhost:8080/"
        },
        "id": "C1A731vNUoTp",
        "outputId": "58ce7429-4817-4605-87ff-dda4348d7cf1"
      },
      "outputs": [
        {
          "output_type": "stream",
          "name": "stdout",
          "text": [
            "[0.98245614 0.97076023 0.96491228 0.98235294 0.97647059]\n"
          ]
        },
        {
          "output_type": "execute_result",
          "data": {
            "text/plain": [
              "0.975390436876505"
            ]
          },
          "metadata": {},
          "execution_count": 16
        }
      ],
      "source": [
        "from sklearn.neural_network import MLPClassifier\n",
        "from sklearn.model_selection import cross_val_score\n",
        "\n",
        "modelo5 = MLPClassifier(activation='tanh',solver='lbfgs',hidden_layer_sizes=(25,5,19,2), random_state=123)\n",
        "modelo5.fit(X_train, y_train)\n",
        "scores5 = cross_val_score(modelo5, X_train, y_train, cv=5, scoring='accuracy')\n",
        "print(scores5)\n",
        "scores5.mean()"
      ]
    },
    {
      "cell_type": "markdown",
      "source": [
        "### Se analiza el desempeño en el conjunto de prueba"
      ],
      "metadata": {
        "id": "28dhsOq8DMOz"
      }
    },
    {
      "cell_type": "code",
      "source": [
        "X_test = full_pipeline.transform(test_data)\n",
        "X_test"
      ],
      "metadata": {
        "colab": {
          "base_uri": "https://localhost:8080/"
        },
        "id": "0l6aQATHDQbY",
        "outputId": "e44f96b0-0252-4b82-94cd-2d74362a227e",
        "collapsed": true
      },
      "execution_count": null,
      "outputs": [
        {
          "output_type": "execute_result",
          "data": {
            "text/plain": [
              "array([[-1.37636844e+00, -1.00264003e+00, -9.53280020e-01,\n",
              "        -8.91248088e-01],\n",
              "       [-1.23599992e+00, -1.00264003e+00, -9.77797534e-01,\n",
              "        -7.11353479e-01],\n",
              "       [ 9.75009922e-02,  1.01623296e-01, -5.60999802e-01,\n",
              "        -9.63205932e-01],\n",
              "       [-1.51673695e+00, -1.00264003e+00, -1.37007775e+00,\n",
              "        -1.25103731e+00],\n",
              "       [-2.53420300e-01,  1.01623296e-01, -3.40342179e-01,\n",
              "        -4.23522104e-01],\n",
              "       [ 1.67685251e-01,  1.01623296e-01,  2.23560634e-01,\n",
              "         5.47908787e-01],\n",
              "       [ 9.75009922e-02,  1.01623296e-01,  1.25329621e+00,\n",
              "         1.08759261e+00],\n",
              "       [ 7.29159319e-01,  1.20588662e+00,  4.19700743e-01,\n",
              "         1.16161724e-01],\n",
              "       [ 5.88790802e-01,  1.20588662e+00,  1.05715610e+00,\n",
              "         5.47908787e-01],\n",
              "       [-6.74525851e-01, -1.00264003e+00, -3.15824666e-01,\n",
              "        -6.75374557e-01],\n",
              "       [-6.04341593e-01, -1.00264003e+00,  2.23560634e-01,\n",
              "         3.32035256e-01],\n",
              "       [ 1.15026487e+00,  1.20588662e+00,  1.79268151e+00,\n",
              "         1.48336076e+00],\n",
              "       [-4.63973076e-01,  1.01623296e-01, -4.38412234e-01,\n",
              "        -5.67437791e-01],\n",
              "       [-9.55262885e-01, -1.00264003e+00, -8.55209965e-01,\n",
              "        -8.91248088e-01],\n",
              "       [ 6.58975060e-01,  1.01623296e-01,  1.37588377e+00,\n",
              "         1.69923429e+00],\n",
              "       [ 1.67685251e-01,  1.01623296e-01,  2.48078148e-01,\n",
              "         1.16161724e-01],\n",
              "       [-1.23599992e+00, -1.00264003e+00, -9.77797534e-01,\n",
              "        -7.11353479e-01],\n",
              "       [-6.74525851e-01, -1.00264003e+00, -6.59069856e-01,\n",
              "        -5.67437791e-01],\n",
              "       [-6.74525851e-01, -1.00264003e+00, -4.87447261e-01,\n",
              "        -4.23522104e-01],\n",
              "       [ 1.99247597e+00,  1.20588662e+00,  1.57202388e+00,\n",
              "         1.23150830e+00],\n",
              "       [-1.09563140e+00, -1.00264003e+00, -1.27200770e+00,\n",
              "        -1.14310054e+00],\n",
              "       [-2.53420300e-01,  1.01623296e-01, -1.68719584e-01,\n",
              "        -1.35690729e-01],\n",
              "       [ 1.57137042e+00,  1.20588662e+00,  1.42491880e+00,\n",
              "         1.41140291e+00],\n",
              "       [ 1.50118616e+00,  1.20588662e+00,  5.42288311e-01,\n",
              "         5.47908787e-01],\n",
              "       [ 9.75009922e-02,  1.01623296e-01,  9.10051016e-01,\n",
              "         5.83887709e-01],\n",
              "       [-2.53420300e-01,  1.01623296e-01, -2.16145021e-02,\n",
              "         8.22495869e-03],\n",
              "       [ 1.64155468e+00,  1.20588662e+00,  6.89393393e-01,\n",
              "         1.88119568e-01],\n",
              "       [-2.53420300e-01,  1.01623296e-01, -2.16145021e-02,\n",
              "        -9.97118069e-02],\n",
              "       [-1.23599992e+00, -1.00264003e+00, -1.02683256e+00,\n",
              "        -9.99184854e-01],\n",
              "       [-1.09563140e+00, -1.00264003e+00, -5.60999802e-01,\n",
              "        -7.47332401e-01],\n",
              "       [-1.23599992e+00, -1.00264003e+00, -1.29652521e+00,\n",
              "        -1.32299515e+00],\n",
              "       [-6.04341593e-01, -1.00264003e+00, -1.90946305e+00,\n",
              "        -1.28701623e+00],\n",
              "       [ 2.06266023e+00,  3.41441328e+00,  1.20426118e+00,\n",
              "         1.12357154e+00],\n",
              "       [-9.55262885e-01, -1.00264003e+00, -4.38412234e-01,\n",
              "        -4.95479948e-01],\n",
              "       [-6.74525851e-01, -1.00264003e+00, -7.57139911e-01,\n",
              "        -8.91248088e-01],\n",
              "       [ 4.48422285e-01,  1.01623296e-01,  6.89393393e-01,\n",
              "         8.71719084e-01],\n",
              "       [ 1.67685251e-01,  1.01623296e-01, -1.19684557e-01,\n",
              "        -3.15585338e-01],\n",
              "       [-1.23599992e+00, -1.00264003e+00, -1.14942013e+00,\n",
              "        -9.63205932e-01],\n",
              "       [-9.55262885e-01, -1.00264003e+00, -9.04244993e-01,\n",
              "        -9.63205932e-01],\n",
              "       [-9.55262885e-01, -1.00264003e+00, -4.62929747e-01,\n",
              "        -6.37328851e-02],\n",
              "       [-6.04341593e-01, -1.00264003e+00, -9.53280020e-01,\n",
              "        -1.10712162e+00],\n",
              "       [-4.63973076e-01, -1.00264003e+00, -3.89377207e-01,\n",
              "        -3.15585338e-01],\n",
              "       [ 1.50118616e+00,  1.20588662e+00,  1.64557642e+00,\n",
              "         2.31087596e+00],\n",
              "       [-9.55262885e-01, -1.00264003e+00, -1.07586759e+00,\n",
              "        -1.10712162e+00],\n",
              "       [ 2.37869509e-01,  1.01623296e-01,  1.69461145e+00,\n",
              "         2.09500243e+00],\n",
              "       [-9.55262885e-01, -1.00264003e+00, -6.10034829e-01,\n",
              "        -6.75374557e-01],\n",
              "       [ 1.99247597e+00,  1.20588662e+00,  1.08167361e+00,\n",
              "         8.71719084e-01],\n",
              "       [ 2.37869509e-01,  1.01623296e-01,  2.90301158e-03,\n",
              "        -2.77539632e-02],\n",
              "       [-6.04341593e-01, -1.00264003e+00, -1.02683256e+00,\n",
              "        -3.51564260e-01],\n",
              "       [ 1.64155468e+00,  1.20588662e+00,  1.17974367e+00,\n",
              "         1.59129752e+00],\n",
              "       [ 1.67685251e-01,  1.01623296e-01, -2.16145021e-02,\n",
              "        -2.79606416e-01],\n",
              "       [-1.23599992e+00, -1.00264003e+00, -1.02683256e+00,\n",
              "        -9.99184854e-01],\n",
              "       [-2.53420300e-01,  1.01623296e-01, -3.40342179e-01,\n",
              "        -5.31458869e-01],\n",
              "       [ 1.67685251e-01,  1.01623296e-01,  3.21630689e-01,\n",
              "         2.24098490e-01],\n",
              "       [ 1.67685251e-01,  1.01623296e-01,  1.99043121e-01,\n",
              "         8.22495869e-03],\n",
              "       [ 1.67685251e-01,  1.01623296e-01,  2.48078148e-01,\n",
              "         1.16161724e-01],\n",
              "       [ 3.08053768e-01,  1.01623296e-01,  1.00973066e-01,\n",
              "         4.42038806e-02],\n",
              "       [-1.37636844e+00, -1.00264003e+00, -1.02683256e+00,\n",
              "        -1.25103731e+00],\n",
              "       [-1.23599992e+00, -1.00264003e+00, -9.77797534e-01,\n",
              "        -8.91248088e-01],\n",
              "       [-1.23599992e+00, -1.00264003e+00, -1.12490262e+00,\n",
              "        -1.03516378e+00],\n",
              "       [ 1.67685251e-01,  1.01623296e-01, -1.19684557e-01,\n",
              "        -3.15585338e-01],\n",
              "       [ 1.67685251e-01,  1.01623296e-01,  1.59654140e+00,\n",
              "         1.48336076e+00],\n",
              "       [-9.55262885e-01, -1.00264003e+00, -6.59069856e-01,\n",
              "        -5.31458869e-01],\n",
              "       [ 8.69527836e-01,  1.20588662e+00,  2.99403967e+00,\n",
              "         3.78601176e+00],\n",
              "       [ 1.67685251e-01,  1.01623296e-01,  9.83603557e-01,\n",
              "         7.99761240e-01],\n",
              "       [ 1.85210745e+00,  1.20588662e+00,  2.11140918e+00,\n",
              "         1.98706566e+00],\n",
              "       [ 2.37869509e-01,  1.01623296e-01, -1.68719584e-01,\n",
              "        -1.35690729e-01],\n",
              "       [-2.53420300e-01,  1.01623296e-01, -3.64859693e-01,\n",
              "        -5.67437791e-01],\n",
              "       [-1.37636844e+00, -1.00264003e+00, -1.88494554e+00,\n",
              "        -1.53886868e+00],\n",
              "       [ 1.00989635e+00,  1.20588662e+00,  1.96430410e+00,\n",
              "         1.73521321e+00],\n",
              "       [ 2.37869509e-01,  1.01623296e-01, -4.61320157e-02,\n",
              "        -6.37328851e-02],\n",
              "       [-6.04341593e-01, -1.00264003e+00, -9.04244993e-01,\n",
              "        -7.47332401e-01],\n",
              "       [-9.55262885e-01, -1.00264003e+00,  2.23560634e-01,\n",
              "         1.16161724e-01],\n",
              "       [-9.55262885e-01, -1.00264003e+00, -3.89377207e-01,\n",
              "         8.22495869e-03],\n",
              "       [ 2.73167337e-02,  1.01623296e-01, -2.17754611e-01,\n",
              "        -3.15585338e-01],\n",
              "       [-2.53420300e-01,  1.01623296e-01, -2.42272125e-01,\n",
              "        -5.31458869e-01],\n",
              "       [ 1.36081765e+00,  1.20588662e+00,  2.01333913e+00,\n",
              "         1.84314997e+00],\n",
              "       [-2.53420300e-01,  1.01623296e-01,  1.00973066e-01,\n",
              "         2.24098490e-01],\n",
              "       [ 9.75009922e-02,  1.01623296e-01, -2.42272125e-01,\n",
              "        -6.37328851e-02],\n",
              "       [-9.55262885e-01, -1.00264003e+00, -1.32104272e+00,\n",
              "        -1.35897407e+00],\n",
              "       [ 9.75009922e-02,  1.01623296e-01, -1.29652521e+00,\n",
              "        -3.15585338e-01],\n",
              "       [-9.55262885e-01, -1.00264003e+00, -4.13894720e-01,\n",
              "        -4.23522104e-01],\n",
              "       [-9.55262885e-01, -1.00264003e+00, -9.04244993e-01,\n",
              "        -7.83311323e-01],\n",
              "       [ 1.36081765e+00,  1.20588662e+00,  2.94500465e+00,\n",
              "         3.53415930e+00],\n",
              "       [ 1.36081765e+00,  1.20588662e+00,  1.30233123e+00,\n",
              "         1.59129752e+00],\n",
              "       [ 1.67685251e-01,  1.01623296e-01,  9.10051016e-01,\n",
              "         6.19866631e-01],\n",
              "       [ 9.75009922e-02,  1.01623296e-01, -7.06495293e-02,\n",
              "        -1.35690729e-01],\n",
              "       [ 1.67685251e-01,  1.01623296e-01,  1.44943632e+00,\n",
              "         1.30346615e+00],\n",
              "       [ 9.75009922e-02,  1.01623296e-01, -1.44202070e-01,\n",
              "        -1.35690729e-01],\n",
              "       [-9.55262885e-01, -1.00264003e+00, -8.06174938e-01,\n",
              "        -1.07114270e+00],\n",
              "       [ 3.08053768e-01,  1.01623296e-01, -2.42272125e-01,\n",
              "        -2.07648573e-01],\n",
              "       [-9.55262885e-01, -1.00264003e+00, -7.32622397e-01,\n",
              "        -6.03416713e-01],\n",
              "       [-2.53420300e-01,  1.01623296e-01,  2.74205252e-02,\n",
              "        -2.43627494e-01],\n",
              "       [ 2.37869509e-01,  1.01623296e-01,  1.00973066e-01,\n",
              "         3.32035256e-01],\n",
              "       [ 9.39712094e-01,  1.20588662e+00,  1.17974367e+00,\n",
              "         9.79655849e-01],\n",
              "       [ 7.29159319e-01,  1.20588662e+00,  4.19700743e-01,\n",
              "         1.16161724e-01],\n",
              "       [ 1.67685251e-01,  1.01623296e-01,  3.70665716e-01,\n",
              "         1.16161724e-01],\n",
              "       [-9.55262885e-01, -1.00264003e+00, -7.57139911e-01,\n",
              "        -3.15585338e-01],\n",
              "       [ 1.67685251e-01,  1.01623296e-01,  2.23560634e-01,\n",
              "        -3.15585338e-01],\n",
              "       [-1.09563140e+00, -1.00264003e+00, -9.53280020e-01,\n",
              "        -9.99184854e-01],\n",
              "       [-6.04341593e-01, -4.50508368e-01, -5.11964775e-01,\n",
              "        -7.83311323e-01],\n",
              "       [ 1.67685251e-01,  1.01623296e-01, -2.16145021e-02,\n",
              "        -2.79606416e-01],\n",
              "       [ 1.99247597e+00,  1.20588662e+00,  2.45465437e+00,\n",
              "         2.38283380e+00],\n",
              "       [ 2.37869509e-01,  1.01623296e-01, -2.16145021e-02,\n",
              "         4.42038806e-02],\n",
              "       [-2.53420300e-01,  1.01623296e-01,  3.46148202e-01,\n",
              "        -1.35690729e-01],\n",
              "       [ 1.99247597e+00,  1.20588662e+00,  1.20426118e+00,\n",
              "         1.12357154e+00],\n",
              "       [ 9.75009922e-02,  1.01623296e-01, -3.40342179e-01,\n",
              "        -6.39395635e-01],\n",
              "       [ 1.15026487e+00,  1.20588662e+00,  5.66805825e-01,\n",
              "         5.11929865e-01],\n",
              "       [-9.55262885e-01, -1.00264003e+00, -8.55209965e-01,\n",
              "        -8.19290244e-01],\n",
              "       [ 8.69527836e-01,  1.20588662e+00,  1.08167361e+00,\n",
              "         1.77119213e+00],\n",
              "       [-1.23599992e+00, -1.00264003e+00, -6.59069856e-01,\n",
              "        -5.67437791e-01],\n",
              "       [-9.55262885e-01, -1.00264003e+00, -1.39459527e+00,\n",
              "        -1.43093192e+00],\n",
              "       [-6.74525851e-01, -1.00264003e+00, -6.59069856e-01,\n",
              "        -7.11353479e-01],\n",
              "       [-6.04341593e-01, -1.00264003e+00, -9.28762506e-01,\n",
              "        -7.47332401e-01],\n",
              "       [ 1.29063339e+00,  2.31014995e+00,  1.91526907e+00,\n",
              "         1.55531860e+00],\n",
              "       [-6.74525851e-01, -1.00264003e+00, -2.66789638e-01,\n",
              "        -3.15585338e-01],\n",
              "       [-2.53420300e-01,  1.01623296e-01, -8.55209965e-01,\n",
              "        -1.10712162e+00],\n",
              "       [-2.53420300e-01,  1.01623296e-01, -9.51670429e-02,\n",
              "        -3.87543182e-01],\n",
              "       [ 1.50118616e+00,  1.20588662e+00,  5.66805825e-01,\n",
              "         2.96056334e-01],\n",
              "       [-1.09563140e+00, -1.00264003e+00, -1.22297267e+00,\n",
              "        -1.14310054e+00],\n",
              "       [-6.74525851e-01, -1.00264003e+00, -6.83587370e-01,\n",
              "        -4.59501026e-01],\n",
              "       [-9.55262885e-01, -1.00264003e+00, -7.32622397e-01,\n",
              "        -6.39395635e-01],\n",
              "       [ 1.67685251e-01,  1.01623296e-01,  6.15840852e-01,\n",
              "         5.11929865e-01],\n",
              "       [ 1.64155468e+00,  1.20588662e+00,  6.15840852e-01,\n",
              "        -9.97118069e-02],\n",
              "       [-1.23599992e+00, -1.00264003e+00, -4.38412234e-01,\n",
              "        -4.23522104e-01],\n",
              "       [ 1.15026487e+00,  1.20588662e+00,  4.19700743e-01,\n",
              "         2.60077412e-01],\n",
              "       [-2.53420300e-01,  1.01623296e-01, -9.51670429e-02,\n",
              "        -2.43627494e-01],\n",
              "       [-1.30618418e+00, -1.00264003e+00, -1.39459527e+00,\n",
              "        -1.21505838e+00],\n",
              "       [-2.53420300e-01,  1.01623296e-01, -2.16145021e-02,\n",
              "        -9.97118069e-02],\n",
              "       [ 1.99247597e+00,  1.20588662e+00,  8.36498475e-01,\n",
              "         1.08759261e+00],\n",
              "       [-1.30618418e+00, -1.00264003e+00, -1.29652521e+00,\n",
              "        -9.99184854e-01],\n",
              "       [ 6.58975060e-01,  1.01623296e-01,  1.64557642e+00,\n",
              "         2.02304458e+00],\n",
              "       [-9.55262885e-01, -1.00264003e+00, -2.42272125e-01,\n",
              "        -2.79606416e-01],\n",
              "       [ 1.15026487e+00,  1.20588662e+00,  5.17770798e-01,\n",
              "        -2.77539632e-02],\n",
              "       [ 1.67685251e-01,  1.01623296e-01, -4.61320157e-02,\n",
              "        -1.71669651e-01],\n",
              "       [ 1.67685251e-01,  1.01623296e-01,  1.50008093e-01,\n",
              "         1.16161724e-01],\n",
              "       [ 1.36081765e+00,  1.20588662e+00,  1.62105891e+00,\n",
              "         1.69923429e+00],\n",
              "       [-9.55262885e-01, -1.00264003e+00, -5.36482288e-01,\n",
              "        -4.23522104e-01],\n",
              "       [-1.09563140e+00, -1.00264003e+00, -9.04244993e-01,\n",
              "        -1.03516378e+00],\n",
              "       [ 1.36081765e+00,  1.20588662e+00,  1.52298886e+00,\n",
              "         1.51933968e+00],\n",
              "       [-2.53420300e-01,  1.01623296e-01, -7.81657425e-01,\n",
              "        -1.07114270e+00],\n",
              "       [-1.23599992e+00, -1.00264003e+00, -9.77797534e-01,\n",
              "        -8.91248088e-01],\n",
              "       [ 1.15026487e+00,  1.20588662e+00,  8.61015989e-01,\n",
              "         1.12357154e+00],\n",
              "       [-2.53420300e-01,  1.01623296e-01, -2.16145021e-02,\n",
              "         8.22495869e-03],\n",
              "       [-9.55262885e-01, -1.00264003e+00, -9.04244993e-01,\n",
              "        -6.75374557e-01],\n",
              "       [-9.55262885e-01, -1.00264003e+00, -6.59069856e-01,\n",
              "        -8.19290244e-01],\n",
              "       [-9.55262885e-01, -1.00264003e+00, -4.62929747e-01,\n",
              "        -3.15585338e-01],\n",
              "       [-2.53420300e-01,  1.01623296e-01, -3.64859693e-01,\n",
              "        -3.51564260e-01],\n",
              "       [ 1.85210745e+00,  1.20588662e+00,  2.11140918e+00,\n",
              "         1.98706566e+00],\n",
              "       [ 1.36081765e+00,  1.20588662e+00,  3.21630689e-01,\n",
              "         2.96056334e-01],\n",
              "       [ 1.50118616e+00,  1.20588662e+00,  4.19700743e-01,\n",
              "         2.96056334e-01],\n",
              "       [-9.55262885e-01, -1.00264003e+00, -8.06174938e-01,\n",
              "        -1.07114270e+00],\n",
              "       [ 2.37869509e-01,  1.01623296e-01,  4.19700743e-01,\n",
              "         6.91824474e-01],\n",
              "       [ 1.36081765e+00,  1.20588662e+00,  2.01333913e+00,\n",
              "         1.84314997e+00],\n",
              "       [-9.55262885e-01, -1.00264003e+00, -4.38412234e-01,\n",
              "        -4.95479948e-01],\n",
              "       [-9.55262885e-01, -1.00264003e+00, -5.60999802e-01,\n",
              "        -5.67437791e-01],\n",
              "       [ 7.29159319e-01,  1.20588662e+00,  4.19700743e-01,\n",
              "         1.16161724e-01],\n",
              "       [-6.74525851e-01, -1.00264003e+00, -1.02683256e+00,\n",
              "        -9.27227010e-01],\n",
              "       [-9.55262885e-01, -1.00264003e+00,  7.64555525e-02,\n",
              "        -9.97118069e-02],\n",
              "       [ 1.15026487e+00,  1.20588662e+00,  1.15522615e+00,\n",
              "         9.79655849e-01],\n",
              "       [-6.04341593e-01, -1.00264003e+00, -6.10034829e-01,\n",
              "        -3.87543182e-01],\n",
              "       [ 9.75009922e-02,  1.01623296e-01,  2.90301158e-03,\n",
              "        -6.37328851e-02],\n",
              "       [ 2.37869509e-01,  1.01623296e-01,  1.74525607e-01,\n",
              "         1.52140646e-01],\n",
              "       [-9.55262885e-01, -1.00264003e+00, -1.29652521e+00,\n",
              "        -1.32299515e+00],\n",
              "       [-9.55262885e-01, -1.00264003e+00, -9.04244993e-01,\n",
              "        -8.55269166e-01],\n",
              "       [ 1.99247597e+00,  1.20588662e+00,  8.36498475e-01,\n",
              "         1.08759261e+00],\n",
              "       [-2.53420300e-01,  1.01623296e-01,  4.44218257e-01,\n",
              "         5.11929865e-01],\n",
              "       [-6.04341593e-01, -1.00264003e+00, -7.08104884e-01,\n",
              "        -4.95479948e-01],\n",
              "       [-9.55262885e-01, -1.00264003e+00, -6.83587370e-01,\n",
              "        -3.51564260e-01],\n",
              "       [ 1.36081765e+00,  1.20588662e+00,  2.60175946e+00,\n",
              "         3.24632793e+00],\n",
              "       [ 1.67685251e-01,  1.01623296e-01,  1.00973066e-01,\n",
              "        -2.77539632e-02],\n",
              "       [-9.55262885e-01, -1.00264003e+00, -9.04244993e-01,\n",
              "        -8.91248088e-01],\n",
              "       [ 1.36081765e+00,  1.20588662e+00,  1.30233123e+00,\n",
              "         1.59129752e+00],\n",
              "       [ 2.34339726e+00,  3.41441328e+00,  1.81719902e+00,\n",
              "         1.19552938e+00],\n",
              "       [-6.74525851e-01, -1.00264003e+00, -1.66428792e+00,\n",
              "        -1.28701623e+00],\n",
              "       [ 1.15026487e+00,  1.20588662e+00,  6.15840852e-01,\n",
              "         2.60077412e-01],\n",
              "       [ 1.85210745e+00,  1.20588662e+00,  4.14636282e+00,\n",
              "         3.96590636e+00],\n",
              "       [-2.53420300e-01,  1.01623296e-01, -4.38412234e-01,\n",
              "        -3.51564260e-01],\n",
              "       [-2.53420300e-01,  1.01623296e-01, -3.64859693e-01,\n",
              "        -5.67437791e-01],\n",
              "       [-1.09563140e+00, -1.00264003e+00, -1.34556024e+00,\n",
              "        -1.25103731e+00],\n",
              "       [-1.09563140e+00, -1.00264003e+00, -1.90946305e+00,\n",
              "        -1.32299515e+00],\n",
              "       [ 1.78192320e+00,  3.41441328e+00,  1.15522615e+00,\n",
              "         1.12357154e+00],\n",
              "       [ 1.67685251e-01,  1.01623296e-01,  8.61015989e-01,\n",
              "         2.96056334e-01],\n",
              "       [-6.74525851e-01, -1.00264003e+00, -6.83587370e-01,\n",
              "        -7.83311323e-01],\n",
              "       [-9.55262885e-01, -1.00264003e+00, -8.55209965e-01,\n",
              "        -8.19290244e-01],\n",
              "       [-4.28675248e-02,  1.01623296e-01,  2.90301158e-03,\n",
              "         8.22495869e-03],\n",
              "       [-6.74525851e-01, -1.00264003e+00, -6.83587370e-01,\n",
              "        -9.99184854e-01],\n",
              "       [-6.74525851e-01, -1.00264003e+00, -7.32622397e-01,\n",
              "        -3.87543182e-01],\n",
              "       [-1.13051783e-01,  1.01623296e-01,  3.95183230e-01,\n",
              "         2.60077412e-01],\n",
              "       [-1.09563140e+00, -1.00264003e+00, -9.04244993e-01,\n",
              "        -1.03516378e+00],\n",
              "       [-2.53420300e-01,  1.01623296e-01, -3.89377207e-01,\n",
              "        -6.03416713e-01],\n",
              "       [ 4.48422285e-01,  1.01623296e-01,  3.70665716e-01,\n",
              "         8.35740162e-01],\n",
              "       [ 9.75009922e-02,  1.01623296e-01, -2.91307152e-01,\n",
              "        -2.79606416e-01],\n",
              "       [ 1.67685251e-01,  1.01623296e-01, -2.16145021e-02,\n",
              "        -2.79606416e-01],\n",
              "       [ 2.73167337e-02,  1.01623296e-01, -3.64859693e-01,\n",
              "        -3.51564260e-01],\n",
              "       [-6.04341593e-01, -1.00264003e+00, -7.57139911e-01,\n",
              "        -6.75374557e-01],\n",
              "       [-1.13051783e-01,  1.01623296e-01, -1.93237097e-01,\n",
              "        -2.43627494e-01],\n",
              "       [-1.09563140e+00, -1.00264003e+00, -1.07586759e+00,\n",
              "        -9.99184854e-01],\n",
              "       [-1.23599992e+00, -1.00264003e+00, -7.08104884e-01,\n",
              "        -7.47332401e-01],\n",
              "       [ 1.99247597e+00,  1.20588662e+00,  1.57202388e+00,\n",
              "         1.23150830e+00],\n",
              "       [-1.65710547e+00, -1.55477170e+00, -1.56621786e+00,\n",
              "        -1.35897407e+00],\n",
              "       [-6.04341593e-01, -1.00264003e+00, -1.12490262e+00,\n",
              "        -1.17907946e+00],\n",
              "       [ 1.67685251e-01,  1.01623296e-01, -2.42272125e-01,\n",
              "        -6.75374557e-01],\n",
              "       [-9.55262885e-01, -1.00264003e+00, -6.59069856e-01,\n",
              "        -8.19290244e-01],\n",
              "       [ 7.29159319e-01,  1.20588662e+00,  9.83603557e-01,\n",
              "         7.27803396e-01],\n",
              "       [ 4.48422285e-01,  1.20588662e+00,  5.17770798e-01,\n",
              "         1.16161724e-01],\n",
              "       [ 1.85210745e+00,  1.20588662e+00,  2.16044421e+00,\n",
              "         1.98706566e+00],\n",
              "       [-9.55262885e-01, -1.00264003e+00, -1.17393764e+00,\n",
              "        -1.32299515e+00],\n",
              "       [-2.53420300e-01,  1.01623296e-01,  1.49847134e+00,\n",
              "         1.95108674e+00],\n",
              "       [-1.23599992e+00, -1.00264003e+00, -5.36482288e-01,\n",
              "        -5.31458869e-01],\n",
              "       [-9.55262885e-01, -1.00264003e+00, -8.30692452e-01,\n",
              "        -8.91248088e-01],\n",
              "       [ 9.75009922e-02,  1.01623296e-01,  2.48078148e-01,\n",
              "         2.96056334e-01],\n",
              "       [ 1.15026487e+00,  1.20588662e+00,  4.44218257e-01,\n",
              "         4.03993099e-01],\n",
              "       [-2.53420300e-01,  1.01623296e-01,  3.95183230e-01,\n",
              "         2.24098490e-01]])"
            ]
          },
          "metadata": {},
          "execution_count": 17
        }
      ]
    },
    {
      "cell_type": "code",
      "source": [
        "y_pred1 = modelo1.predict(X_test)\n",
        "y_pred1"
      ],
      "metadata": {
        "colab": {
          "base_uri": "https://localhost:8080/"
        },
        "id": "IluyaE1BDg4V",
        "outputId": "2fb1410a-07c7-43e0-d076-ee32a87be864"
      },
      "execution_count": null,
      "outputs": [
        {
          "output_type": "execute_result",
          "data": {
            "text/plain": [
              "array([0, 0, 0, 0, 0, 1, 1, 1, 1, 0, 0, 1, 0, 0, 1, 1, 0, 0, 0, 1, 0, 0,\n",
              "       1, 1, 1, 1, 1, 1, 0, 0, 0, 0, 1, 0, 0, 1, 0, 0, 0, 0, 0, 0, 1, 0,\n",
              "       1, 0, 1, 1, 0, 1, 0, 0, 0, 1, 1, 1, 1, 0, 0, 0, 0, 1, 0, 1, 1, 1,\n",
              "       0, 0, 0, 1, 1, 0, 0, 0, 0, 0, 1, 1, 0, 0, 0, 0, 0, 1, 1, 1, 1, 1,\n",
              "       0, 0, 0, 0, 1, 1, 1, 1, 1, 0, 1, 0, 0, 0, 1, 1, 1, 1, 0, 1, 0, 1,\n",
              "       0, 0, 0, 0, 1, 0, 0, 0, 1, 0, 0, 0, 1, 1, 0, 1, 0, 0, 1, 1, 0, 1,\n",
              "       0, 1, 1, 1, 1, 0, 0, 1, 0, 0, 1, 1, 0, 0, 0, 0, 1, 1, 1, 0, 1, 1,\n",
              "       0, 0, 1, 0, 0, 1, 0, 1, 1, 0, 0, 1, 1, 0, 0, 1, 1, 0, 1, 1, 0, 1,\n",
              "       1, 0, 0, 0, 0, 1, 1, 0, 0, 1, 0, 0, 1, 0, 0, 1, 0, 0, 0, 0, 0, 0,\n",
              "       0, 1, 0, 0, 0, 0, 1, 1, 1, 0, 1, 0, 0, 1, 1, 1])"
            ]
          },
          "metadata": {},
          "execution_count": 18
        }
      ]
    },
    {
      "cell_type": "code",
      "source": [
        "y_pred2 = modelo2.predict(X_test)\n",
        "y_pred2"
      ],
      "metadata": {
        "colab": {
          "base_uri": "https://localhost:8080/"
        },
        "id": "aE5I6zlpDo5m",
        "outputId": "5445d3f0-84ba-411b-9278-ec215eca4a1f"
      },
      "execution_count": null,
      "outputs": [
        {
          "output_type": "execute_result",
          "data": {
            "text/plain": [
              "array([0, 0, 0, 0, 0, 1, 1, 1, 1, 0, 1, 1, 0, 0, 1, 1, 0, 0, 0, 1, 0, 1,\n",
              "       1, 1, 1, 1, 1, 1, 0, 0, 0, 0, 1, 0, 0, 1, 0, 0, 0, 0, 0, 0, 1, 0,\n",
              "       1, 0, 1, 1, 0, 1, 1, 0, 0, 1, 1, 1, 1, 0, 0, 0, 0, 1, 0, 1, 1, 1,\n",
              "       0, 0, 0, 1, 1, 0, 0, 0, 0, 0, 1, 1, 0, 0, 0, 0, 0, 1, 1, 1, 1, 1,\n",
              "       0, 0, 0, 0, 1, 1, 1, 1, 1, 0, 1, 0, 0, 1, 1, 1, 1, 1, 0, 1, 0, 1,\n",
              "       0, 0, 0, 0, 1, 0, 0, 0, 1, 0, 0, 0, 1, 1, 0, 1, 1, 0, 1, 1, 0, 1,\n",
              "       0, 1, 1, 1, 1, 0, 0, 1, 0, 0, 1, 1, 0, 0, 0, 0, 1, 1, 1, 0, 1, 1,\n",
              "       0, 0, 1, 0, 0, 1, 0, 1, 1, 0, 0, 1, 1, 0, 0, 1, 1, 0, 1, 1, 0, 1,\n",
              "       1, 0, 0, 0, 0, 1, 1, 0, 0, 1, 0, 0, 1, 0, 0, 1, 0, 1, 0, 0, 0, 0,\n",
              "       0, 1, 0, 0, 0, 0, 1, 1, 1, 0, 1, 0, 0, 1, 1, 1])"
            ]
          },
          "metadata": {},
          "execution_count": 19
        }
      ]
    },
    {
      "cell_type": "code",
      "source": [
        "y_pred3 = modelo3.predict(X_test)\n",
        "y_pred3"
      ],
      "metadata": {
        "colab": {
          "base_uri": "https://localhost:8080/"
        },
        "id": "A9niXMGgDs29",
        "outputId": "a93f3cce-060f-404a-84f7-790d14f9f994"
      },
      "execution_count": null,
      "outputs": [
        {
          "output_type": "execute_result",
          "data": {
            "text/plain": [
              "array([0, 0, 0, 0, 0, 1, 1, 1, 1, 0, 1, 1, 0, 0, 1, 1, 0, 0, 0, 1, 0, 0,\n",
              "       1, 1, 1, 1, 1, 1, 0, 0, 0, 0, 1, 0, 0, 1, 0, 0, 0, 0, 0, 0, 1, 0,\n",
              "       1, 0, 1, 1, 0, 1, 0, 0, 0, 1, 1, 1, 1, 0, 0, 0, 0, 1, 0, 1, 1, 1,\n",
              "       0, 0, 0, 1, 1, 0, 0, 0, 0, 0, 1, 1, 1, 0, 0, 0, 0, 1, 1, 1, 1, 1,\n",
              "       0, 0, 0, 0, 0, 1, 1, 1, 1, 0, 0, 0, 0, 0, 1, 1, 1, 1, 0, 1, 0, 1,\n",
              "       0, 0, 0, 0, 1, 0, 0, 0, 1, 0, 0, 0, 1, 1, 0, 1, 0, 0, 1, 1, 0, 1,\n",
              "       0, 1, 0, 1, 1, 0, 0, 1, 0, 0, 1, 1, 0, 0, 0, 0, 1, 1, 1, 0, 1, 1,\n",
              "       0, 0, 1, 0, 0, 1, 0, 1, 1, 0, 0, 1, 1, 0, 0, 1, 1, 0, 1, 1, 0, 1,\n",
              "       1, 0, 0, 0, 0, 1, 1, 0, 0, 1, 0, 0, 1, 0, 0, 1, 0, 0, 0, 0, 0, 0,\n",
              "       0, 1, 0, 0, 0, 0, 1, 1, 1, 0, 1, 0, 0, 1, 1, 1])"
            ]
          },
          "metadata": {},
          "execution_count": 20
        }
      ]
    },
    {
      "cell_type": "code",
      "source": [
        "y_pred4 = modelo4.predict(X_test)\n",
        "y_pred4"
      ],
      "metadata": {
        "colab": {
          "base_uri": "https://localhost:8080/"
        },
        "id": "19q5FnDLDvlw",
        "outputId": "43bb0e93-8e91-430a-ed9c-326b5ff5ef6b"
      },
      "execution_count": null,
      "outputs": [
        {
          "output_type": "execute_result",
          "data": {
            "text/plain": [
              "array([0, 0, 0, 0, 0, 0, 0, 0, 0, 0, 0, 0, 0, 0, 0, 0, 0, 0, 0, 0, 0, 0,\n",
              "       0, 0, 0, 0, 0, 0, 0, 0, 0, 0, 0, 0, 0, 0, 0, 0, 0, 0, 0, 0, 0, 0,\n",
              "       0, 0, 0, 0, 0, 0, 0, 0, 0, 0, 0, 0, 0, 0, 0, 0, 0, 0, 0, 0, 0, 0,\n",
              "       0, 0, 0, 0, 0, 0, 0, 0, 0, 0, 0, 0, 0, 0, 0, 0, 0, 0, 0, 0, 0, 0,\n",
              "       0, 0, 0, 0, 0, 0, 0, 0, 0, 0, 0, 0, 0, 0, 0, 0, 0, 0, 0, 0, 0, 0,\n",
              "       0, 0, 0, 0, 0, 0, 0, 0, 0, 0, 0, 0, 0, 0, 0, 0, 0, 0, 0, 0, 0, 0,\n",
              "       0, 0, 0, 0, 0, 0, 0, 0, 0, 0, 0, 0, 0, 0, 0, 0, 0, 0, 0, 0, 0, 0,\n",
              "       0, 0, 0, 0, 0, 0, 0, 0, 0, 0, 0, 0, 0, 0, 0, 0, 0, 0, 0, 0, 0, 0,\n",
              "       0, 0, 0, 0, 0, 0, 0, 0, 0, 0, 0, 0, 0, 0, 0, 0, 0, 0, 0, 0, 0, 0,\n",
              "       0, 0, 0, 0, 0, 0, 0, 0, 0, 0, 0, 0, 0, 0, 0, 0])"
            ]
          },
          "metadata": {},
          "execution_count": 21
        }
      ]
    },
    {
      "cell_type": "code",
      "source": [
        "y_pred5 = modelo5.predict(X_test)\n",
        "y_pred5"
      ],
      "metadata": {
        "colab": {
          "base_uri": "https://localhost:8080/"
        },
        "id": "70IXmOqvDyZU",
        "outputId": "b415fb43-ecd5-47c0-d9b8-bc72733c1290"
      },
      "execution_count": null,
      "outputs": [
        {
          "output_type": "execute_result",
          "data": {
            "text/plain": [
              "array([0, 0, 0, 0, 0, 1, 1, 1, 1, 0, 1, 1, 0, 0, 1, 1, 0, 0, 0, 1, 0, 0,\n",
              "       1, 1, 1, 1, 1, 1, 0, 0, 0, 0, 1, 0, 0, 1, 0, 0, 0, 0, 0, 0, 1, 0,\n",
              "       1, 0, 1, 1, 0, 1, 1, 0, 0, 1, 1, 1, 1, 0, 0, 0, 0, 1, 0, 1, 1, 1,\n",
              "       0, 0, 0, 1, 1, 0, 1, 0, 0, 0, 1, 1, 0, 0, 0, 0, 0, 1, 1, 1, 1, 1,\n",
              "       0, 0, 0, 0, 1, 1, 1, 1, 1, 0, 1, 0, 0, 1, 1, 1, 1, 1, 0, 1, 0, 1,\n",
              "       0, 0, 0, 0, 1, 0, 0, 0, 1, 0, 0, 0, 1, 1, 0, 1, 0, 0, 1, 1, 0, 1,\n",
              "       0, 1, 1, 1, 1, 0, 0, 1, 0, 0, 1, 1, 0, 0, 0, 0, 1, 1, 1, 0, 1, 1,\n",
              "       0, 0, 1, 0, 1, 1, 0, 1, 1, 0, 0, 1, 1, 0, 0, 1, 1, 0, 1, 1, 0, 1,\n",
              "       1, 0, 0, 0, 0, 1, 1, 0, 0, 1, 0, 0, 1, 0, 0, 1, 0, 1, 0, 0, 0, 0,\n",
              "       0, 1, 0, 0, 0, 0, 1, 1, 1, 0, 1, 0, 0, 1, 1, 1])"
            ]
          },
          "metadata": {},
          "execution_count": 22
        }
      ]
    },
    {
      "cell_type": "code",
      "source": [
        "y_test = test_data[\"CO2EMISSIONS\"]\n",
        "y_test"
      ],
      "metadata": {
        "colab": {
          "base_uri": "https://localhost:8080/"
        },
        "id": "te6c-p7fEaKc",
        "outputId": "9c299586-8e48-411c-c573-ad814f765a92"
      },
      "execution_count": null,
      "outputs": [
        {
          "output_type": "execute_result",
          "data": {
            "text/plain": [
              "255    0\n",
              "813    0\n",
              "484    0\n",
              "259    0\n",
              "97     0\n",
              "      ..\n",
              "605    0\n",
              "317    0\n",
              "367    1\n",
              "563    1\n",
              "63     1\n",
              "Name: CO2EMISSIONS, Length: 214, dtype: int64"
            ]
          },
          "metadata": {},
          "execution_count": 23
        }
      ]
    },
    {
      "cell_type": "code",
      "source": [
        "from sklearn.metrics import accuracy_score\n",
        "accuracy1 = accuracy_score(y_test, y_pred1)\n",
        "accuracy1"
      ],
      "metadata": {
        "id": "yD-p_fXJKzsf",
        "colab": {
          "base_uri": "https://localhost:8080/"
        },
        "outputId": "48dc526d-5612-49c2-da36-303ebb8b5a44"
      },
      "execution_count": null,
      "outputs": [
        {
          "output_type": "execute_result",
          "data": {
            "text/plain": [
              "0.9392523364485982"
            ]
          },
          "metadata": {},
          "execution_count": 24
        }
      ]
    },
    {
      "cell_type": "code",
      "source": [
        "accuracy2 = accuracy_score(y_test, y_pred2)\n",
        "accuracy2"
      ],
      "metadata": {
        "id": "tiuVoGxIMKLL",
        "colab": {
          "base_uri": "https://localhost:8080/"
        },
        "outputId": "ac6be510-0efc-4bbf-841d-ffba60b1c93b"
      },
      "execution_count": null,
      "outputs": [
        {
          "output_type": "execute_result",
          "data": {
            "text/plain": [
              "0.9485981308411215"
            ]
          },
          "metadata": {},
          "execution_count": 25
        }
      ]
    },
    {
      "cell_type": "code",
      "source": [
        "accuracy3 = accuracy_score(y_test, y_pred3)\n",
        "accuracy3"
      ],
      "metadata": {
        "id": "XR8K73hzMNab",
        "colab": {
          "base_uri": "https://localhost:8080/"
        },
        "outputId": "5353adcb-356b-47fa-aaa3-58dda4e272ca"
      },
      "execution_count": null,
      "outputs": [
        {
          "output_type": "execute_result",
          "data": {
            "text/plain": [
              "0.9252336448598131"
            ]
          },
          "metadata": {},
          "execution_count": 26
        }
      ]
    },
    {
      "cell_type": "code",
      "source": [
        "accuracy4 = accuracy_score(y_test, y_pred4)\n",
        "accuracy4"
      ],
      "metadata": {
        "id": "hvB0Ufz9MPeS",
        "colab": {
          "base_uri": "https://localhost:8080/"
        },
        "outputId": "42b2fda8-0c14-4769-8d42-ece8eaa387b6"
      },
      "execution_count": null,
      "outputs": [
        {
          "output_type": "execute_result",
          "data": {
            "text/plain": [
              "0.5420560747663551"
            ]
          },
          "metadata": {},
          "execution_count": 27
        }
      ]
    },
    {
      "cell_type": "code",
      "source": [
        "accuracy5 = accuracy_score(y_test, y_pred5)\n",
        "accuracy5"
      ],
      "metadata": {
        "id": "pIZPH7_qMRV2",
        "colab": {
          "base_uri": "https://localhost:8080/"
        },
        "outputId": "27773402-8c75-4a29-e8dd-74a82269779a"
      },
      "execution_count": null,
      "outputs": [
        {
          "output_type": "execute_result",
          "data": {
            "text/plain": [
              "0.9579439252336449"
            ]
          },
          "metadata": {},
          "execution_count": 28
        }
      ]
    },
    {
      "cell_type": "markdown",
      "source": [
        "### Se genera la tabla comparativa del accuracy de los modelos"
      ],
      "metadata": {
        "id": "tKf84evpQ6VI"
      }
    },
    {
      "cell_type": "code",
      "source": [
        "accuracies = {\n",
        "    \"Model\": [\"model 1\", \"model 2\", \"model 3\", \"model 4\", \"model 5\"],\n",
        "    \"Accuracy\": [accuracy1, accuracy2, accuracy3, accuracy4, accuracy5]\n",
        "}\n",
        "pd.DataFrame(accuracies)"
      ],
      "metadata": {
        "colab": {
          "base_uri": "https://localhost:8080/",
          "height": 206
        },
        "id": "q-T-QJu6RRmf",
        "outputId": "ecbd6c3a-9d29-4957-e09a-a5c7ca6b33a2"
      },
      "execution_count": null,
      "outputs": [
        {
          "output_type": "execute_result",
          "data": {
            "text/plain": [
              "     Model  Accuracy\n",
              "0  model 1  0.939252\n",
              "1  model 2  0.948598\n",
              "2  model 3  0.925234\n",
              "3  model 4  0.542056\n",
              "4  model 5  0.957944"
            ],
            "text/html": [
              "\n",
              "  <div id=\"df-d220749b-3110-435f-965b-ee021b1ae62a\" class=\"colab-df-container\">\n",
              "    <div>\n",
              "<style scoped>\n",
              "    .dataframe tbody tr th:only-of-type {\n",
              "        vertical-align: middle;\n",
              "    }\n",
              "\n",
              "    .dataframe tbody tr th {\n",
              "        vertical-align: top;\n",
              "    }\n",
              "\n",
              "    .dataframe thead th {\n",
              "        text-align: right;\n",
              "    }\n",
              "</style>\n",
              "<table border=\"1\" class=\"dataframe\">\n",
              "  <thead>\n",
              "    <tr style=\"text-align: right;\">\n",
              "      <th></th>\n",
              "      <th>Model</th>\n",
              "      <th>Accuracy</th>\n",
              "    </tr>\n",
              "  </thead>\n",
              "  <tbody>\n",
              "    <tr>\n",
              "      <th>0</th>\n",
              "      <td>model 1</td>\n",
              "      <td>0.939252</td>\n",
              "    </tr>\n",
              "    <tr>\n",
              "      <th>1</th>\n",
              "      <td>model 2</td>\n",
              "      <td>0.948598</td>\n",
              "    </tr>\n",
              "    <tr>\n",
              "      <th>2</th>\n",
              "      <td>model 3</td>\n",
              "      <td>0.925234</td>\n",
              "    </tr>\n",
              "    <tr>\n",
              "      <th>3</th>\n",
              "      <td>model 4</td>\n",
              "      <td>0.542056</td>\n",
              "    </tr>\n",
              "    <tr>\n",
              "      <th>4</th>\n",
              "      <td>model 5</td>\n",
              "      <td>0.957944</td>\n",
              "    </tr>\n",
              "  </tbody>\n",
              "</table>\n",
              "</div>\n",
              "    <div class=\"colab-df-buttons\">\n",
              "\n",
              "  <div class=\"colab-df-container\">\n",
              "    <button class=\"colab-df-convert\" onclick=\"convertToInteractive('df-d220749b-3110-435f-965b-ee021b1ae62a')\"\n",
              "            title=\"Convert this dataframe to an interactive table.\"\n",
              "            style=\"display:none;\">\n",
              "\n",
              "  <svg xmlns=\"http://www.w3.org/2000/svg\" height=\"24px\" viewBox=\"0 -960 960 960\">\n",
              "    <path d=\"M120-120v-720h720v720H120Zm60-500h600v-160H180v160Zm220 220h160v-160H400v160Zm0 220h160v-160H400v160ZM180-400h160v-160H180v160Zm440 0h160v-160H620v160ZM180-180h160v-160H180v160Zm440 0h160v-160H620v160Z\"/>\n",
              "  </svg>\n",
              "    </button>\n",
              "\n",
              "  <style>\n",
              "    .colab-df-container {\n",
              "      display:flex;\n",
              "      gap: 12px;\n",
              "    }\n",
              "\n",
              "    .colab-df-convert {\n",
              "      background-color: #E8F0FE;\n",
              "      border: none;\n",
              "      border-radius: 50%;\n",
              "      cursor: pointer;\n",
              "      display: none;\n",
              "      fill: #1967D2;\n",
              "      height: 32px;\n",
              "      padding: 0 0 0 0;\n",
              "      width: 32px;\n",
              "    }\n",
              "\n",
              "    .colab-df-convert:hover {\n",
              "      background-color: #E2EBFA;\n",
              "      box-shadow: 0px 1px 2px rgba(60, 64, 67, 0.3), 0px 1px 3px 1px rgba(60, 64, 67, 0.15);\n",
              "      fill: #174EA6;\n",
              "    }\n",
              "\n",
              "    .colab-df-buttons div {\n",
              "      margin-bottom: 4px;\n",
              "    }\n",
              "\n",
              "    [theme=dark] .colab-df-convert {\n",
              "      background-color: #3B4455;\n",
              "      fill: #D2E3FC;\n",
              "    }\n",
              "\n",
              "    [theme=dark] .colab-df-convert:hover {\n",
              "      background-color: #434B5C;\n",
              "      box-shadow: 0px 1px 3px 1px rgba(0, 0, 0, 0.15);\n",
              "      filter: drop-shadow(0px 1px 2px rgba(0, 0, 0, 0.3));\n",
              "      fill: #FFFFFF;\n",
              "    }\n",
              "  </style>\n",
              "\n",
              "    <script>\n",
              "      const buttonEl =\n",
              "        document.querySelector('#df-d220749b-3110-435f-965b-ee021b1ae62a button.colab-df-convert');\n",
              "      buttonEl.style.display =\n",
              "        google.colab.kernel.accessAllowed ? 'block' : 'none';\n",
              "\n",
              "      async function convertToInteractive(key) {\n",
              "        const element = document.querySelector('#df-d220749b-3110-435f-965b-ee021b1ae62a');\n",
              "        const dataTable =\n",
              "          await google.colab.kernel.invokeFunction('convertToInteractive',\n",
              "                                                    [key], {});\n",
              "        if (!dataTable) return;\n",
              "\n",
              "        const docLinkHtml = 'Like what you see? Visit the ' +\n",
              "          '<a target=\"_blank\" href=https://colab.research.google.com/notebooks/data_table.ipynb>data table notebook</a>'\n",
              "          + ' to learn more about interactive tables.';\n",
              "        element.innerHTML = '';\n",
              "        dataTable['output_type'] = 'display_data';\n",
              "        await google.colab.output.renderOutput(dataTable, element);\n",
              "        const docLink = document.createElement('div');\n",
              "        docLink.innerHTML = docLinkHtml;\n",
              "        element.appendChild(docLink);\n",
              "      }\n",
              "    </script>\n",
              "  </div>\n",
              "\n",
              "\n",
              "<div id=\"df-31ce2d76-f488-40a4-bfb9-6e12c70eae9e\">\n",
              "  <button class=\"colab-df-quickchart\" onclick=\"quickchart('df-31ce2d76-f488-40a4-bfb9-6e12c70eae9e')\"\n",
              "            title=\"Suggest charts\"\n",
              "            style=\"display:none;\">\n",
              "\n",
              "<svg xmlns=\"http://www.w3.org/2000/svg\" height=\"24px\"viewBox=\"0 0 24 24\"\n",
              "     width=\"24px\">\n",
              "    <g>\n",
              "        <path d=\"M19 3H5c-1.1 0-2 .9-2 2v14c0 1.1.9 2 2 2h14c1.1 0 2-.9 2-2V5c0-1.1-.9-2-2-2zM9 17H7v-7h2v7zm4 0h-2V7h2v10zm4 0h-2v-4h2v4z\"/>\n",
              "    </g>\n",
              "</svg>\n",
              "  </button>\n",
              "\n",
              "<style>\n",
              "  .colab-df-quickchart {\n",
              "      --bg-color: #E8F0FE;\n",
              "      --fill-color: #1967D2;\n",
              "      --hover-bg-color: #E2EBFA;\n",
              "      --hover-fill-color: #174EA6;\n",
              "      --disabled-fill-color: #AAA;\n",
              "      --disabled-bg-color: #DDD;\n",
              "  }\n",
              "\n",
              "  [theme=dark] .colab-df-quickchart {\n",
              "      --bg-color: #3B4455;\n",
              "      --fill-color: #D2E3FC;\n",
              "      --hover-bg-color: #434B5C;\n",
              "      --hover-fill-color: #FFFFFF;\n",
              "      --disabled-bg-color: #3B4455;\n",
              "      --disabled-fill-color: #666;\n",
              "  }\n",
              "\n",
              "  .colab-df-quickchart {\n",
              "    background-color: var(--bg-color);\n",
              "    border: none;\n",
              "    border-radius: 50%;\n",
              "    cursor: pointer;\n",
              "    display: none;\n",
              "    fill: var(--fill-color);\n",
              "    height: 32px;\n",
              "    padding: 0;\n",
              "    width: 32px;\n",
              "  }\n",
              "\n",
              "  .colab-df-quickchart:hover {\n",
              "    background-color: var(--hover-bg-color);\n",
              "    box-shadow: 0 1px 2px rgba(60, 64, 67, 0.3), 0 1px 3px 1px rgba(60, 64, 67, 0.15);\n",
              "    fill: var(--button-hover-fill-color);\n",
              "  }\n",
              "\n",
              "  .colab-df-quickchart-complete:disabled,\n",
              "  .colab-df-quickchart-complete:disabled:hover {\n",
              "    background-color: var(--disabled-bg-color);\n",
              "    fill: var(--disabled-fill-color);\n",
              "    box-shadow: none;\n",
              "  }\n",
              "\n",
              "  .colab-df-spinner {\n",
              "    border: 2px solid var(--fill-color);\n",
              "    border-color: transparent;\n",
              "    border-bottom-color: var(--fill-color);\n",
              "    animation:\n",
              "      spin 1s steps(1) infinite;\n",
              "  }\n",
              "\n",
              "  @keyframes spin {\n",
              "    0% {\n",
              "      border-color: transparent;\n",
              "      border-bottom-color: var(--fill-color);\n",
              "      border-left-color: var(--fill-color);\n",
              "    }\n",
              "    20% {\n",
              "      border-color: transparent;\n",
              "      border-left-color: var(--fill-color);\n",
              "      border-top-color: var(--fill-color);\n",
              "    }\n",
              "    30% {\n",
              "      border-color: transparent;\n",
              "      border-left-color: var(--fill-color);\n",
              "      border-top-color: var(--fill-color);\n",
              "      border-right-color: var(--fill-color);\n",
              "    }\n",
              "    40% {\n",
              "      border-color: transparent;\n",
              "      border-right-color: var(--fill-color);\n",
              "      border-top-color: var(--fill-color);\n",
              "    }\n",
              "    60% {\n",
              "      border-color: transparent;\n",
              "      border-right-color: var(--fill-color);\n",
              "    }\n",
              "    80% {\n",
              "      border-color: transparent;\n",
              "      border-right-color: var(--fill-color);\n",
              "      border-bottom-color: var(--fill-color);\n",
              "    }\n",
              "    90% {\n",
              "      border-color: transparent;\n",
              "      border-bottom-color: var(--fill-color);\n",
              "    }\n",
              "  }\n",
              "</style>\n",
              "\n",
              "  <script>\n",
              "    async function quickchart(key) {\n",
              "      const quickchartButtonEl =\n",
              "        document.querySelector('#' + key + ' button');\n",
              "      quickchartButtonEl.disabled = true;  // To prevent multiple clicks.\n",
              "      quickchartButtonEl.classList.add('colab-df-spinner');\n",
              "      try {\n",
              "        const charts = await google.colab.kernel.invokeFunction(\n",
              "            'suggestCharts', [key], {});\n",
              "      } catch (error) {\n",
              "        console.error('Error during call to suggestCharts:', error);\n",
              "      }\n",
              "      quickchartButtonEl.classList.remove('colab-df-spinner');\n",
              "      quickchartButtonEl.classList.add('colab-df-quickchart-complete');\n",
              "    }\n",
              "    (() => {\n",
              "      let quickchartButtonEl =\n",
              "        document.querySelector('#df-31ce2d76-f488-40a4-bfb9-6e12c70eae9e button');\n",
              "      quickchartButtonEl.style.display =\n",
              "        google.colab.kernel.accessAllowed ? 'block' : 'none';\n",
              "    })();\n",
              "  </script>\n",
              "</div>\n",
              "    </div>\n",
              "  </div>\n"
            ],
            "application/vnd.google.colaboratory.intrinsic+json": {
              "type": "dataframe",
              "summary": "{\n  \"name\": \"pd\",\n  \"rows\": 5,\n  \"fields\": [\n    {\n      \"column\": \"Model\",\n      \"properties\": {\n        \"dtype\": \"string\",\n        \"num_unique_values\": 5,\n        \"samples\": [\n          \"model 2\",\n          \"model 5\",\n          \"model 3\"\n        ],\n        \"semantic_type\": \"\",\n        \"description\": \"\"\n      }\n    },\n    {\n      \"column\": \"Accuracy\",\n      \"properties\": {\n        \"dtype\": \"number\",\n        \"std\": 0.17960589030416124,\n        \"min\": 0.5420560747663551,\n        \"max\": 0.9579439252336449,\n        \"num_unique_values\": 5,\n        \"samples\": [\n          0.9485981308411215,\n          0.9579439252336449,\n          0.9252336448598131\n        ],\n        \"semantic_type\": \"\",\n        \"description\": \"\"\n      }\n    }\n  ]\n}"
            }
          },
          "metadata": {},
          "execution_count": 29
        }
      ]
    },
    {
      "cell_type": "markdown",
      "source": [
        "### Se generan las matrices de confusión"
      ],
      "metadata": {
        "id": "vEEzBKZ8P_wa"
      }
    },
    {
      "cell_type": "code",
      "source": [
        "from sklearn.metrics import confusion_matrix\n",
        "\n",
        "confusion_matrix1 = confusion_matrix(y_test, y_pred1)\n",
        "confusion_matrix1"
      ],
      "metadata": {
        "colab": {
          "base_uri": "https://localhost:8080/"
        },
        "id": "_5WrWaRNNA9j",
        "outputId": "273a019f-7148-4416-d71d-f78cae49e732"
      },
      "execution_count": null,
      "outputs": [
        {
          "output_type": "execute_result",
          "data": {
            "text/plain": [
              "array([[111,   5],\n",
              "       [  8,  90]])"
            ]
          },
          "metadata": {},
          "execution_count": 30
        }
      ]
    },
    {
      "cell_type": "code",
      "source": [
        "%matplotlib inline\n",
        "import matplotlib.pyplot as plt\n",
        "import seaborn as sns\n",
        "\n",
        "ax = plt.subplot()\n",
        "sns.heatmap(confusion_matrix1, annot=True, ax = ax, fmt='d')\n",
        "ax.set_xlabel('Predicted labels')\n",
        "ax.set_ylabel('Actual labels')\n",
        "ax.set_title('Confusion Matrix Model 1 - CO2 Emissions')\n",
        "ax.xaxis.set_ticklabels(['Negative=0', 'Positive=1'])\n",
        "ax.yaxis.set_ticklabels(['Negative=0', 'Positive=1']);\n",
        "plt.show();"
      ],
      "metadata": {
        "colab": {
          "base_uri": "https://localhost:8080/",
          "height": 472
        },
        "id": "PJjAlc9fMaOg",
        "outputId": "85be7d6b-d909-402b-83be-57d47e8d2316"
      },
      "execution_count": null,
      "outputs": [
        {
          "output_type": "display_data",
          "data": {
            "text/plain": [
              "<Figure size 640x480 with 2 Axes>"
            ],
            "image/png": "[encoded data removed]"
          },
          "metadata": {}
        }
      ]
    },
    {
      "cell_type": "code",
      "source": [
        "confusion_matrix2 = confusion_matrix(y_test, y_pred2)\n",
        "confusion_matrix2"
      ],
      "metadata": {
        "colab": {
          "base_uri": "https://localhost:8080/"
        },
        "id": "EnwfCmrKNNka",
        "outputId": "b0cabf8a-be40-47c2-d104-69fc9f14e2d9"
      },
      "execution_count": null,
      "outputs": [
        {
          "output_type": "execute_result",
          "data": {
            "text/plain": [
              "array([[109,   7],\n",
              "       [  4,  94]])"
            ]
          },
          "metadata": {},
          "execution_count": 32
        }
      ]
    },
    {
      "cell_type": "code",
      "source": [
        "ax = plt.subplot()\n",
        "sns.heatmap(confusion_matrix2, annot=True, ax = ax, fmt='d')\n",
        "ax.set_xlabel('Predicted labels')\n",
        "ax.set_ylabel('Actual labels')\n",
        "ax.set_title('Confusion Matrix Model 2 - CO2 Emissions')\n",
        "ax.xaxis.set_ticklabels(['Negative=0', 'Positive=1'])\n",
        "ax.yaxis.set_ticklabels(['Negative=0', 'Positive=1']);\n",
        "plt.show();"
      ],
      "metadata": {
        "colab": {
          "base_uri": "https://localhost:8080/",
          "height": 472
        },
        "id": "jcvLuHquNjiG",
        "outputId": "266d6f83-a871-44d0-f070-23fd47e330f3"
      },
      "execution_count": null,
      "outputs": [
        {
          "output_type": "display_data",
          "data": {
            "text/plain": [
              "<Figure size 640x480 with 2 Axes>"
            ],
            "image/png": "[encoded data removed]"
          },
          "metadata": {}
        }
      ]
    },
    {
      "cell_type": "code",
      "source": [
        "confusion_matrix3 = confusion_matrix(y_test, y_pred3)\n",
        "confusion_matrix3"
      ],
      "metadata": {
        "colab": {
          "base_uri": "https://localhost:8080/"
        },
        "id": "LZOW6GMnNuXH",
        "outputId": "d9f29b81-3628-443f-f359-f4584dd5de4d"
      },
      "execution_count": null,
      "outputs": [
        {
          "output_type": "execute_result",
          "data": {
            "text/plain": [
              "array([[110,   6],\n",
              "       [ 10,  88]])"
            ]
          },
          "metadata": {},
          "execution_count": 34
        }
      ]
    },
    {
      "cell_type": "code",
      "source": [
        "ax = plt.subplot()\n",
        "sns.heatmap(confusion_matrix3, annot=True, ax = ax, fmt='d')\n",
        "ax.set_xlabel('Predicted labels')\n",
        "ax.set_ylabel('Actual labels')\n",
        "ax.set_title('Confusion Matrix Model 3 - CO2 Emissions')\n",
        "ax.xaxis.set_ticklabels(['Negative=0', 'Positive=1'])\n",
        "ax.yaxis.set_ticklabels(['Negative=0', 'Positive=1']);\n",
        "plt.show();"
      ],
      "metadata": {
        "colab": {
          "base_uri": "https://localhost:8080/",
          "height": 472
        },
        "id": "T9_3kaSBNzAY",
        "outputId": "1dc597cf-8ade-44d3-ed41-5a22609e0775"
      },
      "execution_count": null,
      "outputs": [
        {
          "output_type": "display_data",
          "data": {
            "text/plain": [
              "<Figure size 640x480 with 2 Axes>"
            ],
            "image/png": "[encoded data removed]"
          },
          "metadata": {}
        }
      ]
    },
    {
      "cell_type": "code",
      "source": [
        "confusion_matrix4 = confusion_matrix(y_test, y_pred4)\n",
        "confusion_matrix4"
      ],
      "metadata": {
        "colab": {
          "base_uri": "https://localhost:8080/"
        },
        "id": "JXk9Gv8zN5HQ",
        "outputId": "142a974c-cf70-4e86-c1b2-60ab48aadd23"
      },
      "execution_count": null,
      "outputs": [
        {
          "output_type": "execute_result",
          "data": {
            "text/plain": [
              "array([[116,   0],\n",
              "       [ 98,   0]])"
            ]
          },
          "metadata": {},
          "execution_count": 36
        }
      ]
    },
    {
      "cell_type": "code",
      "source": [
        "ax = plt.subplot()\n",
        "sns.heatmap(confusion_matrix4, annot=True, ax = ax, fmt='d')\n",
        "ax.set_xlabel('Predicted labels')\n",
        "ax.set_ylabel('Actual labels')\n",
        "ax.set_title('Confusion Matrix Model 4 - CO2 Emissions')\n",
        "ax.xaxis.set_ticklabels(['Negative=0', 'Positive=1'])\n",
        "ax.yaxis.set_ticklabels(['Negative=0', 'Positive=1']);\n",
        "plt.show();"
      ],
      "metadata": {
        "colab": {
          "base_uri": "https://localhost:8080/",
          "height": 472
        },
        "id": "f4Rsfe7oN_0r",
        "outputId": "9d891c2b-044c-487a-b813-341dcf50abf8"
      },
      "execution_count": null,
      "outputs": [
        {
          "output_type": "display_data",
          "data": {
            "text/plain": [
              "<Figure size 640x480 with 2 Axes>"
            ],
            "image/png": "[encoded data removed]"
          },
          "metadata": {}
        }
      ]
    },
    {
      "cell_type": "code",
      "source": [
        "confusion_matrix5 = confusion_matrix(y_test, y_pred5)\n",
        "confusion_matrix5"
      ],
      "metadata": {
        "colab": {
          "base_uri": "https://localhost:8080/"
        },
        "id": "EVEwQZJ0OFWJ",
        "outputId": "dcbf6832-dcd2-4fb2-95ef-465b562751d8"
      },
      "execution_count": null,
      "outputs": [
        {
          "output_type": "execute_result",
          "data": {
            "text/plain": [
              "array([[110,   6],\n",
              "       [  3,  95]])"
            ]
          },
          "metadata": {},
          "execution_count": 38
        }
      ]
    },
    {
      "cell_type": "code",
      "source": [
        "ax = plt.subplot()\n",
        "sns.heatmap(confusion_matrix5, annot=True, ax = ax, fmt='d')\n",
        "ax.set_xlabel('Predicted labels')\n",
        "ax.set_ylabel('Actual labels')\n",
        "ax.set_title('Confusion Matrix Model 5 - CO2 Emissions')\n",
        "ax.xaxis.set_ticklabels(['Negative=0', 'Positive=1'])\n",
        "ax.yaxis.set_ticklabels(['Negative=0', 'Positive=1']);\n",
        "plt.show();"
      ],
      "metadata": {
        "colab": {
          "base_uri": "https://localhost:8080/",
          "height": 472
        },
        "id": "t7DM1Z_eOKgC",
        "outputId": "c13a5202-ff93-4a37-872e-ff1f0954d198"
      },
      "execution_count": null,
      "outputs": [
        {
          "output_type": "display_data",
          "data": {
            "text/plain": [
              "<Figure size 640x480 with 2 Axes>"
            ],
            "image/png": "[encoded data removed]"
          },
          "metadata": {}
        }
      ]
    },
    {
      "cell_type": "markdown",
      "source": [
        "## 5) Hiperparametros que permiten mejor accuracy"
      ],
      "metadata": {
        "id": "_OXboeXPV60v"
      }
    },
    {
      "cell_type": "markdown",
      "source": [
        "el modelo 5 cuenta con los hiperparámetros que permiten mejor accuracy en este caso, los cuales son:\n",
        "\n",
        "- activation : tanh\n",
        "- solver : lbfgs\n",
        "- hidden_layer_sizes : 25,5,19,2\n"
      ],
      "metadata": {
        "id": "_0fW7UQdWs-u"
      }
    },
    {
      "cell_type": "markdown",
      "source": [
        "## 6) Se varía otro hiperparámetro (alpha)"
      ],
      "metadata": {
        "id": "BFgAhYnJWKdx"
      }
    },
    {
      "cell_type": "code",
      "source": [
        "modelo6 = MLPClassifier(activation='tanh',solver='lbfgs',hidden_layer_sizes=(25,5,19,2), random_state=123, alpha=0.5)\n",
        "modelo6.fit(X_train, y_train)\n",
        "scores6 = cross_val_score(modelo5, X_train, y_train, cv=5, scoring='accuracy')\n",
        "print(scores6)\n",
        "scores6.mean()"
      ],
      "metadata": {
        "colab": {
          "base_uri": "https://localhost:8080/"
        },
        "id": "9kvEQT6lcSzl",
        "outputId": "b0938d8c-2f38-4451-ce4e-01816ff68c07",
        "collapsed": true
      },
      "execution_count": null,
      "outputs": [
        {
          "output_type": "stream",
          "name": "stdout",
          "text": [
            "[0.98245614 0.97076023 0.96491228 0.98235294 0.97647059]\n"
          ]
        },
        {
          "output_type": "execute_result",
          "data": {
            "text/plain": [
              "0.975390436876505"
            ]
          },
          "metadata": {},
          "execution_count": 54
        }
      ]
    },
    {
      "cell_type": "code",
      "source": [
        "modelo7 = MLPClassifier(activation='tanh',solver='lbfgs',hidden_layer_sizes=(25,5,19,2), random_state=123, alpha=8.2)\n",
        "modelo7.fit(X_train, y_train)\n",
        "scores7 = cross_val_score(modelo5, X_train, y_train, cv=5, scoring='accuracy')\n",
        "print(scores6)\n",
        "scores6.mean()"
      ],
      "metadata": {
        "colab": {
          "base_uri": "https://localhost:8080/"
        },
        "id": "5GY45loedTYG",
        "outputId": "815fccd8-7ee5-4f1b-de35-525758666ab2"
      },
      "execution_count": null,
      "outputs": [
        {
          "output_type": "stream",
          "name": "stdout",
          "text": [
            "[0.98245614 0.97076023 0.96491228 0.98235294 0.97647059]\n"
          ]
        },
        {
          "output_type": "execute_result",
          "data": {
            "text/plain": [
              "0.975390436876505"
            ]
          },
          "metadata": {},
          "execution_count": 57
        }
      ]
    },
    {
      "cell_type": "code",
      "source": [
        "y_pred6 = modelo6.predict(X_test)\n",
        "y_pred6"
      ],
      "metadata": {
        "colab": {
          "base_uri": "https://localhost:8080/"
        },
        "id": "zrA74VHSenfy",
        "outputId": "e6d93179-2f5e-4756-e168-3d6a961a83b9"
      },
      "execution_count": null,
      "outputs": [
        {
          "output_type": "execute_result",
          "data": {
            "text/plain": [
              "array([0, 0, 0, 0, 0, 1, 1, 1, 1, 0, 1, 1, 0, 0, 1, 1, 0, 0, 0, 1, 0, 0,\n",
              "       1, 1, 1, 1, 1, 1, 0, 0, 0, 0, 1, 0, 0, 1, 0, 0, 0, 0, 0, 0, 1, 0,\n",
              "       1, 0, 1, 1, 0, 1, 1, 0, 0, 1, 1, 1, 1, 0, 0, 0, 0, 1, 0, 1, 1, 1,\n",
              "       0, 0, 0, 1, 1, 0, 1, 0, 0, 0, 1, 1, 0, 0, 0, 0, 0, 1, 1, 1, 1, 1,\n",
              "       0, 0, 0, 0, 1, 1, 1, 1, 1, 0, 1, 0, 0, 1, 1, 1, 1, 1, 0, 1, 0, 1,\n",
              "       0, 0, 0, 0, 1, 0, 0, 0, 1, 0, 0, 0, 1, 1, 0, 1, 0, 0, 1, 1, 0, 1,\n",
              "       0, 1, 1, 1, 1, 0, 0, 1, 0, 0, 1, 1, 0, 0, 0, 0, 1, 1, 1, 0, 1, 1,\n",
              "       0, 0, 1, 0, 1, 1, 0, 1, 1, 0, 0, 1, 1, 0, 0, 1, 1, 0, 1, 1, 0, 1,\n",
              "       1, 0, 0, 0, 0, 1, 1, 0, 0, 1, 0, 0, 1, 0, 0, 1, 0, 1, 0, 0, 0, 0,\n",
              "       0, 1, 0, 0, 0, 0, 1, 1, 1, 0, 1, 0, 0, 1, 1, 1])"
            ]
          },
          "metadata": {},
          "execution_count": 58
        }
      ]
    },
    {
      "cell_type": "code",
      "source": [
        "y_pred7 = modelo7.predict(X_test)\n",
        "y_pred7"
      ],
      "metadata": {
        "colab": {
          "base_uri": "https://localhost:8080/"
        },
        "id": "MxrvxHSBeuV5",
        "outputId": "cff84202-4b26-4a5e-bb8a-be866f62b741"
      },
      "execution_count": null,
      "outputs": [
        {
          "output_type": "execute_result",
          "data": {
            "text/plain": [
              "array([0, 0, 0, 0, 0, 1, 1, 1, 1, 0, 1, 1, 0, 0, 1, 1, 0, 0, 0, 1, 0, 0,\n",
              "       1, 1, 1, 1, 1, 1, 0, 0, 0, 0, 1, 0, 0, 1, 0, 0, 0, 0, 0, 0, 1, 0,\n",
              "       1, 0, 1, 1, 0, 1, 1, 0, 0, 1, 1, 1, 1, 0, 0, 0, 0, 1, 0, 1, 1, 1,\n",
              "       0, 0, 0, 1, 1, 0, 1, 0, 0, 0, 1, 1, 0, 0, 0, 0, 0, 1, 1, 1, 1, 1,\n",
              "       0, 0, 0, 0, 1, 1, 1, 1, 1, 0, 1, 0, 0, 1, 1, 1, 1, 1, 0, 1, 0, 1,\n",
              "       0, 0, 0, 0, 1, 0, 0, 0, 1, 0, 0, 0, 1, 1, 0, 1, 0, 0, 1, 1, 0, 1,\n",
              "       0, 1, 1, 1, 1, 0, 0, 1, 0, 0, 1, 1, 0, 0, 0, 0, 1, 1, 1, 0, 1, 1,\n",
              "       0, 0, 1, 0, 1, 1, 0, 1, 1, 0, 0, 1, 1, 0, 0, 1, 1, 0, 1, 1, 0, 1,\n",
              "       1, 0, 0, 0, 0, 1, 1, 0, 0, 1, 0, 0, 1, 0, 0, 1, 0, 1, 0, 0, 0, 0,\n",
              "       0, 1, 0, 0, 0, 0, 1, 1, 1, 0, 1, 0, 0, 1, 1, 1])"
            ]
          },
          "metadata": {},
          "execution_count": 59
        }
      ]
    },
    {
      "cell_type": "code",
      "source": [
        "accuracy6 = accuracy_score(y_test, y_pred6)\n",
        "accuracy6"
      ],
      "metadata": {
        "colab": {
          "base_uri": "https://localhost:8080/"
        },
        "id": "odDgufAGeYor",
        "outputId": "6d987ca9-f433-4969-aa41-b8ca0fd8b1a4"
      },
      "execution_count": null,
      "outputs": [
        {
          "output_type": "execute_result",
          "data": {
            "text/plain": [
              "0.9579439252336449"
            ]
          },
          "metadata": {},
          "execution_count": 60
        }
      ]
    },
    {
      "cell_type": "code",
      "source": [
        "accuracy7 = accuracy_score(y_test, y_pred7)\n",
        "accuracy7"
      ],
      "metadata": {
        "colab": {
          "base_uri": "https://localhost:8080/"
        },
        "id": "_TNG95D5e2Ji",
        "outputId": "486e7e65-2362-4ecf-e038-d4d8519ae7d6"
      },
      "execution_count": null,
      "outputs": [
        {
          "output_type": "execute_result",
          "data": {
            "text/plain": [
              "0.9579439252336449"
            ]
          },
          "metadata": {},
          "execution_count": 61
        }
      ]
    },
    {
      "cell_type": "code",
      "source": [
        "accuracies = {\n",
        "    \"Model\": [\"model 5\", \"model 6\", \"model 7\"],\n",
        "    \"Accuracy\": [accuracy5, accuracy6, accuracy7]\n",
        "}\n",
        "pd.DataFrame(accuracies)"
      ],
      "metadata": {
        "colab": {
          "base_uri": "https://localhost:8080/",
          "height": 143
        },
        "id": "DaAdztA6e7pO",
        "outputId": "5266fd7c-3be1-434d-9967-cf5ff3ac98a5"
      },
      "execution_count": null,
      "outputs": [
        {
          "output_type": "execute_result",
          "data": {
            "text/plain": [
              "     Model  Accuracy\n",
              "0  model 5  0.957944\n",
              "1  model 6  0.957944\n",
              "2  model 7  0.957944"
            ],
            "text/html": [
              "\n",
              "  <div id=\"df-eaec9fc0-921d-4459-b86e-cec5fc9b0d39\" class=\"colab-df-container\">\n",
              "    <div>\n",
              "<style scoped>\n",
              "    .dataframe tbody tr th:only-of-type {\n",
              "        vertical-align: middle;\n",
              "    }\n",
              "\n",
              "    .dataframe tbody tr th {\n",
              "        vertical-align: top;\n",
              "    }\n",
              "\n",
              "    .dataframe thead th {\n",
              "        text-align: right;\n",
              "    }\n",
              "</style>\n",
              "<table border=\"1\" class=\"dataframe\">\n",
              "  <thead>\n",
              "    <tr style=\"text-align: right;\">\n",
              "      <th></th>\n",
              "      <th>Model</th>\n",
              "      <th>Accuracy</th>\n",
              "    </tr>\n",
              "  </thead>\n",
              "  <tbody>\n",
              "    <tr>\n",
              "      <th>0</th>\n",
              "      <td>model 5</td>\n",
              "      <td>0.957944</td>\n",
              "    </tr>\n",
              "    <tr>\n",
              "      <th>1</th>\n",
              "      <td>model 6</td>\n",
              "      <td>0.957944</td>\n",
              "    </tr>\n",
              "    <tr>\n",
              "      <th>2</th>\n",
              "      <td>model 7</td>\n",
              "      <td>0.957944</td>\n",
              "    </tr>\n",
              "  </tbody>\n",
              "</table>\n",
              "</div>\n",
              "    <div class=\"colab-df-buttons\">\n",
              "\n",
              "  <div class=\"colab-df-container\">\n",
              "    <button class=\"colab-df-convert\" onclick=\"convertToInteractive('df-eaec9fc0-921d-4459-b86e-cec5fc9b0d39')\"\n",
              "            title=\"Convert this dataframe to an interactive table.\"\n",
              "            style=\"display:none;\">\n",
              "\n",
              "  <svg xmlns=\"http://www.w3.org/2000/svg\" height=\"24px\" viewBox=\"0 -960 960 960\">\n",
              "    <path d=\"M120-120v-720h720v720H120Zm60-500h600v-160H180v160Zm220 220h160v-160H400v160Zm0 220h160v-160H400v160ZM180-400h160v-160H180v160Zm440 0h160v-160H620v160ZM180-180h160v-160H180v160Zm440 0h160v-160H620v160Z\"/>\n",
              "  </svg>\n",
              "    </button>\n",
              "\n",
              "  <style>\n",
              "    .colab-df-container {\n",
              "      display:flex;\n",
              "      gap: 12px;\n",
              "    }\n",
              "\n",
              "    .colab-df-convert {\n",
              "      background-color: #E8F0FE;\n",
              "      border: none;\n",
              "      border-radius: 50%;\n",
              "      cursor: pointer;\n",
              "      display: none;\n",
              "      fill: #1967D2;\n",
              "      height: 32px;\n",
              "      padding: 0 0 0 0;\n",
              "      width: 32px;\n",
              "    }\n",
              "\n",
              "    .colab-df-convert:hover {\n",
              "      background-color: #E2EBFA;\n",
              "      box-shadow: 0px 1px 2px rgba(60, 64, 67, 0.3), 0px 1px 3px 1px rgba(60, 64, 67, 0.15);\n",
              "      fill: #174EA6;\n",
              "    }\n",
              "\n",
              "    .colab-df-buttons div {\n",
              "      margin-bottom: 4px;\n",
              "    }\n",
              "\n",
              "    [theme=dark] .colab-df-convert {\n",
              "      background-color: #3B4455;\n",
              "      fill: #D2E3FC;\n",
              "    }\n",
              "\n",
              "    [theme=dark] .colab-df-convert:hover {\n",
              "      background-color: #434B5C;\n",
              "      box-shadow: 0px 1px 3px 1px rgba(0, 0, 0, 0.15);\n",
              "      filter: drop-shadow(0px 1px 2px rgba(0, 0, 0, 0.3));\n",
              "      fill: #FFFFFF;\n",
              "    }\n",
              "  </style>\n",
              "\n",
              "    <script>\n",
              "      const buttonEl =\n",
              "        document.querySelector('#df-eaec9fc0-921d-4459-b86e-cec5fc9b0d39 button.colab-df-convert');\n",
              "      buttonEl.style.display =\n",
              "        google.colab.kernel.accessAllowed ? 'block' : 'none';\n",
              "\n",
              "      async function convertToInteractive(key) {\n",
              "        const element = document.querySelector('#df-eaec9fc0-921d-4459-b86e-cec5fc9b0d39');\n",
              "        const dataTable =\n",
              "          await google.colab.kernel.invokeFunction('convertToInteractive',\n",
              "                                                    [key], {});\n",
              "        if (!dataTable) return;\n",
              "\n",
              "        const docLinkHtml = 'Like what you see? Visit the ' +\n",
              "          '<a target=\"_blank\" href=https://colab.research.google.com/notebooks/data_table.ipynb>data table notebook</a>'\n",
              "          + ' to learn more about interactive tables.';\n",
              "        element.innerHTML = '';\n",
              "        dataTable['output_type'] = 'display_data';\n",
              "        await google.colab.output.renderOutput(dataTable, element);\n",
              "        const docLink = document.createElement('div');\n",
              "        docLink.innerHTML = docLinkHtml;\n",
              "        element.appendChild(docLink);\n",
              "      }\n",
              "    </script>\n",
              "  </div>\n",
              "\n",
              "\n",
              "<div id=\"df-97afda9a-4ff4-48a1-93c9-cdd3fbdca358\">\n",
              "  <button class=\"colab-df-quickchart\" onclick=\"quickchart('df-97afda9a-4ff4-48a1-93c9-cdd3fbdca358')\"\n",
              "            title=\"Suggest charts\"\n",
              "            style=\"display:none;\">\n",
              "\n",
              "<svg xmlns=\"http://www.w3.org/2000/svg\" height=\"24px\"viewBox=\"0 0 24 24\"\n",
              "     width=\"24px\">\n",
              "    <g>\n",
              "        <path d=\"M19 3H5c-1.1 0-2 .9-2 2v14c0 1.1.9 2 2 2h14c1.1 0 2-.9 2-2V5c0-1.1-.9-2-2-2zM9 17H7v-7h2v7zm4 0h-2V7h2v10zm4 0h-2v-4h2v4z\"/>\n",
              "    </g>\n",
              "</svg>\n",
              "  </button>\n",
              "\n",
              "<style>\n",
              "  .colab-df-quickchart {\n",
              "      --bg-color: #E8F0FE;\n",
              "      --fill-color: #1967D2;\n",
              "      --hover-bg-color: #E2EBFA;\n",
              "      --hover-fill-color: #174EA6;\n",
              "      --disabled-fill-color: #AAA;\n",
              "      --disabled-bg-color: #DDD;\n",
              "  }\n",
              "\n",
              "  [theme=dark] .colab-df-quickchart {\n",
              "      --bg-color: #3B4455;\n",
              "      --fill-color: #D2E3FC;\n",
              "      --hover-bg-color: #434B5C;\n",
              "      --hover-fill-color: #FFFFFF;\n",
              "      --disabled-bg-color: #3B4455;\n",
              "      --disabled-fill-color: #666;\n",
              "  }\n",
              "\n",
              "  .colab-df-quickchart {\n",
              "    background-color: var(--bg-color);\n",
              "    border: none;\n",
              "    border-radius: 50%;\n",
              "    cursor: pointer;\n",
              "    display: none;\n",
              "    fill: var(--fill-color);\n",
              "    height: 32px;\n",
              "    padding: 0;\n",
              "    width: 32px;\n",
              "  }\n",
              "\n",
              "  .colab-df-quickchart:hover {\n",
              "    background-color: var(--hover-bg-color);\n",
              "    box-shadow: 0 1px 2px rgba(60, 64, 67, 0.3), 0 1px 3px 1px rgba(60, 64, 67, 0.15);\n",
              "    fill: var(--button-hover-fill-color);\n",
              "  }\n",
              "\n",
              "  .colab-df-quickchart-complete:disabled,\n",
              "  .colab-df-quickchart-complete:disabled:hover {\n",
              "    background-color: var(--disabled-bg-color);\n",
              "    fill: var(--disabled-fill-color);\n",
              "    box-shadow: none;\n",
              "  }\n",
              "\n",
              "  .colab-df-spinner {\n",
              "    border: 2px solid var(--fill-color);\n",
              "    border-color: transparent;\n",
              "    border-bottom-color: var(--fill-color);\n",
              "    animation:\n",
              "      spin 1s steps(1) infinite;\n",
              "  }\n",
              "\n",
              "  @keyframes spin {\n",
              "    0% {\n",
              "      border-color: transparent;\n",
              "      border-bottom-color: var(--fill-color);\n",
              "      border-left-color: var(--fill-color);\n",
              "    }\n",
              "    20% {\n",
              "      border-color: transparent;\n",
              "      border-left-color: var(--fill-color);\n",
              "      border-top-color: var(--fill-color);\n",
              "    }\n",
              "    30% {\n",
              "      border-color: transparent;\n",
              "      border-left-color: var(--fill-color);\n",
              "      border-top-color: var(--fill-color);\n",
              "      border-right-color: var(--fill-color);\n",
              "    }\n",
              "    40% {\n",
              "      border-color: transparent;\n",
              "      border-right-color: var(--fill-color);\n",
              "      border-top-color: var(--fill-color);\n",
              "    }\n",
              "    60% {\n",
              "      border-color: transparent;\n",
              "      border-right-color: var(--fill-color);\n",
              "    }\n",
              "    80% {\n",
              "      border-color: transparent;\n",
              "      border-right-color: var(--fill-color);\n",
              "      border-bottom-color: var(--fill-color);\n",
              "    }\n",
              "    90% {\n",
              "      border-color: transparent;\n",
              "      border-bottom-color: var(--fill-color);\n",
              "    }\n",
              "  }\n",
              "</style>\n",
              "\n",
              "  <script>\n",
              "    async function quickchart(key) {\n",
              "      const quickchartButtonEl =\n",
              "        document.querySelector('#' + key + ' button');\n",
              "      quickchartButtonEl.disabled = true;  // To prevent multiple clicks.\n",
              "      quickchartButtonEl.classList.add('colab-df-spinner');\n",
              "      try {\n",
              "        const charts = await google.colab.kernel.invokeFunction(\n",
              "            'suggestCharts', [key], {});\n",
              "      } catch (error) {\n",
              "        console.error('Error during call to suggestCharts:', error);\n",
              "      }\n",
              "      quickchartButtonEl.classList.remove('colab-df-spinner');\n",
              "      quickchartButtonEl.classList.add('colab-df-quickchart-complete');\n",
              "    }\n",
              "    (() => {\n",
              "      let quickchartButtonEl =\n",
              "        document.querySelector('#df-97afda9a-4ff4-48a1-93c9-cdd3fbdca358 button');\n",
              "      quickchartButtonEl.style.display =\n",
              "        google.colab.kernel.accessAllowed ? 'block' : 'none';\n",
              "    })();\n",
              "  </script>\n",
              "</div>\n",
              "    </div>\n",
              "  </div>\n"
            ],
            "application/vnd.google.colaboratory.intrinsic+json": {
              "type": "dataframe",
              "summary": "{\n  \"name\": \"pd\",\n  \"rows\": 3,\n  \"fields\": [\n    {\n      \"column\": \"Model\",\n      \"properties\": {\n        \"dtype\": \"string\",\n        \"num_unique_values\": 3,\n        \"samples\": [\n          \"model 5\",\n          \"model 6\",\n          \"model 7\"\n        ],\n        \"semantic_type\": \"\",\n        \"description\": \"\"\n      }\n    },\n    {\n      \"column\": \"Accuracy\",\n      \"properties\": {\n        \"dtype\": \"number\",\n        \"std\": 0.0,\n        \"min\": 0.9579439252336449,\n        \"max\": 0.9579439252336449,\n        \"num_unique_values\": 1,\n        \"samples\": [\n          0.9579439252336449\n        ],\n        \"semantic_type\": \"\",\n        \"description\": \"\"\n      }\n    }\n  ]\n}"
            }
          },
          "metadata": {},
          "execution_count": 62
        }
      ]
    },
    {
      "cell_type": "markdown",
      "source": [
        "### Análisis sobre el nuevo comportamiento"
      ],
      "metadata": {
        "id": "MuH6NBfCWSyt"
      }
    },
    {
      "cell_type": "markdown",
      "source": [
        "Se escogió el hiperparámetro 'alpha' ya que al investigar en la documentación de Scikit, este es el único hiperparámetro con cierta relevancia para el solver 'lbfgs', siendo otros como el 'learning_rate' exclusivos la mayoría, para 'sgd' o 'adam'.\n",
        "\n",
        "De esta manera, tras entrenar otros modelos y hacer pruebas con varios valores distintos para alpha, no existe ninguna alteración en los resultados y comportamiento de la red, llegando a los mismos valores de precisión que obtenía previamente.\n",
        "\n",
        "Fuera de esta última sección, se vuelve interesante una observación particular en los entrenamientos iniciales, más específicamente en el modelo 4 (funcion 'logistic', solver 'sgd', hidden_layer_sizes '3,10,15'),\n",
        "ya que realizó una predicción en la que todos los vehículos serían de baja emisión, lo cual podría atribuirse principalmente a la función de activación.\n",
        "\n",
        "En general, se observó un comportamiento correcto y un buen rendimiento de los modelos entrenados a la hora de comparar sus predicciones con los valores reales sobre las emisiones de los vehículos, dejando en evidencia el gran potencial de esta clase de técnicas y herramientas."
      ],
      "metadata": {
        "id": "cfMLzeRpaPcS"
      }
    }
  ],
  "metadata": {
    "colab": {
      "provenance": [],
      "include_colab_link": true
    },
    "kernelspec": {
      "display_name": "Python 3",
      "name": "python3"
    },
    "language_info": {
      "name": "python"
    }
  },
  "nbformat": 4,
  "nbformat_minor": 0
}