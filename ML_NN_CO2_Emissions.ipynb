{
  "cells": [
    {
      "cell_type": "markdown",
      "metadata": {
        "id": "view-in-github",
        "colab_type": "text"
      },
      "source": [
        "<a href=\"https://colab.research.google.com/github/Carlosmtp/ML-CO2-Emissions/blob/main/ML_NN_CO2_Emissions.ipynb\" target=\"_parent\"><img src=\"https://colab.research.google.com/assets/colab-badge.svg\" alt=\"Open In Colab\"/></a>"
      ]
    },
    {
      "cell_type": "markdown",
      "metadata": {
        "id": "T0iM5wEjzwaz"
      },
      "source": [
        "#Informe Machine Learning *C02 Emissions* (redes neuronales) 🚗💨\n",
        "\n",
        "#### *Carlos Mauricio Tovar Parra - 1741699*\n",
        "#### *Santiago Duque Chacón - 2180099*\n",
        "---"
      ]
    },
    {
      "cell_type": "markdown",
      "metadata": {
        "id": "bH0lcnSiy0_W"
      },
      "source": [
        "### Resumen\n",
        "\n",
        "El presente informe, se centra en la experimentación con técnicas de machine learning para predecir las emisiones de dióxido de carbono (CO2) en vehículos. Utilizando un conjunto de datos de 1067 vehículos, el informe desarrolla modelos predictivos basados en las características de los vehículos: tamaño del motor (ENGINESIZE), cantidad de cilindros (CYLINDERS), consumo de combustible en ciudad (FUELCONSUMPTION_CITY) y en carretera (FUELCONSUMPTION_HWY). La variable objetivo es CO2EMISSIONS, clasificada en bajas (0) y altas (1) emisiones.\n",
        "\n",
        "El objetivo del informe es implementar redes neuronales, probando diferentes topologías y ajustando los hiperparámetros para optimizar la predicción de emisiones.\n",
        "\n",
        "*Tabla de atributos:*\n",
        "\n",
        "| Número | Atributo                   | Descripción                                                        |\n",
        "|--------|----------------------------|--------------------------------------------------------------------|\n",
        "| 1      | ENGINESIZE                 | Tamaño del motor en litros                                         |\n",
        "| 2      | CYLINDERS                  | Cantidad de cilindros que posee el motor                           |\n",
        "| 3      | FUELCONSUMPTION_CITY       | Consumo de combustible del vehículo en zona urbana (L/100 km)      |\n",
        "| 4      | FUELCONSUMPTION_HWY        | Consumo de combustible del vehículo en zona extraurbana (L/100 km) |\n",
        "| 5      | CO2EMISSIONS               | Emisiones de CO2 del vehículo (0: Bajas, 1: Altas)                 |\n",
        "\n",
        "\n",
        "*Ejemplo instancia de datos:*\n",
        "\n",
        "| Atributo | 1   | 2  | 3    | 4   | 5 |\n",
        "|----------|-----|----|------|-----|---|\n",
        "| Valor    | 3.7 | 6  | 13.4 | 9.5 | 1 |\n",
        "\n",
        "\n",
        "*Librerías Usadas:*\n",
        "- numpy\n",
        "- pandas\n",
        "- sklearn"
      ]
    },
    {
      "cell_type": "code",
      "execution_count": null,
      "metadata": {
        "id": "zqD-xXsB6aR_"
      },
      "outputs": [],
      "source": [
        "import numpy as np\n",
        "import pandas as pd\n",
        "import sklearn"
      ]
    },
    {
      "cell_type": "markdown",
      "metadata": {
        "id": "EYZblRvn71s1"
      },
      "source": [
        "### 1) Se lee el archivo"
      ]
    },
    {
      "cell_type": "code",
      "execution_count": null,
      "metadata": {
        "colab": {
          "base_uri": "https://localhost:8080/"
        },
        "id": "M2SveSvZ7vu3",
        "outputId": "b21fef6e-cccd-4bc5-9a96-1eb000661451"
      },
      "outputs": [
        {
          "output_type": "stream",
          "name": "stdout",
          "text": [
            "<class 'pandas.core.frame.DataFrame'>\n",
            "RangeIndex: 1067 entries, 0 to 1066\n",
            "Data columns (total 5 columns):\n",
            " #   Column                Non-Null Count  Dtype  \n",
            "---  ------                --------------  -----  \n",
            " 0   ENGINESIZE            1067 non-null   float64\n",
            " 1   CYLINDERS             1067 non-null   int64  \n",
            " 2   FUELCONSUMPTION_CITY  1067 non-null   float64\n",
            " 3   FUELCONSUMPTION_HWY   1067 non-null   float64\n",
            " 4   CO2EMISSIONS          1067 non-null   int64  \n",
            "dtypes: float64(3), int64(2)\n",
            "memory usage: 41.8 KB\n"
          ]
        }
      ],
      "source": [
        "dataset_url = (\"https://raw.githubusercontent.com/Carlosmtp/ML-CO2-Emissions/main/CO2%20emissions%20data.csv\")\n",
        "dataset = pd.read_csv(dataset_url, sep=\",\")\n",
        "dataset.columns = [\"ENGINESIZE\",\t\"CYLINDERS\",\t\"FUELCONSUMPTION_CITY\",\t\"FUELCONSUMPTION_HWY\",\t\"CO2EMISSIONS\"]\n",
        "dataset.info()"
      ]
    },
    {
      "cell_type": "markdown",
      "metadata": {
        "id": "WzUKWbBZ8ure"
      },
      "source": [
        "*Variables cuantitativas continuas:*"
      ]
    },
    {
      "cell_type": "code",
      "execution_count": null,
      "metadata": {
        "colab": {
          "base_uri": "https://localhost:8080/",
          "height": 300
        },
        "id": "8Nf1U9aA9Mx7",
        "outputId": "fb7b6d77-a073-437a-e36b-d8b952a792c2"
      },
      "outputs": [
        {
          "output_type": "execute_result",
          "data": {
            "text/plain": [
              "        ENGINESIZE  FUELCONSUMPTION_CITY  FUELCONSUMPTION_HWY\n",
              "count  1067.000000           1067.000000          1067.000000\n",
              "mean      3.346298             13.296532             9.474602\n",
              "std       1.415895              4.101253             2.794510\n",
              "min       1.000000              4.600000             4.900000\n",
              "25%       2.000000             10.250000             7.500000\n",
              "50%       3.400000             12.600000             8.800000\n",
              "75%       4.300000             15.550000            10.850000\n",
              "max       8.400000             30.200000            20.500000"
            ],
            "text/html": [
              "\n",
              "  <div id=\"df-7948b48d-d4f8-4cef-90f7-54f54a44c890\" class=\"colab-df-container\">\n",
              "    <div>\n",
              "<style scoped>\n",
              "    .dataframe tbody tr th:only-of-type {\n",
              "        vertical-align: middle;\n",
              "    }\n",
              "\n",
              "    .dataframe tbody tr th {\n",
              "        vertical-align: top;\n",
              "    }\n",
              "\n",
              "    .dataframe thead th {\n",
              "        text-align: right;\n",
              "    }\n",
              "</style>\n",
              "<table border=\"1\" class=\"dataframe\">\n",
              "  <thead>\n",
              "    <tr style=\"text-align: right;\">\n",
              "      <th></th>\n",
              "      <th>ENGINESIZE</th>\n",
              "      <th>FUELCONSUMPTION_CITY</th>\n",
              "      <th>FUELCONSUMPTION_HWY</th>\n",
              "    </tr>\n",
              "  </thead>\n",
              "  <tbody>\n",
              "    <tr>\n",
              "      <th>count</th>\n",
              "      <td>1067.000000</td>\n",
              "      <td>1067.000000</td>\n",
              "      <td>1067.000000</td>\n",
              "    </tr>\n",
              "    <tr>\n",
              "      <th>mean</th>\n",
              "      <td>3.346298</td>\n",
              "      <td>13.296532</td>\n",
              "      <td>9.474602</td>\n",
              "    </tr>\n",
              "    <tr>\n",
              "      <th>std</th>\n",
              "      <td>1.415895</td>\n",
              "      <td>4.101253</td>\n",
              "      <td>2.794510</td>\n",
              "    </tr>\n",
              "    <tr>\n",
              "      <th>min</th>\n",
              "      <td>1.000000</td>\n",
              "      <td>4.600000</td>\n",
              "      <td>4.900000</td>\n",
              "    </tr>\n",
              "    <tr>\n",
              "      <th>25%</th>\n",
              "      <td>2.000000</td>\n",
              "      <td>10.250000</td>\n",
              "      <td>7.500000</td>\n",
              "    </tr>\n",
              "    <tr>\n",
              "      <th>50%</th>\n",
              "      <td>3.400000</td>\n",
              "      <td>12.600000</td>\n",
              "      <td>8.800000</td>\n",
              "    </tr>\n",
              "    <tr>\n",
              "      <th>75%</th>\n",
              "      <td>4.300000</td>\n",
              "      <td>15.550000</td>\n",
              "      <td>10.850000</td>\n",
              "    </tr>\n",
              "    <tr>\n",
              "      <th>max</th>\n",
              "      <td>8.400000</td>\n",
              "      <td>30.200000</td>\n",
              "      <td>20.500000</td>\n",
              "    </tr>\n",
              "  </tbody>\n",
              "</table>\n",
              "</div>\n",
              "    <div class=\"colab-df-buttons\">\n",
              "\n",
              "  <div class=\"colab-df-container\">\n",
              "    <button class=\"colab-df-convert\" onclick=\"convertToInteractive('df-7948b48d-d4f8-4cef-90f7-54f54a44c890')\"\n",
              "            title=\"Convert this dataframe to an interactive table.\"\n",
              "            style=\"display:none;\">\n",
              "\n",
              "  <svg xmlns=\"http://www.w3.org/2000/svg\" height=\"24px\" viewBox=\"0 -960 960 960\">\n",
              "    <path d=\"M120-120v-720h720v720H120Zm60-500h600v-160H180v160Zm220 220h160v-160H400v160Zm0 220h160v-160H400v160ZM180-400h160v-160H180v160Zm440 0h160v-160H620v160ZM180-180h160v-160H180v160Zm440 0h160v-160H620v160Z\"/>\n",
              "  </svg>\n",
              "    </button>\n",
              "\n",
              "  <style>\n",
              "    .colab-df-container {\n",
              "      display:flex;\n",
              "      gap: 12px;\n",
              "    }\n",
              "\n",
              "    .colab-df-convert {\n",
              "      background-color: #E8F0FE;\n",
              "      border: none;\n",
              "      border-radius: 50%;\n",
              "      cursor: pointer;\n",
              "      display: none;\n",
              "      fill: #1967D2;\n",
              "      height: 32px;\n",
              "      padding: 0 0 0 0;\n",
              "      width: 32px;\n",
              "    }\n",
              "\n",
              "    .colab-df-convert:hover {\n",
              "      background-color: #E2EBFA;\n",
              "      box-shadow: 0px 1px 2px rgba(60, 64, 67, 0.3), 0px 1px 3px 1px rgba(60, 64, 67, 0.15);\n",
              "      fill: #174EA6;\n",
              "    }\n",
              "\n",
              "    .colab-df-buttons div {\n",
              "      margin-bottom: 4px;\n",
              "    }\n",
              "\n",
              "    [theme=dark] .colab-df-convert {\n",
              "      background-color: #3B4455;\n",
              "      fill: #D2E3FC;\n",
              "    }\n",
              "\n",
              "    [theme=dark] .colab-df-convert:hover {\n",
              "      background-color: #434B5C;\n",
              "      box-shadow: 0px 1px 3px 1px rgba(0, 0, 0, 0.15);\n",
              "      filter: drop-shadow(0px 1px 2px rgba(0, 0, 0, 0.3));\n",
              "      fill: #FFFFFF;\n",
              "    }\n",
              "  </style>\n",
              "\n",
              "    <script>\n",
              "      const buttonEl =\n",
              "        document.querySelector('#df-7948b48d-d4f8-4cef-90f7-54f54a44c890 button.colab-df-convert');\n",
              "      buttonEl.style.display =\n",
              "        google.colab.kernel.accessAllowed ? 'block' : 'none';\n",
              "\n",
              "      async function convertToInteractive(key) {\n",
              "        const element = document.querySelector('#df-7948b48d-d4f8-4cef-90f7-54f54a44c890');\n",
              "        const dataTable =\n",
              "          await google.colab.kernel.invokeFunction('convertToInteractive',\n",
              "                                                    [key], {});\n",
              "        if (!dataTable) return;\n",
              "\n",
              "        const docLinkHtml = 'Like what you see? Visit the ' +\n",
              "          '<a target=\"_blank\" href=https://colab.research.google.com/notebooks/data_table.ipynb>data table notebook</a>'\n",
              "          + ' to learn more about interactive tables.';\n",
              "        element.innerHTML = '';\n",
              "        dataTable['output_type'] = 'display_data';\n",
              "        await google.colab.output.renderOutput(dataTable, element);\n",
              "        const docLink = document.createElement('div');\n",
              "        docLink.innerHTML = docLinkHtml;\n",
              "        element.appendChild(docLink);\n",
              "      }\n",
              "    </script>\n",
              "  </div>\n",
              "\n",
              "\n",
              "<div id=\"df-9dc06c53-8b79-49f2-8fb0-82c96464492e\">\n",
              "  <button class=\"colab-df-quickchart\" onclick=\"quickchart('df-9dc06c53-8b79-49f2-8fb0-82c96464492e')\"\n",
              "            title=\"Suggest charts\"\n",
              "            style=\"display:none;\">\n",
              "\n",
              "<svg xmlns=\"http://www.w3.org/2000/svg\" height=\"24px\"viewBox=\"0 0 24 24\"\n",
              "     width=\"24px\">\n",
              "    <g>\n",
              "        <path d=\"M19 3H5c-1.1 0-2 .9-2 2v14c0 1.1.9 2 2 2h14c1.1 0 2-.9 2-2V5c0-1.1-.9-2-2-2zM9 17H7v-7h2v7zm4 0h-2V7h2v10zm4 0h-2v-4h2v4z\"/>\n",
              "    </g>\n",
              "</svg>\n",
              "  </button>\n",
              "\n",
              "<style>\n",
              "  .colab-df-quickchart {\n",
              "      --bg-color: #E8F0FE;\n",
              "      --fill-color: #1967D2;\n",
              "      --hover-bg-color: #E2EBFA;\n",
              "      --hover-fill-color: #174EA6;\n",
              "      --disabled-fill-color: #AAA;\n",
              "      --disabled-bg-color: #DDD;\n",
              "  }\n",
              "\n",
              "  [theme=dark] .colab-df-quickchart {\n",
              "      --bg-color: #3B4455;\n",
              "      --fill-color: #D2E3FC;\n",
              "      --hover-bg-color: #434B5C;\n",
              "      --hover-fill-color: #FFFFFF;\n",
              "      --disabled-bg-color: #3B4455;\n",
              "      --disabled-fill-color: #666;\n",
              "  }\n",
              "\n",
              "  .colab-df-quickchart {\n",
              "    background-color: var(--bg-color);\n",
              "    border: none;\n",
              "    border-radius: 50%;\n",
              "    cursor: pointer;\n",
              "    display: none;\n",
              "    fill: var(--fill-color);\n",
              "    height: 32px;\n",
              "    padding: 0;\n",
              "    width: 32px;\n",
              "  }\n",
              "\n",
              "  .colab-df-quickchart:hover {\n",
              "    background-color: var(--hover-bg-color);\n",
              "    box-shadow: 0 1px 2px rgba(60, 64, 67, 0.3), 0 1px 3px 1px rgba(60, 64, 67, 0.15);\n",
              "    fill: var(--button-hover-fill-color);\n",
              "  }\n",
              "\n",
              "  .colab-df-quickchart-complete:disabled,\n",
              "  .colab-df-quickchart-complete:disabled:hover {\n",
              "    background-color: var(--disabled-bg-color);\n",
              "    fill: var(--disabled-fill-color);\n",
              "    box-shadow: none;\n",
              "  }\n",
              "\n",
              "  .colab-df-spinner {\n",
              "    border: 2px solid var(--fill-color);\n",
              "    border-color: transparent;\n",
              "    border-bottom-color: var(--fill-color);\n",
              "    animation:\n",
              "      spin 1s steps(1) infinite;\n",
              "  }\n",
              "\n",
              "  @keyframes spin {\n",
              "    0% {\n",
              "      border-color: transparent;\n",
              "      border-bottom-color: var(--fill-color);\n",
              "      border-left-color: var(--fill-color);\n",
              "    }\n",
              "    20% {\n",
              "      border-color: transparent;\n",
              "      border-left-color: var(--fill-color);\n",
              "      border-top-color: var(--fill-color);\n",
              "    }\n",
              "    30% {\n",
              "      border-color: transparent;\n",
              "      border-left-color: var(--fill-color);\n",
              "      border-top-color: var(--fill-color);\n",
              "      border-right-color: var(--fill-color);\n",
              "    }\n",
              "    40% {\n",
              "      border-color: transparent;\n",
              "      border-right-color: var(--fill-color);\n",
              "      border-top-color: var(--fill-color);\n",
              "    }\n",
              "    60% {\n",
              "      border-color: transparent;\n",
              "      border-right-color: var(--fill-color);\n",
              "    }\n",
              "    80% {\n",
              "      border-color: transparent;\n",
              "      border-right-color: var(--fill-color);\n",
              "      border-bottom-color: var(--fill-color);\n",
              "    }\n",
              "    90% {\n",
              "      border-color: transparent;\n",
              "      border-bottom-color: var(--fill-color);\n",
              "    }\n",
              "  }\n",
              "</style>\n",
              "\n",
              "  <script>\n",
              "    async function quickchart(key) {\n",
              "      const quickchartButtonEl =\n",
              "        document.querySelector('#' + key + ' button');\n",
              "      quickchartButtonEl.disabled = true;  // To prevent multiple clicks.\n",
              "      quickchartButtonEl.classList.add('colab-df-spinner');\n",
              "      try {\n",
              "        const charts = await google.colab.kernel.invokeFunction(\n",
              "            'suggestCharts', [key], {});\n",
              "      } catch (error) {\n",
              "        console.error('Error during call to suggestCharts:', error);\n",
              "      }\n",
              "      quickchartButtonEl.classList.remove('colab-df-spinner');\n",
              "      quickchartButtonEl.classList.add('colab-df-quickchart-complete');\n",
              "    }\n",
              "    (() => {\n",
              "      let quickchartButtonEl =\n",
              "        document.querySelector('#df-9dc06c53-8b79-49f2-8fb0-82c96464492e button');\n",
              "      quickchartButtonEl.style.display =\n",
              "        google.colab.kernel.accessAllowed ? 'block' : 'none';\n",
              "    })();\n",
              "  </script>\n",
              "</div>\n",
              "    </div>\n",
              "  </div>\n"
            ],
            "application/vnd.google.colaboratory.intrinsic+json": {
              "type": "dataframe",
              "summary": "{\n  \"name\": \"dataset\",\n  \"rows\": 8,\n  \"fields\": [\n    {\n      \"column\": \"ENGINESIZE\",\n      \"properties\": {\n        \"dtype\": \"number\",\n        \"std\": 376.04336222834814,\n        \"min\": 1.0,\n        \"max\": 1067.0,\n        \"num_unique_values\": 8,\n        \"samples\": [\n          3.346298031865042,\n          3.4,\n          1067.0\n        ],\n        \"semantic_type\": \"\",\n        \"description\": \"\"\n      }\n    },\n    {\n      \"column\": \"FUELCONSUMPTION_CITY\",\n      \"properties\": {\n        \"dtype\": \"number\",\n        \"std\": 372.753722580423,\n        \"min\": 4.101253317068339,\n        \"max\": 1067.0,\n        \"num_unique_values\": 8,\n        \"samples\": [\n          13.296532333645736,\n          12.6,\n          1067.0\n        ],\n        \"semantic_type\": \"\",\n        \"description\": \"\"\n      }\n    },\n    {\n      \"column\": \"FUELCONSUMPTION_HWY\",\n      \"properties\": {\n        \"dtype\": \"number\",\n        \"std\": 374.0044761078589,\n        \"min\": 2.7945104498854048,\n        \"max\": 1067.0,\n        \"num_unique_values\": 8,\n        \"samples\": [\n          9.474601686972822,\n          8.8,\n          1067.0\n        ],\n        \"semantic_type\": \"\",\n        \"description\": \"\"\n      }\n    }\n  ]\n}"
            }
          },
          "metadata": {},
          "execution_count": 298
        }
      ],
      "source": [
        "dataset.select_dtypes(include=['float64']).describe()"
      ]
    },
    {
      "cell_type": "markdown",
      "metadata": {
        "id": "-XRiLmUY9o5C"
      },
      "source": [
        "*Variables cuantitativas discretas:*"
      ]
    },
    {
      "cell_type": "code",
      "execution_count": null,
      "metadata": {
        "colab": {
          "base_uri": "https://localhost:8080/",
          "height": 300
        },
        "id": "xz6YwRSS9v57",
        "outputId": "cfba3631-3cfb-40b8-928c-84e2d9faa167"
      },
      "outputs": [
        {
          "output_type": "execute_result",
          "data": {
            "text/plain": [
              "         CYLINDERS  CO2EMISSIONS\n",
              "count  1067.000000   1067.000000\n",
              "mean      5.794752      0.461106\n",
              "std       1.797447      0.498719\n",
              "min       3.000000      0.000000\n",
              "25%       4.000000      0.000000\n",
              "50%       6.000000      0.000000\n",
              "75%       8.000000      1.000000\n",
              "max      12.000000      1.000000"
            ],
            "text/html": [
              "\n",
              "  <div id=\"df-24ec2e45-9f00-4160-91a4-83515534c126\" class=\"colab-df-container\">\n",
              "    <div>\n",
              "<style scoped>\n",
              "    .dataframe tbody tr th:only-of-type {\n",
              "        vertical-align: middle;\n",
              "    }\n",
              "\n",
              "    .dataframe tbody tr th {\n",
              "        vertical-align: top;\n",
              "    }\n",
              "\n",
              "    .dataframe thead th {\n",
              "        text-align: right;\n",
              "    }\n",
              "</style>\n",
              "<table border=\"1\" class=\"dataframe\">\n",
              "  <thead>\n",
              "    <tr style=\"text-align: right;\">\n",
              "      <th></th>\n",
              "      <th>CYLINDERS</th>\n",
              "      <th>CO2EMISSIONS</th>\n",
              "    </tr>\n",
              "  </thead>\n",
              "  <tbody>\n",
              "    <tr>\n",
              "      <th>count</th>\n",
              "      <td>1067.000000</td>\n",
              "      <td>1067.000000</td>\n",
              "    </tr>\n",
              "    <tr>\n",
              "      <th>mean</th>\n",
              "      <td>5.794752</td>\n",
              "      <td>0.461106</td>\n",
              "    </tr>\n",
              "    <tr>\n",
              "      <th>std</th>\n",
              "      <td>1.797447</td>\n",
              "      <td>0.498719</td>\n",
              "    </tr>\n",
              "    <tr>\n",
              "      <th>min</th>\n",
              "      <td>3.000000</td>\n",
              "      <td>0.000000</td>\n",
              "    </tr>\n",
              "    <tr>\n",
              "      <th>25%</th>\n",
              "      <td>4.000000</td>\n",
              "      <td>0.000000</td>\n",
              "    </tr>\n",
              "    <tr>\n",
              "      <th>50%</th>\n",
              "      <td>6.000000</td>\n",
              "      <td>0.000000</td>\n",
              "    </tr>\n",
              "    <tr>\n",
              "      <th>75%</th>\n",
              "      <td>8.000000</td>\n",
              "      <td>1.000000</td>\n",
              "    </tr>\n",
              "    <tr>\n",
              "      <th>max</th>\n",
              "      <td>12.000000</td>\n",
              "      <td>1.000000</td>\n",
              "    </tr>\n",
              "  </tbody>\n",
              "</table>\n",
              "</div>\n",
              "    <div class=\"colab-df-buttons\">\n",
              "\n",
              "  <div class=\"colab-df-container\">\n",
              "    <button class=\"colab-df-convert\" onclick=\"convertToInteractive('df-24ec2e45-9f00-4160-91a4-83515534c126')\"\n",
              "            title=\"Convert this dataframe to an interactive table.\"\n",
              "            style=\"display:none;\">\n",
              "\n",
              "  <svg xmlns=\"http://www.w3.org/2000/svg\" height=\"24px\" viewBox=\"0 -960 960 960\">\n",
              "    <path d=\"M120-120v-720h720v720H120Zm60-500h600v-160H180v160Zm220 220h160v-160H400v160Zm0 220h160v-160H400v160ZM180-400h160v-160H180v160Zm440 0h160v-160H620v160ZM180-180h160v-160H180v160Zm440 0h160v-160H620v160Z\"/>\n",
              "  </svg>\n",
              "    </button>\n",
              "\n",
              "  <style>\n",
              "    .colab-df-container {\n",
              "      display:flex;\n",
              "      gap: 12px;\n",
              "    }\n",
              "\n",
              "    .colab-df-convert {\n",
              "      background-color: #E8F0FE;\n",
              "      border: none;\n",
              "      border-radius: 50%;\n",
              "      cursor: pointer;\n",
              "      display: none;\n",
              "      fill: #1967D2;\n",
              "      height: 32px;\n",
              "      padding: 0 0 0 0;\n",
              "      width: 32px;\n",
              "    }\n",
              "\n",
              "    .colab-df-convert:hover {\n",
              "      background-color: #E2EBFA;\n",
              "      box-shadow: 0px 1px 2px rgba(60, 64, 67, 0.3), 0px 1px 3px 1px rgba(60, 64, 67, 0.15);\n",
              "      fill: #174EA6;\n",
              "    }\n",
              "\n",
              "    .colab-df-buttons div {\n",
              "      margin-bottom: 4px;\n",
              "    }\n",
              "\n",
              "    [theme=dark] .colab-df-convert {\n",
              "      background-color: #3B4455;\n",
              "      fill: #D2E3FC;\n",
              "    }\n",
              "\n",
              "    [theme=dark] .colab-df-convert:hover {\n",
              "      background-color: #434B5C;\n",
              "      box-shadow: 0px 1px 3px 1px rgba(0, 0, 0, 0.15);\n",
              "      filter: drop-shadow(0px 1px 2px rgba(0, 0, 0, 0.3));\n",
              "      fill: #FFFFFF;\n",
              "    }\n",
              "  </style>\n",
              "\n",
              "    <script>\n",
              "      const buttonEl =\n",
              "        document.querySelector('#df-24ec2e45-9f00-4160-91a4-83515534c126 button.colab-df-convert');\n",
              "      buttonEl.style.display =\n",
              "        google.colab.kernel.accessAllowed ? 'block' : 'none';\n",
              "\n",
              "      async function convertToInteractive(key) {\n",
              "        const element = document.querySelector('#df-24ec2e45-9f00-4160-91a4-83515534c126');\n",
              "        const dataTable =\n",
              "          await google.colab.kernel.invokeFunction('convertToInteractive',\n",
              "                                                    [key], {});\n",
              "        if (!dataTable) return;\n",
              "\n",
              "        const docLinkHtml = 'Like what you see? Visit the ' +\n",
              "          '<a target=\"_blank\" href=https://colab.research.google.com/notebooks/data_table.ipynb>data table notebook</a>'\n",
              "          + ' to learn more about interactive tables.';\n",
              "        element.innerHTML = '';\n",
              "        dataTable['output_type'] = 'display_data';\n",
              "        await google.colab.output.renderOutput(dataTable, element);\n",
              "        const docLink = document.createElement('div');\n",
              "        docLink.innerHTML = docLinkHtml;\n",
              "        element.appendChild(docLink);\n",
              "      }\n",
              "    </script>\n",
              "  </div>\n",
              "\n",
              "\n",
              "<div id=\"df-688ed40a-86ac-46ae-bb5b-7f457bb3231d\">\n",
              "  <button class=\"colab-df-quickchart\" onclick=\"quickchart('df-688ed40a-86ac-46ae-bb5b-7f457bb3231d')\"\n",
              "            title=\"Suggest charts\"\n",
              "            style=\"display:none;\">\n",
              "\n",
              "<svg xmlns=\"http://www.w3.org/2000/svg\" height=\"24px\"viewBox=\"0 0 24 24\"\n",
              "     width=\"24px\">\n",
              "    <g>\n",
              "        <path d=\"M19 3H5c-1.1 0-2 .9-2 2v14c0 1.1.9 2 2 2h14c1.1 0 2-.9 2-2V5c0-1.1-.9-2-2-2zM9 17H7v-7h2v7zm4 0h-2V7h2v10zm4 0h-2v-4h2v4z\"/>\n",
              "    </g>\n",
              "</svg>\n",
              "  </button>\n",
              "\n",
              "<style>\n",
              "  .colab-df-quickchart {\n",
              "      --bg-color: #E8F0FE;\n",
              "      --fill-color: #1967D2;\n",
              "      --hover-bg-color: #E2EBFA;\n",
              "      --hover-fill-color: #174EA6;\n",
              "      --disabled-fill-color: #AAA;\n",
              "      --disabled-bg-color: #DDD;\n",
              "  }\n",
              "\n",
              "  [theme=dark] .colab-df-quickchart {\n",
              "      --bg-color: #3B4455;\n",
              "      --fill-color: #D2E3FC;\n",
              "      --hover-bg-color: #434B5C;\n",
              "      --hover-fill-color: #FFFFFF;\n",
              "      --disabled-bg-color: #3B4455;\n",
              "      --disabled-fill-color: #666;\n",
              "  }\n",
              "\n",
              "  .colab-df-quickchart {\n",
              "    background-color: var(--bg-color);\n",
              "    border: none;\n",
              "    border-radius: 50%;\n",
              "    cursor: pointer;\n",
              "    display: none;\n",
              "    fill: var(--fill-color);\n",
              "    height: 32px;\n",
              "    padding: 0;\n",
              "    width: 32px;\n",
              "  }\n",
              "\n",
              "  .colab-df-quickchart:hover {\n",
              "    background-color: var(--hover-bg-color);\n",
              "    box-shadow: 0 1px 2px rgba(60, 64, 67, 0.3), 0 1px 3px 1px rgba(60, 64, 67, 0.15);\n",
              "    fill: var(--button-hover-fill-color);\n",
              "  }\n",
              "\n",
              "  .colab-df-quickchart-complete:disabled,\n",
              "  .colab-df-quickchart-complete:disabled:hover {\n",
              "    background-color: var(--disabled-bg-color);\n",
              "    fill: var(--disabled-fill-color);\n",
              "    box-shadow: none;\n",
              "  }\n",
              "\n",
              "  .colab-df-spinner {\n",
              "    border: 2px solid var(--fill-color);\n",
              "    border-color: transparent;\n",
              "    border-bottom-color: var(--fill-color);\n",
              "    animation:\n",
              "      spin 1s steps(1) infinite;\n",
              "  }\n",
              "\n",
              "  @keyframes spin {\n",
              "    0% {\n",
              "      border-color: transparent;\n",
              "      border-bottom-color: var(--fill-color);\n",
              "      border-left-color: var(--fill-color);\n",
              "    }\n",
              "    20% {\n",
              "      border-color: transparent;\n",
              "      border-left-color: var(--fill-color);\n",
              "      border-top-color: var(--fill-color);\n",
              "    }\n",
              "    30% {\n",
              "      border-color: transparent;\n",
              "      border-left-color: var(--fill-color);\n",
              "      border-top-color: var(--fill-color);\n",
              "      border-right-color: var(--fill-color);\n",
              "    }\n",
              "    40% {\n",
              "      border-color: transparent;\n",
              "      border-right-color: var(--fill-color);\n",
              "      border-top-color: var(--fill-color);\n",
              "    }\n",
              "    60% {\n",
              "      border-color: transparent;\n",
              "      border-right-color: var(--fill-color);\n",
              "    }\n",
              "    80% {\n",
              "      border-color: transparent;\n",
              "      border-right-color: var(--fill-color);\n",
              "      border-bottom-color: var(--fill-color);\n",
              "    }\n",
              "    90% {\n",
              "      border-color: transparent;\n",
              "      border-bottom-color: var(--fill-color);\n",
              "    }\n",
              "  }\n",
              "</style>\n",
              "\n",
              "  <script>\n",
              "    async function quickchart(key) {\n",
              "      const quickchartButtonEl =\n",
              "        document.querySelector('#' + key + ' button');\n",
              "      quickchartButtonEl.disabled = true;  // To prevent multiple clicks.\n",
              "      quickchartButtonEl.classList.add('colab-df-spinner');\n",
              "      try {\n",
              "        const charts = await google.colab.kernel.invokeFunction(\n",
              "            'suggestCharts', [key], {});\n",
              "      } catch (error) {\n",
              "        console.error('Error during call to suggestCharts:', error);\n",
              "      }\n",
              "      quickchartButtonEl.classList.remove('colab-df-spinner');\n",
              "      quickchartButtonEl.classList.add('colab-df-quickchart-complete');\n",
              "    }\n",
              "    (() => {\n",
              "      let quickchartButtonEl =\n",
              "        document.querySelector('#df-688ed40a-86ac-46ae-bb5b-7f457bb3231d button');\n",
              "      quickchartButtonEl.style.display =\n",
              "        google.colab.kernel.accessAllowed ? 'block' : 'none';\n",
              "    })();\n",
              "  </script>\n",
              "</div>\n",
              "    </div>\n",
              "  </div>\n"
            ],
            "application/vnd.google.colaboratory.intrinsic+json": {
              "type": "dataframe",
              "summary": "{\n  \"name\": \"dataset\",\n  \"rows\": 8,\n  \"fields\": [\n    {\n      \"column\": \"CYLINDERS\",\n      \"properties\": {\n        \"dtype\": \"number\",\n        \"std\": 375.2046584534259,\n        \"min\": 1.7974472750409638,\n        \"max\": 1067.0,\n        \"num_unique_values\": 8,\n        \"samples\": [\n          5.794751640112465,\n          6.0,\n          1067.0\n        ],\n        \"semantic_type\": \"\",\n        \"description\": \"\"\n      }\n    },\n    {\n      \"column\": \"CO2EMISSIONS\",\n      \"properties\": {\n        \"dtype\": \"number\",\n        \"std\": 377.09220321008775,\n        \"min\": 0.0,\n        \"max\": 1067.0,\n        \"num_unique_values\": 5,\n        \"samples\": [\n          0.4611059044048735,\n          1.0,\n          0.49871871010935137\n        ],\n        \"semantic_type\": \"\",\n        \"description\": \"\"\n      }\n    }\n  ]\n}"
            }
          },
          "metadata": {},
          "execution_count": 299
        }
      ],
      "source": [
        "dataset.select_dtypes(include=['int64']).describe()"
      ]
    },
    {
      "cell_type": "markdown",
      "metadata": {
        "id": "fJWJs8Jc-hu7"
      },
      "source": [
        "## 2) Se separan los datos en conjuntos de entrenamiento y prueba (80%, 20%)"
      ]
    },
    {
      "cell_type": "code",
      "execution_count": null,
      "metadata": {
        "colab": {
          "base_uri": "https://localhost:8080/"
        },
        "id": "x3EaJ-yG_Da1",
        "outputId": "1c499f4c-158d-4312-e51e-ea384959c765"
      },
      "outputs": [
        {
          "output_type": "stream",
          "name": "stdout",
          "text": [
            "1067 853 214\n"
          ]
        }
      ],
      "source": [
        "from sklearn.model_selection import train_test_split\n",
        "N=len(dataset)\n",
        "cTrain=int(N*0.8)\n",
        "cTest=N-cTrain\n",
        "print(N,cTrain,cTest)\n",
        "train_data,test_data= sklearn.model_selection.train_test_split(dataset, train_size=cTrain, test_size=cTest)"
      ]
    },
    {
      "cell_type": "code",
      "execution_count": null,
      "metadata": {
        "colab": {
          "base_uri": "https://localhost:8080/"
        },
        "id": "fT3gub5f_lgm",
        "outputId": "109c2716-df0b-4097-e755-f7e74efa5c85"
      },
      "outputs": [
        {
          "output_type": "execute_result",
          "data": {
            "text/plain": [
              "(1067, 5)"
            ]
          },
          "metadata": {},
          "execution_count": 301
        }
      ],
      "source": [
        "dataset.shape"
      ]
    },
    {
      "cell_type": "code",
      "execution_count": null,
      "metadata": {
        "colab": {
          "base_uri": "https://localhost:8080/",
          "height": 206
        },
        "id": "09DV38_s_pGL",
        "outputId": "b156cf50-4a26-4edb-c801-92c30ec02a91"
      },
      "outputs": [
        {
          "output_type": "execute_result",
          "data": {
            "text/plain": [
              "   ENGINESIZE  CYLINDERS  FUELCONSUMPTION_CITY  FUELCONSUMPTION_HWY  \\\n",
              "0         2.0          4                   9.9                  6.7   \n",
              "1         2.4          4                  11.2                  7.7   \n",
              "2         1.5          4                   6.0                  5.8   \n",
              "3         3.5          6                  12.7                  9.1   \n",
              "4         3.5          6                  12.1                  8.7   \n",
              "\n",
              "   CO2EMISSIONS  \n",
              "0             0  \n",
              "1             0  \n",
              "2             0  \n",
              "3             0  \n",
              "4             0  "
            ],
            "text/html": [
              "\n",
              "  <div id=\"df-01b8249c-b4fc-4afb-99d2-2ec1485d4e9a\" class=\"colab-df-container\">\n",
              "    <div>\n",
              "<style scoped>\n",
              "    .dataframe tbody tr th:only-of-type {\n",
              "        vertical-align: middle;\n",
              "    }\n",
              "\n",
              "    .dataframe tbody tr th {\n",
              "        vertical-align: top;\n",
              "    }\n",
              "\n",
              "    .dataframe thead th {\n",
              "        text-align: right;\n",
              "    }\n",
              "</style>\n",
              "<table border=\"1\" class=\"dataframe\">\n",
              "  <thead>\n",
              "    <tr style=\"text-align: right;\">\n",
              "      <th></th>\n",
              "      <th>ENGINESIZE</th>\n",
              "      <th>CYLINDERS</th>\n",
              "      <th>FUELCONSUMPTION_CITY</th>\n",
              "      <th>FUELCONSUMPTION_HWY</th>\n",
              "      <th>CO2EMISSIONS</th>\n",
              "    </tr>\n",
              "  </thead>\n",
              "  <tbody>\n",
              "    <tr>\n",
              "      <th>0</th>\n",
              "      <td>2.0</td>\n",
              "      <td>4</td>\n",
              "      <td>9.9</td>\n",
              "      <td>6.7</td>\n",
              "      <td>0</td>\n",
              "    </tr>\n",
              "    <tr>\n",
              "      <th>1</th>\n",
              "      <td>2.4</td>\n",
              "      <td>4</td>\n",
              "      <td>11.2</td>\n",
              "      <td>7.7</td>\n",
              "      <td>0</td>\n",
              "    </tr>\n",
              "    <tr>\n",
              "      <th>2</th>\n",
              "      <td>1.5</td>\n",
              "      <td>4</td>\n",
              "      <td>6.0</td>\n",
              "      <td>5.8</td>\n",
              "      <td>0</td>\n",
              "    </tr>\n",
              "    <tr>\n",
              "      <th>3</th>\n",
              "      <td>3.5</td>\n",
              "      <td>6</td>\n",
              "      <td>12.7</td>\n",
              "      <td>9.1</td>\n",
              "      <td>0</td>\n",
              "    </tr>\n",
              "    <tr>\n",
              "      <th>4</th>\n",
              "      <td>3.5</td>\n",
              "      <td>6</td>\n",
              "      <td>12.1</td>\n",
              "      <td>8.7</td>\n",
              "      <td>0</td>\n",
              "    </tr>\n",
              "  </tbody>\n",
              "</table>\n",
              "</div>\n",
              "    <div class=\"colab-df-buttons\">\n",
              "\n",
              "  <div class=\"colab-df-container\">\n",
              "    <button class=\"colab-df-convert\" onclick=\"convertToInteractive('df-01b8249c-b4fc-4afb-99d2-2ec1485d4e9a')\"\n",
              "            title=\"Convert this dataframe to an interactive table.\"\n",
              "            style=\"display:none;\">\n",
              "\n",
              "  <svg xmlns=\"http://www.w3.org/2000/svg\" height=\"24px\" viewBox=\"0 -960 960 960\">\n",
              "    <path d=\"M120-120v-720h720v720H120Zm60-500h600v-160H180v160Zm220 220h160v-160H400v160Zm0 220h160v-160H400v160ZM180-400h160v-160H180v160Zm440 0h160v-160H620v160ZM180-180h160v-160H180v160Zm440 0h160v-160H620v160Z\"/>\n",
              "  </svg>\n",
              "    </button>\n",
              "\n",
              "  <style>\n",
              "    .colab-df-container {\n",
              "      display:flex;\n",
              "      gap: 12px;\n",
              "    }\n",
              "\n",
              "    .colab-df-convert {\n",
              "      background-color: #E8F0FE;\n",
              "      border: none;\n",
              "      border-radius: 50%;\n",
              "      cursor: pointer;\n",
              "      display: none;\n",
              "      fill: #1967D2;\n",
              "      height: 32px;\n",
              "      padding: 0 0 0 0;\n",
              "      width: 32px;\n",
              "    }\n",
              "\n",
              "    .colab-df-convert:hover {\n",
              "      background-color: #E2EBFA;\n",
              "      box-shadow: 0px 1px 2px rgba(60, 64, 67, 0.3), 0px 1px 3px 1px rgba(60, 64, 67, 0.15);\n",
              "      fill: #174EA6;\n",
              "    }\n",
              "\n",
              "    .colab-df-buttons div {\n",
              "      margin-bottom: 4px;\n",
              "    }\n",
              "\n",
              "    [theme=dark] .colab-df-convert {\n",
              "      background-color: #3B4455;\n",
              "      fill: #D2E3FC;\n",
              "    }\n",
              "\n",
              "    [theme=dark] .colab-df-convert:hover {\n",
              "      background-color: #434B5C;\n",
              "      box-shadow: 0px 1px 3px 1px rgba(0, 0, 0, 0.15);\n",
              "      filter: drop-shadow(0px 1px 2px rgba(0, 0, 0, 0.3));\n",
              "      fill: #FFFFFF;\n",
              "    }\n",
              "  </style>\n",
              "\n",
              "    <script>\n",
              "      const buttonEl =\n",
              "        document.querySelector('#df-01b8249c-b4fc-4afb-99d2-2ec1485d4e9a button.colab-df-convert');\n",
              "      buttonEl.style.display =\n",
              "        google.colab.kernel.accessAllowed ? 'block' : 'none';\n",
              "\n",
              "      async function convertToInteractive(key) {\n",
              "        const element = document.querySelector('#df-01b8249c-b4fc-4afb-99d2-2ec1485d4e9a');\n",
              "        const dataTable =\n",
              "          await google.colab.kernel.invokeFunction('convertToInteractive',\n",
              "                                                    [key], {});\n",
              "        if (!dataTable) return;\n",
              "\n",
              "        const docLinkHtml = 'Like what you see? Visit the ' +\n",
              "          '<a target=\"_blank\" href=https://colab.research.google.com/notebooks/data_table.ipynb>data table notebook</a>'\n",
              "          + ' to learn more about interactive tables.';\n",
              "        element.innerHTML = '';\n",
              "        dataTable['output_type'] = 'display_data';\n",
              "        await google.colab.output.renderOutput(dataTable, element);\n",
              "        const docLink = document.createElement('div');\n",
              "        docLink.innerHTML = docLinkHtml;\n",
              "        element.appendChild(docLink);\n",
              "      }\n",
              "    </script>\n",
              "  </div>\n",
              "\n",
              "\n",
              "<div id=\"df-c232d7ed-4628-40a9-9d3d-0c52de1cad16\">\n",
              "  <button class=\"colab-df-quickchart\" onclick=\"quickchart('df-c232d7ed-4628-40a9-9d3d-0c52de1cad16')\"\n",
              "            title=\"Suggest charts\"\n",
              "            style=\"display:none;\">\n",
              "\n",
              "<svg xmlns=\"http://www.w3.org/2000/svg\" height=\"24px\"viewBox=\"0 0 24 24\"\n",
              "     width=\"24px\">\n",
              "    <g>\n",
              "        <path d=\"M19 3H5c-1.1 0-2 .9-2 2v14c0 1.1.9 2 2 2h14c1.1 0 2-.9 2-2V5c0-1.1-.9-2-2-2zM9 17H7v-7h2v7zm4 0h-2V7h2v10zm4 0h-2v-4h2v4z\"/>\n",
              "    </g>\n",
              "</svg>\n",
              "  </button>\n",
              "\n",
              "<style>\n",
              "  .colab-df-quickchart {\n",
              "      --bg-color: #E8F0FE;\n",
              "      --fill-color: #1967D2;\n",
              "      --hover-bg-color: #E2EBFA;\n",
              "      --hover-fill-color: #174EA6;\n",
              "      --disabled-fill-color: #AAA;\n",
              "      --disabled-bg-color: #DDD;\n",
              "  }\n",
              "\n",
              "  [theme=dark] .colab-df-quickchart {\n",
              "      --bg-color: #3B4455;\n",
              "      --fill-color: #D2E3FC;\n",
              "      --hover-bg-color: #434B5C;\n",
              "      --hover-fill-color: #FFFFFF;\n",
              "      --disabled-bg-color: #3B4455;\n",
              "      --disabled-fill-color: #666;\n",
              "  }\n",
              "\n",
              "  .colab-df-quickchart {\n",
              "    background-color: var(--bg-color);\n",
              "    border: none;\n",
              "    border-radius: 50%;\n",
              "    cursor: pointer;\n",
              "    display: none;\n",
              "    fill: var(--fill-color);\n",
              "    height: 32px;\n",
              "    padding: 0;\n",
              "    width: 32px;\n",
              "  }\n",
              "\n",
              "  .colab-df-quickchart:hover {\n",
              "    background-color: var(--hover-bg-color);\n",
              "    box-shadow: 0 1px 2px rgba(60, 64, 67, 0.3), 0 1px 3px 1px rgba(60, 64, 67, 0.15);\n",
              "    fill: var(--button-hover-fill-color);\n",
              "  }\n",
              "\n",
              "  .colab-df-quickchart-complete:disabled,\n",
              "  .colab-df-quickchart-complete:disabled:hover {\n",
              "    background-color: var(--disabled-bg-color);\n",
              "    fill: var(--disabled-fill-color);\n",
              "    box-shadow: none;\n",
              "  }\n",
              "\n",
              "  .colab-df-spinner {\n",
              "    border: 2px solid var(--fill-color);\n",
              "    border-color: transparent;\n",
              "    border-bottom-color: var(--fill-color);\n",
              "    animation:\n",
              "      spin 1s steps(1) infinite;\n",
              "  }\n",
              "\n",
              "  @keyframes spin {\n",
              "    0% {\n",
              "      border-color: transparent;\n",
              "      border-bottom-color: var(--fill-color);\n",
              "      border-left-color: var(--fill-color);\n",
              "    }\n",
              "    20% {\n",
              "      border-color: transparent;\n",
              "      border-left-color: var(--fill-color);\n",
              "      border-top-color: var(--fill-color);\n",
              "    }\n",
              "    30% {\n",
              "      border-color: transparent;\n",
              "      border-left-color: var(--fill-color);\n",
              "      border-top-color: var(--fill-color);\n",
              "      border-right-color: var(--fill-color);\n",
              "    }\n",
              "    40% {\n",
              "      border-color: transparent;\n",
              "      border-right-color: var(--fill-color);\n",
              "      border-top-color: var(--fill-color);\n",
              "    }\n",
              "    60% {\n",
              "      border-color: transparent;\n",
              "      border-right-color: var(--fill-color);\n",
              "    }\n",
              "    80% {\n",
              "      border-color: transparent;\n",
              "      border-right-color: var(--fill-color);\n",
              "      border-bottom-color: var(--fill-color);\n",
              "    }\n",
              "    90% {\n",
              "      border-color: transparent;\n",
              "      border-bottom-color: var(--fill-color);\n",
              "    }\n",
              "  }\n",
              "</style>\n",
              "\n",
              "  <script>\n",
              "    async function quickchart(key) {\n",
              "      const quickchartButtonEl =\n",
              "        document.querySelector('#' + key + ' button');\n",
              "      quickchartButtonEl.disabled = true;  // To prevent multiple clicks.\n",
              "      quickchartButtonEl.classList.add('colab-df-spinner');\n",
              "      try {\n",
              "        const charts = await google.colab.kernel.invokeFunction(\n",
              "            'suggestCharts', [key], {});\n",
              "      } catch (error) {\n",
              "        console.error('Error during call to suggestCharts:', error);\n",
              "      }\n",
              "      quickchartButtonEl.classList.remove('colab-df-spinner');\n",
              "      quickchartButtonEl.classList.add('colab-df-quickchart-complete');\n",
              "    }\n",
              "    (() => {\n",
              "      let quickchartButtonEl =\n",
              "        document.querySelector('#df-c232d7ed-4628-40a9-9d3d-0c52de1cad16 button');\n",
              "      quickchartButtonEl.style.display =\n",
              "        google.colab.kernel.accessAllowed ? 'block' : 'none';\n",
              "    })();\n",
              "  </script>\n",
              "</div>\n",
              "    </div>\n",
              "  </div>\n"
            ],
            "application/vnd.google.colaboratory.intrinsic+json": {
              "type": "dataframe",
              "variable_name": "dataset",
              "summary": "{\n  \"name\": \"dataset\",\n  \"rows\": 1067,\n  \"fields\": [\n    {\n      \"column\": \"ENGINESIZE\",\n      \"properties\": {\n        \"dtype\": \"number\",\n        \"std\": 1.4158950514240647,\n        \"min\": 1.0,\n        \"max\": 8.4,\n        \"num_unique_values\": 45,\n        \"samples\": [\n          3.4,\n          6.4,\n          4.6\n        ],\n        \"semantic_type\": \"\",\n        \"description\": \"\"\n      }\n    },\n    {\n      \"column\": \"CYLINDERS\",\n      \"properties\": {\n        \"dtype\": \"number\",\n        \"std\": 1,\n        \"min\": 3,\n        \"max\": 12,\n        \"num_unique_values\": 7,\n        \"samples\": [\n          4,\n          6,\n          3\n        ],\n        \"semantic_type\": \"\",\n        \"description\": \"\"\n      }\n    },\n    {\n      \"column\": \"FUELCONSUMPTION_CITY\",\n      \"properties\": {\n        \"dtype\": \"number\",\n        \"std\": 4.101253317068339,\n        \"min\": 4.6,\n        \"max\": 30.2,\n        \"num_unique_values\": 167,\n        \"samples\": [\n          21.5,\n          19.2,\n          19.8\n        ],\n        \"semantic_type\": \"\",\n        \"description\": \"\"\n      }\n    },\n    {\n      \"column\": \"FUELCONSUMPTION_HWY\",\n      \"properties\": {\n        \"dtype\": \"number\",\n        \"std\": 2.7945104498854048,\n        \"min\": 4.9,\n        \"max\": 20.5,\n        \"num_unique_values\": 118,\n        \"samples\": [\n          5.1,\n          14.7,\n          8.7\n        ],\n        \"semantic_type\": \"\",\n        \"description\": \"\"\n      }\n    },\n    {\n      \"column\": \"CO2EMISSIONS\",\n      \"properties\": {\n        \"dtype\": \"number\",\n        \"std\": 0,\n        \"min\": 0,\n        \"max\": 1,\n        \"num_unique_values\": 2,\n        \"samples\": [\n          1,\n          0\n        ],\n        \"semantic_type\": \"\",\n        \"description\": \"\"\n      }\n    }\n  ]\n}"
            }
          },
          "metadata": {},
          "execution_count": 302
        }
      ],
      "source": [
        "dataset.head()"
      ]
    },
    {
      "cell_type": "markdown",
      "metadata": {
        "id": "B96IGh3oGwed"
      },
      "source": [
        "## 3) Se normalizan e imputan los datos"
      ]
    },
    {
      "cell_type": "code",
      "execution_count": null,
      "metadata": {
        "colab": {
          "base_uri": "https://localhost:8080/"
        },
        "id": "jWq7v3PZHJXl",
        "outputId": "f19a99f2-a086-4150-a7ec-dd18de1eefd1"
      },
      "outputs": [
        {
          "output_type": "execute_result",
          "data": {
            "text/plain": [
              "(853, 4)"
            ]
          },
          "metadata": {},
          "execution_count": 303
        }
      ],
      "source": [
        "from sklearn.pipeline import Pipeline\n",
        "from sklearn.impute import SimpleImputer\n",
        "from sklearn.preprocessing import StandardScaler\n",
        "from sklearn.compose import ColumnTransformer\n",
        "\n",
        "data_pipeline = Pipeline([\n",
        "    (\"imputer\", SimpleImputer(strategy=\"median\")),\n",
        "    (\"scaler\", StandardScaler())\n",
        "])\n",
        "\n",
        "attribs = dataset.columns[0:-1]\n",
        "full_pipeline = ColumnTransformer([\n",
        "    (\"num\", data_pipeline, attribs),\n",
        "])\n",
        "\n",
        "X_train = full_pipeline.fit_transform(train_data)\n",
        "X_train.shape"
      ]
    },
    {
      "cell_type": "code",
      "execution_count": null,
      "metadata": {
        "colab": {
          "base_uri": "https://localhost:8080/"
        },
        "id": "N67YxKeWPqjM",
        "outputId": "e638cc59-fc73-4ad0-9af5-7cb378193d73"
      },
      "outputs": [
        {
          "output_type": "execute_result",
          "data": {
            "text/plain": [
              "array([-0.95620061, -1.01080442, -1.02167424, -1.01982647])"
            ]
          },
          "metadata": {},
          "execution_count": 304
        }
      ],
      "source": [
        "X_train[0,:]"
      ]
    },
    {
      "cell_type": "code",
      "execution_count": null,
      "metadata": {
        "colab": {
          "base_uri": "https://localhost:8080/"
        },
        "id": "Q1kMWe-KMjjt",
        "outputId": "3cd72ee3-a690-4ecc-eb71-702227d4afe8"
      },
      "outputs": [
        {
          "output_type": "execute_result",
          "data": {
            "text/plain": [
              "405     0\n",
              "69      1\n",
              "843     1\n",
              "635     1\n",
              "945     0\n",
              "       ..\n",
              "448     1\n",
              "1005    1\n",
              "62      1\n",
              "896     1\n",
              "653     1\n",
              "Name: CO2EMISSIONS, Length: 853, dtype: int64"
            ]
          },
          "metadata": {},
          "execution_count": 305
        }
      ],
      "source": [
        "y_train = train_data[\"CO2EMISSIONS\"]\n",
        "y_train"
      ]
    },
    {
      "cell_type": "markdown",
      "metadata": {
        "id": "rhwg35vRKoy1"
      },
      "source": [
        "## 4) Se entrenan las redes neuronales"
      ]
    },
    {
      "cell_type": "code",
      "execution_count": null,
      "metadata": {
        "colab": {
          "base_uri": "https://localhost:8080/"
        },
        "id": "CRYnWTxKK5RD",
        "outputId": "71cf78e1-f827-49ff-d873-ad13966dbb7e"
      },
      "outputs": [
        {
          "output_type": "stream",
          "name": "stderr",
          "text": [
            "/usr/local/lib/python3.10/dist-packages/sklearn/neural_network/_multilayer_perceptron.py:686: ConvergenceWarning: Stochastic Optimizer: Maximum iterations (200) reached and the optimization hasn't converged yet.\n",
            "  warnings.warn(\n"
          ]
        },
        {
          "output_type": "stream",
          "name": "stdout",
          "text": [
            "[0.97660819 0.92982456 0.94736842 0.93529412 0.95294118]\n"
          ]
        },
        {
          "output_type": "stream",
          "name": "stderr",
          "text": [
            "/usr/local/lib/python3.10/dist-packages/sklearn/neural_network/_multilayer_perceptron.py:686: ConvergenceWarning: Stochastic Optimizer: Maximum iterations (200) reached and the optimization hasn't converged yet.\n",
            "  warnings.warn(\n"
          ]
        },
        {
          "output_type": "execute_result",
          "data": {
            "text/plain": [
              "0.948407292741658"
            ]
          },
          "metadata": {},
          "execution_count": 306
        }
      ],
      "source": [
        "from sklearn.neural_network import MLPClassifier\n",
        "from sklearn.model_selection import cross_val_score\n",
        "\n",
        "modelo1 = MLPClassifier(activation='identity',solver='adam', alpha=1e-5,hidden_layer_sizes=(3,5,2), random_state=123)\n",
        "modelo1.fit(X_train, y_train)\n",
        "scores1 = cross_val_score(modelo1, X_train, y_train, cv=5, scoring='accuracy')\n",
        "print(scores1)\n",
        "scores1.mean()"
      ]
    },
    {
      "cell_type": "code",
      "execution_count": null,
      "metadata": {
        "colab": {
          "base_uri": "https://localhost:8080/"
        },
        "id": "hiPubIdZRRHe",
        "outputId": "4bebe7a1-f9ec-449a-f67f-d4204e6d64c7"
      },
      "outputs": [
        {
          "output_type": "stream",
          "name": "stdout",
          "text": [
            "[0.97660819 0.95321637 0.97076023 0.96470588 0.95882353]\n"
          ]
        },
        {
          "output_type": "execute_result",
          "data": {
            "text/plain": [
              "0.9648228414172687"
            ]
          },
          "metadata": {},
          "execution_count": 334
        }
      ],
      "source": [
        "from sklearn.neural_network import MLPClassifier\n",
        "from sklearn.model_selection import cross_val_score\n",
        "\n",
        "modelo2 = MLPClassifier(activation='relu',solver='lbfgs', alpha=1e-5,hidden_layer_sizes=(3,2), random_state=123, max_iter=1500)\n",
        "modelo2.fit(X_train, y_train)\n",
        "scores2 = cross_val_score(modelo2, X_train, y_train, cv=5, scoring='accuracy')\n",
        "print(scores2)\n",
        "scores2.mean()"
      ]
    },
    {
      "cell_type": "code",
      "execution_count": null,
      "metadata": {
        "colab": {
          "base_uri": "https://localhost:8080/"
        },
        "id": "rXkWOxuPSFNL",
        "outputId": "bca3207b-cef4-4f0a-b89f-49296bdd175c"
      },
      "outputs": [
        {
          "output_type": "stream",
          "name": "stdout",
          "text": [
            "[0.96491228 0.91812865 0.92982456 0.96470588 0.92352941]\n"
          ]
        },
        {
          "output_type": "execute_result",
          "data": {
            "text/plain": [
              "0.9402201582387342"
            ]
          },
          "metadata": {},
          "execution_count": 308
        }
      ],
      "source": [
        "from sklearn.neural_network import MLPClassifier\n",
        "from sklearn.model_selection import cross_val_score\n",
        "\n",
        "modelo3 = MLPClassifier(activation='identity',solver='lbfgs', alpha=1e-5,hidden_layer_sizes=(5,), random_state=123)\n",
        "modelo3.fit(X_train, y_train)\n",
        "scores3 = cross_val_score(modelo3, X_train, y_train, cv=5, scoring='accuracy')\n",
        "print(scores3)\n",
        "scores3.mean()"
      ]
    },
    {
      "cell_type": "code",
      "execution_count": null,
      "metadata": {
        "colab": {
          "base_uri": "https://localhost:8080/"
        },
        "id": "yI3e5nRwSvEV",
        "outputId": "f88cfff1-eb46-4df4-d8bb-8dd9b24bd950"
      },
      "outputs": [
        {
          "output_type": "stream",
          "name": "stdout",
          "text": [
            "[0.5380117  0.53216374 0.53216374 0.53529412 0.53529412]\n"
          ]
        },
        {
          "output_type": "execute_result",
          "data": {
            "text/plain": [
              "0.5345854833161334"
            ]
          },
          "metadata": {},
          "execution_count": 309
        }
      ],
      "source": [
        "from sklearn.neural_network import MLPClassifier\n",
        "from sklearn.model_selection import cross_val_score\n",
        "\n",
        "modelo4 = MLPClassifier(activation='logistic',solver='sgd', alpha=1e-5,hidden_layer_sizes=(3,10,15), random_state=123)\n",
        "modelo4.fit(X_train, y_train)\n",
        "scores4 = cross_val_score(modelo4, X_train, y_train, cv=5, scoring='accuracy')\n",
        "print(scores4)\n",
        "scores4.mean()"
      ]
    },
    {
      "cell_type": "code",
      "execution_count": null,
      "metadata": {
        "colab": {
          "base_uri": "https://localhost:8080/"
        },
        "id": "C1A731vNUoTp",
        "outputId": "69fc9193-96a3-4346-facf-6dd7f5d3d13c"
      },
      "outputs": [
        {
          "output_type": "stream",
          "name": "stdout",
          "text": [
            "[0.99415205 0.94736842 0.98830409 0.98235294 0.96470588]\n"
          ]
        },
        {
          "output_type": "execute_result",
          "data": {
            "text/plain": [
              "0.9753766769865841"
            ]
          },
          "metadata": {},
          "execution_count": 310
        }
      ],
      "source": [
        "from sklearn.neural_network import MLPClassifier\n",
        "from sklearn.model_selection import cross_val_score\n",
        "\n",
        "modelo5 = MLPClassifier(activation='tanh',solver='lbfgs', alpha=1e-5,hidden_layer_sizes=(25,5,19,2), random_state=123)\n",
        "modelo5.fit(X_train, y_train)\n",
        "scores5 = cross_val_score(modelo5, X_train, y_train, cv=5, scoring='accuracy')\n",
        "print(scores5)\n",
        "scores5.mean()"
      ]
    },
    {
      "cell_type": "markdown",
      "source": [
        "### Se analiza el desempeño en el conjunto de prueba"
      ],
      "metadata": {
        "id": "28dhsOq8DMOz"
      }
    },
    {
      "cell_type": "code",
      "source": [
        "X_test = full_pipeline.transform(test_data)\n",
        "X_test"
      ],
      "metadata": {
        "colab": {
          "base_uri": "https://localhost:8080/"
        },
        "id": "0l6aQATHDQbY",
        "outputId": "0827fe5f-5a67-4c81-ad87-bd5261e74506"
      },
      "execution_count": null,
      "outputs": [
        {
          "output_type": "execute_result",
          "data": {
            "text/plain": [
              "array([[ 1.02520989e-01,  1.18489844e-01,  1.24262692e+00,\n",
              "         1.07292814e+00],\n",
              "       [-2.50386210e-01,  1.18489844e-01, -2.91254511e-01,\n",
              "        -2.39477294e-01],\n",
              "       [-2.50386210e-01,  1.18489844e-01, -3.64296484e-01,\n",
              "         1.50697294e-01],\n",
              "       [ 1.73102429e-01,  1.18489844e-01,  9.01764382e-01,\n",
              "         6.11812716e-01],\n",
              "       [ 1.73102429e-01,  1.18489844e-01,  2.44386625e-01,\n",
              "         1.15226877e-01],\n",
              "       [-9.56200608e-01, -1.01080442e+00, -7.53853673e-01,\n",
              "        -7.00592716e-01],\n",
              "       [ 2.43683869e-01,  1.18489844e-01,  9.83026788e-02,\n",
              "         3.28049379e-01],\n",
              "       [ 1.16124259e+00,  1.24778411e+00,  2.21651990e+00,\n",
              "         2.63362649e+00],\n",
              "       [ 1.02520989e-01,  1.18489844e-01, -1.31384213e+00,\n",
              "        -3.10418128e-01],\n",
              "       [ 1.44356835e+00,  1.24778411e+00,  1.77826806e+00,\n",
              "         2.13704065e+00],\n",
              "       [-1.23852637e+00, -1.01080442e+00, -5.34727754e-01,\n",
              "        -5.23240631e-01],\n",
              "       [ 4.55428188e-01,  1.24778411e+00,  5.12207193e-01,\n",
              "         1.15226877e-01],\n",
              "       [-2.50386210e-01,  1.18489844e-01, -3.64296484e-01,\n",
              "        -3.81358962e-01],\n",
              "       [-1.23852637e+00, -1.01080442e+00, -1.28949481e+00,\n",
              "        -1.30358981e+00],\n",
              "       [ 1.37298691e+00,  1.24778411e+00,  1.21827960e+00,\n",
              "         1.67592523e+00],\n",
              "       [ 1.37298691e+00,  1.24778411e+00,  6.58291139e-01,\n",
              "         5.76342298e-01],\n",
              "       [ 1.58473123e+00,  1.24778411e+00,  9.99153680e-01,\n",
              "         9.31046469e-01],\n",
              "       [-2.50386210e-01,  1.18489844e-01, -7.78200998e-01,\n",
              "        -1.05529689e+00],\n",
              "       [ 1.73102429e-01,  1.18489844e-01,  1.22650003e-01,\n",
              "         2.92578962e-01],\n",
              "       [ 1.02520989e-01,  1.18489844e-01,  9.83026788e-02,\n",
              "        -2.66547917e-02],\n",
              "       [-6.03293409e-01, -1.01080442e+00, -1.11906354e+00,\n",
              "        -1.16170814e+00],\n",
              "       [-6.73874848e-01, -1.01080442e+00, -4.37338457e-01,\n",
              "        -4.52299797e-01],\n",
              "       [-6.03293409e-01, -4.46157290e-01, -5.10380430e-01,\n",
              "        -6.29651882e-01],\n",
              "       [-6.03293409e-01, -4.46157290e-01, -5.10380430e-01,\n",
              "        -2.74947711e-01],\n",
              "       [-1.09223330e-01,  1.18489844e-01, -3.39949159e-01,\n",
              "        -4.87770214e-01],\n",
              "       [-6.03293409e-01, -1.01080442e+00, -6.80811700e-01,\n",
              "        -8.77944801e-01],\n",
              "       [ 2.43683869e-01,  1.18489844e-01,  4.14817895e-01,\n",
              "         6.82753550e-01],\n",
              "       [ 1.73102429e-01,  1.18489844e-01, -2.18212538e-01,\n",
              "        -6.29651882e-01],\n",
              "       [-1.37968925e+00, -1.01080442e+00, -1.16775819e+00,\n",
              "        -9.13415218e-01],\n",
              "       [-9.56200608e-01, -1.01080442e+00, -4.86033106e-01,\n",
              "        -5.58711048e-01],\n",
              "       [ 1.16124259e+00,  1.24778411e+00,  2.60607709e+00,\n",
              "         2.52721524e+00],\n",
              "       [-1.23852637e+00, -1.01080442e+00, -9.24284944e-01,\n",
              "        -6.65122299e-01],\n",
              "       [ 1.02520989e-01,  1.18489844e-01,  7.55680436e-01,\n",
              "         5.76342298e-01],\n",
              "       [-6.03293409e-01, -1.01080442e+00, -7.53853673e-01,\n",
              "        -6.65122299e-01],\n",
              "       [ 1.16124259e+00,  1.24778411e+00,  5.85249166e-01,\n",
              "         2.57108545e-01],\n",
              "       [-2.50386210e-01,  1.18489844e-01, -6.80811700e-01,\n",
              "        -5.58711048e-01],\n",
              "       [-9.56200608e-01, -1.01080442e+00, -7.29506349e-01,\n",
              "        -6.29651882e-01],\n",
              "       [-9.56200608e-01, -1.01080442e+00,  1.71344652e-01,\n",
              "         2.92578962e-01],\n",
              "       [ 3.19395495e-02,  1.18489844e-01, -4.86033106e-01,\n",
              "        -5.58711048e-01],\n",
              "       [-9.56200608e-01, -1.01080442e+00, -6.07769727e-01,\n",
              "        -7.00592716e-01],\n",
              "       [ 1.79647554e+00,  3.50637265e+00,  1.14523763e+00,\n",
              "         1.10839855e+00],\n",
              "       [ 2.00821986e+00,  1.24778411e+00,  1.72957341e+00,\n",
              "         1.95968856e+00],\n",
              "       [ 7.37753948e-01,  1.24778411e+00,  7.31333112e-01,\n",
              "         5.05401464e-01],\n",
              "       [-1.30910781e+00, -1.01080442e+00, -9.24284944e-01,\n",
              "        -1.12623772e+00],\n",
              "       [-1.37968925e+00, -1.01080442e+00, -9.24284944e-01,\n",
              "        -8.07003967e-01],\n",
              "       [-6.03293409e-01, -1.01080442e+00, -7.53853673e-01,\n",
              "        -7.00592716e-01],\n",
              "       [ 1.02520989e-01,  1.18489844e-01, -1.36253678e+00,\n",
              "        -7.36063133e-01],\n",
              "       [-9.56200608e-01, -1.01080442e+00, -3.39949159e-01,\n",
              "        -2.04006877e-01],\n",
              "       [-1.09223330e-01,  1.18489844e-01, -1.93865213e-01,\n",
              "        -2.39477294e-01],\n",
              "       [-1.37968925e+00, -1.01080442e+00, -1.16775819e+00,\n",
              "        -9.13415218e-01],\n",
              "       [-9.56200608e-01, -1.01080442e+00, -8.99937619e-01,\n",
              "        -8.42474384e-01],\n",
              "       [ 1.02520989e-01,  1.18489844e-01, -1.69517889e-01,\n",
              "        -2.74947711e-01],\n",
              "       [-9.56200608e-01, -1.01080442e+00, -6.80811700e-01,\n",
              "        -8.42474384e-01],\n",
              "       [-6.73874848e-01, -1.01080442e+00, -8.51242971e-01,\n",
              "        -8.77944801e-01],\n",
              "       [ 1.30240547e+00,  2.37707838e+00,  1.14523763e+00,\n",
              "         1.17933939e+00],\n",
              "       [ 1.16124259e+00,  1.24778411e+00,  6.09596490e-01,\n",
              "         2.57108545e-01],\n",
              "       [-9.56200608e-01, -1.01080442e+00, -5.34727754e-01,\n",
              "        -4.16829380e-01],\n",
              "       [ 1.51414979e+00,  1.24778411e+00,  5.36554517e-01,\n",
              "         5.40871881e-01],\n",
              "       [-1.23852637e+00, -1.01080442e+00, -1.11906354e+00,\n",
              "        -1.01982647e+00],\n",
              "       [ 6.67172508e-01,  1.18489844e-01,  2.52607058e-02,\n",
              "         1.50697294e-01],\n",
              "       [-1.37968925e+00, -1.01080442e+00, -1.16775819e+00,\n",
              "        -1.30358981e+00],\n",
              "       [ 3.14265309e-01,  1.18489844e-01, -2.91254511e-01,\n",
              "        -2.74947711e-01],\n",
              "       [-9.56200608e-01, -1.01080442e+00, -6.56464376e-01,\n",
              "        -5.23240631e-01],\n",
              "       [ 1.02520989e-01,  1.18489844e-01,  9.13381453e-04,\n",
              "        -6.21252088e-02],\n",
              "       [ 1.73102429e-01,  1.18489844e-01,  1.24262692e+00,\n",
              "         9.66516886e-01],\n",
              "       [ 7.37753948e-01,  1.24778411e+00,  9.74806355e-01,\n",
              "         7.18223967e-01],\n",
              "       [ 2.43683869e-01,  1.18489844e-01,  9.13381453e-04,\n",
              "        -6.21252088e-02],\n",
              "       [ 1.02520989e-01,  1.18489844e-01, -7.21285916e-02,\n",
              "        -1.33066043e-01],\n",
              "       [ 2.43683869e-01,  1.18489844e-01, -1.69517889e-01,\n",
              "        -1.33066043e-01],\n",
              "       [-6.73874848e-01, -1.01080442e+00, -7.53853673e-01,\n",
              "        -9.48885636e-01],\n",
              "       [-2.50386210e-01,  1.18489844e-01,  4.63512544e-01,\n",
              "         4.42860424e-02],\n",
              "       [ 7.37753948e-01,  1.24778411e+00,  9.74806355e-01,\n",
              "         7.18223967e-01],\n",
              "       [-1.23852637e+00, -1.01080442e+00, -9.72979593e-01,\n",
              "        -8.77944801e-01],\n",
              "       [-1.30910781e+00, -1.01080442e+00, -1.33818946e+00,\n",
              "        -1.12623772e+00],\n",
              "       [ 2.29054562e+00,  3.50637265e+00,  1.41305819e+00,\n",
              "         1.00198730e+00],\n",
              "       [-6.03293409e-01, -1.01080442e+00, -8.02548322e-01,\n",
              "        -6.65122299e-01],\n",
              "       [ 1.58473123e+00,  1.24778411e+00,  1.41305819e+00,\n",
              "         1.39216189e+00],\n",
              "       [ 3.19395495e-02,  1.18489844e-01, -4.86033106e-01,\n",
              "        -5.58711048e-01],\n",
              "       [ 6.67172508e-01,  1.18489844e-01,  2.52607058e-02,\n",
              "         1.50697294e-01],\n",
              "       [-2.50386210e-01,  1.18489844e-01, -9.64759159e-02,\n",
              "        -3.81358962e-01],\n",
              "       [ 3.14265309e-01,  1.18489844e-01,  6.58291139e-01,\n",
              "         7.18223967e-01],\n",
              "       [-9.56200608e-01, -1.01080442e+00, -1.24080016e+00,\n",
              "        -1.26811939e+00],\n",
              "       [-2.50386210e-01,  1.18489844e-01, -3.64296484e-01,\n",
              "        -5.58711048e-01],\n",
              "       [ 1.65531266e+00,  1.24778411e+00,  6.09596490e-01,\n",
              "        -9.75956259e-02],\n",
              "       [ 1.30240547e+00,  2.37707838e+00,  1.34001622e+00,\n",
              "         6.47283133e-01],\n",
              "       [ 2.00821986e+00,  1.24778411e+00,  7.31333112e-01,\n",
              "         6.82753550e-01],\n",
              "       [-6.73874848e-01, -1.01080442e+00, -5.10380430e-01,\n",
              "        -6.29651882e-01],\n",
              "       [ 3.14265309e-01,  1.18489844e-01, -2.42559862e-01,\n",
              "        -2.04006877e-01],\n",
              "       [ 1.37298691e+00,  1.24778411e+00,  1.51044749e+00,\n",
              "         1.49857314e+00],\n",
              "       [-2.50386210e-01,  1.18489844e-01,  2.52607058e-02,\n",
              "        -2.39477294e-01],\n",
              "       [ 1.73102429e-01,  1.18489844e-01,  1.36436355e+00,\n",
              "         1.21480981e+00],\n",
              "       [-9.56200608e-01, -1.01080442e+00, -6.56464376e-01,\n",
              "        -8.07003967e-01],\n",
              "       [-1.23852637e+00, -1.01080442e+00, -9.72979593e-01,\n",
              "        -8.77944801e-01],\n",
              "       [-6.03293409e-01, -1.01080442e+00, -1.69517889e-01,\n",
              "         8.81562534e-03],\n",
              "       [ 9.49498267e-01,  1.24778411e+00,  7.06985788e-01,\n",
              "         8.24635218e-01],\n",
              "       [-9.56200608e-01, -1.01080442e+00, -8.51242971e-01,\n",
              "        -8.77944801e-01],\n",
              "       [ 1.73102429e-01,  1.18489844e-01,  2.20039301e-01,\n",
              "         8.81562534e-03],\n",
              "       [ 1.02007971e+00,  1.24778411e+00,  4.14817895e-01,\n",
              "         3.98990213e-01],\n",
              "       [ 7.37753948e-01,  1.24778411e+00,  7.55680436e-01,\n",
              "         6.47283133e-01],\n",
              "       [-9.56200608e-01, -1.01080442e+00, -7.53853673e-01,\n",
              "        -3.10418128e-01],\n",
              "       [ 1.02520989e-01,  1.18489844e-01, -2.66907186e-01,\n",
              "        -3.45888545e-01],\n",
              "       [-1.23852637e+00, -1.01080442e+00, -6.80811700e-01,\n",
              "        -5.58711048e-01],\n",
              "       [ 1.86705698e+00,  3.50637265e+00,  1.63218411e+00,\n",
              "         9.66516886e-01],\n",
              "       [ 9.49498267e-01,  1.24778411e+00,  1.16958495e+00,\n",
              "         9.66516886e-01],\n",
              "       [-6.73874848e-01, -1.01080442e+00, -4.61685781e-01,\n",
              "        -2.74947711e-01],\n",
              "       [-9.56200608e-01, -1.01080442e+00, -7.53853673e-01,\n",
              "        -7.36063133e-01],\n",
              "       [ 1.02007971e+00,  1.24778411e+00,  1.94869933e+00,\n",
              "         1.71139564e+00],\n",
              "       [-6.73874848e-01, -1.01080442e+00, -8.99937619e-01,\n",
              "        -1.05529689e+00],\n",
              "       [ 1.02520989e-01,  1.18489844e-01, -2.91254511e-01,\n",
              "        -2.74947711e-01],\n",
              "       [-9.56200608e-01, -1.01080442e+00, -9.72979593e-01,\n",
              "        -6.65122299e-01],\n",
              "       [ 9.49498267e-01,  1.24778411e+00,  1.16958495e+00,\n",
              "         9.66516886e-01],\n",
              "       [ 3.19395495e-02,  1.18489844e-01, -4.12991132e-01,\n",
              "        -4.16829380e-01],\n",
              "       [ 1.73102429e-01,  1.18489844e-01,  4.39165220e-01,\n",
              "         1.50697294e-01],\n",
              "       [-9.56200608e-01, -1.01080442e+00, -8.99937619e-01,\n",
              "        -8.77944801e-01],\n",
              "       [-1.23852637e+00, -1.01080442e+00, -1.14341086e+00,\n",
              "        -9.48885636e-01],\n",
              "       [ 1.37298691e+00,  1.24778411e+00,  6.58291139e-01,\n",
              "         5.76342298e-01],\n",
              "       [ 1.86705698e+00,  1.24778411e+00,  4.11561120e+00,\n",
              "         3.91056150e+00],\n",
              "       [-9.56200608e-01, -1.01080442e+00, -7.05159025e-01,\n",
              "        -6.65122299e-01],\n",
              "       [ 1.16124259e+00,  1.24778411e+00,  5.12207193e-01,\n",
              "        -2.66547917e-02],\n",
              "       [ 1.65531266e+00,  1.24778411e+00,  1.16958495e+00,\n",
              "         1.56951398e+00],\n",
              "       [-8.85619168e-01, -1.01080442e+00, -1.16775819e+00,\n",
              "        -1.33906022e+00],\n",
              "       [-1.37968925e+00, -1.01080442e+00, -9.48632268e-01,\n",
              "        -8.42474384e-01],\n",
              "       [ 2.43683869e-01,  1.18489844e-01,  1.71344652e-01,\n",
              "         1.50697294e-01],\n",
              "       [-9.56200608e-01, -1.01080442e+00, -7.05159025e-01,\n",
              "        -8.07003967e-01],\n",
              "       [ 4.55428188e-01,  1.18489844e-01,  2.44386625e-01,\n",
              "         6.11812716e-01],\n",
              "       [-1.37968925e+00, -1.01080442e+00, -7.53853673e-01,\n",
              "        -5.23240631e-01],\n",
              "       [-1.23852637e+00, -1.01080442e+00, -8.26895646e-01,\n",
              "        -7.00592716e-01],\n",
              "       [-6.03293409e-01, -1.01080442e+00, -8.26895646e-01,\n",
              "        -5.94181465e-01],\n",
              "       [ 1.37298691e+00,  1.24778411e+00,  2.92259230e+00,\n",
              "         3.48491650e+00],\n",
              "       [-1.09736349e+00, -1.01080442e+00, -8.02548322e-01,\n",
              "        -9.13415218e-01],\n",
              "       [-4.62130529e-01,  1.18489844e-01, -4.37338457e-01,\n",
              "        -5.58711048e-01],\n",
              "       [-2.50386210e-01,  1.18489844e-01, -1.93865213e-01,\n",
              "        -3.10418128e-01],\n",
              "       [ 1.37298691e+00,  1.24778411e+00,  3.90470571e-01,\n",
              "         3.98990213e-01],\n",
              "       [ 4.55428188e-01,  1.18489844e-01,  3.41775922e-01,\n",
              "         7.18223967e-01],\n",
              "       [-1.23852637e+00, -1.01080442e+00, -1.02167424e+00,\n",
              "        -9.84356053e-01],\n",
              "       [-2.50386210e-01,  1.18489844e-01,  9.83026788e-02,\n",
              "         2.21638128e-01],\n",
              "       [ 1.73102429e-01,  1.18489844e-01,  1.48610017e+00,\n",
              "         1.46310273e+00],\n",
              "       [ 1.02520989e-01,  1.18489844e-01,  4.63512544e-01,\n",
              "         6.47283133e-01],\n",
              "       [ 1.16124259e+00,  1.24778411e+00,  6.33943815e-01,\n",
              "         5.05401464e-01],\n",
              "       [ 1.02520989e-01,  1.18489844e-01,  9.01764382e-01,\n",
              "         5.76342298e-01],\n",
              "       [-6.73874848e-01, -1.01080442e+00, -6.56464376e-01,\n",
              "        -5.58711048e-01],\n",
              "       [ 1.51414979e+00,  1.24778411e+00,  5.36554517e-01,\n",
              "         5.40871881e-01],\n",
              "       [ 2.43683869e-01,  1.18489844e-01,  2.52607058e-02,\n",
              "         8.81562534e-03],\n",
              "       [ 1.37298691e+00,  1.24778411e+00,  1.51044749e+00,\n",
              "         1.49857314e+00],\n",
              "       [-1.37968925e+00, -1.01080442e+00, -1.02167424e+00,\n",
              "        -1.12623772e+00],\n",
              "       [ 1.02520989e-01,  1.18489844e-01, -3.64296484e-01,\n",
              "        -4.87770214e-01],\n",
              "       [-9.56200608e-01, -1.01080442e+00, -3.88643808e-01,\n",
              "         8.81562534e-03],\n",
              "       [-9.56200608e-01, -1.01080442e+00, -4.37338457e-01,\n",
              "        -3.45888545e-01],\n",
              "       [-1.23852637e+00, -1.01080442e+00, -1.07036889e+00,\n",
              "        -9.48885636e-01],\n",
              "       [ 1.73102429e-01,  1.18489844e-01,  1.46997328e-01,\n",
              "         1.15226877e-01],\n",
              "       [ 1.73102429e-01,  1.18489844e-01, -4.77812672e-02,\n",
              "        -1.68536460e-01],\n",
              "       [ 2.36112706e+00,  3.50637265e+00,  1.80261538e+00,\n",
              "         1.17933939e+00],\n",
              "       [ 2.43683869e-01,  1.18489844e-01,  4.14817895e-01,\n",
              "         6.82753550e-01],\n",
              "       [ 3.14265309e-01,  1.18489844e-01, -1.45170565e-01,\n",
              "        -1.68536460e-01],\n",
              "       [ 2.43683869e-01,  1.18489844e-01,  1.34001622e+00,\n",
              "         1.49857314e+00],\n",
              "       [-1.09736349e+00, -1.01080442e+00, -1.33818946e+00,\n",
              "        -1.26811939e+00],\n",
              "       [-6.73874848e-01, -1.01080442e+00, -7.29506349e-01,\n",
              "        -4.16829380e-01],\n",
              "       [-6.03293409e-01, -1.01080442e+00, -1.82513594e+00,\n",
              "        -1.16170814e+00],\n",
              "       [-2.50386210e-01,  1.18489844e-01, -2.34339429e-02,\n",
              "        -2.04006877e-01],\n",
              "       [ 1.02520989e-01,  1.18489844e-01,  1.36436355e+00,\n",
              "         1.56951398e+00],\n",
              "       [-1.23852637e+00, -1.01080442e+00, -9.72979593e-01,\n",
              "        -7.00592716e-01],\n",
              "       [ 2.43683869e-01,  1.18489844e-01,  1.68087876e+00,\n",
              "         2.06609982e+00],\n",
              "       [-1.09736349e+00, -1.01080442e+00, -8.26895646e-01,\n",
              "        -8.07003967e-01],\n",
              "       [ 1.37298691e+00,  1.24778411e+00,  1.60783679e+00,\n",
              "         1.67592523e+00],\n",
              "       [-6.03293409e-01, -1.01080442e+00, -1.89817792e+00,\n",
              "        -1.26811939e+00],\n",
              "       [-9.56200608e-01, -1.01080442e+00, -4.37338457e-01,\n",
              "        -3.45888545e-01],\n",
              "       [ 2.14938274e+00,  1.24778411e+00,  8.28722409e-01,\n",
              "         2.92578962e-01],\n",
              "       [ 2.14938274e+00,  1.24778411e+00,  8.28722409e-01,\n",
              "         2.92578962e-01],\n",
              "       [-6.03293409e-01,  1.18489844e-01, -5.10380430e-01,\n",
              "        -5.94181465e-01],\n",
              "       [ 1.44356835e+00,  1.24778411e+00,  1.19393227e+00,\n",
              "         1.35669147e+00],\n",
              "       [-9.56200608e-01, -1.01080442e+00, -8.26895646e-01,\n",
              "        -8.77944801e-01],\n",
              "       [-2.50386210e-01,  1.18489844e-01, -3.88643808e-01,\n",
              "        -5.94181465e-01],\n",
              "       [-1.52085213e+00, -1.57545156e+00, -1.53296805e+00,\n",
              "        -1.37453064e+00],\n",
              "       [-6.03293409e-01, -4.46157290e-01, -4.12991132e-01,\n",
              "        -4.16829380e-01],\n",
              "       [ 1.73102429e-01,  1.18489844e-01,  1.75392073e+00,\n",
              "         1.78233648e+00],\n",
              "       [-1.09736349e+00, -1.01080442e+00, -1.26514748e+00,\n",
              "        -1.16170814e+00],\n",
              "       [-1.37968925e+00, -1.01080442e+00, -1.02167424e+00,\n",
              "        -9.48885636e-01],\n",
              "       [-2.50386210e-01,  1.18489844e-01, -4.12991132e-01,\n",
              "        -3.81358962e-01],\n",
              "       [-9.56200608e-01, -1.01080442e+00, -4.12991132e-01,\n",
              "        -7.00592716e-01],\n",
              "       [-2.50386210e-01,  1.18489844e-01,  3.41775922e-01,\n",
              "        -1.33066043e-01],\n",
              "       [-6.73874848e-01, -1.01080442e+00, -5.83422403e-01,\n",
              "        -3.10418128e-01],\n",
              "       [ 1.16124259e+00,  1.24778411e+00,  2.21651990e+00,\n",
              "         2.66909691e+00],\n",
              "       [-6.73874848e-01, -1.01080442e+00, -5.83422403e-01,\n",
              "        -3.10418128e-01],\n",
              "       [ 1.02520989e-01,  1.18489844e-01,  2.52607058e-02,\n",
              "         3.63519796e-01],\n",
              "       [ 1.02520989e-01,  1.18489844e-01,  2.93081274e-01,\n",
              "         3.98990213e-01],\n",
              "       [-9.56200608e-01, -1.01080442e+00, -1.87383059e+00,\n",
              "        -1.09076730e+00],\n",
              "       [ 1.65531266e+00,  1.24778411e+00,  1.34001622e+00,\n",
              "         1.46310273e+00],\n",
              "       [ 1.79647554e+00,  3.50637265e+00,  1.14523763e+00,\n",
              "         1.10839855e+00],\n",
              "       [-1.23852637e+00, -1.01080442e+00, -9.48632268e-01,\n",
              "        -1.09076730e+00],\n",
              "       [-9.56200608e-01, -1.01080442e+00, -8.26895646e-01,\n",
              "        -7.36063133e-01],\n",
              "       [ 1.02520989e-01,  1.18489844e-01, -2.42559862e-01,\n",
              "        -3.45888545e-01],\n",
              "       [-2.50386210e-01,  1.18489844e-01, -4.77812672e-02,\n",
              "        -2.39477294e-01],\n",
              "       [-1.37968925e+00, -1.01080442e+00, -1.16775819e+00,\n",
              "        -9.13415218e-01],\n",
              "       [ 1.73102429e-01,  1.18489844e-01,  9.83026788e-02,\n",
              "        -2.04006877e-01],\n",
              "       [ 1.16124259e+00,  1.24778411e+00,  7.55680436e-01,\n",
              "         1.00198730e+00],\n",
              "       [-9.56200608e-01, -1.01080442e+00, -6.56464376e-01,\n",
              "        -8.07003967e-01],\n",
              "       [-6.73874848e-01, -1.01080442e+00, -8.26895646e-01,\n",
              "        -4.87770214e-01],\n",
              "       [ 3.14265309e-01,  1.18489844e-01, -1.69517889e-01,\n",
              "        -3.10418128e-01],\n",
              "       [ 1.65531266e+00,  1.24778411e+00,  6.82638463e-01,\n",
              "         1.86167711e-01],\n",
              "       [ 1.86705698e+00,  3.50637265e+00,  1.31566890e+00,\n",
              "         7.18223967e-01],\n",
              "       [-9.56200608e-01, -1.01080442e+00, -3.64296484e-01,\n",
              "        -4.16829380e-01],\n",
              "       [ 2.00821986e+00,  1.24778411e+00,  1.31566890e+00,\n",
              "         1.56951398e+00],\n",
              "       [-9.56200608e-01, -1.01080442e+00, -7.05159025e-01,\n",
              "        -6.65122299e-01],\n",
              "       [ 1.16124259e+00,  1.24778411e+00,  2.84955033e+00,\n",
              "         2.63362649e+00],\n",
              "       [-9.56200608e-01, -1.01080442e+00, -4.37338457e-01,\n",
              "        -4.87770214e-01],\n",
              "       [ 2.00821986e+00,  1.24778411e+00,  3.90470571e-01,\n",
              "        -3.45888545e-01],\n",
              "       [-6.03293409e-01, -1.01080442e+00, -5.83422403e-01,\n",
              "        -7.00592716e-01],\n",
              "       [-2.50386210e-01,  1.18489844e-01,  3.17428598e-01,\n",
              "         1.15226877e-01],\n",
              "       [-9.56200608e-01, -1.01080442e+00, -5.10380430e-01,\n",
              "        -3.45888545e-01],\n",
              "       [ 1.02007971e+00,  1.24778411e+00,  1.90000468e+00,\n",
              "         1.67592523e+00],\n",
              "       [-1.23852637e+00, -1.01080442e+00, -1.14341086e+00,\n",
              "        -9.48885636e-01],\n",
              "       [ 1.02520989e-01,  1.18489844e-01, -3.39949159e-01,\n",
              "        -1.68536460e-01],\n",
              "       [-1.09736349e+00, -1.01080442e+00, -8.51242971e-01,\n",
              "        -7.71533550e-01],\n",
              "       [-1.09736349e+00, -1.01080442e+00, -9.72979593e-01,\n",
              "        -1.09076730e+00]])"
            ]
          },
          "metadata": {},
          "execution_count": 311
        }
      ]
    },
    {
      "cell_type": "code",
      "source": [
        "y_pred1 = modelo1.predict(X_test)\n",
        "y_pred1"
      ],
      "metadata": {
        "colab": {
          "base_uri": "https://localhost:8080/"
        },
        "id": "IluyaE1BDg4V",
        "outputId": "b20203de-00e7-4386-a1ac-d9ef51cf0a46"
      },
      "execution_count": null,
      "outputs": [
        {
          "output_type": "execute_result",
          "data": {
            "text/plain": [
              "array([1, 0, 1, 1, 1, 0, 1, 1, 0, 1, 0, 1, 0, 0, 1, 1, 1, 0, 1, 1, 0, 0,\n",
              "       0, 0, 0, 0, 1, 0, 0, 0, 1, 0, 1, 0, 1, 0, 0, 0, 0, 0, 1, 1, 1, 0,\n",
              "       0, 0, 0, 0, 0, 0, 0, 0, 0, 0, 1, 1, 0, 1, 0, 1, 0, 0, 0, 1, 1, 1,\n",
              "       1, 1, 0, 0, 1, 1, 0, 0, 1, 0, 1, 0, 1, 0, 1, 0, 0, 1, 1, 1, 0, 0,\n",
              "       1, 1, 1, 0, 0, 0, 1, 0, 1, 1, 1, 0, 0, 0, 1, 1, 0, 0, 1, 0, 0, 0,\n",
              "       1, 0, 1, 0, 0, 1, 1, 0, 1, 1, 0, 0, 1, 0, 1, 0, 0, 0, 1, 0, 0, 0,\n",
              "       1, 1, 0, 1, 1, 1, 1, 1, 0, 1, 1, 1, 0, 0, 0, 0, 0, 1, 1, 1, 1, 0,\n",
              "       1, 0, 0, 0, 1, 1, 0, 1, 0, 1, 0, 0, 1, 1, 0, 1, 0, 0, 0, 0, 1, 0,\n",
              "       0, 0, 0, 1, 0, 1, 0, 1, 1, 0, 1, 1, 0, 0, 0, 1, 0, 1, 1, 0, 0, 0,\n",
              "       1, 1, 0, 1, 0, 1, 0, 1, 0, 1, 0, 1, 0, 0, 0, 0])"
            ]
          },
          "metadata": {},
          "execution_count": 312
        }
      ]
    },
    {
      "cell_type": "code",
      "source": [
        "y_pred2 = modelo2.predict(X_test)\n",
        "y_pred2"
      ],
      "metadata": {
        "colab": {
          "base_uri": "https://localhost:8080/"
        },
        "id": "aE5I6zlpDo5m",
        "outputId": "f29bf077-6183-4bd8-a84e-9fb8efaee59b"
      },
      "execution_count": null,
      "outputs": [
        {
          "output_type": "execute_result",
          "data": {
            "text/plain": [
              "array([1, 0, 0, 1, 1, 0, 1, 1, 0, 1, 0, 1, 0, 0, 1, 1, 1, 0, 1, 1, 0, 0,\n",
              "       0, 0, 0, 0, 1, 0, 0, 0, 1, 0, 1, 0, 1, 0, 0, 1, 0, 0, 1, 1, 1, 0,\n",
              "       0, 0, 0, 0, 0, 0, 0, 0, 0, 0, 1, 1, 0, 1, 0, 1, 0, 0, 0, 1, 1, 1,\n",
              "       1, 1, 0, 0, 1, 1, 0, 0, 1, 0, 1, 0, 1, 0, 1, 0, 0, 1, 1, 1, 0, 0,\n",
              "       1, 1, 1, 0, 0, 0, 1, 0, 1, 1, 1, 0, 0, 0, 1, 1, 0, 0, 1, 0, 0, 0,\n",
              "       1, 0, 1, 0, 0, 1, 1, 0, 1, 1, 0, 0, 1, 0, 1, 0, 0, 0, 1, 0, 0, 0,\n",
              "       1, 1, 0, 1, 1, 1, 1, 1, 0, 1, 1, 1, 0, 0, 0, 0, 0, 1, 1, 1, 1, 0,\n",
              "       1, 0, 0, 0, 1, 1, 0, 1, 0, 1, 0, 0, 1, 1, 0, 1, 0, 0, 0, 0, 1, 0,\n",
              "       0, 0, 0, 1, 0, 1, 0, 1, 1, 0, 1, 1, 0, 0, 0, 1, 0, 1, 1, 0, 0, 0,\n",
              "       1, 1, 0, 1, 0, 1, 0, 1, 0, 1, 0, 1, 0, 0, 0, 0])"
            ]
          },
          "metadata": {},
          "execution_count": 313
        }
      ]
    },
    {
      "cell_type": "code",
      "source": [
        "y_pred3 = modelo3.predict(X_test)\n",
        "y_pred3"
      ],
      "metadata": {
        "colab": {
          "base_uri": "https://localhost:8080/"
        },
        "id": "A9niXMGgDs29",
        "outputId": "f5389101-f283-40f5-bd44-b3bbc355ecd1"
      },
      "execution_count": null,
      "outputs": [
        {
          "output_type": "execute_result",
          "data": {
            "text/plain": [
              "array([1, 0, 1, 1, 1, 0, 1, 1, 0, 1, 0, 1, 0, 0, 1, 1, 1, 0, 1, 1, 0, 0,\n",
              "       0, 0, 0, 0, 1, 0, 0, 0, 1, 0, 1, 0, 1, 0, 0, 1, 0, 0, 1, 1, 1, 0,\n",
              "       0, 0, 0, 0, 0, 0, 0, 0, 0, 0, 1, 1, 0, 1, 0, 1, 0, 0, 0, 1, 1, 1,\n",
              "       1, 1, 0, 0, 1, 1, 0, 0, 1, 0, 1, 0, 1, 0, 1, 0, 0, 1, 1, 1, 0, 0,\n",
              "       1, 0, 1, 0, 0, 0, 1, 0, 1, 1, 1, 0, 0, 0, 1, 1, 0, 0, 1, 0, 0, 0,\n",
              "       1, 0, 1, 0, 0, 1, 1, 0, 1, 1, 0, 0, 1, 0, 1, 0, 0, 0, 1, 0, 0, 0,\n",
              "       1, 1, 0, 1, 1, 1, 1, 1, 0, 1, 1, 1, 0, 0, 0, 0, 0, 1, 0, 1, 1, 0,\n",
              "       1, 0, 0, 0, 0, 1, 0, 1, 0, 1, 0, 0, 1, 1, 0, 1, 0, 0, 0, 0, 1, 0,\n",
              "       0, 0, 0, 1, 0, 1, 0, 1, 1, 0, 1, 1, 0, 0, 0, 0, 0, 0, 1, 0, 0, 0,\n",
              "       1, 1, 0, 1, 0, 1, 0, 1, 0, 1, 0, 1, 0, 0, 0, 0])"
            ]
          },
          "metadata": {},
          "execution_count": 314
        }
      ]
    },
    {
      "cell_type": "code",
      "source": [
        "y_pred4 = modelo4.predict(X_test)\n",
        "y_pred4"
      ],
      "metadata": {
        "colab": {
          "base_uri": "https://localhost:8080/"
        },
        "id": "19q5FnDLDvlw",
        "outputId": "0c4c38ed-17ca-40e2-c744-b561238822ce"
      },
      "execution_count": null,
      "outputs": [
        {
          "output_type": "execute_result",
          "data": {
            "text/plain": [
              "array([0, 0, 0, 0, 0, 0, 0, 0, 0, 0, 0, 0, 0, 0, 0, 0, 0, 0, 0, 0, 0, 0,\n",
              "       0, 0, 0, 0, 0, 0, 0, 0, 0, 0, 0, 0, 0, 0, 0, 0, 0, 0, 0, 0, 0, 0,\n",
              "       0, 0, 0, 0, 0, 0, 0, 0, 0, 0, 0, 0, 0, 0, 0, 0, 0, 0, 0, 0, 0, 0,\n",
              "       0, 0, 0, 0, 0, 0, 0, 0, 0, 0, 0, 0, 0, 0, 0, 0, 0, 0, 0, 0, 0, 0,\n",
              "       0, 0, 0, 0, 0, 0, 0, 0, 0, 0, 0, 0, 0, 0, 0, 0, 0, 0, 0, 0, 0, 0,\n",
              "       0, 0, 0, 0, 0, 0, 0, 0, 0, 0, 0, 0, 0, 0, 0, 0, 0, 0, 0, 0, 0, 0,\n",
              "       0, 0, 0, 0, 0, 0, 0, 0, 0, 0, 0, 0, 0, 0, 0, 0, 0, 0, 0, 0, 0, 0,\n",
              "       0, 0, 0, 0, 0, 0, 0, 0, 0, 0, 0, 0, 0, 0, 0, 0, 0, 0, 0, 0, 0, 0,\n",
              "       0, 0, 0, 0, 0, 0, 0, 0, 0, 0, 0, 0, 0, 0, 0, 0, 0, 0, 0, 0, 0, 0,\n",
              "       0, 0, 0, 0, 0, 0, 0, 0, 0, 0, 0, 0, 0, 0, 0, 0])"
            ]
          },
          "metadata": {},
          "execution_count": 315
        }
      ]
    },
    {
      "cell_type": "code",
      "source": [
        "y_pred5 = modelo5.predict(X_test)\n",
        "y_pred5"
      ],
      "metadata": {
        "colab": {
          "base_uri": "https://localhost:8080/"
        },
        "id": "70IXmOqvDyZU",
        "outputId": "78f29a65-9ab2-44f1-aeab-d2a0032aabeb"
      },
      "execution_count": null,
      "outputs": [
        {
          "output_type": "execute_result",
          "data": {
            "text/plain": [
              "array([1, 0, 0, 1, 1, 0, 1, 1, 0, 1, 0, 1, 0, 0, 1, 1, 1, 0, 1, 1, 0, 0,\n",
              "       0, 0, 0, 0, 1, 0, 0, 0, 1, 0, 1, 0, 1, 0, 0, 1, 0, 0, 1, 1, 1, 0,\n",
              "       0, 0, 0, 0, 0, 0, 0, 0, 0, 0, 1, 1, 0, 1, 0, 1, 0, 0, 0, 1, 1, 1,\n",
              "       1, 1, 0, 0, 1, 1, 0, 0, 1, 0, 1, 0, 1, 0, 1, 0, 0, 1, 1, 1, 0, 0,\n",
              "       1, 1, 1, 0, 0, 1, 1, 0, 1, 1, 1, 0, 0, 0, 1, 1, 0, 0, 1, 0, 0, 0,\n",
              "       1, 0, 1, 0, 0, 1, 1, 0, 1, 1, 0, 0, 1, 0, 1, 0, 0, 0, 1, 0, 0, 0,\n",
              "       1, 1, 0, 1, 1, 1, 1, 1, 0, 1, 1, 1, 0, 0, 0, 0, 0, 1, 1, 1, 1, 0,\n",
              "       1, 0, 0, 0, 1, 1, 0, 1, 0, 1, 0, 0, 1, 1, 0, 1, 0, 0, 0, 0, 1, 0,\n",
              "       0, 0, 0, 1, 0, 1, 0, 1, 1, 0, 1, 1, 0, 0, 0, 1, 0, 1, 1, 0, 0, 0,\n",
              "       1, 1, 0, 1, 0, 1, 0, 1, 0, 1, 0, 1, 0, 0, 0, 0])"
            ]
          },
          "metadata": {},
          "execution_count": 316
        }
      ]
    },
    {
      "cell_type": "code",
      "source": [
        "y_test = test_data[\"CO2EMISSIONS\"]\n",
        "y_test"
      ],
      "metadata": {
        "colab": {
          "base_uri": "https://localhost:8080/"
        },
        "id": "te6c-p7fEaKc",
        "outputId": "ca37eb04-d0fc-40f1-de82-074d3764e687"
      },
      "execution_count": null,
      "outputs": [
        {
          "output_type": "execute_result",
          "data": {
            "text/plain": [
              "427     0\n",
              "913     1\n",
              "895     0\n",
              "278     0\n",
              "1028    1\n",
              "       ..\n",
              "223     1\n",
              "789     0\n",
              "541     0\n",
              "1020    0\n",
              "602     0\n",
              "Name: CO2EMISSIONS, Length: 214, dtype: int64"
            ]
          },
          "metadata": {},
          "execution_count": 317
        }
      ]
    },
    {
      "cell_type": "code",
      "source": [
        "from sklearn.metrics import accuracy_score\n",
        "accuracy1 = accuracy_score(y_test, y_pred1)"
      ],
      "metadata": {
        "id": "yD-p_fXJKzsf"
      },
      "execution_count": null,
      "outputs": []
    },
    {
      "cell_type": "code",
      "source": [
        "from sklearn.metrics import accuracy_score\n",
        "accuracy2 = accuracy_score(y_test, y_pred2)"
      ],
      "metadata": {
        "id": "tiuVoGxIMKLL"
      },
      "execution_count": null,
      "outputs": []
    },
    {
      "cell_type": "code",
      "source": [
        "from sklearn.metrics import accuracy_score\n",
        "accuracy3 = accuracy_score(y_test, y_pred3)"
      ],
      "metadata": {
        "id": "XR8K73hzMNab"
      },
      "execution_count": null,
      "outputs": []
    },
    {
      "cell_type": "code",
      "source": [
        "from sklearn.metrics import accuracy_score\n",
        "accuracy4 = accuracy_score(y_test, y_pred4)"
      ],
      "metadata": {
        "id": "hvB0Ufz9MPeS"
      },
      "execution_count": null,
      "outputs": []
    },
    {
      "cell_type": "code",
      "source": [
        "from sklearn.metrics import accuracy_score\n",
        "accuracy5 = accuracy_score(y_test, y_pred5)"
      ],
      "metadata": {
        "id": "pIZPH7_qMRV2"
      },
      "execution_count": null,
      "outputs": []
    },
    {
      "cell_type": "markdown",
      "source": [
        "### Se genera la tabla comparativa del accuracy de los modelos"
      ],
      "metadata": {
        "id": "tKf84evpQ6VI"
      }
    },
    {
      "cell_type": "code",
      "source": [
        "accuracies = {\n",
        "    \"Model\": [\"model 1\", \"model 2\", \"model 3\", \"model 4\", \"model 5\"],\n",
        "    \"Accuracy\": [accuracy1, accuracy2, accuracy3, accuracy4, accuracy5]\n",
        "}\n",
        "pd.DataFrame(accuracies)"
      ],
      "metadata": {
        "colab": {
          "base_uri": "https://localhost:8080/",
          "height": 206
        },
        "id": "q-T-QJu6RRmf",
        "outputId": "a5618541-c09e-4d4d-dab8-e526c1698df2"
      },
      "execution_count": null,
      "outputs": [
        {
          "output_type": "execute_result",
          "data": {
            "text/plain": [
              "      Model  Accuracy\n",
              "0   model 1  0.948598\n",
              "1   model 2  0.957944\n",
              "2   model 3  0.929907\n",
              "3   model 4  0.556075\n",
              "4  model 55  0.962617"
            ],
            "text/html": [
              "\n",
              "  <div id=\"df-f5e16c38-b35e-4852-842f-6319f27159f6\" class=\"colab-df-container\">\n",
              "    <div>\n",
              "<style scoped>\n",
              "    .dataframe tbody tr th:only-of-type {\n",
              "        vertical-align: middle;\n",
              "    }\n",
              "\n",
              "    .dataframe tbody tr th {\n",
              "        vertical-align: top;\n",
              "    }\n",
              "\n",
              "    .dataframe thead th {\n",
              "        text-align: right;\n",
              "    }\n",
              "</style>\n",
              "<table border=\"1\" class=\"dataframe\">\n",
              "  <thead>\n",
              "    <tr style=\"text-align: right;\">\n",
              "      <th></th>\n",
              "      <th>Model</th>\n",
              "      <th>Accuracy</th>\n",
              "    </tr>\n",
              "  </thead>\n",
              "  <tbody>\n",
              "    <tr>\n",
              "      <th>0</th>\n",
              "      <td>model 1</td>\n",
              "      <td>0.948598</td>\n",
              "    </tr>\n",
              "    <tr>\n",
              "      <th>1</th>\n",
              "      <td>model 2</td>\n",
              "      <td>0.957944</td>\n",
              "    </tr>\n",
              "    <tr>\n",
              "      <th>2</th>\n",
              "      <td>model 3</td>\n",
              "      <td>0.929907</td>\n",
              "    </tr>\n",
              "    <tr>\n",
              "      <th>3</th>\n",
              "      <td>model 4</td>\n",
              "      <td>0.556075</td>\n",
              "    </tr>\n",
              "    <tr>\n",
              "      <th>4</th>\n",
              "      <td>model 55</td>\n",
              "      <td>0.962617</td>\n",
              "    </tr>\n",
              "  </tbody>\n",
              "</table>\n",
              "</div>\n",
              "    <div class=\"colab-df-buttons\">\n",
              "\n",
              "  <div class=\"colab-df-container\">\n",
              "    <button class=\"colab-df-convert\" onclick=\"convertToInteractive('df-f5e16c38-b35e-4852-842f-6319f27159f6')\"\n",
              "            title=\"Convert this dataframe to an interactive table.\"\n",
              "            style=\"display:none;\">\n",
              "\n",
              "  <svg xmlns=\"http://www.w3.org/2000/svg\" height=\"24px\" viewBox=\"0 -960 960 960\">\n",
              "    <path d=\"M120-120v-720h720v720H120Zm60-500h600v-160H180v160Zm220 220h160v-160H400v160Zm0 220h160v-160H400v160ZM180-400h160v-160H180v160Zm440 0h160v-160H620v160ZM180-180h160v-160H180v160Zm440 0h160v-160H620v160Z\"/>\n",
              "  </svg>\n",
              "    </button>\n",
              "\n",
              "  <style>\n",
              "    .colab-df-container {\n",
              "      display:flex;\n",
              "      gap: 12px;\n",
              "    }\n",
              "\n",
              "    .colab-df-convert {\n",
              "      background-color: #E8F0FE;\n",
              "      border: none;\n",
              "      border-radius: 50%;\n",
              "      cursor: pointer;\n",
              "      display: none;\n",
              "      fill: #1967D2;\n",
              "      height: 32px;\n",
              "      padding: 0 0 0 0;\n",
              "      width: 32px;\n",
              "    }\n",
              "\n",
              "    .colab-df-convert:hover {\n",
              "      background-color: #E2EBFA;\n",
              "      box-shadow: 0px 1px 2px rgba(60, 64, 67, 0.3), 0px 1px 3px 1px rgba(60, 64, 67, 0.15);\n",
              "      fill: #174EA6;\n",
              "    }\n",
              "\n",
              "    .colab-df-buttons div {\n",
              "      margin-bottom: 4px;\n",
              "    }\n",
              "\n",
              "    [theme=dark] .colab-df-convert {\n",
              "      background-color: #3B4455;\n",
              "      fill: #D2E3FC;\n",
              "    }\n",
              "\n",
              "    [theme=dark] .colab-df-convert:hover {\n",
              "      background-color: #434B5C;\n",
              "      box-shadow: 0px 1px 3px 1px rgba(0, 0, 0, 0.15);\n",
              "      filter: drop-shadow(0px 1px 2px rgba(0, 0, 0, 0.3));\n",
              "      fill: #FFFFFF;\n",
              "    }\n",
              "  </style>\n",
              "\n",
              "    <script>\n",
              "      const buttonEl =\n",
              "        document.querySelector('#df-f5e16c38-b35e-4852-842f-6319f27159f6 button.colab-df-convert');\n",
              "      buttonEl.style.display =\n",
              "        google.colab.kernel.accessAllowed ? 'block' : 'none';\n",
              "\n",
              "      async function convertToInteractive(key) {\n",
              "        const element = document.querySelector('#df-f5e16c38-b35e-4852-842f-6319f27159f6');\n",
              "        const dataTable =\n",
              "          await google.colab.kernel.invokeFunction('convertToInteractive',\n",
              "                                                    [key], {});\n",
              "        if (!dataTable) return;\n",
              "\n",
              "        const docLinkHtml = 'Like what you see? Visit the ' +\n",
              "          '<a target=\"_blank\" href=https://colab.research.google.com/notebooks/data_table.ipynb>data table notebook</a>'\n",
              "          + ' to learn more about interactive tables.';\n",
              "        element.innerHTML = '';\n",
              "        dataTable['output_type'] = 'display_data';\n",
              "        await google.colab.output.renderOutput(dataTable, element);\n",
              "        const docLink = document.createElement('div');\n",
              "        docLink.innerHTML = docLinkHtml;\n",
              "        element.appendChild(docLink);\n",
              "      }\n",
              "    </script>\n",
              "  </div>\n",
              "\n",
              "\n",
              "<div id=\"df-753f0e97-43bb-4603-ad44-3875d91ed4af\">\n",
              "  <button class=\"colab-df-quickchart\" onclick=\"quickchart('df-753f0e97-43bb-4603-ad44-3875d91ed4af')\"\n",
              "            title=\"Suggest charts\"\n",
              "            style=\"display:none;\">\n",
              "\n",
              "<svg xmlns=\"http://www.w3.org/2000/svg\" height=\"24px\"viewBox=\"0 0 24 24\"\n",
              "     width=\"24px\">\n",
              "    <g>\n",
              "        <path d=\"M19 3H5c-1.1 0-2 .9-2 2v14c0 1.1.9 2 2 2h14c1.1 0 2-.9 2-2V5c0-1.1-.9-2-2-2zM9 17H7v-7h2v7zm4 0h-2V7h2v10zm4 0h-2v-4h2v4z\"/>\n",
              "    </g>\n",
              "</svg>\n",
              "  </button>\n",
              "\n",
              "<style>\n",
              "  .colab-df-quickchart {\n",
              "      --bg-color: #E8F0FE;\n",
              "      --fill-color: #1967D2;\n",
              "      --hover-bg-color: #E2EBFA;\n",
              "      --hover-fill-color: #174EA6;\n",
              "      --disabled-fill-color: #AAA;\n",
              "      --disabled-bg-color: #DDD;\n",
              "  }\n",
              "\n",
              "  [theme=dark] .colab-df-quickchart {\n",
              "      --bg-color: #3B4455;\n",
              "      --fill-color: #D2E3FC;\n",
              "      --hover-bg-color: #434B5C;\n",
              "      --hover-fill-color: #FFFFFF;\n",
              "      --disabled-bg-color: #3B4455;\n",
              "      --disabled-fill-color: #666;\n",
              "  }\n",
              "\n",
              "  .colab-df-quickchart {\n",
              "    background-color: var(--bg-color);\n",
              "    border: none;\n",
              "    border-radius: 50%;\n",
              "    cursor: pointer;\n",
              "    display: none;\n",
              "    fill: var(--fill-color);\n",
              "    height: 32px;\n",
              "    padding: 0;\n",
              "    width: 32px;\n",
              "  }\n",
              "\n",
              "  .colab-df-quickchart:hover {\n",
              "    background-color: var(--hover-bg-color);\n",
              "    box-shadow: 0 1px 2px rgba(60, 64, 67, 0.3), 0 1px 3px 1px rgba(60, 64, 67, 0.15);\n",
              "    fill: var(--button-hover-fill-color);\n",
              "  }\n",
              "\n",
              "  .colab-df-quickchart-complete:disabled,\n",
              "  .colab-df-quickchart-complete:disabled:hover {\n",
              "    background-color: var(--disabled-bg-color);\n",
              "    fill: var(--disabled-fill-color);\n",
              "    box-shadow: none;\n",
              "  }\n",
              "\n",
              "  .colab-df-spinner {\n",
              "    border: 2px solid var(--fill-color);\n",
              "    border-color: transparent;\n",
              "    border-bottom-color: var(--fill-color);\n",
              "    animation:\n",
              "      spin 1s steps(1) infinite;\n",
              "  }\n",
              "\n",
              "  @keyframes spin {\n",
              "    0% {\n",
              "      border-color: transparent;\n",
              "      border-bottom-color: var(--fill-color);\n",
              "      border-left-color: var(--fill-color);\n",
              "    }\n",
              "    20% {\n",
              "      border-color: transparent;\n",
              "      border-left-color: var(--fill-color);\n",
              "      border-top-color: var(--fill-color);\n",
              "    }\n",
              "    30% {\n",
              "      border-color: transparent;\n",
              "      border-left-color: var(--fill-color);\n",
              "      border-top-color: var(--fill-color);\n",
              "      border-right-color: var(--fill-color);\n",
              "    }\n",
              "    40% {\n",
              "      border-color: transparent;\n",
              "      border-right-color: var(--fill-color);\n",
              "      border-top-color: var(--fill-color);\n",
              "    }\n",
              "    60% {\n",
              "      border-color: transparent;\n",
              "      border-right-color: var(--fill-color);\n",
              "    }\n",
              "    80% {\n",
              "      border-color: transparent;\n",
              "      border-right-color: var(--fill-color);\n",
              "      border-bottom-color: var(--fill-color);\n",
              "    }\n",
              "    90% {\n",
              "      border-color: transparent;\n",
              "      border-bottom-color: var(--fill-color);\n",
              "    }\n",
              "  }\n",
              "</style>\n",
              "\n",
              "  <script>\n",
              "    async function quickchart(key) {\n",
              "      const quickchartButtonEl =\n",
              "        document.querySelector('#' + key + ' button');\n",
              "      quickchartButtonEl.disabled = true;  // To prevent multiple clicks.\n",
              "      quickchartButtonEl.classList.add('colab-df-spinner');\n",
              "      try {\n",
              "        const charts = await google.colab.kernel.invokeFunction(\n",
              "            'suggestCharts', [key], {});\n",
              "      } catch (error) {\n",
              "        console.error('Error during call to suggestCharts:', error);\n",
              "      }\n",
              "      quickchartButtonEl.classList.remove('colab-df-spinner');\n",
              "      quickchartButtonEl.classList.add('colab-df-quickchart-complete');\n",
              "    }\n",
              "    (() => {\n",
              "      let quickchartButtonEl =\n",
              "        document.querySelector('#df-753f0e97-43bb-4603-ad44-3875d91ed4af button');\n",
              "      quickchartButtonEl.style.display =\n",
              "        google.colab.kernel.accessAllowed ? 'block' : 'none';\n",
              "    })();\n",
              "  </script>\n",
              "</div>\n",
              "    </div>\n",
              "  </div>\n"
            ],
            "application/vnd.google.colaboratory.intrinsic+json": {
              "type": "dataframe",
              "summary": "{\n  \"name\": \"pd\",\n  \"rows\": 5,\n  \"fields\": [\n    {\n      \"column\": \"Model\",\n      \"properties\": {\n        \"dtype\": \"string\",\n        \"num_unique_values\": 5,\n        \"samples\": [\n          \"model 2\",\n          \"model 55\",\n          \"model 3\"\n        ],\n        \"semantic_type\": \"\",\n        \"description\": \"\"\n      }\n    },\n    {\n      \"column\": \"Accuracy\",\n      \"properties\": {\n        \"dtype\": \"number\",\n        \"std\": 0.17650937492809118,\n        \"min\": 0.5560747663551402,\n        \"max\": 0.9626168224299065,\n        \"num_unique_values\": 5,\n        \"samples\": [\n          0.9579439252336449,\n          0.9626168224299065,\n          0.9299065420560748\n        ],\n        \"semantic_type\": \"\",\n        \"description\": \"\"\n      }\n    }\n  ]\n}"
            }
          },
          "metadata": {},
          "execution_count": 323
        }
      ]
    },
    {
      "cell_type": "markdown",
      "source": [
        "### Se generan las matrices de confusión"
      ],
      "metadata": {
        "id": "vEEzBKZ8P_wa"
      }
    },
    {
      "cell_type": "code",
      "source": [
        "from sklearn.metrics import confusion_matrix\n",
        "\n",
        "confusion_matrix1 = confusion_matrix(y_test, y_pred1)\n",
        "confusion_matrix1"
      ],
      "metadata": {
        "colab": {
          "base_uri": "https://localhost:8080/"
        },
        "id": "_5WrWaRNNA9j",
        "outputId": "e1c42769-11de-4f1e-99e3-62be3378bb46"
      },
      "execution_count": null,
      "outputs": [
        {
          "output_type": "execute_result",
          "data": {
            "text/plain": [
              "array([[113,   6],\n",
              "       [  5,  90]])"
            ]
          },
          "metadata": {},
          "execution_count": 324
        }
      ]
    },
    {
      "cell_type": "code",
      "source": [
        "%matplotlib inline\n",
        "import matplotlib.pyplot as plt\n",
        "import seaborn as sns\n",
        "\n",
        "ax = plt.subplot()\n",
        "sns.heatmap(confusion_matrix1, annot=True, ax = ax, fmt='d')\n",
        "ax.set_xlabel('Predicted labels')\n",
        "ax.set_ylabel('Actual labels')\n",
        "ax.set_title('Confusion Matrix Model 1 - CO2 Emissions')\n",
        "ax.xaxis.set_ticklabels(['Negative=0', 'Positive=1'])\n",
        "ax.yaxis.set_ticklabels(['Negative=0', 'Positive=1']);\n",
        "plt.show();"
      ],
      "metadata": {
        "colab": {
          "base_uri": "https://localhost:8080/",
          "height": 472
        },
        "id": "PJjAlc9fMaOg",
        "outputId": "8a5837c0-3cca-402d-faae-ffe8cf4349b5"
      },
      "execution_count": null,
      "outputs": [
        {
          "output_type": "display_data",
          "data": {
            "text/plain": [
              "<Figure size 640x480 with 2 Axes>"
            ],
            "image/png": "[encoded data removed]"
          },
          "metadata": {}
        }
      ]
    },
    {
      "cell_type": "code",
      "source": [
        "confusion_matrix2 = confusion_matrix(y_test, y_pred2)\n",
        "confusion_matrix2"
      ],
      "metadata": {
        "colab": {
          "base_uri": "https://localhost:8080/"
        },
        "id": "EnwfCmrKNNka",
        "outputId": "5e4e091a-724b-4f33-814c-392ddabdaf58"
      },
      "execution_count": null,
      "outputs": [
        {
          "output_type": "execute_result",
          "data": {
            "text/plain": [
              "array([[114,   5],\n",
              "       [  4,  91]])"
            ]
          },
          "metadata": {},
          "execution_count": 326
        }
      ]
    },
    {
      "cell_type": "code",
      "source": [
        "ax = plt.subplot()\n",
        "sns.heatmap(confusion_matrix2, annot=True, ax = ax, fmt='d')\n",
        "ax.set_xlabel('Predicted labels')\n",
        "ax.set_ylabel('Actual labels')\n",
        "ax.set_title('Confusion Matrix Model 2 - CO2 Emissions')\n",
        "ax.xaxis.set_ticklabels(['Negative=0', 'Positive=1'])\n",
        "ax.yaxis.set_ticklabels(['Negative=0', 'Positive=1']);\n",
        "plt.show();"
      ],
      "metadata": {
        "colab": {
          "base_uri": "https://localhost:8080/",
          "height": 472
        },
        "id": "jcvLuHquNjiG",
        "outputId": "e5b73a13-b36e-42ba-f90a-0ebbd6c33abc"
      },
      "execution_count": null,
      "outputs": [
        {
          "output_type": "display_data",
          "data": {
            "text/plain": [
              "<Figure size 640x480 with 2 Axes>"
            ],
            "image/png": "[encoded data removed]"
          },
          "metadata": {}
        }
      ]
    },
    {
      "cell_type": "code",
      "source": [
        "confusion_matrix3 = confusion_matrix(y_test, y_pred3)\n",
        "confusion_matrix3"
      ],
      "metadata": {
        "colab": {
          "base_uri": "https://localhost:8080/"
        },
        "id": "LZOW6GMnNuXH",
        "outputId": "4f507a8c-f644-433c-b3a9-979d42daf7f3"
      },
      "execution_count": null,
      "outputs": [
        {
          "output_type": "execute_result",
          "data": {
            "text/plain": [
              "array([[113,   6],\n",
              "       [  9,  86]])"
            ]
          },
          "metadata": {},
          "execution_count": 328
        }
      ]
    },
    {
      "cell_type": "code",
      "source": [
        "ax = plt.subplot()\n",
        "sns.heatmap(confusion_matrix3, annot=True, ax = ax, fmt='d')\n",
        "ax.set_xlabel('Predicted labels')\n",
        "ax.set_ylabel('Actual labels')\n",
        "ax.set_title('Confusion Matrix Model 3 - CO2 Emissions')\n",
        "ax.xaxis.set_ticklabels(['Negative=0', 'Positive=1'])\n",
        "ax.yaxis.set_ticklabels(['Negative=0', 'Positive=1']);\n",
        "plt.show();"
      ],
      "metadata": {
        "colab": {
          "base_uri": "https://localhost:8080/",
          "height": 472
        },
        "id": "T9_3kaSBNzAY",
        "outputId": "9240a029-dfc7-4106-f3a3-8b2e06f69b36"
      },
      "execution_count": null,
      "outputs": [
        {
          "output_type": "display_data",
          "data": {
            "text/plain": [
              "<Figure size 640x480 with 2 Axes>"
            ],
            "image/png": "[encoded data removed]"
          },
          "metadata": {}
        }
      ]
    },
    {
      "cell_type": "code",
      "source": [
        "confusion_matrix4 = confusion_matrix(y_test, y_pred4)\n",
        "confusion_matrix4"
      ],
      "metadata": {
        "colab": {
          "base_uri": "https://localhost:8080/"
        },
        "id": "JXk9Gv8zN5HQ",
        "outputId": "4a48ac58-5456-40f3-8a8f-1dcba2766032"
      },
      "execution_count": null,
      "outputs": [
        {
          "output_type": "execute_result",
          "data": {
            "text/plain": [
              "array([[119,   0],\n",
              "       [ 95,   0]])"
            ]
          },
          "metadata": {},
          "execution_count": 330
        }
      ]
    },
    {
      "cell_type": "code",
      "source": [
        "ax = plt.subplot()\n",
        "sns.heatmap(confusion_matrix4, annot=True, ax = ax, fmt='d')\n",
        "ax.set_xlabel('Predicted labels')\n",
        "ax.set_ylabel('Actual labels')\n",
        "ax.set_title('Confusion Matrix Model 4 - CO2 Emissions')\n",
        "ax.xaxis.set_ticklabels(['Negative=0', 'Positive=1'])\n",
        "ax.yaxis.set_ticklabels(['Negative=0', 'Positive=1']);\n",
        "plt.show();"
      ],
      "metadata": {
        "colab": {
          "base_uri": "https://localhost:8080/",
          "height": 472
        },
        "id": "f4Rsfe7oN_0r",
        "outputId": "1da41a35-67d4-41ec-c2a4-a47cc88dd6c8"
      },
      "execution_count": null,
      "outputs": [
        {
          "output_type": "display_data",
          "data": {
            "text/plain": [
              "<Figure size 640x480 with 2 Axes>"
            ],
            "image/png": "[encoded data removed]"
          },
          "metadata": {}
        }
      ]
    },
    {
      "cell_type": "code",
      "source": [
        "confusion_matrix5 = confusion_matrix(y_test, y_pred5)\n",
        "confusion_matrix5"
      ],
      "metadata": {
        "colab": {
          "base_uri": "https://localhost:8080/"
        },
        "id": "EVEwQZJ0OFWJ",
        "outputId": "2382f063-c0f5-4a54-d9df-1d982ea612b9"
      },
      "execution_count": null,
      "outputs": [
        {
          "output_type": "execute_result",
          "data": {
            "text/plain": [
              "array([[114,   5],\n",
              "       [  3,  92]])"
            ]
          },
          "metadata": {},
          "execution_count": 332
        }
      ]
    },
    {
      "cell_type": "code",
      "source": [
        "ax = plt.subplot()\n",
        "sns.heatmap(confusion_matrix5, annot=True, ax = ax, fmt='d')\n",
        "ax.set_xlabel('Predicted labels')\n",
        "ax.set_ylabel('Actual labels')\n",
        "ax.set_title('Confusion Matrix Model 5 - CO2 Emissions')\n",
        "ax.xaxis.set_ticklabels(['Negative=0', 'Positive=1'])\n",
        "ax.yaxis.set_ticklabels(['Negative=0', 'Positive=1']);\n",
        "plt.show();"
      ],
      "metadata": {
        "colab": {
          "base_uri": "https://localhost:8080/",
          "height": 472
        },
        "id": "t7DM1Z_eOKgC",
        "outputId": "6d601f74-5c06-41f0-8f97-d4e8d5cd976a"
      },
      "execution_count": null,
      "outputs": [
        {
          "output_type": "display_data",
          "data": {
            "text/plain": [
              "<Figure size 640x480 with 2 Axes>"
            ],
            "image/png": "[encoded data removed]"
          },
          "metadata": {}
        }
      ]
    },
    {
      "cell_type": "markdown",
      "source": [
        "## 5) Hiperparametros que permiten mejor accuracy"
      ],
      "metadata": {
        "id": "_OXboeXPV60v"
      }
    },
    {
      "cell_type": "markdown",
      "source": [],
      "metadata": {
        "id": "KlTU1BKSWI2S"
      }
    },
    {
      "cell_type": "markdown",
      "source": [
        "## 6) Se varían otros hiperparámetros"
      ],
      "metadata": {
        "id": "BFgAhYnJWKdx"
      }
    },
    {
      "cell_type": "markdown",
      "source": [],
      "metadata": {
        "id": "MuH6NBfCWSyt"
      }
    }
  ],
  "metadata": {
    "colab": {
      "provenance": [],
      "toc_visible": true,
      "authorship_tag": "ABX9TyO3xpY0HSNU59vOoTCLU8yX",
      "include_colab_link": true
    },
    "kernelspec": {
      "display_name": "Python 3",
      "name": "python3"
    },
    "language_info": {
      "name": "python"
    }
  },
  "nbformat": 4,
  "nbformat_minor": 0
}