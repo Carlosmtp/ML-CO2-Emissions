{
  "cells": [
    {
      "cell_type": "markdown",
      "metadata": {
        "id": "view-in-github",
        "colab_type": "text"
      },
      "source": [
        "<a href=\"https://colab.research.google.com/github/Carlosmtp/ML-CO2-Emissions/blob/main/ML_NN_CO2_Emissions.ipynb\" target=\"_parent\"><img src=\"https://colab.research.google.com/assets/colab-badge.svg\" alt=\"Open In Colab\"/></a>"
      ]
    },
    {
      "cell_type": "markdown",
      "metadata": {
        "id": "T0iM5wEjzwaz"
      },
      "source": [
        "#Informe Machine Learning *C02 Emissions* (redes neuronales) 🚗💨\n",
        "\n",
        "#### *Carlos Mauricio Tovar Parra - 1741699*\n",
        "#### *Santiago Duque Chacón - 2180099*\n",
        "---"
      ]
    },
    {
      "cell_type": "markdown",
      "metadata": {
        "id": "bH0lcnSiy0_W"
      },
      "source": [
        "### Resumen\n",
        "\n",
        "El presente informe, se centra en la experimentación con técnicas de machine learning para predecir las emisiones de dióxido de carbono (CO2) en vehículos. Utilizando un conjunto de datos de 1067 vehículos, el informe desarrolla modelos predictivos basados en las características de los vehículos: tamaño del motor (ENGINESIZE), cantidad de cilindros (CYLINDERS), consumo de combustible en ciudad (FUELCONSUMPTION_CITY) y en carretera (FUELCONSUMPTION_HWY). La variable objetivo es CO2EMISSIONS, clasificada en bajas (0) y altas (1) emisiones.\n",
        "\n",
        "El objetivo del informe es implementar redes neuronales, probando diferentes topologías y ajustando los hiperparámetros para optimizar la predicción de emisiones.\n",
        "\n",
        "*Tabla de atributos:*\n",
        "\n",
        "| Número | Atributo                   | Descripción                                                        |\n",
        "|--------|----------------------------|--------------------------------------------------------------------|\n",
        "| 1      | ENGINESIZE                 | Tamaño del motor en litros                                         |\n",
        "| 2      | CYLINDERS                  | Cantidad de cilindros que posee el motor                           |\n",
        "| 3      | FUELCONSUMPTION_CITY       | Consumo de combustible del vehículo en zona urbana (L/100 km)      |\n",
        "| 4      | FUELCONSUMPTION_HWY        | Consumo de combustible del vehículo en zona extraurbana (L/100 km) |\n",
        "| 5      | CO2EMISSIONS               | Emisiones de CO2 del vehículo (0: Bajas, 1: Altas)                 |\n",
        "\n",
        "\n",
        "*Ejemplo instancia de datos:*\n",
        "\n",
        "| Atributo | 1   | 2  | 3    | 4   | 5 |\n",
        "|----------|-----|----|------|-----|---|\n",
        "| Valor    | 3.7 | 6  | 13.4 | 9.5 | 1 |\n",
        "\n",
        "\n",
        "*Librerías Usadas:*\n",
        "- numpy\n",
        "- pandas\n",
        "- sklearn"
      ]
    },
    {
      "cell_type": "code",
      "execution_count": null,
      "metadata": {
        "id": "zqD-xXsB6aR_"
      },
      "outputs": [],
      "source": [
        "import numpy as np\n",
        "import pandas as pd\n",
        "import sklearn"
      ]
    },
    {
      "cell_type": "markdown",
      "metadata": {
        "id": "EYZblRvn71s1"
      },
      "source": [
        "### 1) Se lee el archivo"
      ]
    },
    {
      "cell_type": "code",
      "execution_count": null,
      "metadata": {
        "colab": {
          "base_uri": "https://localhost:8080/"
        },
        "id": "M2SveSvZ7vu3",
        "outputId": "b5d98096-1fa9-401d-c622-119673172073"
      },
      "outputs": [
        {
          "output_type": "stream",
          "name": "stdout",
          "text": [
            "<class 'pandas.core.frame.DataFrame'>\n",
            "RangeIndex: 1067 entries, 0 to 1066\n",
            "Data columns (total 5 columns):\n",
            " #   Column                Non-Null Count  Dtype  \n",
            "---  ------                --------------  -----  \n",
            " 0   ENGINESIZE            1067 non-null   float64\n",
            " 1   CYLINDERS             1067 non-null   int64  \n",
            " 2   FUELCONSUMPTION_CITY  1067 non-null   float64\n",
            " 3   FUELCONSUMPTION_HWY   1067 non-null   float64\n",
            " 4   CO2EMISSIONS          1067 non-null   int64  \n",
            "dtypes: float64(3), int64(2)\n",
            "memory usage: 41.8 KB\n"
          ]
        }
      ],
      "source": [
        "dataset_url = (\"https://raw.githubusercontent.com/Carlosmtp/ML-CO2-Emissions/main/CO2%20emissions%20data.csv\")\n",
        "dataset = pd.read_csv(dataset_url, sep=\",\")\n",
        "dataset.columns = [\"ENGINESIZE\",\t\"CYLINDERS\",\t\"FUELCONSUMPTION_CITY\",\t\"FUELCONSUMPTION_HWY\",\t\"CO2EMISSIONS\"]\n",
        "dataset.info()"
      ]
    },
    {
      "cell_type": "markdown",
      "metadata": {
        "id": "WzUKWbBZ8ure"
      },
      "source": [
        "*Variables cuantitativas continuas:*"
      ]
    },
    {
      "cell_type": "code",
      "execution_count": null,
      "metadata": {
        "colab": {
          "base_uri": "https://localhost:8080/",
          "height": 300
        },
        "id": "8Nf1U9aA9Mx7",
        "outputId": "b0b89a70-d95c-4e8b-c606-4fd2e3629f14"
      },
      "outputs": [
        {
          "output_type": "execute_result",
          "data": {
            "text/plain": [
              "        ENGINESIZE  FUELCONSUMPTION_CITY  FUELCONSUMPTION_HWY\n",
              "count  1067.000000           1067.000000          1067.000000\n",
              "mean      3.346298             13.296532             9.474602\n",
              "std       1.415895              4.101253             2.794510\n",
              "min       1.000000              4.600000             4.900000\n",
              "25%       2.000000             10.250000             7.500000\n",
              "50%       3.400000             12.600000             8.800000\n",
              "75%       4.300000             15.550000            10.850000\n",
              "max       8.400000             30.200000            20.500000"
            ],
            "text/html": [
              "\n",
              "  <div id=\"df-26cc01e2-a8de-47f5-8ec8-8dbcdfe1a52f\" class=\"colab-df-container\">\n",
              "    <div>\n",
              "<style scoped>\n",
              "    .dataframe tbody tr th:only-of-type {\n",
              "        vertical-align: middle;\n",
              "    }\n",
              "\n",
              "    .dataframe tbody tr th {\n",
              "        vertical-align: top;\n",
              "    }\n",
              "\n",
              "    .dataframe thead th {\n",
              "        text-align: right;\n",
              "    }\n",
              "</style>\n",
              "<table border=\"1\" class=\"dataframe\">\n",
              "  <thead>\n",
              "    <tr style=\"text-align: right;\">\n",
              "      <th></th>\n",
              "      <th>ENGINESIZE</th>\n",
              "      <th>FUELCONSUMPTION_CITY</th>\n",
              "      <th>FUELCONSUMPTION_HWY</th>\n",
              "    </tr>\n",
              "  </thead>\n",
              "  <tbody>\n",
              "    <tr>\n",
              "      <th>count</th>\n",
              "      <td>1067.000000</td>\n",
              "      <td>1067.000000</td>\n",
              "      <td>1067.000000</td>\n",
              "    </tr>\n",
              "    <tr>\n",
              "      <th>mean</th>\n",
              "      <td>3.346298</td>\n",
              "      <td>13.296532</td>\n",
              "      <td>9.474602</td>\n",
              "    </tr>\n",
              "    <tr>\n",
              "      <th>std</th>\n",
              "      <td>1.415895</td>\n",
              "      <td>4.101253</td>\n",
              "      <td>2.794510</td>\n",
              "    </tr>\n",
              "    <tr>\n",
              "      <th>min</th>\n",
              "      <td>1.000000</td>\n",
              "      <td>4.600000</td>\n",
              "      <td>4.900000</td>\n",
              "    </tr>\n",
              "    <tr>\n",
              "      <th>25%</th>\n",
              "      <td>2.000000</td>\n",
              "      <td>10.250000</td>\n",
              "      <td>7.500000</td>\n",
              "    </tr>\n",
              "    <tr>\n",
              "      <th>50%</th>\n",
              "      <td>3.400000</td>\n",
              "      <td>12.600000</td>\n",
              "      <td>8.800000</td>\n",
              "    </tr>\n",
              "    <tr>\n",
              "      <th>75%</th>\n",
              "      <td>4.300000</td>\n",
              "      <td>15.550000</td>\n",
              "      <td>10.850000</td>\n",
              "    </tr>\n",
              "    <tr>\n",
              "      <th>max</th>\n",
              "      <td>8.400000</td>\n",
              "      <td>30.200000</td>\n",
              "      <td>20.500000</td>\n",
              "    </tr>\n",
              "  </tbody>\n",
              "</table>\n",
              "</div>\n",
              "    <div class=\"colab-df-buttons\">\n",
              "\n",
              "  <div class=\"colab-df-container\">\n",
              "    <button class=\"colab-df-convert\" onclick=\"convertToInteractive('df-26cc01e2-a8de-47f5-8ec8-8dbcdfe1a52f')\"\n",
              "            title=\"Convert this dataframe to an interactive table.\"\n",
              "            style=\"display:none;\">\n",
              "\n",
              "  <svg xmlns=\"http://www.w3.org/2000/svg\" height=\"24px\" viewBox=\"0 -960 960 960\">\n",
              "    <path d=\"M120-120v-720h720v720H120Zm60-500h600v-160H180v160Zm220 220h160v-160H400v160Zm0 220h160v-160H400v160ZM180-400h160v-160H180v160Zm440 0h160v-160H620v160ZM180-180h160v-160H180v160Zm440 0h160v-160H620v160Z\"/>\n",
              "  </svg>\n",
              "    </button>\n",
              "\n",
              "  <style>\n",
              "    .colab-df-container {\n",
              "      display:flex;\n",
              "      gap: 12px;\n",
              "    }\n",
              "\n",
              "    .colab-df-convert {\n",
              "      background-color: #E8F0FE;\n",
              "      border: none;\n",
              "      border-radius: 50%;\n",
              "      cursor: pointer;\n",
              "      display: none;\n",
              "      fill: #1967D2;\n",
              "      height: 32px;\n",
              "      padding: 0 0 0 0;\n",
              "      width: 32px;\n",
              "    }\n",
              "\n",
              "    .colab-df-convert:hover {\n",
              "      background-color: #E2EBFA;\n",
              "      box-shadow: 0px 1px 2px rgba(60, 64, 67, 0.3), 0px 1px 3px 1px rgba(60, 64, 67, 0.15);\n",
              "      fill: #174EA6;\n",
              "    }\n",
              "\n",
              "    .colab-df-buttons div {\n",
              "      margin-bottom: 4px;\n",
              "    }\n",
              "\n",
              "    [theme=dark] .colab-df-convert {\n",
              "      background-color: #3B4455;\n",
              "      fill: #D2E3FC;\n",
              "    }\n",
              "\n",
              "    [theme=dark] .colab-df-convert:hover {\n",
              "      background-color: #434B5C;\n",
              "      box-shadow: 0px 1px 3px 1px rgba(0, 0, 0, 0.15);\n",
              "      filter: drop-shadow(0px 1px 2px rgba(0, 0, 0, 0.3));\n",
              "      fill: #FFFFFF;\n",
              "    }\n",
              "  </style>\n",
              "\n",
              "    <script>\n",
              "      const buttonEl =\n",
              "        document.querySelector('#df-26cc01e2-a8de-47f5-8ec8-8dbcdfe1a52f button.colab-df-convert');\n",
              "      buttonEl.style.display =\n",
              "        google.colab.kernel.accessAllowed ? 'block' : 'none';\n",
              "\n",
              "      async function convertToInteractive(key) {\n",
              "        const element = document.querySelector('#df-26cc01e2-a8de-47f5-8ec8-8dbcdfe1a52f');\n",
              "        const dataTable =\n",
              "          await google.colab.kernel.invokeFunction('convertToInteractive',\n",
              "                                                    [key], {});\n",
              "        if (!dataTable) return;\n",
              "\n",
              "        const docLinkHtml = 'Like what you see? Visit the ' +\n",
              "          '<a target=\"_blank\" href=https://colab.research.google.com/notebooks/data_table.ipynb>data table notebook</a>'\n",
              "          + ' to learn more about interactive tables.';\n",
              "        element.innerHTML = '';\n",
              "        dataTable['output_type'] = 'display_data';\n",
              "        await google.colab.output.renderOutput(dataTable, element);\n",
              "        const docLink = document.createElement('div');\n",
              "        docLink.innerHTML = docLinkHtml;\n",
              "        element.appendChild(docLink);\n",
              "      }\n",
              "    </script>\n",
              "  </div>\n",
              "\n",
              "\n",
              "<div id=\"df-3a594962-7e13-4337-aa85-39a4ba76d380\">\n",
              "  <button class=\"colab-df-quickchart\" onclick=\"quickchart('df-3a594962-7e13-4337-aa85-39a4ba76d380')\"\n",
              "            title=\"Suggest charts\"\n",
              "            style=\"display:none;\">\n",
              "\n",
              "<svg xmlns=\"http://www.w3.org/2000/svg\" height=\"24px\"viewBox=\"0 0 24 24\"\n",
              "     width=\"24px\">\n",
              "    <g>\n",
              "        <path d=\"M19 3H5c-1.1 0-2 .9-2 2v14c0 1.1.9 2 2 2h14c1.1 0 2-.9 2-2V5c0-1.1-.9-2-2-2zM9 17H7v-7h2v7zm4 0h-2V7h2v10zm4 0h-2v-4h2v4z\"/>\n",
              "    </g>\n",
              "</svg>\n",
              "  </button>\n",
              "\n",
              "<style>\n",
              "  .colab-df-quickchart {\n",
              "      --bg-color: #E8F0FE;\n",
              "      --fill-color: #1967D2;\n",
              "      --hover-bg-color: #E2EBFA;\n",
              "      --hover-fill-color: #174EA6;\n",
              "      --disabled-fill-color: #AAA;\n",
              "      --disabled-bg-color: #DDD;\n",
              "  }\n",
              "\n",
              "  [theme=dark] .colab-df-quickchart {\n",
              "      --bg-color: #3B4455;\n",
              "      --fill-color: #D2E3FC;\n",
              "      --hover-bg-color: #434B5C;\n",
              "      --hover-fill-color: #FFFFFF;\n",
              "      --disabled-bg-color: #3B4455;\n",
              "      --disabled-fill-color: #666;\n",
              "  }\n",
              "\n",
              "  .colab-df-quickchart {\n",
              "    background-color: var(--bg-color);\n",
              "    border: none;\n",
              "    border-radius: 50%;\n",
              "    cursor: pointer;\n",
              "    display: none;\n",
              "    fill: var(--fill-color);\n",
              "    height: 32px;\n",
              "    padding: 0;\n",
              "    width: 32px;\n",
              "  }\n",
              "\n",
              "  .colab-df-quickchart:hover {\n",
              "    background-color: var(--hover-bg-color);\n",
              "    box-shadow: 0 1px 2px rgba(60, 64, 67, 0.3), 0 1px 3px 1px rgba(60, 64, 67, 0.15);\n",
              "    fill: var(--button-hover-fill-color);\n",
              "  }\n",
              "\n",
              "  .colab-df-quickchart-complete:disabled,\n",
              "  .colab-df-quickchart-complete:disabled:hover {\n",
              "    background-color: var(--disabled-bg-color);\n",
              "    fill: var(--disabled-fill-color);\n",
              "    box-shadow: none;\n",
              "  }\n",
              "\n",
              "  .colab-df-spinner {\n",
              "    border: 2px solid var(--fill-color);\n",
              "    border-color: transparent;\n",
              "    border-bottom-color: var(--fill-color);\n",
              "    animation:\n",
              "      spin 1s steps(1) infinite;\n",
              "  }\n",
              "\n",
              "  @keyframes spin {\n",
              "    0% {\n",
              "      border-color: transparent;\n",
              "      border-bottom-color: var(--fill-color);\n",
              "      border-left-color: var(--fill-color);\n",
              "    }\n",
              "    20% {\n",
              "      border-color: transparent;\n",
              "      border-left-color: var(--fill-color);\n",
              "      border-top-color: var(--fill-color);\n",
              "    }\n",
              "    30% {\n",
              "      border-color: transparent;\n",
              "      border-left-color: var(--fill-color);\n",
              "      border-top-color: var(--fill-color);\n",
              "      border-right-color: var(--fill-color);\n",
              "    }\n",
              "    40% {\n",
              "      border-color: transparent;\n",
              "      border-right-color: var(--fill-color);\n",
              "      border-top-color: var(--fill-color);\n",
              "    }\n",
              "    60% {\n",
              "      border-color: transparent;\n",
              "      border-right-color: var(--fill-color);\n",
              "    }\n",
              "    80% {\n",
              "      border-color: transparent;\n",
              "      border-right-color: var(--fill-color);\n",
              "      border-bottom-color: var(--fill-color);\n",
              "    }\n",
              "    90% {\n",
              "      border-color: transparent;\n",
              "      border-bottom-color: var(--fill-color);\n",
              "    }\n",
              "  }\n",
              "</style>\n",
              "\n",
              "  <script>\n",
              "    async function quickchart(key) {\n",
              "      const quickchartButtonEl =\n",
              "        document.querySelector('#' + key + ' button');\n",
              "      quickchartButtonEl.disabled = true;  // To prevent multiple clicks.\n",
              "      quickchartButtonEl.classList.add('colab-df-spinner');\n",
              "      try {\n",
              "        const charts = await google.colab.kernel.invokeFunction(\n",
              "            'suggestCharts', [key], {});\n",
              "      } catch (error) {\n",
              "        console.error('Error during call to suggestCharts:', error);\n",
              "      }\n",
              "      quickchartButtonEl.classList.remove('colab-df-spinner');\n",
              "      quickchartButtonEl.classList.add('colab-df-quickchart-complete');\n",
              "    }\n",
              "    (() => {\n",
              "      let quickchartButtonEl =\n",
              "        document.querySelector('#df-3a594962-7e13-4337-aa85-39a4ba76d380 button');\n",
              "      quickchartButtonEl.style.display =\n",
              "        google.colab.kernel.accessAllowed ? 'block' : 'none';\n",
              "    })();\n",
              "  </script>\n",
              "</div>\n",
              "    </div>\n",
              "  </div>\n"
            ],
            "application/vnd.google.colaboratory.intrinsic+json": {
              "type": "dataframe",
              "summary": "{\n  \"name\": \"dataset\",\n  \"rows\": 8,\n  \"fields\": [\n    {\n      \"column\": \"ENGINESIZE\",\n      \"properties\": {\n        \"dtype\": \"number\",\n        \"std\": 376.04336222834814,\n        \"min\": 1.0,\n        \"max\": 1067.0,\n        \"num_unique_values\": 8,\n        \"samples\": [\n          3.346298031865042,\n          3.4,\n          1067.0\n        ],\n        \"semantic_type\": \"\",\n        \"description\": \"\"\n      }\n    },\n    {\n      \"column\": \"FUELCONSUMPTION_CITY\",\n      \"properties\": {\n        \"dtype\": \"number\",\n        \"std\": 372.753722580423,\n        \"min\": 4.101253317068339,\n        \"max\": 1067.0,\n        \"num_unique_values\": 8,\n        \"samples\": [\n          13.296532333645736,\n          12.6,\n          1067.0\n        ],\n        \"semantic_type\": \"\",\n        \"description\": \"\"\n      }\n    },\n    {\n      \"column\": \"FUELCONSUMPTION_HWY\",\n      \"properties\": {\n        \"dtype\": \"number\",\n        \"std\": 374.0044761078589,\n        \"min\": 2.7945104498854048,\n        \"max\": 1067.0,\n        \"num_unique_values\": 8,\n        \"samples\": [\n          9.474601686972822,\n          8.8,\n          1067.0\n        ],\n        \"semantic_type\": \"\",\n        \"description\": \"\"\n      }\n    }\n  ]\n}"
            }
          },
          "metadata": {},
          "execution_count": 403
        }
      ],
      "source": [
        "dataset.select_dtypes(include=['float64']).describe()"
      ]
    },
    {
      "cell_type": "markdown",
      "metadata": {
        "id": "-XRiLmUY9o5C"
      },
      "source": [
        "*Variables cuantitativas discretas:*"
      ]
    },
    {
      "cell_type": "code",
      "execution_count": null,
      "metadata": {
        "colab": {
          "base_uri": "https://localhost:8080/",
          "height": 300
        },
        "id": "xz6YwRSS9v57",
        "outputId": "4210f399-9a6a-4179-8a21-29c4414dfd54"
      },
      "outputs": [
        {
          "output_type": "execute_result",
          "data": {
            "text/plain": [
              "         CYLINDERS  CO2EMISSIONS\n",
              "count  1067.000000   1067.000000\n",
              "mean      5.794752      0.461106\n",
              "std       1.797447      0.498719\n",
              "min       3.000000      0.000000\n",
              "25%       4.000000      0.000000\n",
              "50%       6.000000      0.000000\n",
              "75%       8.000000      1.000000\n",
              "max      12.000000      1.000000"
            ],
            "text/html": [
              "\n",
              "  <div id=\"df-c5e9dd77-e960-4dc4-b60a-b6440ed89b12\" class=\"colab-df-container\">\n",
              "    <div>\n",
              "<style scoped>\n",
              "    .dataframe tbody tr th:only-of-type {\n",
              "        vertical-align: middle;\n",
              "    }\n",
              "\n",
              "    .dataframe tbody tr th {\n",
              "        vertical-align: top;\n",
              "    }\n",
              "\n",
              "    .dataframe thead th {\n",
              "        text-align: right;\n",
              "    }\n",
              "</style>\n",
              "<table border=\"1\" class=\"dataframe\">\n",
              "  <thead>\n",
              "    <tr style=\"text-align: right;\">\n",
              "      <th></th>\n",
              "      <th>CYLINDERS</th>\n",
              "      <th>CO2EMISSIONS</th>\n",
              "    </tr>\n",
              "  </thead>\n",
              "  <tbody>\n",
              "    <tr>\n",
              "      <th>count</th>\n",
              "      <td>1067.000000</td>\n",
              "      <td>1067.000000</td>\n",
              "    </tr>\n",
              "    <tr>\n",
              "      <th>mean</th>\n",
              "      <td>5.794752</td>\n",
              "      <td>0.461106</td>\n",
              "    </tr>\n",
              "    <tr>\n",
              "      <th>std</th>\n",
              "      <td>1.797447</td>\n",
              "      <td>0.498719</td>\n",
              "    </tr>\n",
              "    <tr>\n",
              "      <th>min</th>\n",
              "      <td>3.000000</td>\n",
              "      <td>0.000000</td>\n",
              "    </tr>\n",
              "    <tr>\n",
              "      <th>25%</th>\n",
              "      <td>4.000000</td>\n",
              "      <td>0.000000</td>\n",
              "    </tr>\n",
              "    <tr>\n",
              "      <th>50%</th>\n",
              "      <td>6.000000</td>\n",
              "      <td>0.000000</td>\n",
              "    </tr>\n",
              "    <tr>\n",
              "      <th>75%</th>\n",
              "      <td>8.000000</td>\n",
              "      <td>1.000000</td>\n",
              "    </tr>\n",
              "    <tr>\n",
              "      <th>max</th>\n",
              "      <td>12.000000</td>\n",
              "      <td>1.000000</td>\n",
              "    </tr>\n",
              "  </tbody>\n",
              "</table>\n",
              "</div>\n",
              "    <div class=\"colab-df-buttons\">\n",
              "\n",
              "  <div class=\"colab-df-container\">\n",
              "    <button class=\"colab-df-convert\" onclick=\"convertToInteractive('df-c5e9dd77-e960-4dc4-b60a-b6440ed89b12')\"\n",
              "            title=\"Convert this dataframe to an interactive table.\"\n",
              "            style=\"display:none;\">\n",
              "\n",
              "  <svg xmlns=\"http://www.w3.org/2000/svg\" height=\"24px\" viewBox=\"0 -960 960 960\">\n",
              "    <path d=\"M120-120v-720h720v720H120Zm60-500h600v-160H180v160Zm220 220h160v-160H400v160Zm0 220h160v-160H400v160ZM180-400h160v-160H180v160Zm440 0h160v-160H620v160ZM180-180h160v-160H180v160Zm440 0h160v-160H620v160Z\"/>\n",
              "  </svg>\n",
              "    </button>\n",
              "\n",
              "  <style>\n",
              "    .colab-df-container {\n",
              "      display:flex;\n",
              "      gap: 12px;\n",
              "    }\n",
              "\n",
              "    .colab-df-convert {\n",
              "      background-color: #E8F0FE;\n",
              "      border: none;\n",
              "      border-radius: 50%;\n",
              "      cursor: pointer;\n",
              "      display: none;\n",
              "      fill: #1967D2;\n",
              "      height: 32px;\n",
              "      padding: 0 0 0 0;\n",
              "      width: 32px;\n",
              "    }\n",
              "\n",
              "    .colab-df-convert:hover {\n",
              "      background-color: #E2EBFA;\n",
              "      box-shadow: 0px 1px 2px rgba(60, 64, 67, 0.3), 0px 1px 3px 1px rgba(60, 64, 67, 0.15);\n",
              "      fill: #174EA6;\n",
              "    }\n",
              "\n",
              "    .colab-df-buttons div {\n",
              "      margin-bottom: 4px;\n",
              "    }\n",
              "\n",
              "    [theme=dark] .colab-df-convert {\n",
              "      background-color: #3B4455;\n",
              "      fill: #D2E3FC;\n",
              "    }\n",
              "\n",
              "    [theme=dark] .colab-df-convert:hover {\n",
              "      background-color: #434B5C;\n",
              "      box-shadow: 0px 1px 3px 1px rgba(0, 0, 0, 0.15);\n",
              "      filter: drop-shadow(0px 1px 2px rgba(0, 0, 0, 0.3));\n",
              "      fill: #FFFFFF;\n",
              "    }\n",
              "  </style>\n",
              "\n",
              "    <script>\n",
              "      const buttonEl =\n",
              "        document.querySelector('#df-c5e9dd77-e960-4dc4-b60a-b6440ed89b12 button.colab-df-convert');\n",
              "      buttonEl.style.display =\n",
              "        google.colab.kernel.accessAllowed ? 'block' : 'none';\n",
              "\n",
              "      async function convertToInteractive(key) {\n",
              "        const element = document.querySelector('#df-c5e9dd77-e960-4dc4-b60a-b6440ed89b12');\n",
              "        const dataTable =\n",
              "          await google.colab.kernel.invokeFunction('convertToInteractive',\n",
              "                                                    [key], {});\n",
              "        if (!dataTable) return;\n",
              "\n",
              "        const docLinkHtml = 'Like what you see? Visit the ' +\n",
              "          '<a target=\"_blank\" href=https://colab.research.google.com/notebooks/data_table.ipynb>data table notebook</a>'\n",
              "          + ' to learn more about interactive tables.';\n",
              "        element.innerHTML = '';\n",
              "        dataTable['output_type'] = 'display_data';\n",
              "        await google.colab.output.renderOutput(dataTable, element);\n",
              "        const docLink = document.createElement('div');\n",
              "        docLink.innerHTML = docLinkHtml;\n",
              "        element.appendChild(docLink);\n",
              "      }\n",
              "    </script>\n",
              "  </div>\n",
              "\n",
              "\n",
              "<div id=\"df-73a5c84f-c0d5-4e12-8f8f-a6116ea22876\">\n",
              "  <button class=\"colab-df-quickchart\" onclick=\"quickchart('df-73a5c84f-c0d5-4e12-8f8f-a6116ea22876')\"\n",
              "            title=\"Suggest charts\"\n",
              "            style=\"display:none;\">\n",
              "\n",
              "<svg xmlns=\"http://www.w3.org/2000/svg\" height=\"24px\"viewBox=\"0 0 24 24\"\n",
              "     width=\"24px\">\n",
              "    <g>\n",
              "        <path d=\"M19 3H5c-1.1 0-2 .9-2 2v14c0 1.1.9 2 2 2h14c1.1 0 2-.9 2-2V5c0-1.1-.9-2-2-2zM9 17H7v-7h2v7zm4 0h-2V7h2v10zm4 0h-2v-4h2v4z\"/>\n",
              "    </g>\n",
              "</svg>\n",
              "  </button>\n",
              "\n",
              "<style>\n",
              "  .colab-df-quickchart {\n",
              "      --bg-color: #E8F0FE;\n",
              "      --fill-color: #1967D2;\n",
              "      --hover-bg-color: #E2EBFA;\n",
              "      --hover-fill-color: #174EA6;\n",
              "      --disabled-fill-color: #AAA;\n",
              "      --disabled-bg-color: #DDD;\n",
              "  }\n",
              "\n",
              "  [theme=dark] .colab-df-quickchart {\n",
              "      --bg-color: #3B4455;\n",
              "      --fill-color: #D2E3FC;\n",
              "      --hover-bg-color: #434B5C;\n",
              "      --hover-fill-color: #FFFFFF;\n",
              "      --disabled-bg-color: #3B4455;\n",
              "      --disabled-fill-color: #666;\n",
              "  }\n",
              "\n",
              "  .colab-df-quickchart {\n",
              "    background-color: var(--bg-color);\n",
              "    border: none;\n",
              "    border-radius: 50%;\n",
              "    cursor: pointer;\n",
              "    display: none;\n",
              "    fill: var(--fill-color);\n",
              "    height: 32px;\n",
              "    padding: 0;\n",
              "    width: 32px;\n",
              "  }\n",
              "\n",
              "  .colab-df-quickchart:hover {\n",
              "    background-color: var(--hover-bg-color);\n",
              "    box-shadow: 0 1px 2px rgba(60, 64, 67, 0.3), 0 1px 3px 1px rgba(60, 64, 67, 0.15);\n",
              "    fill: var(--button-hover-fill-color);\n",
              "  }\n",
              "\n",
              "  .colab-df-quickchart-complete:disabled,\n",
              "  .colab-df-quickchart-complete:disabled:hover {\n",
              "    background-color: var(--disabled-bg-color);\n",
              "    fill: var(--disabled-fill-color);\n",
              "    box-shadow: none;\n",
              "  }\n",
              "\n",
              "  .colab-df-spinner {\n",
              "    border: 2px solid var(--fill-color);\n",
              "    border-color: transparent;\n",
              "    border-bottom-color: var(--fill-color);\n",
              "    animation:\n",
              "      spin 1s steps(1) infinite;\n",
              "  }\n",
              "\n",
              "  @keyframes spin {\n",
              "    0% {\n",
              "      border-color: transparent;\n",
              "      border-bottom-color: var(--fill-color);\n",
              "      border-left-color: var(--fill-color);\n",
              "    }\n",
              "    20% {\n",
              "      border-color: transparent;\n",
              "      border-left-color: var(--fill-color);\n",
              "      border-top-color: var(--fill-color);\n",
              "    }\n",
              "    30% {\n",
              "      border-color: transparent;\n",
              "      border-left-color: var(--fill-color);\n",
              "      border-top-color: var(--fill-color);\n",
              "      border-right-color: var(--fill-color);\n",
              "    }\n",
              "    40% {\n",
              "      border-color: transparent;\n",
              "      border-right-color: var(--fill-color);\n",
              "      border-top-color: var(--fill-color);\n",
              "    }\n",
              "    60% {\n",
              "      border-color: transparent;\n",
              "      border-right-color: var(--fill-color);\n",
              "    }\n",
              "    80% {\n",
              "      border-color: transparent;\n",
              "      border-right-color: var(--fill-color);\n",
              "      border-bottom-color: var(--fill-color);\n",
              "    }\n",
              "    90% {\n",
              "      border-color: transparent;\n",
              "      border-bottom-color: var(--fill-color);\n",
              "    }\n",
              "  }\n",
              "</style>\n",
              "\n",
              "  <script>\n",
              "    async function quickchart(key) {\n",
              "      const quickchartButtonEl =\n",
              "        document.querySelector('#' + key + ' button');\n",
              "      quickchartButtonEl.disabled = true;  // To prevent multiple clicks.\n",
              "      quickchartButtonEl.classList.add('colab-df-spinner');\n",
              "      try {\n",
              "        const charts = await google.colab.kernel.invokeFunction(\n",
              "            'suggestCharts', [key], {});\n",
              "      } catch (error) {\n",
              "        console.error('Error during call to suggestCharts:', error);\n",
              "      }\n",
              "      quickchartButtonEl.classList.remove('colab-df-spinner');\n",
              "      quickchartButtonEl.classList.add('colab-df-quickchart-complete');\n",
              "    }\n",
              "    (() => {\n",
              "      let quickchartButtonEl =\n",
              "        document.querySelector('#df-73a5c84f-c0d5-4e12-8f8f-a6116ea22876 button');\n",
              "      quickchartButtonEl.style.display =\n",
              "        google.colab.kernel.accessAllowed ? 'block' : 'none';\n",
              "    })();\n",
              "  </script>\n",
              "</div>\n",
              "    </div>\n",
              "  </div>\n"
            ],
            "application/vnd.google.colaboratory.intrinsic+json": {
              "type": "dataframe",
              "summary": "{\n  \"name\": \"dataset\",\n  \"rows\": 8,\n  \"fields\": [\n    {\n      \"column\": \"CYLINDERS\",\n      \"properties\": {\n        \"dtype\": \"number\",\n        \"std\": 375.2046584534259,\n        \"min\": 1.7974472750409638,\n        \"max\": 1067.0,\n        \"num_unique_values\": 8,\n        \"samples\": [\n          5.794751640112465,\n          6.0,\n          1067.0\n        ],\n        \"semantic_type\": \"\",\n        \"description\": \"\"\n      }\n    },\n    {\n      \"column\": \"CO2EMISSIONS\",\n      \"properties\": {\n        \"dtype\": \"number\",\n        \"std\": 377.09220321008775,\n        \"min\": 0.0,\n        \"max\": 1067.0,\n        \"num_unique_values\": 5,\n        \"samples\": [\n          0.4611059044048735,\n          1.0,\n          0.49871871010935137\n        ],\n        \"semantic_type\": \"\",\n        \"description\": \"\"\n      }\n    }\n  ]\n}"
            }
          },
          "metadata": {},
          "execution_count": 404
        }
      ],
      "source": [
        "dataset.select_dtypes(include=['int64']).describe()"
      ]
    },
    {
      "cell_type": "markdown",
      "metadata": {
        "id": "fJWJs8Jc-hu7"
      },
      "source": [
        "## 2) Se separan los datos en conjuntos de entrenamiento y prueba (80%, 20%)"
      ]
    },
    {
      "cell_type": "code",
      "execution_count": null,
      "metadata": {
        "colab": {
          "base_uri": "https://localhost:8080/"
        },
        "id": "x3EaJ-yG_Da1",
        "outputId": "b3b90fd1-19c4-4543-fbab-0278a072a6c1"
      },
      "outputs": [
        {
          "output_type": "stream",
          "name": "stdout",
          "text": [
            "1067 853 214\n"
          ]
        }
      ],
      "source": [
        "from sklearn.model_selection import train_test_split\n",
        "N=len(dataset)\n",
        "cTrain=int(N*0.8)\n",
        "cTest=N-cTrain\n",
        "print(N,cTrain,cTest)\n",
        "train_data,test_data= sklearn.model_selection.train_test_split(dataset, train_size=cTrain, test_size=cTest)"
      ]
    },
    {
      "cell_type": "code",
      "execution_count": null,
      "metadata": {
        "colab": {
          "base_uri": "https://localhost:8080/"
        },
        "id": "fT3gub5f_lgm",
        "outputId": "de957635-97ed-4e24-f368-ad5a046df6aa"
      },
      "outputs": [
        {
          "output_type": "execute_result",
          "data": {
            "text/plain": [
              "(1067, 5)"
            ]
          },
          "metadata": {},
          "execution_count": 406
        }
      ],
      "source": [
        "dataset.shape"
      ]
    },
    {
      "cell_type": "code",
      "execution_count": null,
      "metadata": {
        "colab": {
          "base_uri": "https://localhost:8080/",
          "height": 206
        },
        "id": "09DV38_s_pGL",
        "outputId": "34fb8371-bb3b-422f-ba99-1749b8882aec"
      },
      "outputs": [
        {
          "output_type": "execute_result",
          "data": {
            "text/plain": [
              "   ENGINESIZE  CYLINDERS  FUELCONSUMPTION_CITY  FUELCONSUMPTION_HWY  \\\n",
              "0         2.0          4                   9.9                  6.7   \n",
              "1         2.4          4                  11.2                  7.7   \n",
              "2         1.5          4                   6.0                  5.8   \n",
              "3         3.5          6                  12.7                  9.1   \n",
              "4         3.5          6                  12.1                  8.7   \n",
              "\n",
              "   CO2EMISSIONS  \n",
              "0             0  \n",
              "1             0  \n",
              "2             0  \n",
              "3             0  \n",
              "4             0  "
            ],
            "text/html": [
              "\n",
              "  <div id=\"df-57bedb88-58f0-4ec9-9bfa-c3f98832e6b9\" class=\"colab-df-container\">\n",
              "    <div>\n",
              "<style scoped>\n",
              "    .dataframe tbody tr th:only-of-type {\n",
              "        vertical-align: middle;\n",
              "    }\n",
              "\n",
              "    .dataframe tbody tr th {\n",
              "        vertical-align: top;\n",
              "    }\n",
              "\n",
              "    .dataframe thead th {\n",
              "        text-align: right;\n",
              "    }\n",
              "</style>\n",
              "<table border=\"1\" class=\"dataframe\">\n",
              "  <thead>\n",
              "    <tr style=\"text-align: right;\">\n",
              "      <th></th>\n",
              "      <th>ENGINESIZE</th>\n",
              "      <th>CYLINDERS</th>\n",
              "      <th>FUELCONSUMPTION_CITY</th>\n",
              "      <th>FUELCONSUMPTION_HWY</th>\n",
              "      <th>CO2EMISSIONS</th>\n",
              "    </tr>\n",
              "  </thead>\n",
              "  <tbody>\n",
              "    <tr>\n",
              "      <th>0</th>\n",
              "      <td>2.0</td>\n",
              "      <td>4</td>\n",
              "      <td>9.9</td>\n",
              "      <td>6.7</td>\n",
              "      <td>0</td>\n",
              "    </tr>\n",
              "    <tr>\n",
              "      <th>1</th>\n",
              "      <td>2.4</td>\n",
              "      <td>4</td>\n",
              "      <td>11.2</td>\n",
              "      <td>7.7</td>\n",
              "      <td>0</td>\n",
              "    </tr>\n",
              "    <tr>\n",
              "      <th>2</th>\n",
              "      <td>1.5</td>\n",
              "      <td>4</td>\n",
              "      <td>6.0</td>\n",
              "      <td>5.8</td>\n",
              "      <td>0</td>\n",
              "    </tr>\n",
              "    <tr>\n",
              "      <th>3</th>\n",
              "      <td>3.5</td>\n",
              "      <td>6</td>\n",
              "      <td>12.7</td>\n",
              "      <td>9.1</td>\n",
              "      <td>0</td>\n",
              "    </tr>\n",
              "    <tr>\n",
              "      <th>4</th>\n",
              "      <td>3.5</td>\n",
              "      <td>6</td>\n",
              "      <td>12.1</td>\n",
              "      <td>8.7</td>\n",
              "      <td>0</td>\n",
              "    </tr>\n",
              "  </tbody>\n",
              "</table>\n",
              "</div>\n",
              "    <div class=\"colab-df-buttons\">\n",
              "\n",
              "  <div class=\"colab-df-container\">\n",
              "    <button class=\"colab-df-convert\" onclick=\"convertToInteractive('df-57bedb88-58f0-4ec9-9bfa-c3f98832e6b9')\"\n",
              "            title=\"Convert this dataframe to an interactive table.\"\n",
              "            style=\"display:none;\">\n",
              "\n",
              "  <svg xmlns=\"http://www.w3.org/2000/svg\" height=\"24px\" viewBox=\"0 -960 960 960\">\n",
              "    <path d=\"M120-120v-720h720v720H120Zm60-500h600v-160H180v160Zm220 220h160v-160H400v160Zm0 220h160v-160H400v160ZM180-400h160v-160H180v160Zm440 0h160v-160H620v160ZM180-180h160v-160H180v160Zm440 0h160v-160H620v160Z\"/>\n",
              "  </svg>\n",
              "    </button>\n",
              "\n",
              "  <style>\n",
              "    .colab-df-container {\n",
              "      display:flex;\n",
              "      gap: 12px;\n",
              "    }\n",
              "\n",
              "    .colab-df-convert {\n",
              "      background-color: #E8F0FE;\n",
              "      border: none;\n",
              "      border-radius: 50%;\n",
              "      cursor: pointer;\n",
              "      display: none;\n",
              "      fill: #1967D2;\n",
              "      height: 32px;\n",
              "      padding: 0 0 0 0;\n",
              "      width: 32px;\n",
              "    }\n",
              "\n",
              "    .colab-df-convert:hover {\n",
              "      background-color: #E2EBFA;\n",
              "      box-shadow: 0px 1px 2px rgba(60, 64, 67, 0.3), 0px 1px 3px 1px rgba(60, 64, 67, 0.15);\n",
              "      fill: #174EA6;\n",
              "    }\n",
              "\n",
              "    .colab-df-buttons div {\n",
              "      margin-bottom: 4px;\n",
              "    }\n",
              "\n",
              "    [theme=dark] .colab-df-convert {\n",
              "      background-color: #3B4455;\n",
              "      fill: #D2E3FC;\n",
              "    }\n",
              "\n",
              "    [theme=dark] .colab-df-convert:hover {\n",
              "      background-color: #434B5C;\n",
              "      box-shadow: 0px 1px 3px 1px rgba(0, 0, 0, 0.15);\n",
              "      filter: drop-shadow(0px 1px 2px rgba(0, 0, 0, 0.3));\n",
              "      fill: #FFFFFF;\n",
              "    }\n",
              "  </style>\n",
              "\n",
              "    <script>\n",
              "      const buttonEl =\n",
              "        document.querySelector('#df-57bedb88-58f0-4ec9-9bfa-c3f98832e6b9 button.colab-df-convert');\n",
              "      buttonEl.style.display =\n",
              "        google.colab.kernel.accessAllowed ? 'block' : 'none';\n",
              "\n",
              "      async function convertToInteractive(key) {\n",
              "        const element = document.querySelector('#df-57bedb88-58f0-4ec9-9bfa-c3f98832e6b9');\n",
              "        const dataTable =\n",
              "          await google.colab.kernel.invokeFunction('convertToInteractive',\n",
              "                                                    [key], {});\n",
              "        if (!dataTable) return;\n",
              "\n",
              "        const docLinkHtml = 'Like what you see? Visit the ' +\n",
              "          '<a target=\"_blank\" href=https://colab.research.google.com/notebooks/data_table.ipynb>data table notebook</a>'\n",
              "          + ' to learn more about interactive tables.';\n",
              "        element.innerHTML = '';\n",
              "        dataTable['output_type'] = 'display_data';\n",
              "        await google.colab.output.renderOutput(dataTable, element);\n",
              "        const docLink = document.createElement('div');\n",
              "        docLink.innerHTML = docLinkHtml;\n",
              "        element.appendChild(docLink);\n",
              "      }\n",
              "    </script>\n",
              "  </div>\n",
              "\n",
              "\n",
              "<div id=\"df-aeb5037a-c7c4-410c-b5ef-d46f9bb42f85\">\n",
              "  <button class=\"colab-df-quickchart\" onclick=\"quickchart('df-aeb5037a-c7c4-410c-b5ef-d46f9bb42f85')\"\n",
              "            title=\"Suggest charts\"\n",
              "            style=\"display:none;\">\n",
              "\n",
              "<svg xmlns=\"http://www.w3.org/2000/svg\" height=\"24px\"viewBox=\"0 0 24 24\"\n",
              "     width=\"24px\">\n",
              "    <g>\n",
              "        <path d=\"M19 3H5c-1.1 0-2 .9-2 2v14c0 1.1.9 2 2 2h14c1.1 0 2-.9 2-2V5c0-1.1-.9-2-2-2zM9 17H7v-7h2v7zm4 0h-2V7h2v10zm4 0h-2v-4h2v4z\"/>\n",
              "    </g>\n",
              "</svg>\n",
              "  </button>\n",
              "\n",
              "<style>\n",
              "  .colab-df-quickchart {\n",
              "      --bg-color: #E8F0FE;\n",
              "      --fill-color: #1967D2;\n",
              "      --hover-bg-color: #E2EBFA;\n",
              "      --hover-fill-color: #174EA6;\n",
              "      --disabled-fill-color: #AAA;\n",
              "      --disabled-bg-color: #DDD;\n",
              "  }\n",
              "\n",
              "  [theme=dark] .colab-df-quickchart {\n",
              "      --bg-color: #3B4455;\n",
              "      --fill-color: #D2E3FC;\n",
              "      --hover-bg-color: #434B5C;\n",
              "      --hover-fill-color: #FFFFFF;\n",
              "      --disabled-bg-color: #3B4455;\n",
              "      --disabled-fill-color: #666;\n",
              "  }\n",
              "\n",
              "  .colab-df-quickchart {\n",
              "    background-color: var(--bg-color);\n",
              "    border: none;\n",
              "    border-radius: 50%;\n",
              "    cursor: pointer;\n",
              "    display: none;\n",
              "    fill: var(--fill-color);\n",
              "    height: 32px;\n",
              "    padding: 0;\n",
              "    width: 32px;\n",
              "  }\n",
              "\n",
              "  .colab-df-quickchart:hover {\n",
              "    background-color: var(--hover-bg-color);\n",
              "    box-shadow: 0 1px 2px rgba(60, 64, 67, 0.3), 0 1px 3px 1px rgba(60, 64, 67, 0.15);\n",
              "    fill: var(--button-hover-fill-color);\n",
              "  }\n",
              "\n",
              "  .colab-df-quickchart-complete:disabled,\n",
              "  .colab-df-quickchart-complete:disabled:hover {\n",
              "    background-color: var(--disabled-bg-color);\n",
              "    fill: var(--disabled-fill-color);\n",
              "    box-shadow: none;\n",
              "  }\n",
              "\n",
              "  .colab-df-spinner {\n",
              "    border: 2px solid var(--fill-color);\n",
              "    border-color: transparent;\n",
              "    border-bottom-color: var(--fill-color);\n",
              "    animation:\n",
              "      spin 1s steps(1) infinite;\n",
              "  }\n",
              "\n",
              "  @keyframes spin {\n",
              "    0% {\n",
              "      border-color: transparent;\n",
              "      border-bottom-color: var(--fill-color);\n",
              "      border-left-color: var(--fill-color);\n",
              "    }\n",
              "    20% {\n",
              "      border-color: transparent;\n",
              "      border-left-color: var(--fill-color);\n",
              "      border-top-color: var(--fill-color);\n",
              "    }\n",
              "    30% {\n",
              "      border-color: transparent;\n",
              "      border-left-color: var(--fill-color);\n",
              "      border-top-color: var(--fill-color);\n",
              "      border-right-color: var(--fill-color);\n",
              "    }\n",
              "    40% {\n",
              "      border-color: transparent;\n",
              "      border-right-color: var(--fill-color);\n",
              "      border-top-color: var(--fill-color);\n",
              "    }\n",
              "    60% {\n",
              "      border-color: transparent;\n",
              "      border-right-color: var(--fill-color);\n",
              "    }\n",
              "    80% {\n",
              "      border-color: transparent;\n",
              "      border-right-color: var(--fill-color);\n",
              "      border-bottom-color: var(--fill-color);\n",
              "    }\n",
              "    90% {\n",
              "      border-color: transparent;\n",
              "      border-bottom-color: var(--fill-color);\n",
              "    }\n",
              "  }\n",
              "</style>\n",
              "\n",
              "  <script>\n",
              "    async function quickchart(key) {\n",
              "      const quickchartButtonEl =\n",
              "        document.querySelector('#' + key + ' button');\n",
              "      quickchartButtonEl.disabled = true;  // To prevent multiple clicks.\n",
              "      quickchartButtonEl.classList.add('colab-df-spinner');\n",
              "      try {\n",
              "        const charts = await google.colab.kernel.invokeFunction(\n",
              "            'suggestCharts', [key], {});\n",
              "      } catch (error) {\n",
              "        console.error('Error during call to suggestCharts:', error);\n",
              "      }\n",
              "      quickchartButtonEl.classList.remove('colab-df-spinner');\n",
              "      quickchartButtonEl.classList.add('colab-df-quickchart-complete');\n",
              "    }\n",
              "    (() => {\n",
              "      let quickchartButtonEl =\n",
              "        document.querySelector('#df-aeb5037a-c7c4-410c-b5ef-d46f9bb42f85 button');\n",
              "      quickchartButtonEl.style.display =\n",
              "        google.colab.kernel.accessAllowed ? 'block' : 'none';\n",
              "    })();\n",
              "  </script>\n",
              "</div>\n",
              "    </div>\n",
              "  </div>\n"
            ],
            "application/vnd.google.colaboratory.intrinsic+json": {
              "type": "dataframe",
              "variable_name": "dataset",
              "summary": "{\n  \"name\": \"dataset\",\n  \"rows\": 1067,\n  \"fields\": [\n    {\n      \"column\": \"ENGINESIZE\",\n      \"properties\": {\n        \"dtype\": \"number\",\n        \"std\": 1.4158950514240647,\n        \"min\": 1.0,\n        \"max\": 8.4,\n        \"num_unique_values\": 45,\n        \"samples\": [\n          3.4,\n          6.4,\n          4.6\n        ],\n        \"semantic_type\": \"\",\n        \"description\": \"\"\n      }\n    },\n    {\n      \"column\": \"CYLINDERS\",\n      \"properties\": {\n        \"dtype\": \"number\",\n        \"std\": 1,\n        \"min\": 3,\n        \"max\": 12,\n        \"num_unique_values\": 7,\n        \"samples\": [\n          4,\n          6,\n          3\n        ],\n        \"semantic_type\": \"\",\n        \"description\": \"\"\n      }\n    },\n    {\n      \"column\": \"FUELCONSUMPTION_CITY\",\n      \"properties\": {\n        \"dtype\": \"number\",\n        \"std\": 4.101253317068339,\n        \"min\": 4.6,\n        \"max\": 30.2,\n        \"num_unique_values\": 167,\n        \"samples\": [\n          21.5,\n          19.2,\n          19.8\n        ],\n        \"semantic_type\": \"\",\n        \"description\": \"\"\n      }\n    },\n    {\n      \"column\": \"FUELCONSUMPTION_HWY\",\n      \"properties\": {\n        \"dtype\": \"number\",\n        \"std\": 2.7945104498854048,\n        \"min\": 4.9,\n        \"max\": 20.5,\n        \"num_unique_values\": 118,\n        \"samples\": [\n          5.1,\n          14.7,\n          8.7\n        ],\n        \"semantic_type\": \"\",\n        \"description\": \"\"\n      }\n    },\n    {\n      \"column\": \"CO2EMISSIONS\",\n      \"properties\": {\n        \"dtype\": \"number\",\n        \"std\": 0,\n        \"min\": 0,\n        \"max\": 1,\n        \"num_unique_values\": 2,\n        \"samples\": [\n          1,\n          0\n        ],\n        \"semantic_type\": \"\",\n        \"description\": \"\"\n      }\n    }\n  ]\n}"
            }
          },
          "metadata": {},
          "execution_count": 407
        }
      ],
      "source": [
        "dataset.head()"
      ]
    },
    {
      "cell_type": "markdown",
      "metadata": {
        "id": "B96IGh3oGwed"
      },
      "source": [
        "## 3) Se normalizan e imputan los datos"
      ]
    },
    {
      "cell_type": "code",
      "execution_count": null,
      "metadata": {
        "colab": {
          "base_uri": "https://localhost:8080/"
        },
        "id": "jWq7v3PZHJXl",
        "outputId": "3c9d26b7-9bb1-4416-dfa0-e26d1f80329b"
      },
      "outputs": [
        {
          "output_type": "execute_result",
          "data": {
            "text/plain": [
              "(853, 4)"
            ]
          },
          "metadata": {},
          "execution_count": 408
        }
      ],
      "source": [
        "from sklearn.pipeline import Pipeline\n",
        "from sklearn.impute import SimpleImputer\n",
        "from sklearn.preprocessing import StandardScaler\n",
        "from sklearn.compose import ColumnTransformer\n",
        "\n",
        "data_pipeline = Pipeline([\n",
        "    (\"imputer\", SimpleImputer(strategy=\"median\")),\n",
        "    (\"scaler\", StandardScaler())\n",
        "])\n",
        "\n",
        "attribs = dataset.columns[0:-1]\n",
        "full_pipeline = ColumnTransformer([\n",
        "    (\"num\", data_pipeline, attribs),\n",
        "])\n",
        "\n",
        "X_train = full_pipeline.fit_transform(train_data)\n",
        "X_train.shape"
      ]
    },
    {
      "cell_type": "code",
      "execution_count": null,
      "metadata": {
        "colab": {
          "base_uri": "https://localhost:8080/"
        },
        "id": "N67YxKeWPqjM",
        "outputId": "83a7b926-5435-4b69-abed-4a6c99e9c32c"
      },
      "outputs": [
        {
          "output_type": "execute_result",
          "data": {
            "text/plain": [
              "array([-0.23823078,  0.10849756,  0.03621801,  0.28057808])"
            ]
          },
          "metadata": {},
          "execution_count": 409
        }
      ],
      "source": [
        "X_train[0,:]"
      ]
    },
    {
      "cell_type": "code",
      "execution_count": null,
      "metadata": {
        "colab": {
          "base_uri": "https://localhost:8080/"
        },
        "id": "Q1kMWe-KMjjt",
        "outputId": "5dc07eb6-616b-4142-bbb4-11e8f5d57b65"
      },
      "outputs": [
        {
          "output_type": "execute_result",
          "data": {
            "text/plain": [
              "756    1\n",
              "602    0\n",
              "761    1\n",
              "717    0\n",
              "939    0\n",
              "      ..\n",
              "249    0\n",
              "805    0\n",
              "834    1\n",
              "60     1\n",
              "182    1\n",
              "Name: CO2EMISSIONS, Length: 853, dtype: int64"
            ]
          },
          "metadata": {},
          "execution_count": 410
        }
      ],
      "source": [
        "y_train = train_data[\"CO2EMISSIONS\"]\n",
        "y_train"
      ]
    },
    {
      "cell_type": "markdown",
      "metadata": {
        "id": "rhwg35vRKoy1"
      },
      "source": [
        "## 4) Se entrenan las redes neuronales"
      ]
    },
    {
      "cell_type": "code",
      "execution_count": null,
      "metadata": {
        "colab": {
          "base_uri": "https://localhost:8080/"
        },
        "id": "CRYnWTxKK5RD",
        "outputId": "f3256ec2-35e6-41b6-8864-595c1aa2498e"
      },
      "outputs": [
        {
          "output_type": "stream",
          "name": "stdout",
          "text": [
            "[0.95321637 0.9122807  0.94736842 0.96470588 0.95294118]\n"
          ]
        },
        {
          "output_type": "execute_result",
          "data": {
            "text/plain": [
              "0.9461025111799106"
            ]
          },
          "metadata": {},
          "execution_count": 411
        }
      ],
      "source": [
        "from sklearn.neural_network import MLPClassifier\n",
        "from sklearn.model_selection import cross_val_score\n",
        "\n",
        "modelo1 = MLPClassifier(activation='identity',solver='adam',hidden_layer_sizes=(3,5,2), random_state=123)\n",
        "modelo1.fit(X_train, y_train)\n",
        "scores1 = cross_val_score(modelo1, X_train, y_train, cv=5, scoring='accuracy')\n",
        "print(scores1)\n",
        "scores1.mean()"
      ]
    },
    {
      "cell_type": "code",
      "execution_count": null,
      "metadata": {
        "colab": {
          "base_uri": "https://localhost:8080/"
        },
        "id": "hiPubIdZRRHe",
        "outputId": "c8104ec1-8567-4795-ac98-ab542fc61022"
      },
      "outputs": [
        {
          "output_type": "stream",
          "name": "stdout",
          "text": [
            "[0.95906433 0.92982456 0.97076023 0.94705882 0.94705882]\n"
          ]
        },
        {
          "output_type": "execute_result",
          "data": {
            "text/plain": [
              "0.9507533539731682"
            ]
          },
          "metadata": {},
          "execution_count": 412
        }
      ],
      "source": [
        "from sklearn.neural_network import MLPClassifier\n",
        "from sklearn.model_selection import cross_val_score\n",
        "\n",
        "modelo2 = MLPClassifier(activation='relu',solver='lbfgs',hidden_layer_sizes=(3,2), random_state=123, max_iter=1500)\n",
        "modelo2.fit(X_train, y_train)\n",
        "scores2 = cross_val_score(modelo2, X_train, y_train, cv=5, scoring='accuracy')\n",
        "print(scores2)\n",
        "scores2.mean()"
      ]
    },
    {
      "cell_type": "code",
      "execution_count": null,
      "metadata": {
        "colab": {
          "base_uri": "https://localhost:8080/"
        },
        "id": "rXkWOxuPSFNL",
        "outputId": "421b3e03-adf5-4aaa-e10a-fecf8a371852"
      },
      "outputs": [
        {
          "output_type": "stream",
          "name": "stdout",
          "text": [
            "[0.95321637 0.87719298 0.92982456 0.95294118 0.94117647]\n"
          ]
        },
        {
          "output_type": "execute_result",
          "data": {
            "text/plain": [
              "0.9308703130374958"
            ]
          },
          "metadata": {},
          "execution_count": 413
        }
      ],
      "source": [
        "from sklearn.neural_network import MLPClassifier\n",
        "from sklearn.model_selection import cross_val_score\n",
        "\n",
        "modelo3 = MLPClassifier(activation='identity',solver='lbfgs',hidden_layer_sizes=(5,), random_state=123)\n",
        "modelo3.fit(X_train, y_train)\n",
        "scores3 = cross_val_score(modelo3, X_train, y_train, cv=5, scoring='accuracy')\n",
        "print(scores3)\n",
        "scores3.mean()"
      ]
    },
    {
      "cell_type": "code",
      "execution_count": null,
      "metadata": {
        "colab": {
          "base_uri": "https://localhost:8080/"
        },
        "id": "yI3e5nRwSvEV",
        "outputId": "c38ea887-1ea1-4fc0-b52d-14564dd03c89"
      },
      "outputs": [
        {
          "output_type": "stream",
          "name": "stdout",
          "text": [
            "[0.5380117  0.54385965 0.54385965 0.54117647 0.54117647]\n"
          ]
        },
        {
          "output_type": "execute_result",
          "data": {
            "text/plain": [
              "0.5416167870657034"
            ]
          },
          "metadata": {},
          "execution_count": 414
        }
      ],
      "source": [
        "from sklearn.neural_network import MLPClassifier\n",
        "from sklearn.model_selection import cross_val_score\n",
        "\n",
        "modelo4 = MLPClassifier(activation='logistic',solver='sgd',hidden_layer_sizes=(3,10,15), random_state=123)\n",
        "modelo4.fit(X_train, y_train)\n",
        "scores4 = cross_val_score(modelo4, X_train, y_train, cv=5, scoring='accuracy')\n",
        "print(scores4)\n",
        "scores4.mean()"
      ]
    },
    {
      "cell_type": "code",
      "execution_count": null,
      "metadata": {
        "colab": {
          "base_uri": "https://localhost:8080/"
        },
        "id": "C1A731vNUoTp",
        "outputId": "328d1bbc-e336-4035-b970-b961be18b78e"
      },
      "outputs": [
        {
          "output_type": "stream",
          "name": "stdout",
          "text": [
            "[0.96491228 0.97076023 0.98245614 0.96470588 0.98235294]\n"
          ]
        },
        {
          "output_type": "execute_result",
          "data": {
            "text/plain": [
              "0.9730374957000343"
            ]
          },
          "metadata": {},
          "execution_count": 415
        }
      ],
      "source": [
        "from sklearn.neural_network import MLPClassifier\n",
        "from sklearn.model_selection import cross_val_score\n",
        "\n",
        "modelo5 = MLPClassifier(activation='tanh',solver='lbfgs',hidden_layer_sizes=(25,5,19,2), random_state=123)\n",
        "modelo5.fit(X_train, y_train)\n",
        "scores5 = cross_val_score(modelo5, X_train, y_train, cv=5, scoring='accuracy')\n",
        "print(scores5)\n",
        "scores5.mean()"
      ]
    },
    {
      "cell_type": "markdown",
      "source": [
        "### Se analiza el desempeño en el conjunto de prueba"
      ],
      "metadata": {
        "id": "28dhsOq8DMOz"
      }
    },
    {
      "cell_type": "code",
      "source": [
        "X_test = full_pipeline.transform(test_data)\n",
        "X_test"
      ],
      "metadata": {
        "colab": {
          "base_uri": "https://localhost:8080/"
        },
        "id": "0l6aQATHDQbY",
        "outputId": "d9362891-0f49-41cc-d10d-77a25585a87b"
      },
      "execution_count": null,
      "outputs": [
        {
          "output_type": "execute_result",
          "data": {
            "text/plain": [
              "array([[-0.23823078,  0.10849756, -0.1114822 , -0.3031612 ],\n",
              "       [ 0.25397544,  0.10849756,  0.18391822,  0.31706179],\n",
              "       [ 1.02744235,  1.19730253,  0.43008524,  0.4265129 ],\n",
              "       [-0.66012182, -0.98030741, -0.50534943, -0.52206342],\n",
              "       [-1.22264321, -0.98030741, -0.87459996, -0.85041677],\n",
              "       [-0.94138251, -0.98030741, -0.43149933, -0.55854713],\n",
              "       [ 1.37901822,  1.19730253,  0.33161843,  0.31706179],\n",
              "       [ 0.25397544,  0.10849756,  0.30700173,  0.46299661],\n",
              "       [-0.58980664, -0.43590492, -0.57919954, -0.3761286 ],\n",
              "       [-0.66012182, -0.98030741, -0.77613315, -0.92338418],\n",
              "       [ 1.37901822,  1.19730253,  1.2424364 ,  1.73992627],\n",
              "       [-0.94138251, -0.98030741, -0.43149933, -0.48557972],\n",
              "       [-0.09760043,  0.10849756, -0.18533231, -0.12074267],\n",
              "       [ 0.25397544,  0.10849756, -0.0868655 , -0.19371008],\n",
              "       [ 0.60555131,  1.19730253,  1.95632075,  1.44805663],\n",
              "       [-0.66012182, -0.98030741, -0.52996613, -0.41261231],\n",
              "       [-0.23823078,  0.10849756,  0.45470194,  0.53596401],\n",
              "       [ 1.37901822,  1.19730253,  2.96560553,  3.60059522],\n",
              "       [ 1.02744235,  1.19730253,  1.98093745,  1.77640998],\n",
              "       [ 1.66027891,  1.19730253,  0.70086896,  0.20761067],\n",
              "       [-1.29295838, -0.98030741, -1.78541793, -1.32470493],\n",
              "       [-0.23823078,  0.10849756,  0.33161843,  0.13464326],\n",
              "       [ 1.37901822,  1.19730253,  1.2424364 ,  1.73992627],\n",
              "       [ 3.5587886 ,  2.2861075 ,  1.66092033,  1.30212181],\n",
              "       [ 0.32429061,  0.10849756,  0.11006811,  0.06167585],\n",
              "       [ 0.46492096,  0.10849756,  0.30700173,  0.68189883],\n",
              "       [-0.66012182, -0.98030741, -0.57919954, -0.3031612 ],\n",
              "       [ 0.18366027,  0.10849756,  0.99626938,  0.82783365],\n",
              "       [ 1.51964857,  1.19730253,  0.57778545,  0.31706179],\n",
              "       [ 0.11334509,  0.10849756, -0.30841582, -0.3396449 ],\n",
              "       [-1.08201286, -0.98030741, -0.80074986, -0.92338418],\n",
              "       [-0.94138251, -0.98030741, -0.57919954, -0.59503083],\n",
              "       [-0.94138251, -0.98030741, -0.94845007, -1.069319  ],\n",
              "       [ 0.95712718,  1.19730253,  1.193203  ,  1.01025218],\n",
              "       [ 1.37901822,  1.19730253,  0.67625226,  0.60893142],\n",
              "       [ 1.37901822,  1.19730253,  1.2424364 ,  1.73992627],\n",
              "       [ 0.18366027,  0.10849756,  0.11006811, -0.26667749],\n",
              "       [ 0.25397544,  0.10849756,  0.25776832,  0.4265129 ],\n",
              "       [ 0.46492096,  1.19730253,  0.06083471, -0.3031612 ],\n",
              "       [ 0.18366027,  0.10849756, -0.16071561, -0.44909601],\n",
              "       [-0.66012182, -0.98030741, -0.52996613, -0.41261231],\n",
              "       [-0.09760043,  0.10849756, -0.33303252, -0.48557972],\n",
              "       [-1.22264321, -0.98030741, -0.97306677, -0.70448195],\n",
              "       [ 0.18366027,  0.10849756,  0.25776832,  0.17112697],\n",
              "       [ 0.18366027,  0.10849756,  0.33161843,  0.28057808],\n",
              "       [ 1.37901822,  1.19730253,  2.5225049 ,  3.01685594],\n",
              "       [ 0.11334509,  0.10849756, -0.16071561, -0.01129156],\n",
              "       [ 1.66027891,  1.19730253,  1.41475331,  1.63047516],\n",
              "       [ 1.1680727 ,  1.19730253,  0.62701885,  0.28057808],\n",
              "       [-0.66012182, -0.98030741, -0.72689975, -0.41261231],\n",
              "       [ 0.32429061,  0.10849756, -0.0622488 , -0.26667749],\n",
              "       [-0.58980664, -0.43590492, -0.55458284, -0.63151454],\n",
              "       [ 1.66027891,  1.19730253,  0.62701885, -0.08425897],\n",
              "       [ 1.1680727 ,  1.19730253,  2.89175542,  2.7249863 ],\n",
              "       [-0.23823078,  0.10849756,  0.03621801,  0.13464326],\n",
              "       [ 1.51964857,  1.19730253,  0.45470194,  0.46299661],\n",
              "       [-0.23823078,  0.10849756,  0.65163555,  0.09815956],\n",
              "       [-0.94138251, -0.98030741, -0.89921666, -0.95986788],\n",
              "       [ 0.18366027,  0.10849756, -0.1114822 , -0.3031612 ],\n",
              "       [ 0.11334509,  0.10849756,  0.15930152,  0.09815956],\n",
              "       [-1.22264321, -0.98030741, -0.97306677, -0.70448195],\n",
              "       [ 1.87122443,  1.19730253,  0.84856917,  0.64541513],\n",
              "       [-0.58980664, -0.98030741, -0.89921666, -0.74096565],\n",
              "       [ 1.37901822,  1.19730253,  2.03017086,  1.88586109],\n",
              "       [ 0.74618166,  1.19730253,  0.99626938,  0.75486624],\n",
              "       [ 0.67586648,  0.10849756,  0.94703598,  1.1926707 ],\n",
              "       [ 1.44933339,  1.19730253,  2.86713872,  3.71004633],\n",
              "       [ 1.44933339,  1.19730253,  3.31023935,  4.03839967],\n",
              "       [ 1.73059409,  1.19730253,  0.65163555,  0.17112697],\n",
              "       [-0.94138251, -0.98030741, -1.29308389, -1.32470493],\n",
              "       [ 2.01185478,  1.19730253,  0.50393534,  0.13464326],\n",
              "       [-0.66012182, -0.98030741, -1.63771772, -1.28822122],\n",
              "       [ 0.25397544,  0.10849756, -0.28379912, -0.59503083],\n",
              "       [-1.22264321, -0.98030741, -1.02230017, -0.99635159],\n",
              "       [ 0.32429061,  0.10849756,  0.30700173,  0.53596401],\n",
              "       [-1.29295838, -0.98030741, -1.63771772, -1.25173752],\n",
              "       [-1.22264321, -0.98030741, -1.14538368, -0.95986788],\n",
              "       [-0.58980664, -0.43590492, -0.50534943, -0.77744936],\n",
              "       [ 1.87122443,  1.19730253,  2.12863767,  2.03179591],\n",
              "       [ 0.11334509,  0.10849756, -0.0130154 ,  0.24409438],\n",
              "       [-0.58980664, -0.98030741, -0.57919954, -0.41261231],\n",
              "       [ 1.58996374,  1.19730253,  0.30700173,  0.02519215],\n",
              "       [ 0.46492096,  0.10849756,  0.70086896,  0.90080106],\n",
              "       [-1.36327355, -0.98030741, -1.17000038, -0.92338418],\n",
              "       [-1.43358873, -0.98030741, -1.63771772, -1.36118863],\n",
              "       [ 0.74618166,  1.19730253,  0.43008524,  0.13464326],\n",
              "       [-0.66012182, -0.98030741, -0.48073273, -0.41261231],\n",
              "       [ 0.67586648,  0.10849756,  0.03621801,  0.17112697],\n",
              "       [ 1.1680727 ,  1.19730253,  0.38085183,  0.17112697],\n",
              "       [-0.94138251, -0.98030741, -0.65304964, -0.74096565],\n",
              "       [-0.66012182, -0.98030741, -0.80074986, -0.88690047],\n",
              "       [-0.4491763 ,  0.10849756, -0.62843294, -0.74096565],\n",
              "       [ 0.18366027,  0.10849756, -0.0376321 , -0.15722638],\n",
              "       [-0.94138251, -0.98030741, -0.89921666, -0.77744936],\n",
              "       [ 2.01185478,  1.19730253,  2.47327149,  2.43311666],\n",
              "       [ 1.58996374,  1.19730253,  1.14396959,  1.22915441],\n",
              "       [-0.94138251, -0.98030741,  0.23315162,  0.13464326],\n",
              "       [ 0.11334509,  0.10849756,  0.52855205,  0.57244772],\n",
              "       [-0.66012182, -0.98030741, -1.04691687, -1.03283529],\n",
              "       [-1.64453425, -1.52470989, -1.56386761, -1.36118863],\n",
              "       [-0.94138251, -0.98030741, -0.57919954, -0.70448195],\n",
              "       [-0.23823078,  0.10849756, -0.80074986, -1.1058027 ],\n",
              "       [ 1.37901822,  1.19730253,  0.40546854,  0.4265129 ],\n",
              "       [ 0.32429061,  0.10849756,  0.11006811,  0.06167585],\n",
              "       [ 0.74618166,  1.19730253,  0.99626938,  0.75486624],\n",
              "       [-0.23823078,  0.10849756,  0.20853492,  0.24409438],\n",
              "       [ 0.11334509,  0.10849756, -0.18533231, -0.12074267],\n",
              "       [-0.94138251, -0.98030741, -0.99768347, -1.03283529],\n",
              "       [-0.66012182, -0.98030741, -0.89921666, -1.069319  ],\n",
              "       [ 0.25397544,  0.10849756,  0.23315162,  0.20761067],\n",
              "       [ 0.11334509,  0.10849756,  0.38085183,  0.35354549],\n",
              "       [ 1.37901822,  1.19730253,  1.3162865 ,  1.63047516],\n",
              "       [ 0.95712718,  1.19730253,  1.02088608,  0.68189883],\n",
              "       [-1.36327355, -0.98030741, -1.12076698, -0.88690047],\n",
              "       [ 0.11334509,  0.10849756, -0.0868655 , -0.01129156],\n",
              "       [-1.36327355, -0.98030741, -1.12076698, -0.92338418],\n",
              "       [-1.22264321, -0.98030741, -1.02230017, -0.99635159],\n",
              "       [ 0.11334509,  0.10849756, -0.33303252, -0.3396449 ],\n",
              "       [ 1.80090926,  3.37491247,  1.16858629,  1.156187  ],\n",
              "       [ 0.11334509,  0.10849756, -1.29308389, -0.3031612 ],\n",
              "       [-0.58980664, -0.98030741, -0.60381624, -0.3396449 ],\n",
              "       [ 0.60555131,  1.19730253,  1.07011949,  0.57244772],\n",
              "       [-0.94138251, -0.98030741, -0.72689975, -0.48557972],\n",
              "       [ 0.95712718,  1.19730253,  0.23315162, -0.01129156],\n",
              "       [ 1.37901822,  1.19730253,  2.6209717 ,  3.30872558],\n",
              "       [ 0.32429061,  0.10849756, -0.1114822 , -0.19371008],\n",
              "       [ 0.95712718,  1.19730253,  1.2178197 ,  0.82783365],\n",
              "       [ 0.18366027,  0.10849756,  0.38085183,  0.35354549],\n",
              "       [ 0.886812  ,  1.19730253,  2.67020511,  3.56411151],\n",
              "       [ 0.18366027,  0.10849756, -0.0868655 , -0.44909601],\n",
              "       [-0.66012182, -0.98030741, -0.30841582, -0.66799824],\n",
              "       [-1.36327355, -0.98030741, -1.02230017, -1.1422864 ],\n",
              "       [-0.58980664, -0.43590492, -0.50534943, -0.26667749],\n",
              "       [-1.08201286, -0.98030741, -1.07153358, -0.77744936],\n",
              "       [-0.94138251, -0.98030741, -0.0868655 ,  0.09815956],\n",
              "       [-1.22264321, -0.98030741, -0.60381624, -0.52206342],\n",
              "       [-0.23823078,  0.10849756,  0.01160131,  0.02519215],\n",
              "       [-0.66012182, -0.98030741, -0.38226592,  0.31706179],\n",
              "       [ 0.11334509,  0.10849756, -0.0130154 , -0.01129156],\n",
              "       [ 0.11334509,  0.10849756, -0.28379912, -0.41261231],\n",
              "       [ 0.25397544,  0.10849756,  1.71015373,  2.14124702],\n",
              "       [ 0.18366027,  0.10849756,  0.35623513,  0.60893142],\n",
              "       [ 0.11334509,  0.10849756, -0.18533231, -0.12074267],\n",
              "       [-1.22264321, -0.98030741, -0.97306677, -0.88690047],\n",
              "       [-0.66012182, -0.98030741, -0.38226592, -0.44909601],\n",
              "       [ 0.11334509,  0.10849756, -0.33303252, -0.15722638],\n",
              "       [ 0.11334509,  0.10849756, -0.52996613, -0.48557972],\n",
              "       [-1.36327355, -0.98030741, -0.75151645, -0.52206342],\n",
              "       [-0.23823078,  0.10849756, -0.0376321 , -0.23019379],\n",
              "       [ 1.37901822,  1.19730253,  2.6209717 ,  3.30872558],\n",
              "       [-0.23823078,  0.10849756,  0.11006811,  0.24409438],\n",
              "       [ 1.37901822,  1.19730253,  0.67625226,  0.60893142],\n",
              "       [-0.58980664, -0.98030741, -1.90850144, -1.28822122],\n",
              "       [-1.08201286, -0.98030741, -0.82536656, -0.81393306],\n",
              "       [ 2.15248513,  1.19730253,  0.84856917,  0.31706179],\n",
              "       [ 0.18366027,  0.10849756, -0.18533231, -0.48557972],\n",
              "       [ 0.11334509,  0.10849756,  0.30700173,  0.4265129 ],\n",
              "       [ 0.11334509,  0.10849756,  0.03621801,  0.3900292 ],\n",
              "       [-1.22264321, -0.98030741, -0.70228305, -0.74096565],\n",
              "       [-0.87106734, -0.98030741, -1.17000038, -1.36118863],\n",
              "       [-1.22264321, -0.98030741, -0.97306677, -0.70448195],\n",
              "       [-0.94138251, -0.98030741, -0.45611603, -0.04777526],\n",
              "       [-1.22264321, -0.98030741, -0.52996613, -0.44909601],\n",
              "       [ 0.67586648,  0.10849756,  0.23315162,  0.4265129 ],\n",
              "       [ 0.32429061,  0.10849756, -0.1360989 , -0.15722638],\n",
              "       [ 0.25397544,  0.10849756,  0.01160131, -0.01129156],\n",
              "       [ 0.04302992,  0.10849756, -0.18533231, -0.3031612 ],\n",
              "       [ 0.18366027,  0.10849756, -0.0130154 , -0.26667749],\n",
              "       [-0.4491763 ,  0.10849756, -0.43149933, -0.55854713],\n",
              "       [-1.36327355, -0.98030741, -1.31770059, -1.1422864 ],\n",
              "       [-0.94138251, -0.98030741, -0.70228305, -0.99635159],\n",
              "       [ 0.11334509,  0.10849756, -0.0622488 , -0.12074267],\n",
              "       [-1.5039039 , -0.98030741, -1.3915507 , -1.25173752],\n",
              "       [ 0.67586648,  0.10849756,  1.39013661,  1.73992627],\n",
              "       [ 0.18366027,  0.10849756,  0.87318587,  0.31706179],\n",
              "       [-0.58980664, -0.98030741, -0.48073273, -0.44909601],\n",
              "       [-0.94138251, -0.98030741, -0.1360989 ,  0.09815956],\n",
              "       [ 0.25397544,  0.10849756,  1.36551991,  1.55750775],\n",
              "       [-0.58980664, -0.98030741, -0.67766635, -0.81393306],\n",
              "       [ 1.1680727 ,  1.19730253,  0.97165268,  1.11970329],\n",
              "       [ 1.37901822,  1.19730253,  2.5717383 ,  3.41817669],\n",
              "       [ 0.18366027,  0.10849756,  1.51322012,  1.52102404],\n",
              "       [ 2.01185478,  1.19730253,  1.58707022,  1.26563811],\n",
              "       [ 0.18366027,  0.10849756,  1.39013661,  1.26563811],\n",
              "       [-0.94138251, -0.98030741, -0.16071561, -0.3396449 ],\n",
              "       [-1.29295838, -0.98030741, -1.31770059, -1.03283529],\n",
              "       [-0.23823078,  0.10849756, -0.67766635, -0.55854713],\n",
              "       [ 2.01185478,  1.19730253,  0.92241927,  0.86431736],\n",
              "       [ 1.1680727 ,  1.19730253,  1.16858629,  1.01025218],\n",
              "       [-0.58980664, -0.98030741, -0.75151645, -0.66799824],\n",
              "       [ 0.04302992,  0.10849756, -0.40688263, -0.41261231],\n",
              "       [ 0.11334509,  0.10849756, -0.28379912, -0.48557972],\n",
              "       [ 0.11334509,  0.10849756,  0.11006811,  0.17112697],\n",
              "       [-0.23823078,  0.10849756, -0.67766635, -0.66799824],\n",
              "       [-0.94138251, -0.98030741, -0.70228305, -0.99635159],\n",
              "       [ 1.1680727 ,  1.19730253,  0.33161843,  0.24409438],\n",
              "       [ 0.18366027,  0.10849756, -0.0130154 , -0.26667749],\n",
              "       [-1.08201286, -0.98030741, -1.3423173 , -1.25173752],\n",
              "       [ 0.04302992,  0.10849756, -0.35764922, -0.3396449 ],\n",
              "       [-0.94138251, -0.98030741, -0.75151645, -0.52206342],\n",
              "       [-0.94138251, -0.98030741, -0.50534943, -0.3396449 ],\n",
              "       [ 0.32429061,  0.10849756, -0.16071561, -0.3031612 ],\n",
              "       [-0.94138251, -0.98030741, -0.84998326, -0.85041677],\n",
              "       [-0.94138251, -0.98030741, -0.84998326, -0.52206342],\n",
              "       [-0.94138251, -0.98030741, -0.67766635, -0.85041677],\n",
              "       [-0.66012182, -0.98030741, -0.48073273, -0.41261231],\n",
              "       [ 0.67586648,  0.10849756,  0.94703598,  1.1926707 ],\n",
              "       [-0.23823078,  0.10849756, -0.43149933, -0.3396449 ],\n",
              "       [-0.94138251, -0.98030741, -0.65304964, -0.81393306],\n",
              "       [-0.94138251, -0.98030741, -1.19461708, -1.32470493],\n",
              "       [ 1.87122443,  1.19730253,  4.12259052,  4.00191597],\n",
              "       [-1.29295838, -0.98030741, -1.19461708, -0.92338418],\n",
              "       [-0.58980664, -0.98030741, -0.84998326, -0.55854713],\n",
              "       [-1.29295838, -0.98030741, -0.92383336, -1.1422864 ]])"
            ]
          },
          "metadata": {},
          "execution_count": 416
        }
      ]
    },
    {
      "cell_type": "code",
      "source": [
        "y_pred1 = modelo1.predict(X_test)\n",
        "y_pred1"
      ],
      "metadata": {
        "colab": {
          "base_uri": "https://localhost:8080/"
        },
        "id": "IluyaE1BDg4V",
        "outputId": "18401805-773b-49b5-8c68-66e321b77f8d"
      },
      "execution_count": null,
      "outputs": [
        {
          "output_type": "execute_result",
          "data": {
            "text/plain": [
              "array([0, 1, 1, 0, 0, 0, 1, 1, 0, 0, 1, 0, 0, 0, 1, 0, 1, 1, 1, 1, 0, 1,\n",
              "       1, 1, 1, 1, 0, 1, 1, 0, 0, 0, 0, 1, 1, 1, 1, 1, 1, 0, 0, 0, 0, 1,\n",
              "       1, 1, 1, 1, 1, 0, 0, 0, 1, 1, 1, 1, 1, 0, 0, 1, 0, 1, 0, 1, 1, 1,\n",
              "       1, 1, 1, 0, 1, 0, 0, 0, 1, 0, 0, 0, 1, 1, 0, 1, 1, 0, 0, 1, 0, 1,\n",
              "       1, 0, 0, 0, 1, 0, 1, 1, 0, 1, 0, 0, 0, 0, 1, 1, 1, 1, 0, 0, 0, 1,\n",
              "       1, 1, 1, 0, 1, 0, 0, 0, 1, 0, 0, 1, 0, 1, 1, 0, 1, 1, 1, 0, 0, 0,\n",
              "       0, 0, 0, 0, 1, 0, 1, 0, 1, 1, 0, 0, 0, 0, 0, 0, 1, 1, 1, 1, 0, 0,\n",
              "       1, 0, 1, 1, 0, 0, 0, 0, 0, 1, 0, 1, 0, 0, 0, 0, 0, 1, 0, 1, 1, 0,\n",
              "       0, 1, 0, 1, 1, 1, 1, 1, 0, 0, 0, 1, 1, 0, 0, 0, 1, 0, 0, 1, 0, 0,\n",
              "       0, 0, 0, 0, 0, 0, 0, 0, 1, 0, 0, 0, 1, 0, 0, 0])"
            ]
          },
          "metadata": {},
          "execution_count": 417
        }
      ]
    },
    {
      "cell_type": "code",
      "source": [
        "y_pred2 = modelo2.predict(X_test)\n",
        "y_pred2"
      ],
      "metadata": {
        "colab": {
          "base_uri": "https://localhost:8080/"
        },
        "id": "aE5I6zlpDo5m",
        "outputId": "57a0682d-0039-43c5-c23f-f31a5382b3e5"
      },
      "execution_count": null,
      "outputs": [
        {
          "output_type": "execute_result",
          "data": {
            "text/plain": [
              "array([1, 1, 1, 0, 0, 0, 1, 1, 0, 0, 1, 0, 0, 0, 1, 0, 1, 1, 1, 1, 0, 1,\n",
              "       1, 1, 1, 1, 0, 1, 1, 0, 0, 0, 0, 1, 1, 1, 1, 1, 1, 0, 0, 0, 0, 1,\n",
              "       1, 1, 1, 1, 1, 0, 0, 0, 1, 1, 1, 1, 0, 0, 0, 1, 0, 1, 0, 1, 1, 1,\n",
              "       1, 1, 1, 0, 1, 0, 0, 0, 1, 0, 0, 0, 1, 1, 0, 1, 1, 0, 0, 1, 0, 1,\n",
              "       1, 0, 0, 0, 1, 0, 1, 1, 0, 1, 0, 0, 0, 0, 1, 1, 1, 1, 0, 0, 0, 1,\n",
              "       1, 1, 1, 0, 1, 0, 0, 0, 1, 0, 0, 1, 0, 1, 1, 0, 1, 1, 1, 0, 0, 0,\n",
              "       0, 0, 1, 0, 1, 0, 1, 0, 1, 1, 0, 0, 0, 0, 0, 0, 1, 1, 1, 1, 0, 0,\n",
              "       1, 0, 1, 1, 0, 0, 0, 0, 0, 1, 0, 1, 0, 1, 0, 0, 0, 1, 0, 1, 0, 0,\n",
              "       1, 1, 0, 1, 1, 1, 1, 1, 0, 0, 0, 1, 1, 0, 0, 0, 1, 0, 0, 1, 1, 0,\n",
              "       0, 0, 0, 0, 0, 0, 0, 0, 1, 0, 0, 0, 1, 0, 0, 0])"
            ]
          },
          "metadata": {},
          "execution_count": 418
        }
      ]
    },
    {
      "cell_type": "code",
      "source": [
        "y_pred3 = modelo3.predict(X_test)\n",
        "y_pred3"
      ],
      "metadata": {
        "colab": {
          "base_uri": "https://localhost:8080/"
        },
        "id": "A9niXMGgDs29",
        "outputId": "d32829be-9be0-49ec-8e03-1fda5b7ce63a"
      },
      "execution_count": null,
      "outputs": [
        {
          "output_type": "execute_result",
          "data": {
            "text/plain": [
              "array([0, 1, 1, 0, 0, 0, 1, 1, 0, 0, 1, 0, 0, 0, 1, 0, 1, 1, 1, 1, 0, 1,\n",
              "       1, 1, 1, 1, 0, 1, 1, 0, 0, 0, 0, 1, 1, 1, 0, 1, 1, 0, 0, 0, 0, 1,\n",
              "       1, 1, 1, 1, 1, 0, 0, 0, 1, 1, 1, 1, 1, 0, 0, 1, 0, 1, 0, 1, 1, 1,\n",
              "       1, 1, 1, 0, 1, 0, 0, 0, 1, 0, 0, 0, 1, 1, 0, 1, 1, 0, 0, 1, 0, 1,\n",
              "       1, 0, 0, 0, 0, 0, 1, 1, 0, 1, 0, 0, 0, 0, 1, 1, 1, 1, 0, 0, 0, 1,\n",
              "       1, 1, 1, 0, 1, 0, 0, 0, 1, 0, 0, 1, 0, 1, 1, 0, 1, 1, 1, 0, 0, 0,\n",
              "       0, 0, 0, 0, 1, 0, 1, 0, 1, 1, 0, 0, 0, 0, 0, 0, 0, 1, 1, 1, 0, 0,\n",
              "       1, 0, 1, 1, 0, 0, 0, 0, 0, 1, 0, 1, 0, 0, 0, 0, 0, 1, 0, 1, 1, 0,\n",
              "       0, 1, 0, 1, 1, 1, 1, 1, 0, 0, 0, 1, 1, 0, 0, 0, 1, 0, 0, 1, 0, 0,\n",
              "       0, 0, 0, 0, 0, 0, 0, 0, 1, 0, 0, 0, 1, 0, 0, 0])"
            ]
          },
          "metadata": {},
          "execution_count": 419
        }
      ]
    },
    {
      "cell_type": "code",
      "source": [
        "y_pred4 = modelo4.predict(X_test)\n",
        "y_pred4"
      ],
      "metadata": {
        "colab": {
          "base_uri": "https://localhost:8080/"
        },
        "id": "19q5FnDLDvlw",
        "outputId": "49933631-eceb-4ae2-b86f-a91139eecca4"
      },
      "execution_count": null,
      "outputs": [
        {
          "output_type": "execute_result",
          "data": {
            "text/plain": [
              "array([0, 0, 0, 0, 0, 0, 0, 0, 0, 0, 0, 0, 0, 0, 0, 0, 0, 0, 0, 0, 0, 0,\n",
              "       0, 0, 0, 0, 0, 0, 0, 0, 0, 0, 0, 0, 0, 0, 0, 0, 0, 0, 0, 0, 0, 0,\n",
              "       0, 0, 0, 0, 0, 0, 0, 0, 0, 0, 0, 0, 0, 0, 0, 0, 0, 0, 0, 0, 0, 0,\n",
              "       0, 0, 0, 0, 0, 0, 0, 0, 0, 0, 0, 0, 0, 0, 0, 0, 0, 0, 0, 0, 0, 0,\n",
              "       0, 0, 0, 0, 0, 0, 0, 0, 0, 0, 0, 0, 0, 0, 0, 0, 0, 0, 0, 0, 0, 0,\n",
              "       0, 0, 0, 0, 0, 0, 0, 0, 0, 0, 0, 0, 0, 0, 0, 0, 0, 0, 0, 0, 0, 0,\n",
              "       0, 0, 0, 0, 0, 0, 0, 0, 0, 0, 0, 0, 0, 0, 0, 0, 0, 0, 0, 0, 0, 0,\n",
              "       0, 0, 0, 0, 0, 0, 0, 0, 0, 0, 0, 0, 0, 0, 0, 0, 0, 0, 0, 0, 0, 0,\n",
              "       0, 0, 0, 0, 0, 0, 0, 0, 0, 0, 0, 0, 0, 0, 0, 0, 0, 0, 0, 0, 0, 0,\n",
              "       0, 0, 0, 0, 0, 0, 0, 0, 0, 0, 0, 0, 0, 0, 0, 0])"
            ]
          },
          "metadata": {},
          "execution_count": 420
        }
      ]
    },
    {
      "cell_type": "code",
      "source": [
        "y_pred5 = modelo5.predict(X_test)\n",
        "y_pred5"
      ],
      "metadata": {
        "colab": {
          "base_uri": "https://localhost:8080/"
        },
        "id": "70IXmOqvDyZU",
        "outputId": "a524cda8-9a0a-49cf-c907-849ce9e4dde8"
      },
      "execution_count": null,
      "outputs": [
        {
          "output_type": "execute_result",
          "data": {
            "text/plain": [
              "array([0, 1, 1, 0, 0, 0, 1, 1, 0, 0, 1, 0, 0, 0, 1, 0, 1, 1, 1, 1, 0, 1,\n",
              "       1, 1, 1, 1, 0, 1, 1, 0, 0, 0, 0, 1, 1, 1, 1, 1, 1, 0, 0, 0, 0, 1,\n",
              "       1, 1, 0, 1, 1, 0, 0, 0, 1, 1, 1, 1, 1, 0, 0, 1, 0, 1, 0, 1, 1, 1,\n",
              "       1, 1, 1, 0, 1, 0, 0, 0, 1, 0, 0, 0, 1, 1, 0, 1, 1, 0, 0, 1, 0, 1,\n",
              "       1, 0, 0, 0, 1, 0, 1, 1, 1, 1, 0, 0, 0, 0, 1, 1, 1, 1, 0, 0, 0, 1,\n",
              "       1, 1, 1, 0, 1, 0, 0, 0, 1, 0, 0, 1, 0, 1, 1, 0, 1, 1, 1, 0, 0, 0,\n",
              "       0, 0, 1, 0, 1, 0, 1, 0, 1, 1, 0, 0, 0, 0, 0, 0, 1, 1, 1, 1, 0, 0,\n",
              "       1, 0, 1, 1, 0, 0, 0, 0, 0, 1, 0, 1, 0, 1, 0, 0, 0, 1, 0, 1, 1, 0,\n",
              "       1, 1, 0, 1, 1, 1, 1, 1, 0, 0, 0, 1, 1, 0, 0, 0, 1, 0, 0, 1, 1, 0,\n",
              "       0, 0, 0, 0, 0, 0, 0, 0, 1, 0, 0, 0, 1, 0, 0, 0])"
            ]
          },
          "metadata": {},
          "execution_count": 421
        }
      ]
    },
    {
      "cell_type": "code",
      "source": [
        "y_test = test_data[\"CO2EMISSIONS\"]\n",
        "y_test"
      ],
      "metadata": {
        "colab": {
          "base_uri": "https://localhost:8080/"
        },
        "id": "te6c-p7fEaKc",
        "outputId": "5b642292-6de5-420c-81b7-02965fb64cce"
      },
      "execution_count": null,
      "outputs": [
        {
          "output_type": "execute_result",
          "data": {
            "text/plain": [
              "26     0\n",
              "377    1\n",
              "894    1\n",
              "279    0\n",
              "525    0\n",
              "      ..\n",
              "407    0\n",
              "449    1\n",
              "701    0\n",
              "698    0\n",
              "413    0\n",
              "Name: CO2EMISSIONS, Length: 214, dtype: int64"
            ]
          },
          "metadata": {},
          "execution_count": 422
        }
      ]
    },
    {
      "cell_type": "code",
      "source": [
        "from sklearn.metrics import accuracy_score\n",
        "accuracy1 = accuracy_score(y_test, y_pred1)\n",
        "accuracy1"
      ],
      "metadata": {
        "id": "yD-p_fXJKzsf",
        "colab": {
          "base_uri": "https://localhost:8080/"
        },
        "outputId": "17a4db96-3181-4299-b132-003868ce46a3"
      },
      "execution_count": null,
      "outputs": [
        {
          "output_type": "execute_result",
          "data": {
            "text/plain": [
              "0.9719626168224299"
            ]
          },
          "metadata": {},
          "execution_count": 423
        }
      ]
    },
    {
      "cell_type": "code",
      "source": [
        "accuracy2 = accuracy_score(y_test, y_pred2)\n",
        "accuracy2"
      ],
      "metadata": {
        "id": "tiuVoGxIMKLL",
        "colab": {
          "base_uri": "https://localhost:8080/"
        },
        "outputId": "181e57fe-c65b-4595-fb1e-c1cc077063db"
      },
      "execution_count": null,
      "outputs": [
        {
          "output_type": "execute_result",
          "data": {
            "text/plain": [
              "0.985981308411215"
            ]
          },
          "metadata": {},
          "execution_count": 424
        }
      ]
    },
    {
      "cell_type": "code",
      "source": [
        "accuracy3 = accuracy_score(y_test, y_pred3)\n",
        "accuracy3"
      ],
      "metadata": {
        "id": "XR8K73hzMNab",
        "colab": {
          "base_uri": "https://localhost:8080/"
        },
        "outputId": "dc950e8c-bb3a-479e-e616-0780b9c82d72"
      },
      "execution_count": null,
      "outputs": [
        {
          "output_type": "execute_result",
          "data": {
            "text/plain": [
              "0.9579439252336449"
            ]
          },
          "metadata": {},
          "execution_count": 425
        }
      ]
    },
    {
      "cell_type": "code",
      "source": [
        "accuracy4 = accuracy_score(y_test, y_pred4)\n",
        "accuracy4"
      ],
      "metadata": {
        "id": "hvB0Ufz9MPeS",
        "colab": {
          "base_uri": "https://localhost:8080/"
        },
        "outputId": "811c5a2a-a3a9-46de-ac46-a39c8459ead2"
      },
      "execution_count": null,
      "outputs": [
        {
          "output_type": "execute_result",
          "data": {
            "text/plain": [
              "0.5280373831775701"
            ]
          },
          "metadata": {},
          "execution_count": 426
        }
      ]
    },
    {
      "cell_type": "code",
      "source": [
        "accuracy5 = accuracy_score(y_test, y_pred5)\n",
        "accuracy5"
      ],
      "metadata": {
        "id": "pIZPH7_qMRV2",
        "colab": {
          "base_uri": "https://localhost:8080/"
        },
        "outputId": "3fb6241b-9e1b-4654-fe2f-4ed16682005f"
      },
      "execution_count": null,
      "outputs": [
        {
          "output_type": "execute_result",
          "data": {
            "text/plain": [
              "0.9813084112149533"
            ]
          },
          "metadata": {},
          "execution_count": 427
        }
      ]
    },
    {
      "cell_type": "markdown",
      "source": [
        "### Se genera la tabla comparativa del accuracy de los modelos"
      ],
      "metadata": {
        "id": "tKf84evpQ6VI"
      }
    },
    {
      "cell_type": "code",
      "source": [
        "accuracies = {\n",
        "    \"Model\": [\"model 1\", \"model 2\", \"model 3\", \"model 4\", \"model 5\"],\n",
        "    \"Accuracy\": [accuracy1, accuracy2, accuracy3, accuracy4, accuracy5]\n",
        "}\n",
        "pd.DataFrame(accuracies)"
      ],
      "metadata": {
        "colab": {
          "base_uri": "https://localhost:8080/",
          "height": 206
        },
        "id": "q-T-QJu6RRmf",
        "outputId": "562e155c-f89d-4527-8c70-ecc69f5df977"
      },
      "execution_count": null,
      "outputs": [
        {
          "output_type": "execute_result",
          "data": {
            "text/plain": [
              "     Model  Accuracy\n",
              "0  model 1  0.971963\n",
              "1  model 2  0.985981\n",
              "2  model 3  0.957944\n",
              "3  model 4  0.528037\n",
              "4  model 5  0.981308"
            ],
            "text/html": [
              "\n",
              "  <div id=\"df-5f9ed3cb-4467-4edb-9c87-ae91380dff05\" class=\"colab-df-container\">\n",
              "    <div>\n",
              "<style scoped>\n",
              "    .dataframe tbody tr th:only-of-type {\n",
              "        vertical-align: middle;\n",
              "    }\n",
              "\n",
              "    .dataframe tbody tr th {\n",
              "        vertical-align: top;\n",
              "    }\n",
              "\n",
              "    .dataframe thead th {\n",
              "        text-align: right;\n",
              "    }\n",
              "</style>\n",
              "<table border=\"1\" class=\"dataframe\">\n",
              "  <thead>\n",
              "    <tr style=\"text-align: right;\">\n",
              "      <th></th>\n",
              "      <th>Model</th>\n",
              "      <th>Accuracy</th>\n",
              "    </tr>\n",
              "  </thead>\n",
              "  <tbody>\n",
              "    <tr>\n",
              "      <th>0</th>\n",
              "      <td>model 1</td>\n",
              "      <td>0.971963</td>\n",
              "    </tr>\n",
              "    <tr>\n",
              "      <th>1</th>\n",
              "      <td>model 2</td>\n",
              "      <td>0.985981</td>\n",
              "    </tr>\n",
              "    <tr>\n",
              "      <th>2</th>\n",
              "      <td>model 3</td>\n",
              "      <td>0.957944</td>\n",
              "    </tr>\n",
              "    <tr>\n",
              "      <th>3</th>\n",
              "      <td>model 4</td>\n",
              "      <td>0.528037</td>\n",
              "    </tr>\n",
              "    <tr>\n",
              "      <th>4</th>\n",
              "      <td>model 5</td>\n",
              "      <td>0.981308</td>\n",
              "    </tr>\n",
              "  </tbody>\n",
              "</table>\n",
              "</div>\n",
              "    <div class=\"colab-df-buttons\">\n",
              "\n",
              "  <div class=\"colab-df-container\">\n",
              "    <button class=\"colab-df-convert\" onclick=\"convertToInteractive('df-5f9ed3cb-4467-4edb-9c87-ae91380dff05')\"\n",
              "            title=\"Convert this dataframe to an interactive table.\"\n",
              "            style=\"display:none;\">\n",
              "\n",
              "  <svg xmlns=\"http://www.w3.org/2000/svg\" height=\"24px\" viewBox=\"0 -960 960 960\">\n",
              "    <path d=\"M120-120v-720h720v720H120Zm60-500h600v-160H180v160Zm220 220h160v-160H400v160Zm0 220h160v-160H400v160ZM180-400h160v-160H180v160Zm440 0h160v-160H620v160ZM180-180h160v-160H180v160Zm440 0h160v-160H620v160Z\"/>\n",
              "  </svg>\n",
              "    </button>\n",
              "\n",
              "  <style>\n",
              "    .colab-df-container {\n",
              "      display:flex;\n",
              "      gap: 12px;\n",
              "    }\n",
              "\n",
              "    .colab-df-convert {\n",
              "      background-color: #E8F0FE;\n",
              "      border: none;\n",
              "      border-radius: 50%;\n",
              "      cursor: pointer;\n",
              "      display: none;\n",
              "      fill: #1967D2;\n",
              "      height: 32px;\n",
              "      padding: 0 0 0 0;\n",
              "      width: 32px;\n",
              "    }\n",
              "\n",
              "    .colab-df-convert:hover {\n",
              "      background-color: #E2EBFA;\n",
              "      box-shadow: 0px 1px 2px rgba(60, 64, 67, 0.3), 0px 1px 3px 1px rgba(60, 64, 67, 0.15);\n",
              "      fill: #174EA6;\n",
              "    }\n",
              "\n",
              "    .colab-df-buttons div {\n",
              "      margin-bottom: 4px;\n",
              "    }\n",
              "\n",
              "    [theme=dark] .colab-df-convert {\n",
              "      background-color: #3B4455;\n",
              "      fill: #D2E3FC;\n",
              "    }\n",
              "\n",
              "    [theme=dark] .colab-df-convert:hover {\n",
              "      background-color: #434B5C;\n",
              "      box-shadow: 0px 1px 3px 1px rgba(0, 0, 0, 0.15);\n",
              "      filter: drop-shadow(0px 1px 2px rgba(0, 0, 0, 0.3));\n",
              "      fill: #FFFFFF;\n",
              "    }\n",
              "  </style>\n",
              "\n",
              "    <script>\n",
              "      const buttonEl =\n",
              "        document.querySelector('#df-5f9ed3cb-4467-4edb-9c87-ae91380dff05 button.colab-df-convert');\n",
              "      buttonEl.style.display =\n",
              "        google.colab.kernel.accessAllowed ? 'block' : 'none';\n",
              "\n",
              "      async function convertToInteractive(key) {\n",
              "        const element = document.querySelector('#df-5f9ed3cb-4467-4edb-9c87-ae91380dff05');\n",
              "        const dataTable =\n",
              "          await google.colab.kernel.invokeFunction('convertToInteractive',\n",
              "                                                    [key], {});\n",
              "        if (!dataTable) return;\n",
              "\n",
              "        const docLinkHtml = 'Like what you see? Visit the ' +\n",
              "          '<a target=\"_blank\" href=https://colab.research.google.com/notebooks/data_table.ipynb>data table notebook</a>'\n",
              "          + ' to learn more about interactive tables.';\n",
              "        element.innerHTML = '';\n",
              "        dataTable['output_type'] = 'display_data';\n",
              "        await google.colab.output.renderOutput(dataTable, element);\n",
              "        const docLink = document.createElement('div');\n",
              "        docLink.innerHTML = docLinkHtml;\n",
              "        element.appendChild(docLink);\n",
              "      }\n",
              "    </script>\n",
              "  </div>\n",
              "\n",
              "\n",
              "<div id=\"df-207247de-fc1e-40ee-9215-c871ef20ee73\">\n",
              "  <button class=\"colab-df-quickchart\" onclick=\"quickchart('df-207247de-fc1e-40ee-9215-c871ef20ee73')\"\n",
              "            title=\"Suggest charts\"\n",
              "            style=\"display:none;\">\n",
              "\n",
              "<svg xmlns=\"http://www.w3.org/2000/svg\" height=\"24px\"viewBox=\"0 0 24 24\"\n",
              "     width=\"24px\">\n",
              "    <g>\n",
              "        <path d=\"M19 3H5c-1.1 0-2 .9-2 2v14c0 1.1.9 2 2 2h14c1.1 0 2-.9 2-2V5c0-1.1-.9-2-2-2zM9 17H7v-7h2v7zm4 0h-2V7h2v10zm4 0h-2v-4h2v4z\"/>\n",
              "    </g>\n",
              "</svg>\n",
              "  </button>\n",
              "\n",
              "<style>\n",
              "  .colab-df-quickchart {\n",
              "      --bg-color: #E8F0FE;\n",
              "      --fill-color: #1967D2;\n",
              "      --hover-bg-color: #E2EBFA;\n",
              "      --hover-fill-color: #174EA6;\n",
              "      --disabled-fill-color: #AAA;\n",
              "      --disabled-bg-color: #DDD;\n",
              "  }\n",
              "\n",
              "  [theme=dark] .colab-df-quickchart {\n",
              "      --bg-color: #3B4455;\n",
              "      --fill-color: #D2E3FC;\n",
              "      --hover-bg-color: #434B5C;\n",
              "      --hover-fill-color: #FFFFFF;\n",
              "      --disabled-bg-color: #3B4455;\n",
              "      --disabled-fill-color: #666;\n",
              "  }\n",
              "\n",
              "  .colab-df-quickchart {\n",
              "    background-color: var(--bg-color);\n",
              "    border: none;\n",
              "    border-radius: 50%;\n",
              "    cursor: pointer;\n",
              "    display: none;\n",
              "    fill: var(--fill-color);\n",
              "    height: 32px;\n",
              "    padding: 0;\n",
              "    width: 32px;\n",
              "  }\n",
              "\n",
              "  .colab-df-quickchart:hover {\n",
              "    background-color: var(--hover-bg-color);\n",
              "    box-shadow: 0 1px 2px rgba(60, 64, 67, 0.3), 0 1px 3px 1px rgba(60, 64, 67, 0.15);\n",
              "    fill: var(--button-hover-fill-color);\n",
              "  }\n",
              "\n",
              "  .colab-df-quickchart-complete:disabled,\n",
              "  .colab-df-quickchart-complete:disabled:hover {\n",
              "    background-color: var(--disabled-bg-color);\n",
              "    fill: var(--disabled-fill-color);\n",
              "    box-shadow: none;\n",
              "  }\n",
              "\n",
              "  .colab-df-spinner {\n",
              "    border: 2px solid var(--fill-color);\n",
              "    border-color: transparent;\n",
              "    border-bottom-color: var(--fill-color);\n",
              "    animation:\n",
              "      spin 1s steps(1) infinite;\n",
              "  }\n",
              "\n",
              "  @keyframes spin {\n",
              "    0% {\n",
              "      border-color: transparent;\n",
              "      border-bottom-color: var(--fill-color);\n",
              "      border-left-color: var(--fill-color);\n",
              "    }\n",
              "    20% {\n",
              "      border-color: transparent;\n",
              "      border-left-color: var(--fill-color);\n",
              "      border-top-color: var(--fill-color);\n",
              "    }\n",
              "    30% {\n",
              "      border-color: transparent;\n",
              "      border-left-color: var(--fill-color);\n",
              "      border-top-color: var(--fill-color);\n",
              "      border-right-color: var(--fill-color);\n",
              "    }\n",
              "    40% {\n",
              "      border-color: transparent;\n",
              "      border-right-color: var(--fill-color);\n",
              "      border-top-color: var(--fill-color);\n",
              "    }\n",
              "    60% {\n",
              "      border-color: transparent;\n",
              "      border-right-color: var(--fill-color);\n",
              "    }\n",
              "    80% {\n",
              "      border-color: transparent;\n",
              "      border-right-color: var(--fill-color);\n",
              "      border-bottom-color: var(--fill-color);\n",
              "    }\n",
              "    90% {\n",
              "      border-color: transparent;\n",
              "      border-bottom-color: var(--fill-color);\n",
              "    }\n",
              "  }\n",
              "</style>\n",
              "\n",
              "  <script>\n",
              "    async function quickchart(key) {\n",
              "      const quickchartButtonEl =\n",
              "        document.querySelector('#' + key + ' button');\n",
              "      quickchartButtonEl.disabled = true;  // To prevent multiple clicks.\n",
              "      quickchartButtonEl.classList.add('colab-df-spinner');\n",
              "      try {\n",
              "        const charts = await google.colab.kernel.invokeFunction(\n",
              "            'suggestCharts', [key], {});\n",
              "      } catch (error) {\n",
              "        console.error('Error during call to suggestCharts:', error);\n",
              "      }\n",
              "      quickchartButtonEl.classList.remove('colab-df-spinner');\n",
              "      quickchartButtonEl.classList.add('colab-df-quickchart-complete');\n",
              "    }\n",
              "    (() => {\n",
              "      let quickchartButtonEl =\n",
              "        document.querySelector('#df-207247de-fc1e-40ee-9215-c871ef20ee73 button');\n",
              "      quickchartButtonEl.style.display =\n",
              "        google.colab.kernel.accessAllowed ? 'block' : 'none';\n",
              "    })();\n",
              "  </script>\n",
              "</div>\n",
              "    </div>\n",
              "  </div>\n"
            ],
            "application/vnd.google.colaboratory.intrinsic+json": {
              "type": "dataframe",
              "summary": "{\n  \"name\": \"pd\",\n  \"rows\": 5,\n  \"fields\": [\n    {\n      \"column\": \"Model\",\n      \"properties\": {\n        \"dtype\": \"string\",\n        \"num_unique_values\": 5,\n        \"samples\": [\n          \"model 2\",\n          \"model 5\",\n          \"model 3\"\n        ],\n        \"semantic_type\": \"\",\n        \"description\": \"\"\n      }\n    },\n    {\n      \"column\": \"Accuracy\",\n      \"properties\": {\n        \"dtype\": \"number\",\n        \"std\": 0.19986129350315598,\n        \"min\": 0.5280373831775701,\n        \"max\": 0.985981308411215,\n        \"num_unique_values\": 5,\n        \"samples\": [\n          0.985981308411215,\n          0.9813084112149533,\n          0.9579439252336449\n        ],\n        \"semantic_type\": \"\",\n        \"description\": \"\"\n      }\n    }\n  ]\n}"
            }
          },
          "metadata": {},
          "execution_count": 428
        }
      ]
    },
    {
      "cell_type": "markdown",
      "source": [
        "### Se generan las matrices de confusión"
      ],
      "metadata": {
        "id": "vEEzBKZ8P_wa"
      }
    },
    {
      "cell_type": "code",
      "source": [
        "from sklearn.metrics import confusion_matrix\n",
        "\n",
        "confusion_matrix1 = confusion_matrix(y_test, y_pred1)\n",
        "confusion_matrix1"
      ],
      "metadata": {
        "colab": {
          "base_uri": "https://localhost:8080/"
        },
        "id": "_5WrWaRNNA9j",
        "outputId": "8e23e246-86e3-45c7-d068-e0ee8b63aa3e"
      },
      "execution_count": null,
      "outputs": [
        {
          "output_type": "execute_result",
          "data": {
            "text/plain": [
              "array([[111,   2],\n",
              "       [  4,  97]])"
            ]
          },
          "metadata": {},
          "execution_count": 429
        }
      ]
    },
    {
      "cell_type": "code",
      "source": [
        "%matplotlib inline\n",
        "import matplotlib.pyplot as plt\n",
        "import seaborn as sns\n",
        "\n",
        "ax = plt.subplot()\n",
        "sns.heatmap(confusion_matrix1, annot=True, ax = ax, fmt='d')\n",
        "ax.set_xlabel('Predicted labels')\n",
        "ax.set_ylabel('Actual labels')\n",
        "ax.set_title('Confusion Matrix Model 1 - CO2 Emissions')\n",
        "ax.xaxis.set_ticklabels(['Negative=0', 'Positive=1'])\n",
        "ax.yaxis.set_ticklabels(['Negative=0', 'Positive=1']);\n",
        "plt.show();"
      ],
      "metadata": {
        "colab": {
          "base_uri": "https://localhost:8080/",
          "height": 472
        },
        "id": "PJjAlc9fMaOg",
        "outputId": "506d2f00-8b37-4fd2-ceda-1b85df88a07b"
      },
      "execution_count": null,
      "outputs": [
        {
          "output_type": "display_data",
          "data": {
            "text/plain": [
              "<Figure size 640x480 with 2 Axes>"
            ],
            "image/png": "[encoded data removed]"
          },
          "metadata": {}
        }
      ]
    },
    {
      "cell_type": "code",
      "source": [
        "confusion_matrix2 = confusion_matrix(y_test, y_pred2)\n",
        "confusion_matrix2"
      ],
      "metadata": {
        "colab": {
          "base_uri": "https://localhost:8080/"
        },
        "id": "EnwfCmrKNNka",
        "outputId": "37e0aaec-f645-4da3-e9c5-c6c42f536e6f"
      },
      "execution_count": null,
      "outputs": [
        {
          "output_type": "execute_result",
          "data": {
            "text/plain": [
              "array([[111,   2],\n",
              "       [  1, 100]])"
            ]
          },
          "metadata": {},
          "execution_count": 431
        }
      ]
    },
    {
      "cell_type": "code",
      "source": [
        "ax = plt.subplot()\n",
        "sns.heatmap(confusion_matrix2, annot=True, ax = ax, fmt='d')\n",
        "ax.set_xlabel('Predicted labels')\n",
        "ax.set_ylabel('Actual labels')\n",
        "ax.set_title('Confusion Matrix Model 2 - CO2 Emissions')\n",
        "ax.xaxis.set_ticklabels(['Negative=0', 'Positive=1'])\n",
        "ax.yaxis.set_ticklabels(['Negative=0', 'Positive=1']);\n",
        "plt.show();"
      ],
      "metadata": {
        "colab": {
          "base_uri": "https://localhost:8080/",
          "height": 472
        },
        "id": "jcvLuHquNjiG",
        "outputId": "1a3acf4b-97de-4052-c399-d1b991c11cf5"
      },
      "execution_count": null,
      "outputs": [
        {
          "output_type": "display_data",
          "data": {
            "text/plain": [
              "<Figure size 640x480 with 2 Axes>"
            ],
            "image/png": "[encoded data removed]"
          },
          "metadata": {}
        }
      ]
    },
    {
      "cell_type": "code",
      "source": [
        "confusion_matrix3 = confusion_matrix(y_test, y_pred3)\n",
        "confusion_matrix3"
      ],
      "metadata": {
        "colab": {
          "base_uri": "https://localhost:8080/"
        },
        "id": "LZOW6GMnNuXH",
        "outputId": "4a2fed37-e6ef-423b-924d-c5644648ac6c"
      },
      "execution_count": null,
      "outputs": [
        {
          "output_type": "execute_result",
          "data": {
            "text/plain": [
              "array([[111,   2],\n",
              "       [  7,  94]])"
            ]
          },
          "metadata": {},
          "execution_count": 433
        }
      ]
    },
    {
      "cell_type": "code",
      "source": [
        "ax = plt.subplot()\n",
        "sns.heatmap(confusion_matrix3, annot=True, ax = ax, fmt='d')\n",
        "ax.set_xlabel('Predicted labels')\n",
        "ax.set_ylabel('Actual labels')\n",
        "ax.set_title('Confusion Matrix Model 3 - CO2 Emissions')\n",
        "ax.xaxis.set_ticklabels(['Negative=0', 'Positive=1'])\n",
        "ax.yaxis.set_ticklabels(['Negative=0', 'Positive=1']);\n",
        "plt.show();"
      ],
      "metadata": {
        "colab": {
          "base_uri": "https://localhost:8080/",
          "height": 472
        },
        "id": "T9_3kaSBNzAY",
        "outputId": "beca9373-1713-4e52-9d54-f3d17918c2d7"
      },
      "execution_count": null,
      "outputs": [
        {
          "output_type": "display_data",
          "data": {
            "text/plain": [
              "<Figure size 640x480 with 2 Axes>"
            ],
            "image/png": "[encoded data removed]"
          },
          "metadata": {}
        }
      ]
    },
    {
      "cell_type": "code",
      "source": [
        "confusion_matrix4 = confusion_matrix(y_test, y_pred4)\n",
        "confusion_matrix4"
      ],
      "metadata": {
        "colab": {
          "base_uri": "https://localhost:8080/"
        },
        "id": "JXk9Gv8zN5HQ",
        "outputId": "0163912b-61e8-4ab0-fb63-ef6cd015c3ac"
      },
      "execution_count": null,
      "outputs": [
        {
          "output_type": "execute_result",
          "data": {
            "text/plain": [
              "array([[113,   0],\n",
              "       [101,   0]])"
            ]
          },
          "metadata": {},
          "execution_count": 435
        }
      ]
    },
    {
      "cell_type": "code",
      "source": [
        "ax = plt.subplot()\n",
        "sns.heatmap(confusion_matrix4, annot=True, ax = ax, fmt='d')\n",
        "ax.set_xlabel('Predicted labels')\n",
        "ax.set_ylabel('Actual labels')\n",
        "ax.set_title('Confusion Matrix Model 4 - CO2 Emissions')\n",
        "ax.xaxis.set_ticklabels(['Negative=0', 'Positive=1'])\n",
        "ax.yaxis.set_ticklabels(['Negative=0', 'Positive=1']);\n",
        "plt.show();"
      ],
      "metadata": {
        "colab": {
          "base_uri": "https://localhost:8080/",
          "height": 472
        },
        "id": "f4Rsfe7oN_0r",
        "outputId": "d6d7d80e-5320-4bb5-d489-72315aa024a6"
      },
      "execution_count": null,
      "outputs": [
        {
          "output_type": "display_data",
          "data": {
            "text/plain": [
              "<Figure size 640x480 with 2 Axes>"
            ],
            "image/png": "[encoded data removed]"
          },
          "metadata": {}
        }
      ]
    },
    {
      "cell_type": "code",
      "source": [
        "confusion_matrix5 = confusion_matrix(y_test, y_pred5)\n",
        "confusion_matrix5"
      ],
      "metadata": {
        "colab": {
          "base_uri": "https://localhost:8080/"
        },
        "id": "EVEwQZJ0OFWJ",
        "outputId": "79c68a8c-dcad-46c1-905f-c1c582a6c212"
      },
      "execution_count": null,
      "outputs": [
        {
          "output_type": "execute_result",
          "data": {
            "text/plain": [
              "array([[110,   3],\n",
              "       [  1, 100]])"
            ]
          },
          "metadata": {},
          "execution_count": 437
        }
      ]
    },
    {
      "cell_type": "code",
      "source": [
        "ax = plt.subplot()\n",
        "sns.heatmap(confusion_matrix5, annot=True, ax = ax, fmt='d')\n",
        "ax.set_xlabel('Predicted labels')\n",
        "ax.set_ylabel('Actual labels')\n",
        "ax.set_title('Confusion Matrix Model 5 - CO2 Emissions')\n",
        "ax.xaxis.set_ticklabels(['Negative=0', 'Positive=1'])\n",
        "ax.yaxis.set_ticklabels(['Negative=0', 'Positive=1']);\n",
        "plt.show();"
      ],
      "metadata": {
        "colab": {
          "base_uri": "https://localhost:8080/",
          "height": 472
        },
        "id": "t7DM1Z_eOKgC",
        "outputId": "4fdb71e7-092a-4e63-e46d-3cb75aca1cff"
      },
      "execution_count": null,
      "outputs": [
        {
          "output_type": "display_data",
          "data": {
            "text/plain": [
              "<Figure size 640x480 with 2 Axes>"
            ],
            "image/png": "[encoded data removed]"
          },
          "metadata": {}
        }
      ]
    },
    {
      "cell_type": "markdown",
      "source": [
        "## 5) Hiperparametros que permiten mejor accuracy"
      ],
      "metadata": {
        "id": "_OXboeXPV60v"
      }
    },
    {
      "cell_type": "markdown",
      "source": [
        "el modelo 5 cuenta con los hiperparámetros que permiten mejor accuracy en este caso, los cuales son:\n",
        "\n",
        "- activation : tanh\n",
        "- solver : lbfgs\n",
        "- hidden_layer_sizes : 25,5,19,2\n"
      ],
      "metadata": {
        "id": "_0fW7UQdWs-u"
      }
    },
    {
      "cell_type": "markdown",
      "source": [],
      "metadata": {
        "id": "KlTU1BKSWI2S"
      }
    },
    {
      "cell_type": "markdown",
      "source": [
        "## 6) Se varía otro hiperparámetro (learning_rate)"
      ],
      "metadata": {
        "id": "BFgAhYnJWKdx"
      }
    },
    {
      "cell_type": "code",
      "source": [
        "modelo6 = MLPClassifier(activation='tanh',solver='lbfgs',hidden_layer_sizes=(25,5,19,2), random_state=123,learning_rate='invscaling')\n",
        "modelo6.fit(X_train, y_train)\n",
        "scores6 = cross_val_score(modelo5, X_train, y_train, cv=5, scoring='accuracy')\n",
        "print(scores6)\n",
        "scores6.mean()"
      ],
      "metadata": {
        "colab": {
          "base_uri": "https://localhost:8080/"
        },
        "id": "9kvEQT6lcSzl",
        "outputId": "020136b9-0384-4231-c916-7c2ef218777c"
      },
      "execution_count": null,
      "outputs": [
        {
          "output_type": "stream",
          "name": "stdout",
          "text": [
            "[0.96491228 0.97076023 0.98245614 0.96470588 0.98235294]\n"
          ]
        },
        {
          "output_type": "execute_result",
          "data": {
            "text/plain": [
              "0.9730374957000343"
            ]
          },
          "metadata": {},
          "execution_count": 439
        }
      ]
    },
    {
      "cell_type": "code",
      "source": [
        "modelo7 = MLPClassifier(activation='tanh',solver='lbfgs',hidden_layer_sizes=(25,5,19,2), random_state=123,learning_rate='adaptive')\n",
        "modelo7.fit(X_train, y_train)\n",
        "scores7 = cross_val_score(modelo5, X_train, y_train, cv=5, scoring='accuracy')\n",
        "print(scores6)\n",
        "scores6.mean()"
      ],
      "metadata": {
        "colab": {
          "base_uri": "https://localhost:8080/"
        },
        "id": "5GY45loedTYG",
        "outputId": "3fc5fea2-de1e-4e22-d3e7-9c4353cc18c0"
      },
      "execution_count": null,
      "outputs": [
        {
          "output_type": "stream",
          "name": "stdout",
          "text": [
            "[0.96491228 0.97076023 0.98245614 0.96470588 0.98235294]\n"
          ]
        },
        {
          "output_type": "execute_result",
          "data": {
            "text/plain": [
              "0.9730374957000343"
            ]
          },
          "metadata": {},
          "execution_count": 440
        }
      ]
    },
    {
      "cell_type": "code",
      "source": [
        "y_pred6 = modelo6.predict(X_test)\n",
        "y_pred6"
      ],
      "metadata": {
        "colab": {
          "base_uri": "https://localhost:8080/"
        },
        "id": "zrA74VHSenfy",
        "outputId": "d181527a-f46f-4ccb-f621-ce1d6366c740"
      },
      "execution_count": null,
      "outputs": [
        {
          "output_type": "execute_result",
          "data": {
            "text/plain": [
              "array([0, 1, 1, 0, 0, 0, 1, 1, 0, 0, 1, 0, 0, 0, 1, 0, 1, 1, 1, 1, 0, 1,\n",
              "       1, 1, 1, 1, 0, 1, 1, 0, 0, 0, 0, 1, 1, 1, 1, 1, 1, 0, 0, 0, 0, 1,\n",
              "       1, 1, 0, 1, 1, 0, 0, 0, 1, 1, 1, 1, 1, 0, 0, 1, 0, 1, 0, 1, 1, 1,\n",
              "       1, 1, 1, 0, 1, 0, 0, 0, 1, 0, 0, 0, 1, 1, 0, 1, 1, 0, 0, 1, 0, 1,\n",
              "       1, 0, 0, 0, 1, 0, 1, 1, 1, 1, 0, 0, 0, 0, 1, 1, 1, 1, 0, 0, 0, 1,\n",
              "       1, 1, 1, 0, 1, 0, 0, 0, 1, 0, 0, 1, 0, 1, 1, 0, 1, 1, 1, 0, 0, 0,\n",
              "       0, 0, 1, 0, 1, 0, 1, 0, 1, 1, 0, 0, 0, 0, 0, 0, 1, 1, 1, 1, 0, 0,\n",
              "       1, 0, 1, 1, 0, 0, 0, 0, 0, 1, 0, 1, 0, 1, 0, 0, 0, 1, 0, 1, 1, 0,\n",
              "       1, 1, 0, 1, 1, 1, 1, 1, 0, 0, 0, 1, 1, 0, 0, 0, 1, 0, 0, 1, 1, 0,\n",
              "       0, 0, 0, 0, 0, 0, 0, 0, 1, 0, 0, 0, 1, 0, 0, 0])"
            ]
          },
          "metadata": {},
          "execution_count": 441
        }
      ]
    },
    {
      "cell_type": "code",
      "source": [
        "y_pred7 = modelo7.predict(X_test)\n",
        "y_pred7"
      ],
      "metadata": {
        "colab": {
          "base_uri": "https://localhost:8080/"
        },
        "id": "MxrvxHSBeuV5",
        "outputId": "79eec39a-313c-4d92-ea1e-8c6374e0daea"
      },
      "execution_count": null,
      "outputs": [
        {
          "output_type": "execute_result",
          "data": {
            "text/plain": [
              "array([0, 1, 1, 0, 0, 0, 1, 1, 0, 0, 1, 0, 0, 0, 1, 0, 1, 1, 1, 1, 0, 1,\n",
              "       1, 1, 1, 1, 0, 1, 1, 0, 0, 0, 0, 1, 1, 1, 1, 1, 1, 0, 0, 0, 0, 1,\n",
              "       1, 1, 0, 1, 1, 0, 0, 0, 1, 1, 1, 1, 1, 0, 0, 1, 0, 1, 0, 1, 1, 1,\n",
              "       1, 1, 1, 0, 1, 0, 0, 0, 1, 0, 0, 0, 1, 1, 0, 1, 1, 0, 0, 1, 0, 1,\n",
              "       1, 0, 0, 0, 1, 0, 1, 1, 1, 1, 0, 0, 0, 0, 1, 1, 1, 1, 0, 0, 0, 1,\n",
              "       1, 1, 1, 0, 1, 0, 0, 0, 1, 0, 0, 1, 0, 1, 1, 0, 1, 1, 1, 0, 0, 0,\n",
              "       0, 0, 1, 0, 1, 0, 1, 0, 1, 1, 0, 0, 0, 0, 0, 0, 1, 1, 1, 1, 0, 0,\n",
              "       1, 0, 1, 1, 0, 0, 0, 0, 0, 1, 0, 1, 0, 1, 0, 0, 0, 1, 0, 1, 1, 0,\n",
              "       1, 1, 0, 1, 1, 1, 1, 1, 0, 0, 0, 1, 1, 0, 0, 0, 1, 0, 0, 1, 1, 0,\n",
              "       0, 0, 0, 0, 0, 0, 0, 0, 1, 0, 0, 0, 1, 0, 0, 0])"
            ]
          },
          "metadata": {},
          "execution_count": 442
        }
      ]
    },
    {
      "cell_type": "code",
      "source": [
        "accuracy6 = accuracy_score(y_test, y_pred6)\n",
        "accuracy6"
      ],
      "metadata": {
        "colab": {
          "base_uri": "https://localhost:8080/"
        },
        "id": "odDgufAGeYor",
        "outputId": "4d260f0a-a0a8-4f2e-a783-f80fa9a7ba08"
      },
      "execution_count": null,
      "outputs": [
        {
          "output_type": "execute_result",
          "data": {
            "text/plain": [
              "0.9813084112149533"
            ]
          },
          "metadata": {},
          "execution_count": 443
        }
      ]
    },
    {
      "cell_type": "code",
      "source": [
        "accuracy7 = accuracy_score(y_test, y_pred7)\n",
        "accuracy7"
      ],
      "metadata": {
        "colab": {
          "base_uri": "https://localhost:8080/"
        },
        "id": "_TNG95D5e2Ji",
        "outputId": "75bb362e-1e8a-4e5e-a4b1-b41b78b4e649"
      },
      "execution_count": null,
      "outputs": [
        {
          "output_type": "execute_result",
          "data": {
            "text/plain": [
              "0.9813084112149533"
            ]
          },
          "metadata": {},
          "execution_count": 444
        }
      ]
    },
    {
      "cell_type": "code",
      "source": [
        "accuracies = {\n",
        "    \"Model\": [\"model 5\", \"model 6\", \"model 7\"],\n",
        "    \"Accuracy\": [accuracy5, accuracy6, accuracy7]\n",
        "}\n",
        "pd.DataFrame(accuracies)"
      ],
      "metadata": {
        "colab": {
          "base_uri": "https://localhost:8080/",
          "height": 143
        },
        "id": "DaAdztA6e7pO",
        "outputId": "093b1401-e836-4fc4-9378-927da2e85de6"
      },
      "execution_count": null,
      "outputs": [
        {
          "output_type": "execute_result",
          "data": {
            "text/plain": [
              "     Model  Accuracy\n",
              "0  model 5  0.981308\n",
              "1  model 6  0.981308\n",
              "2  model 7  0.981308"
            ],
            "text/html": [
              "\n",
              "  <div id=\"df-856ad667-4144-4258-a9fc-f67eede9a468\" class=\"colab-df-container\">\n",
              "    <div>\n",
              "<style scoped>\n",
              "    .dataframe tbody tr th:only-of-type {\n",
              "        vertical-align: middle;\n",
              "    }\n",
              "\n",
              "    .dataframe tbody tr th {\n",
              "        vertical-align: top;\n",
              "    }\n",
              "\n",
              "    .dataframe thead th {\n",
              "        text-align: right;\n",
              "    }\n",
              "</style>\n",
              "<table border=\"1\" class=\"dataframe\">\n",
              "  <thead>\n",
              "    <tr style=\"text-align: right;\">\n",
              "      <th></th>\n",
              "      <th>Model</th>\n",
              "      <th>Accuracy</th>\n",
              "    </tr>\n",
              "  </thead>\n",
              "  <tbody>\n",
              "    <tr>\n",
              "      <th>0</th>\n",
              "      <td>model 5</td>\n",
              "      <td>0.981308</td>\n",
              "    </tr>\n",
              "    <tr>\n",
              "      <th>1</th>\n",
              "      <td>model 6</td>\n",
              "      <td>0.981308</td>\n",
              "    </tr>\n",
              "    <tr>\n",
              "      <th>2</th>\n",
              "      <td>model 7</td>\n",
              "      <td>0.981308</td>\n",
              "    </tr>\n",
              "  </tbody>\n",
              "</table>\n",
              "</div>\n",
              "    <div class=\"colab-df-buttons\">\n",
              "\n",
              "  <div class=\"colab-df-container\">\n",
              "    <button class=\"colab-df-convert\" onclick=\"convertToInteractive('df-856ad667-4144-4258-a9fc-f67eede9a468')\"\n",
              "            title=\"Convert this dataframe to an interactive table.\"\n",
              "            style=\"display:none;\">\n",
              "\n",
              "  <svg xmlns=\"http://www.w3.org/2000/svg\" height=\"24px\" viewBox=\"0 -960 960 960\">\n",
              "    <path d=\"M120-120v-720h720v720H120Zm60-500h600v-160H180v160Zm220 220h160v-160H400v160Zm0 220h160v-160H400v160ZM180-400h160v-160H180v160Zm440 0h160v-160H620v160ZM180-180h160v-160H180v160Zm440 0h160v-160H620v160Z\"/>\n",
              "  </svg>\n",
              "    </button>\n",
              "\n",
              "  <style>\n",
              "    .colab-df-container {\n",
              "      display:flex;\n",
              "      gap: 12px;\n",
              "    }\n",
              "\n",
              "    .colab-df-convert {\n",
              "      background-color: #E8F0FE;\n",
              "      border: none;\n",
              "      border-radius: 50%;\n",
              "      cursor: pointer;\n",
              "      display: none;\n",
              "      fill: #1967D2;\n",
              "      height: 32px;\n",
              "      padding: 0 0 0 0;\n",
              "      width: 32px;\n",
              "    }\n",
              "\n",
              "    .colab-df-convert:hover {\n",
              "      background-color: #E2EBFA;\n",
              "      box-shadow: 0px 1px 2px rgba(60, 64, 67, 0.3), 0px 1px 3px 1px rgba(60, 64, 67, 0.15);\n",
              "      fill: #174EA6;\n",
              "    }\n",
              "\n",
              "    .colab-df-buttons div {\n",
              "      margin-bottom: 4px;\n",
              "    }\n",
              "\n",
              "    [theme=dark] .colab-df-convert {\n",
              "      background-color: #3B4455;\n",
              "      fill: #D2E3FC;\n",
              "    }\n",
              "\n",
              "    [theme=dark] .colab-df-convert:hover {\n",
              "      background-color: #434B5C;\n",
              "      box-shadow: 0px 1px 3px 1px rgba(0, 0, 0, 0.15);\n",
              "      filter: drop-shadow(0px 1px 2px rgba(0, 0, 0, 0.3));\n",
              "      fill: #FFFFFF;\n",
              "    }\n",
              "  </style>\n",
              "\n",
              "    <script>\n",
              "      const buttonEl =\n",
              "        document.querySelector('#df-856ad667-4144-4258-a9fc-f67eede9a468 button.colab-df-convert');\n",
              "      buttonEl.style.display =\n",
              "        google.colab.kernel.accessAllowed ? 'block' : 'none';\n",
              "\n",
              "      async function convertToInteractive(key) {\n",
              "        const element = document.querySelector('#df-856ad667-4144-4258-a9fc-f67eede9a468');\n",
              "        const dataTable =\n",
              "          await google.colab.kernel.invokeFunction('convertToInteractive',\n",
              "                                                    [key], {});\n",
              "        if (!dataTable) return;\n",
              "\n",
              "        const docLinkHtml = 'Like what you see? Visit the ' +\n",
              "          '<a target=\"_blank\" href=https://colab.research.google.com/notebooks/data_table.ipynb>data table notebook</a>'\n",
              "          + ' to learn more about interactive tables.';\n",
              "        element.innerHTML = '';\n",
              "        dataTable['output_type'] = 'display_data';\n",
              "        await google.colab.output.renderOutput(dataTable, element);\n",
              "        const docLink = document.createElement('div');\n",
              "        docLink.innerHTML = docLinkHtml;\n",
              "        element.appendChild(docLink);\n",
              "      }\n",
              "    </script>\n",
              "  </div>\n",
              "\n",
              "\n",
              "<div id=\"df-a57b1c7e-c56e-407b-9127-503410b0568b\">\n",
              "  <button class=\"colab-df-quickchart\" onclick=\"quickchart('df-a57b1c7e-c56e-407b-9127-503410b0568b')\"\n",
              "            title=\"Suggest charts\"\n",
              "            style=\"display:none;\">\n",
              "\n",
              "<svg xmlns=\"http://www.w3.org/2000/svg\" height=\"24px\"viewBox=\"0 0 24 24\"\n",
              "     width=\"24px\">\n",
              "    <g>\n",
              "        <path d=\"M19 3H5c-1.1 0-2 .9-2 2v14c0 1.1.9 2 2 2h14c1.1 0 2-.9 2-2V5c0-1.1-.9-2-2-2zM9 17H7v-7h2v7zm4 0h-2V7h2v10zm4 0h-2v-4h2v4z\"/>\n",
              "    </g>\n",
              "</svg>\n",
              "  </button>\n",
              "\n",
              "<style>\n",
              "  .colab-df-quickchart {\n",
              "      --bg-color: #E8F0FE;\n",
              "      --fill-color: #1967D2;\n",
              "      --hover-bg-color: #E2EBFA;\n",
              "      --hover-fill-color: #174EA6;\n",
              "      --disabled-fill-color: #AAA;\n",
              "      --disabled-bg-color: #DDD;\n",
              "  }\n",
              "\n",
              "  [theme=dark] .colab-df-quickchart {\n",
              "      --bg-color: #3B4455;\n",
              "      --fill-color: #D2E3FC;\n",
              "      --hover-bg-color: #434B5C;\n",
              "      --hover-fill-color: #FFFFFF;\n",
              "      --disabled-bg-color: #3B4455;\n",
              "      --disabled-fill-color: #666;\n",
              "  }\n",
              "\n",
              "  .colab-df-quickchart {\n",
              "    background-color: var(--bg-color);\n",
              "    border: none;\n",
              "    border-radius: 50%;\n",
              "    cursor: pointer;\n",
              "    display: none;\n",
              "    fill: var(--fill-color);\n",
              "    height: 32px;\n",
              "    padding: 0;\n",
              "    width: 32px;\n",
              "  }\n",
              "\n",
              "  .colab-df-quickchart:hover {\n",
              "    background-color: var(--hover-bg-color);\n",
              "    box-shadow: 0 1px 2px rgba(60, 64, 67, 0.3), 0 1px 3px 1px rgba(60, 64, 67, 0.15);\n",
              "    fill: var(--button-hover-fill-color);\n",
              "  }\n",
              "\n",
              "  .colab-df-quickchart-complete:disabled,\n",
              "  .colab-df-quickchart-complete:disabled:hover {\n",
              "    background-color: var(--disabled-bg-color);\n",
              "    fill: var(--disabled-fill-color);\n",
              "    box-shadow: none;\n",
              "  }\n",
              "\n",
              "  .colab-df-spinner {\n",
              "    border: 2px solid var(--fill-color);\n",
              "    border-color: transparent;\n",
              "    border-bottom-color: var(--fill-color);\n",
              "    animation:\n",
              "      spin 1s steps(1) infinite;\n",
              "  }\n",
              "\n",
              "  @keyframes spin {\n",
              "    0% {\n",
              "      border-color: transparent;\n",
              "      border-bottom-color: var(--fill-color);\n",
              "      border-left-color: var(--fill-color);\n",
              "    }\n",
              "    20% {\n",
              "      border-color: transparent;\n",
              "      border-left-color: var(--fill-color);\n",
              "      border-top-color: var(--fill-color);\n",
              "    }\n",
              "    30% {\n",
              "      border-color: transparent;\n",
              "      border-left-color: var(--fill-color);\n",
              "      border-top-color: var(--fill-color);\n",
              "      border-right-color: var(--fill-color);\n",
              "    }\n",
              "    40% {\n",
              "      border-color: transparent;\n",
              "      border-right-color: var(--fill-color);\n",
              "      border-top-color: var(--fill-color);\n",
              "    }\n",
              "    60% {\n",
              "      border-color: transparent;\n",
              "      border-right-color: var(--fill-color);\n",
              "    }\n",
              "    80% {\n",
              "      border-color: transparent;\n",
              "      border-right-color: var(--fill-color);\n",
              "      border-bottom-color: var(--fill-color);\n",
              "    }\n",
              "    90% {\n",
              "      border-color: transparent;\n",
              "      border-bottom-color: var(--fill-color);\n",
              "    }\n",
              "  }\n",
              "</style>\n",
              "\n",
              "  <script>\n",
              "    async function quickchart(key) {\n",
              "      const quickchartButtonEl =\n",
              "        document.querySelector('#' + key + ' button');\n",
              "      quickchartButtonEl.disabled = true;  // To prevent multiple clicks.\n",
              "      quickchartButtonEl.classList.add('colab-df-spinner');\n",
              "      try {\n",
              "        const charts = await google.colab.kernel.invokeFunction(\n",
              "            'suggestCharts', [key], {});\n",
              "      } catch (error) {\n",
              "        console.error('Error during call to suggestCharts:', error);\n",
              "      }\n",
              "      quickchartButtonEl.classList.remove('colab-df-spinner');\n",
              "      quickchartButtonEl.classList.add('colab-df-quickchart-complete');\n",
              "    }\n",
              "    (() => {\n",
              "      let quickchartButtonEl =\n",
              "        document.querySelector('#df-a57b1c7e-c56e-407b-9127-503410b0568b button');\n",
              "      quickchartButtonEl.style.display =\n",
              "        google.colab.kernel.accessAllowed ? 'block' : 'none';\n",
              "    })();\n",
              "  </script>\n",
              "</div>\n",
              "    </div>\n",
              "  </div>\n"
            ],
            "application/vnd.google.colaboratory.intrinsic+json": {
              "type": "dataframe",
              "summary": "{\n  \"name\": \"pd\",\n  \"rows\": 3,\n  \"fields\": [\n    {\n      \"column\": \"Model\",\n      \"properties\": {\n        \"dtype\": \"string\",\n        \"num_unique_values\": 3,\n        \"samples\": [\n          \"model 5\",\n          \"model 6\",\n          \"model 7\"\n        ],\n        \"semantic_type\": \"\",\n        \"description\": \"\"\n      }\n    },\n    {\n      \"column\": \"Accuracy\",\n      \"properties\": {\n        \"dtype\": \"number\",\n        \"std\": 1.3597399555105182e-16,\n        \"min\": 0.9813084112149533,\n        \"max\": 0.9813084112149533,\n        \"num_unique_values\": 1,\n        \"samples\": [\n          0.9813084112149533\n        ],\n        \"semantic_type\": \"\",\n        \"description\": \"\"\n      }\n    }\n  ]\n}"
            }
          },
          "metadata": {},
          "execution_count": 445
        }
      ]
    },
    {
      "cell_type": "markdown",
      "source": [],
      "metadata": {
        "id": "MuH6NBfCWSyt"
      }
    }
  ],
  "metadata": {
    "colab": {
      "provenance": [],
      "authorship_tag": "ABX9TyM4KoZJODAOzIcndE5TmfL+",
      "include_colab_link": true
    },
    "kernelspec": {
      "display_name": "Python 3",
      "name": "python3"
    },
    "language_info": {
      "name": "python"
    }
  },
  "nbformat": 4,
  "nbformat_minor": 0
}