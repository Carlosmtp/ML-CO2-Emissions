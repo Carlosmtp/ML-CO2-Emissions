{
  "nbformat": 4,
  "nbformat_minor": 0,
  "metadata": {
    "colab": {
      "provenance": [],
      "toc_visible": true,
      "authorship_tag": "ABX9TyPfj3/B9gaAT+IkJi37quNH",
      "include_colab_link": true
    },
    "kernelspec": {
      "name": "python3",
      "display_name": "Python 3"
    },
    "language_info": {
      "name": "python"
    }
  },
  "cells": [
    {
      "cell_type": "markdown",
      "metadata": {
        "id": "view-in-github",
        "colab_type": "text"
      },
      "source": [
        "<a href=\"https://colab.research.google.com/github/Carlosmtp/ML-CO2-Emissions/blob/main/ML_CO2_Emissions.ipynb\" target=\"_parent\"><img src=\"https://colab.research.google.com/assets/colab-badge.svg\" alt=\"Open In Colab\"/></a>"
      ]
    },
    {
      "cell_type": "markdown",
      "source": [
        "#Informe Machine Learning *C02 Emissions* 🚗💨\n",
        "\n",
        "#### *Carlos Mauricio Tovar Parra - 1741699*\n",
        "---"
      ],
      "metadata": {
        "id": "T0iM5wEjzwaz"
      }
    },
    {
      "cell_type": "markdown",
      "source": [
        "### Resumen\n",
        "\n",
        "El presente informe, se centra en la experimentación con técnicas de machine learning para predecir las emisiones de dióxido de carbono (CO2) en vehículos. Utilizando un conjunto de datos de 1067 vehículos, el informe desarrolla modelos predictivos basados en las características de los vehículos: tamaño del motor (ENGINESIZE), cantidad de cilindros (CYLINDERS), consumo de combustible en ciudad (FUELCONSUMPTION_CITY) y en carretera (FUELCONSUMPTION_HWY). La variable objetivo es CO2EMISSIONS, clasificada en bajas (0) y altas (1) emisiones.\n",
        "\n",
        "El objetivo del informe es implementar redes neuronales y árboles de decisión. Para las redes neuronales, se prueban diferentes topologías y se ajustan hiperparámetros para optimizar la predicción de emisiones. Para los árboles de decisión, se configuran y prueban diferentes configuraciones para identificar la combinación de hiperparámetros que maximiza la precisión predictiva.\n",
        "\n",
        "*Tabla de atributos:*\n",
        "\n",
        "| Número | Atributo                   | Descripción                                                        |\n",
        "|--------|----------------------------|--------------------------------------------------------------------|\n",
        "| 1      | ENGINESIZE                 | Tamaño del motor en litros                                         |\n",
        "| 2      | CYLINDERS                  | Cantidad de cilindros que posee el motor                           |\n",
        "| 3      | FUELCONSUMPTION_CITY       | Consumo de combustible del vehículo en zona urbana (L/100 km)      |\n",
        "| 4      | FUELCONSUMPTION_HWY        | Consumo de combustible del vehículo en zona extraurbana (L/100 km) |\n",
        "| 5      | CO2EMISSIONS               | Emisiones de CO2 del vehículo (0: Bajas, 1: Altas)                 |\n",
        "\n",
        "\n",
        "*Ejemplo instancia de datos:*\n",
        "\n",
        "| Atributo | 1   | 2  | 3    | 4   | 5 |\n",
        "|----------|-----|----|------|-----|---|\n",
        "| Valor    | 3.7 | 6  | 13.4 | 9.5 | 1 |\n",
        "\n",
        "\n"
      ],
      "metadata": {
        "id": "bH0lcnSiy0_W"
      }
    },
    {
      "cell_type": "markdown",
      "source": [
        "# Redes Neuronales"
      ],
      "metadata": {
        "id": "9J31lGRL0XQW"
      }
    },
    {
      "cell_type": "code",
      "source": [
        "import numpy as np\n",
        "import pandas as pd\n",
        "import sklearn"
      ],
      "metadata": {
        "id": "scHlMynw5RrC"
      },
      "execution_count": null,
      "outputs": []
    },
    {
      "cell_type": "markdown",
      "source": [
        "# Árboles de Decisión"
      ],
      "metadata": {
        "id": "G4d0PTvM0a0u"
      }
    }
  ]
}